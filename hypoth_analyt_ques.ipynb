{
 "cells": [
  {
   "attachments": {},
   "cell_type": "markdown",
   "metadata": {},
   "source": [
    "BUSINESS UNDERSTANDING "
   ]
  },
  {
   "attachments": {},
   "cell_type": "markdown",
   "metadata": {},
   "source": [
    "A little history about the Indian startup ecosystem\n",
    "\n",
    "The Indian startup ecosystem has witnessed remarkable growth and transformation in the past decade, fueled by government initiatives, a talented workforce, and the widespread adoption of digital technologies. Startups in various sectors have gained global recognition and attracted significant investments. The presence of support networks like incubators and accelerators has nurtured the growth of early-stage startups. Despite challenges, the ecosystem continues to evolve and contribute to India's economic growth and technological innovation."
   ]
  },
  {
   "attachments": {},
   "cell_type": "markdown",
   "metadata": {},
   "source": [
    "FOR DATA UNDERSTANDING we did a little EDA to understand the data \n",
    "\n",
    "This phase involves gathering and exploring the available data to gain insights into its structure, quality, and relationships. Data sources are identified, and initial data collection and exploration are performed."
   ]
  },
  {
   "attachments": {},
   "cell_type": "markdown",
   "metadata": {},
   "source": [
    "FOR DATA PREPARAION \n",
    "\n",
    " In this phase, data is cleaned, transformed, and integrated to create a suitable dataset for modeling. Tasks like data cleaning, feature selection, feature engineering, and data transformation are carried out."
   ]
  },
  {
   "attachments": {},
   "cell_type": "markdown",
   "metadata": {},
   "source": [
    "Below are the work requirement for this project \n",
    "\n",
    "Project Breakdown \n",
    "\n",
    "Ask questions\n",
    "\n",
    "Develop hypothesis\n",
    "\n",
    "Process the data\n",
    "\n",
    "Analyse the data\n",
    "\n",
    "Visualise the data"
   ]
  },
  {
   "attachments": {},
   "cell_type": "markdown",
   "metadata": {},
   "source": [
    "Below are both the hypothesis, Alternative hypothesis and the five (5) more analytical questions "
   ]
  },
  {
   "attachments": {},
   "cell_type": "markdown",
   "metadata": {},
   "source": [
    "Hypothesis:\n",
    "\n",
    "  The sector of a company does not have an impact on the amount of funding it receives"
   ]
  },
  {
   "attachments": {},
   "cell_type": "markdown",
   "metadata": {},
   "source": [
    "Alternative Hypothesis:\n",
    "\n",
    "The sector of a company does have an impact on the amount of funding it receives.\n"
   ]
  },
  {
   "attachments": {},
   "cell_type": "markdown",
   "metadata": {},
   "source": [
    "Analytical questions:"
   ]
  },
  {
   "attachments": {},
   "cell_type": "markdown",
   "metadata": {},
   "source": [
    "1. What are the most common industries represented in the datasets?\n",
    "\n",
    "2. How does the funding amount vary across different rounds/series in the datasets?\n",
    "   \n",
    "3. Which locations have the highest number of companies in the datasets?\n",
    "   \n",
    "4. What kind of investment type should startups look for depending on their industry type? (EDA: Analysis of funding preferences by industry)\n",
    "\n",
    "5. Are there any correlations between the funding amount and the company's sector or location?\n",
    "   \n",
    "6. What are the top investors in the datasets based on the number of investments made?\n",
    "   \n",
    "7. Which industries are favored by investors based on the number of funding rounds? (EDA: Top 10 industries which are favored by investors)\n",
    "\n",
    "8. Are there any outliers in the funding amounts in the datasets?\n",
    "   \n",
    "9.  Is there a relationship between the company's sector and the presence of certain investors?\n",
    "    \n",
    "10. What is the range of funds generally received by startups in India (Max, min, avg, and count of funding)? (EDA: Descriptive statistics of funding amounts)\n"
   ]
  },
  {
   "attachments": {},
   "cell_type": "markdown",
   "metadata": {},
   "source": []
  }
 ],
 "metadata": {
  "kernelspec": {
   "display_name": "Python 3",
   "language": "python",
   "name": "python3"
  },
  "language_info": {
   "name": "python",
   "version": "3.11.1"
  },
  "orig_nbformat": 4
 },
 "nbformat": 4,
 "nbformat_minor": 2
}
