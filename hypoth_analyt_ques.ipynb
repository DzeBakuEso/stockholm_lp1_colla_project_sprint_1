{
 "cells": [
  {
   "attachments": {},
   "cell_type": "markdown",
   "metadata": {},
   "source": [
    "Below are both the hypothesis, Alternative hypothesis and the five (5) more analytical questions "
   ]
  },
  {
   "attachments": {},
   "cell_type": "markdown",
   "metadata": {},
   "source": [
    "Hypothesis:\n",
    "\n",
    " Companies in the Technology sector are more likely to venture into the Indian market due to the country's strong IT infrastructure, skilled workforce, and growing digital economy."
   ]
  },
  {
   "attachments": {},
   "cell_type": "markdown",
   "metadata": {},
   "source": [
    "Alternative Hypothesis:\n",
    "\n",
    "Companies in the Edtech sector are more likely to venture into the Indian market compared to other sectors, as evidenced by a higher number of investments and funding rounds in the Edtech companies present in the dataset. This hypothesis suggests that the Indian market presents significant opportunities and demand for educational technology solutions, leading to increased interest and investment in the Edtech sector."
   ]
  },
  {
   "attachments": {},
   "cell_type": "markdown",
   "metadata": {},
   "source": [
    "Analytical questions:"
   ]
  },
  {
   "attachments": {},
   "cell_type": "markdown",
   "metadata": {},
   "source": [
    "1. What are the most common industries represented in the datasets?\n",
    "\n",
    "2. How does the funding amount vary across different rounds/series in the datasets?\n",
    "   \n",
    "3. Which locations have the highest number of companies in the datasets?\n",
    "   \n",
    "4. What is the distribution of company founding years in the datasets?\n",
    "   \n",
    "5. Are there any correlations between the funding amount and the company's sector or location?\n",
    "   \n",
    "6. What are the top investors in the datasets based on the number of investments made?\n",
    "   \n",
    "7. How does the distribution of funding amounts differ between the two datasets?\n",
    "   \n",
    "8. Are there any outliers in the funding amounts in the datasets?\n",
    "   \n",
    "9.  Is there a relationship between the company's sector and the presence of certain investors?\n",
    "    \n",
    "10. How does the distribution of company sizes (based on funding amounts) differ between the two datasets?"
   ]
  }
 ],
 "metadata": {
  "language_info": {
   "name": "python"
  },
  "orig_nbformat": 4
 },
 "nbformat": 4,
 "nbformat_minor": 2
}
