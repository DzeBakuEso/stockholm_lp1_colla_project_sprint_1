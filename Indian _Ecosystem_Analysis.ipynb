{
 "cells": [
  {
   "attachments": {},
   "cell_type": "markdown",
   "metadata": {},
   "source": [
    "## STOCKHOLM TEAM\n",
    "\n",
    "## Exploratory Data Analysis of the Indian StartUp Funding Ecosystem "
   ]
  },
  {
   "attachments": {},
   "cell_type": "markdown",
   "metadata": {},
   "source": [
    "### Business Understanding"
   ]
  },
  {
   "attachments": {},
   "cell_type": "markdown",
   "metadata": {},
   "source": [
    "**Project Description:**\n",
    "\n",
    "Explore the Indian startup funding ecosystem through an in-depth analysis of funding data from 2019 to 2021. Gain insights into key trends, funding patterns, and factors driving startup success. Investigate the relationship between funding and startup growth, with a focus on temporal patterns and city-level dynamics. Identify preferred sectors for investment and uncover industry-specific funding trends. This exploratory data analysis provides a comprehensive overview of the Indian startup ecosystem, offering valuable insights for entrepreneurs, investors, and policymakers."
   ]
  },
  {
   "attachments": {},
   "cell_type": "markdown",
   "metadata": {},
   "source": [
    "## Data Understanding\n",
    "\n",
    "This project aims to explore and gain a deeper understanding of the Indian startup funding ecosystem. The dataset used for analysis contains information about startup funding from 2019 to 2021. The dataset includes various attributes such as the company's name, sector, funding amount, funding round, investor details, and location.\n",
    "\n",
    "To conduct a comprehensive analysis, we will examine the dataset to understand its structure, contents, and any potential data quality issues. By understanding the data, we can ensure the accuracy and reliability of our analysis.\n",
    "\n",
    "The key attributes in the dataset include:\n",
    "\n",
    "- **Company**: The name of the startup receiving funding.\n",
    "- **Sector**: The industry or sector to which the startup belongs.\n",
    "- **Amount**: The amount of funding received by the startup.\n",
    "- **Stage**: The round of funding (e.g., seed, series A, series B).\n",
    "- **Location**: The city or region where the startup is based.\n",
    "- **About**: What the company does.\n",
    "- **Funding Year**:When the company was funded\n",
    "\n",
    "By examining these attributes, we can uncover insights about the funding landscape, identify trends in funding amounts and rounds, explore the preferred sectors for investment, and analyze the role of cities in the startup ecosystem.\n",
    "\n",
    "Throughout the analysis, we will use visualizations and statistical techniques to present the findings effectively. By understanding the data and its characteristics, we can proceed with confidence in our analysis, derive meaningful insights, and make informed decisions based on the findings."
   ]
  },
  {
   "attachments": {},
   "cell_type": "markdown",
   "metadata": {},
   "source": [
    "### Hypothesis:\n",
    "\n",
    "#### NULL Hypothesis (HO) :\n",
    "\n",
    "#### **The sector of a company does not have an impact on the amount of funding it receives.**\n",
    "\n",
    "\n",
    "#### ALTERNATE Hypothesis (HA):\n",
    "\n",
    "#### **The sector of a company does have an impact on the amount of funding it receives.**\n",
    "\n",
    "\n"
   ]
  },
  {
   "attachments": {},
   "cell_type": "markdown",
   "metadata": {},
   "source": [
    "##  Research / Analysis Questions:\n",
    "\n",
    "1. What are the most common industries represented in the datasets?\n",
    "\n",
    "2. How does the funding amount vary across different rounds/series in the datasets?\n",
    "   \n",
    "3. Which locations have the highest number of companies in the datasets?\n",
    "   \n",
    "4. What kind of investment type should startups look for depending on their industry type? (EDA: Analysis of funding preferences by industry)\n",
    "\n",
    "5. Are there any correlations between the funding amount and the company's sector or location?\n",
    "   \n",
    "6. What are the top investors in the datasets based on the number of investments made?\n",
    "   \n",
    "7. Which industries are favored by investors based on the number of funding rounds? (EDA: Top 10 industries which are favored by investors)\n",
    "\n",
    "8. Are there any outliers in the funding amounts in the datasets?\n",
    "   \n",
    "9.  Is there a relationship between the company's sector and the presence of certain investors?\n",
    "    \n",
    "10. What is the range of funds generally received by startups in India (Max, min, avg, and count of funding)? (EDA: Descriptive statistics of funding amounts)\n"
   ]
  },
  {
   "attachments": {},
   "cell_type": "markdown",
   "metadata": {},
   "source": [
    "## Data Preparation\n",
    "\n",
    "Before diving into the analysis, we will preprocess and clean the data to ensure its quality and suitability for analysis. This may involve handling missing values, correcting data types, and addressing any inconsistencies or outliers that could affect the accuracy of our results.\n",
    "\n",
    "Once the data is prepared, we will be ready to perform an in-depth exploratory analysis of the Indian startup funding ecosystem. The analysis will involve answering specific research questions, identifying patterns and trends, and generating meaningful visualizations to present the findings.\n",
    "\n",
    "Through this process of data understanding and preparation, we will set a solid foundation for conducting a robust and insightful analysis of the Indian startup funding data.\n",
    "\n",
    "**The data for each year is sourced from separate two csv files and two from a remote server. They will be merged later to one dataset**"
   ]
  },
  {
   "attachments": {},
   "cell_type": "markdown",
   "metadata": {},
   "source": [
    "### Load the Packages/Modules"
   ]
  },
  {
   "cell_type": "code",
   "execution_count": 262,
   "metadata": {},
   "outputs": [
    {
     "name": "stdout",
     "output_type": "stream",
     "text": [
      "Requirement already satisfied: forex-python in c:\\users\\baku\\appdata\\local\\packages\\pythonsoftwarefoundation.python.3.10_qbz5n2kfra8p0\\localcache\\local-packages\\python310\\site-packages (1.8)\n",
      "Requirement already satisfied: requests in c:\\users\\baku\\appdata\\local\\packages\\pythonsoftwarefoundation.python.3.10_qbz5n2kfra8p0\\localcache\\local-packages\\python310\\site-packages (from forex-python) (2.28.2)\n",
      "Requirement already satisfied: simplejson in c:\\users\\baku\\appdata\\local\\packages\\pythonsoftwarefoundation.python.3.10_qbz5n2kfra8p0\\localcache\\local-packages\\python310\\site-packages (from forex-python) (3.19.1)\n",
      "Requirement already satisfied: charset-normalizer<4,>=2 in c:\\users\\baku\\appdata\\local\\packages\\pythonsoftwarefoundation.python.3.10_qbz5n2kfra8p0\\localcache\\local-packages\\python310\\site-packages (from requests->forex-python) (3.1.0)\n",
      "Requirement already satisfied: idna<4,>=2.5 in c:\\users\\baku\\appdata\\local\\packages\\pythonsoftwarefoundation.python.3.10_qbz5n2kfra8p0\\localcache\\local-packages\\python310\\site-packages (from requests->forex-python) (3.4)\n",
      "Requirement already satisfied: urllib3<1.27,>=1.21.1 in c:\\users\\baku\\appdata\\local\\packages\\pythonsoftwarefoundation.python.3.10_qbz5n2kfra8p0\\localcache\\local-packages\\python310\\site-packages (from requests->forex-python) (1.26.14)\n",
      "Requirement already satisfied: certifi>=2017.4.17 in c:\\users\\baku\\appdata\\local\\packages\\pythonsoftwarefoundation.python.3.10_qbz5n2kfra8p0\\localcache\\local-packages\\python310\\site-packages (from requests->forex-python) (2022.12.7)\n",
      "Note: you may need to restart the kernel to use updated packages.\n",
      "Requirement already satisfied: pandas in c:\\users\\baku\\appdata\\local\\packages\\pythonsoftwarefoundation.python.3.10_qbz5n2kfra8p0\\localcache\\local-packages\\python310\\site-packages (1.4.3)\n",
      "Requirement already satisfied: python-dateutil>=2.8.1 in c:\\users\\baku\\appdata\\local\\packages\\pythonsoftwarefoundation.python.3.10_qbz5n2kfra8p0\\localcache\\local-packages\\python310\\site-packages (from pandas) (2.8.2)\n",
      "Requirement already satisfied: pytz>=2020.1 in c:\\users\\baku\\appdata\\local\\packages\\pythonsoftwarefoundation.python.3.10_qbz5n2kfra8p0\\localcache\\local-packages\\python310\\site-packages (from pandas) (2022.1)\n",
      "Requirement already satisfied: numpy>=1.21.0 in c:\\users\\baku\\appdata\\local\\packages\\pythonsoftwarefoundation.python.3.10_qbz5n2kfra8p0\\localcache\\local-packages\\python310\\site-packages (from pandas) (1.23.1)\n",
      "Requirement already satisfied: six>=1.5 in c:\\users\\baku\\appdata\\local\\packages\\pythonsoftwarefoundation.python.3.10_qbz5n2kfra8p0\\localcache\\local-packages\\python310\\site-packages (from python-dateutil>=2.8.1->pandas) (1.16.0)\n",
      "Note: you may need to restart the kernel to use updated packages.\n",
      "Requirement already satisfied: python-dotenv in c:\\users\\baku\\appdata\\local\\packages\\pythonsoftwarefoundation.python.3.10_qbz5n2kfra8p0\\localcache\\local-packages\\python310\\site-packages (1.0.0)\n",
      "Note: you may need to restart the kernel to use updated packages.\n",
      "Requirement already satisfied: seaborn in c:\\users\\baku\\appdata\\local\\packages\\pythonsoftwarefoundation.python.3.10_qbz5n2kfra8p0\\localcache\\local-packages\\python310\\site-packages (0.11.2)\n",
      "Requirement already satisfied: numpy>=1.15 in c:\\users\\baku\\appdata\\local\\packages\\pythonsoftwarefoundation.python.3.10_qbz5n2kfra8p0\\localcache\\local-packages\\python310\\site-packages (from seaborn) (1.23.1)\n",
      "Requirement already satisfied: scipy>=1.0 in c:\\users\\baku\\appdata\\local\\packages\\pythonsoftwarefoundation.python.3.10_qbz5n2kfra8p0\\localcache\\local-packages\\python310\\site-packages (from seaborn) (1.8.1)\n",
      "Requirement already satisfied: pandas>=0.23 in c:\\users\\baku\\appdata\\local\\packages\\pythonsoftwarefoundation.python.3.10_qbz5n2kfra8p0\\localcache\\local-packages\\python310\\site-packages (from seaborn) (1.4.3)\n",
      "Requirement already satisfied: matplotlib>=2.2 in c:\\users\\baku\\appdata\\local\\packages\\pythonsoftwarefoundation.python.3.10_qbz5n2kfra8p0\\localcache\\local-packages\\python310\\site-packages (from seaborn) (3.5.2)\n",
      "Requirement already satisfied: cycler>=0.10 in c:\\users\\baku\\appdata\\local\\packages\\pythonsoftwarefoundation.python.3.10_qbz5n2kfra8p0\\localcache\\local-packages\\python310\\site-packages (from matplotlib>=2.2->seaborn) (0.11.0)\n",
      "Requirement already satisfied: fonttools>=4.22.0 in c:\\users\\baku\\appdata\\local\\packages\\pythonsoftwarefoundation.python.3.10_qbz5n2kfra8p0\\localcache\\local-packages\\python310\\site-packages (from matplotlib>=2.2->seaborn) (4.34.4)\n",
      "Requirement already satisfied: kiwisolver>=1.0.1 in c:\\users\\baku\\appdata\\local\\packages\\pythonsoftwarefoundation.python.3.10_qbz5n2kfra8p0\\localcache\\local-packages\\python310\\site-packages (from matplotlib>=2.2->seaborn) (1.4.3)\n",
      "Requirement already satisfied: packaging>=20.0 in c:\\users\\baku\\appdata\\local\\packages\\pythonsoftwarefoundation.python.3.10_qbz5n2kfra8p0\\localcache\\local-packages\\python310\\site-packages (from matplotlib>=2.2->seaborn) (21.3)\n",
      "Requirement already satisfied: pillow>=6.2.0 in c:\\users\\baku\\appdata\\local\\packages\\pythonsoftwarefoundation.python.3.10_qbz5n2kfra8p0\\localcache\\local-packages\\python310\\site-packages (from matplotlib>=2.2->seaborn) (9.2.0)\n",
      "Requirement already satisfied: pyparsing>=2.2.1 in c:\\users\\baku\\appdata\\local\\packages\\pythonsoftwarefoundation.python.3.10_qbz5n2kfra8p0\\localcache\\local-packages\\python310\\site-packages (from matplotlib>=2.2->seaborn) (3.0.9)\n",
      "Requirement already satisfied: python-dateutil>=2.7 in c:\\users\\baku\\appdata\\local\\packages\\pythonsoftwarefoundation.python.3.10_qbz5n2kfra8p0\\localcache\\local-packages\\python310\\site-packages (from matplotlib>=2.2->seaborn) (2.8.2)\n",
      "Requirement already satisfied: pytz>=2020.1 in c:\\users\\baku\\appdata\\local\\packages\\pythonsoftwarefoundation.python.3.10_qbz5n2kfra8p0\\localcache\\local-packages\\python310\\site-packages (from pandas>=0.23->seaborn) (2022.1)\n",
      "Requirement already satisfied: six>=1.5 in c:\\users\\baku\\appdata\\local\\packages\\pythonsoftwarefoundation.python.3.10_qbz5n2kfra8p0\\localcache\\local-packages\\python310\\site-packages (from python-dateutil>=2.7->matplotlib>=2.2->seaborn) (1.16.0)\n",
      "Note: you may need to restart the kernel to use updated packages.\n",
      "Requirement already satisfied: matplotlib in c:\\users\\baku\\appdata\\local\\packages\\pythonsoftwarefoundation.python.3.10_qbz5n2kfra8p0\\localcache\\local-packages\\python310\\site-packages (3.5.2)\n",
      "Requirement already satisfied: cycler>=0.10 in c:\\users\\baku\\appdata\\local\\packages\\pythonsoftwarefoundation.python.3.10_qbz5n2kfra8p0\\localcache\\local-packages\\python310\\site-packages (from matplotlib) (0.11.0)\n",
      "Requirement already satisfied: fonttools>=4.22.0 in c:\\users\\baku\\appdata\\local\\packages\\pythonsoftwarefoundation.python.3.10_qbz5n2kfra8p0\\localcache\\local-packages\\python310\\site-packages (from matplotlib) (4.34.4)\n",
      "Requirement already satisfied: kiwisolver>=1.0.1 in c:\\users\\baku\\appdata\\local\\packages\\pythonsoftwarefoundation.python.3.10_qbz5n2kfra8p0\\localcache\\local-packages\\python310\\site-packages (from matplotlib) (1.4.3)\n",
      "Requirement already satisfied: numpy>=1.17 in c:\\users\\baku\\appdata\\local\\packages\\pythonsoftwarefoundation.python.3.10_qbz5n2kfra8p0\\localcache\\local-packages\\python310\\site-packages (from matplotlib) (1.23.1)\n",
      "Requirement already satisfied: packaging>=20.0 in c:\\users\\baku\\appdata\\local\\packages\\pythonsoftwarefoundation.python.3.10_qbz5n2kfra8p0\\localcache\\local-packages\\python310\\site-packages (from matplotlib) (21.3)\n",
      "Requirement already satisfied: pillow>=6.2.0 in c:\\users\\baku\\appdata\\local\\packages\\pythonsoftwarefoundation.python.3.10_qbz5n2kfra8p0\\localcache\\local-packages\\python310\\site-packages (from matplotlib) (9.2.0)\n",
      "Requirement already satisfied: pyparsing>=2.2.1 in c:\\users\\baku\\appdata\\local\\packages\\pythonsoftwarefoundation.python.3.10_qbz5n2kfra8p0\\localcache\\local-packages\\python310\\site-packages (from matplotlib) (3.0.9)\n",
      "Requirement already satisfied: python-dateutil>=2.7 in c:\\users\\baku\\appdata\\local\\packages\\pythonsoftwarefoundation.python.3.10_qbz5n2kfra8p0\\localcache\\local-packages\\python310\\site-packages (from matplotlib) (2.8.2)\n",
      "Requirement already satisfied: six>=1.5 in c:\\users\\baku\\appdata\\local\\packages\\pythonsoftwarefoundation.python.3.10_qbz5n2kfra8p0\\localcache\\local-packages\\python310\\site-packages (from python-dateutil>=2.7->matplotlib) (1.16.0)\n",
      "Note: you may need to restart the kernel to use updated packages.\n",
      "Requirement already satisfied: pyodbc in c:\\users\\baku\\appdata\\local\\packages\\pythonsoftwarefoundation.python.3.10_qbz5n2kfra8p0\\localcache\\local-packages\\python310\\site-packages (4.0.39)\n",
      "Note: you may need to restart the kernel to use updated packages.\n",
      "Requirement already satisfied: numpy in c:\\users\\baku\\appdata\\local\\packages\\pythonsoftwarefoundation.python.3.10_qbz5n2kfra8p0\\localcache\\local-packages\\python310\\site-packages (1.23.1)\n",
      "Note: you may need to restart the kernel to use updated packages.\n",
      "Requirement already satisfied: scipy in c:\\users\\baku\\appdata\\local\\packages\\pythonsoftwarefoundation.python.3.10_qbz5n2kfra8p0\\localcache\\local-packages\\python310\\site-packages (1.8.1)\n",
      "Requirement already satisfied: numpy<1.25.0,>=1.17.3 in c:\\users\\baku\\appdata\\local\\packages\\pythonsoftwarefoundation.python.3.10_qbz5n2kfra8p0\\localcache\\local-packages\\python310\\site-packages (from scipy) (1.23.1)\n",
      "Note: you may need to restart the kernel to use updated packages.\n"
     ]
    }
   ],
   "source": [
    "%pip install forex-python\n",
    "%pip install pandas\n",
    "%pip install python-dotenv\n",
    "%pip install seaborn\n",
    "%pip install matplotlib\n",
    "%pip install pyodbc\n",
    "%pip install numpy\n",
    "%pip install scipy\n"
   ]
  },
  {
   "cell_type": "code",
   "execution_count": 263,
   "metadata": {},
   "outputs": [],
   "source": [
    "# Importing the Modules needed\n",
    "import pandas as pd \n",
    "import numpy as np\n",
    "import matplotlib.pyplot as plt \n",
    "import seaborn as sns\n",
    "\n",
    "import pyodbc #just installed with pip\n",
    "from dotenv import dotenv_values #import the dotenv_values function from the dotenv package\n",
    "import warnings \n",
    "warnings.filterwarnings('ignore')\n",
    "\n",
    "from forex_python.converter import CurrencyRates\n",
    "from urllib3.exceptions import ConnectTimeoutError\n",
    "import re \n",
    "\n",
    "from scipy.stats import chi2_contingency\n",
    "from scipy.stats import ks_2samp\n",
    "import requests.exceptions"
   ]
  },
  {
   "attachments": {},
   "cell_type": "markdown",
   "metadata": {},
   "source": [
    "### Import Datasets"
   ]
  },
  {
   "cell_type": "code",
   "execution_count": 264,
   "metadata": {},
   "outputs": [],
   "source": [
    "df = pd.read_csv('startup_funding2018.csv') # read the data_2018 and convert it to pandas data frame "
   ]
  },
  {
   "cell_type": "code",
   "execution_count": 265,
   "metadata": {},
   "outputs": [],
   "source": [
    "df2 = pd.read_csv('startup_funding2019.csv') # read the data_2019 and convert it to pandas data frame"
   ]
  },
  {
   "attachments": {},
   "cell_type": "markdown",
   "metadata": {},
   "source": [
    "#### Accessing the Remote Server Datasets"
   ]
  },
  {
   "cell_type": "code",
   "execution_count": 266,
   "metadata": {},
   "outputs": [],
   "source": [
    "# Load environment variables from .env file into a dictionary\n",
    "environment_variables = dotenv_values('.env')\n",
    "\n",
    "\n",
    "# Get the values for the credentials you set in the '.env' file\n",
    "database = environment_variables.get(\"DATABASE\")\n",
    "server = environment_variables.get(\"SERVER\")\n",
    "username = environment_variables.get(\"USERNAME\")\n",
    "password = environment_variables.get(\"PASSWORD\")\n",
    "\n",
    "\n",
    "# connection_string = f\"DRIVER={{SQL Server}};SERVER={server};DATABASE={database};UID={username};PWD={password}\"\n",
    "connection_string = \"DRIVER={ODBC Driver 17 for SQL Server};SERVER={dap-projects-database.database.windows.net};DATABASE={dapDB};UID={dataAnalyst_LP1};PWD={G7x@9kR$2x}\""
   ]
  },
  {
   "cell_type": "code",
   "execution_count": 267,
   "metadata": {},
   "outputs": [],
   "source": [
    "# Use the connect method of the pyodbc library and pass in the connection string.\n",
    "# This will connect to the server and might take a few seconds to be complete. \n",
    "# Check your internet connection if it takes more time than necessary\n",
    "\n",
    "connection = pyodbc.connect(connection_string)"
   ]
  },
  {
   "cell_type": "code",
   "execution_count": 268,
   "metadata": {},
   "outputs": [],
   "source": [
    "# Now the sql query to get the data is what what you see below. \n",
    "# Note that you will not have permissions to insert delete or update this database table. \n",
    "query1 = \"SELECT * FROM dbo.LP1_startup_funding2020\"\n",
    "query2 = \"SELECT * FROM dbo.LP1_startup_funding2021\"\n",
    "df3 = pd.read_sql(query1, connection)\n",
    "df4 = pd.read_sql(query2, connection)"
   ]
  },
  {
   "cell_type": "markdown",
   "metadata": {},
   "source": [
    "## Display Options"
   ]
  },
  {
   "cell_type": "code",
   "execution_count": 269,
   "metadata": {},
   "outputs": [],
   "source": [
    "#Set display options to show all values without truncation\n",
    "#pd.set_option('display.max_colwidth', None)\n",
    "#pd.set_option('display.max_rows', None)\n",
    "#pd.set_option('display.max_columns', None)"
   ]
  },
  {
   "cell_type": "markdown",
   "metadata": {},
   "source": [
    "## Import Datasets"
   ]
  },
  {
   "attachments": {},
   "cell_type": "markdown",
   "metadata": {},
   "source": [
    "#### 2018 Data"
   ]
  },
  {
   "cell_type": "code",
   "execution_count": 270,
   "metadata": {},
   "outputs": [
    {
     "data": {
      "text/html": [
       "<div>\n",
       "<style scoped>\n",
       "    .dataframe tbody tr th:only-of-type {\n",
       "        vertical-align: middle;\n",
       "    }\n",
       "\n",
       "    .dataframe tbody tr th {\n",
       "        vertical-align: top;\n",
       "    }\n",
       "\n",
       "    .dataframe thead th {\n",
       "        text-align: right;\n",
       "    }\n",
       "</style>\n",
       "<table border=\"1\" class=\"dataframe\">\n",
       "  <thead>\n",
       "    <tr style=\"text-align: right;\">\n",
       "      <th></th>\n",
       "      <th>Company Name</th>\n",
       "      <th>Industry</th>\n",
       "      <th>Round/Series</th>\n",
       "      <th>Amount</th>\n",
       "      <th>Location</th>\n",
       "      <th>About Company</th>\n",
       "    </tr>\n",
       "  </thead>\n",
       "  <tbody>\n",
       "    <tr>\n",
       "      <th>0</th>\n",
       "      <td>TheCollegeFever</td>\n",
       "      <td>Brand Marketing, Event Promotion, Marketing, S...</td>\n",
       "      <td>Seed</td>\n",
       "      <td>250000</td>\n",
       "      <td>Bangalore, Karnataka, India</td>\n",
       "      <td>TheCollegeFever is a hub for fun, fiesta and f...</td>\n",
       "    </tr>\n",
       "    <tr>\n",
       "      <th>1</th>\n",
       "      <td>Happy Cow Dairy</td>\n",
       "      <td>Agriculture, Farming</td>\n",
       "      <td>Seed</td>\n",
       "      <td>₹40,000,000</td>\n",
       "      <td>Mumbai, Maharashtra, India</td>\n",
       "      <td>A startup which aggregates milk from dairy far...</td>\n",
       "    </tr>\n",
       "    <tr>\n",
       "      <th>2</th>\n",
       "      <td>MyLoanCare</td>\n",
       "      <td>Credit, Financial Services, Lending, Marketplace</td>\n",
       "      <td>Series A</td>\n",
       "      <td>₹65,000,000</td>\n",
       "      <td>Gurgaon, Haryana, India</td>\n",
       "      <td>Leading Online Loans Marketplace in India</td>\n",
       "    </tr>\n",
       "    <tr>\n",
       "      <th>3</th>\n",
       "      <td>PayMe India</td>\n",
       "      <td>Financial Services, FinTech</td>\n",
       "      <td>Angel</td>\n",
       "      <td>2000000</td>\n",
       "      <td>Noida, Uttar Pradesh, India</td>\n",
       "      <td>PayMe India is an innovative FinTech organizat...</td>\n",
       "    </tr>\n",
       "    <tr>\n",
       "      <th>4</th>\n",
       "      <td>Eunimart</td>\n",
       "      <td>E-Commerce Platforms, Retail, SaaS</td>\n",
       "      <td>Seed</td>\n",
       "      <td>—</td>\n",
       "      <td>Hyderabad, Andhra Pradesh, India</td>\n",
       "      <td>Eunimart is a one stop solution for merchants ...</td>\n",
       "    </tr>\n",
       "  </tbody>\n",
       "</table>\n",
       "</div>"
      ],
      "text/plain": [
       "      Company Name                                           Industry  \\\n",
       "0  TheCollegeFever  Brand Marketing, Event Promotion, Marketing, S...   \n",
       "1  Happy Cow Dairy                               Agriculture, Farming   \n",
       "2       MyLoanCare   Credit, Financial Services, Lending, Marketplace   \n",
       "3      PayMe India                        Financial Services, FinTech   \n",
       "4         Eunimart                 E-Commerce Platforms, Retail, SaaS   \n",
       "\n",
       "  Round/Series       Amount                          Location  \\\n",
       "0         Seed       250000       Bangalore, Karnataka, India   \n",
       "1         Seed  ₹40,000,000        Mumbai, Maharashtra, India   \n",
       "2     Series A  ₹65,000,000           Gurgaon, Haryana, India   \n",
       "3        Angel      2000000       Noida, Uttar Pradesh, India   \n",
       "4         Seed            —  Hyderabad, Andhra Pradesh, India   \n",
       "\n",
       "                                       About Company  \n",
       "0  TheCollegeFever is a hub for fun, fiesta and f...  \n",
       "1  A startup which aggregates milk from dairy far...  \n",
       "2          Leading Online Loans Marketplace in India  \n",
       "3  PayMe India is an innovative FinTech organizat...  \n",
       "4  Eunimart is a one stop solution for merchants ...  "
      ]
     },
     "execution_count": 270,
     "metadata": {},
     "output_type": "execute_result"
    }
   ],
   "source": [
    "df.head()"
   ]
  },
  {
   "cell_type": "code",
   "execution_count": 271,
   "metadata": {},
   "outputs": [
    {
     "data": {
      "text/plain": [
       "(526, 6)"
      ]
     },
     "execution_count": 271,
     "metadata": {},
     "output_type": "execute_result"
    }
   ],
   "source": [
    "df.shape # displaying the shape of the data as in column and row wise"
   ]
  },
  {
   "cell_type": "code",
   "execution_count": 272,
   "metadata": {},
   "outputs": [
    {
     "data": {
      "text/plain": [
       "Index(['Company Name', 'Industry', 'Round/Series', 'Amount', 'Location',\n",
       "       'About Company'],\n",
       "      dtype='object')"
      ]
     },
     "execution_count": 272,
     "metadata": {},
     "output_type": "execute_result"
    }
   ],
   "source": [
    "df.columns # here we want to look at the columns in data set"
   ]
  },
  {
   "cell_type": "code",
   "execution_count": 273,
   "metadata": {},
   "outputs": [
    {
     "name": "stdout",
     "output_type": "stream",
     "text": [
      "<class 'pandas.core.frame.DataFrame'>\n",
      "RangeIndex: 526 entries, 0 to 525\n",
      "Data columns (total 6 columns):\n",
      " #   Column         Non-Null Count  Dtype \n",
      "---  ------         --------------  ----- \n",
      " 0   Company Name   526 non-null    object\n",
      " 1   Industry       526 non-null    object\n",
      " 2   Round/Series   526 non-null    object\n",
      " 3   Amount         526 non-null    object\n",
      " 4   Location       526 non-null    object\n",
      " 5   About Company  526 non-null    object\n",
      "dtypes: object(6)\n",
      "memory usage: 24.8+ KB\n"
     ]
    }
   ],
   "source": [
    "df.info()  # Getting information about the DataFrame"
   ]
  },
  {
   "cell_type": "code",
   "execution_count": 274,
   "metadata": {},
   "outputs": [
    {
     "data": {
      "text/html": [
       "<div>\n",
       "<style scoped>\n",
       "    .dataframe tbody tr th:only-of-type {\n",
       "        vertical-align: middle;\n",
       "    }\n",
       "\n",
       "    .dataframe tbody tr th {\n",
       "        vertical-align: top;\n",
       "    }\n",
       "\n",
       "    .dataframe thead th {\n",
       "        text-align: right;\n",
       "    }\n",
       "</style>\n",
       "<table border=\"1\" class=\"dataframe\">\n",
       "  <thead>\n",
       "    <tr style=\"text-align: right;\">\n",
       "      <th></th>\n",
       "      <th>Company Name</th>\n",
       "      <th>Industry</th>\n",
       "      <th>Round/Series</th>\n",
       "      <th>Amount</th>\n",
       "      <th>Location</th>\n",
       "      <th>About Company</th>\n",
       "    </tr>\n",
       "  </thead>\n",
       "  <tbody>\n",
       "    <tr>\n",
       "      <th>count</th>\n",
       "      <td>526</td>\n",
       "      <td>526</td>\n",
       "      <td>526</td>\n",
       "      <td>526</td>\n",
       "      <td>526</td>\n",
       "      <td>526</td>\n",
       "    </tr>\n",
       "    <tr>\n",
       "      <th>unique</th>\n",
       "      <td>525</td>\n",
       "      <td>405</td>\n",
       "      <td>21</td>\n",
       "      <td>198</td>\n",
       "      <td>50</td>\n",
       "      <td>524</td>\n",
       "    </tr>\n",
       "    <tr>\n",
       "      <th>top</th>\n",
       "      <td>TheCollegeFever</td>\n",
       "      <td>—</td>\n",
       "      <td>Seed</td>\n",
       "      <td>—</td>\n",
       "      <td>Bangalore, Karnataka, India</td>\n",
       "      <td>TheCollegeFever is a hub for fun, fiesta and f...</td>\n",
       "    </tr>\n",
       "    <tr>\n",
       "      <th>freq</th>\n",
       "      <td>2</td>\n",
       "      <td>30</td>\n",
       "      <td>280</td>\n",
       "      <td>148</td>\n",
       "      <td>102</td>\n",
       "      <td>2</td>\n",
       "    </tr>\n",
       "  </tbody>\n",
       "</table>\n",
       "</div>"
      ],
      "text/plain": [
       "           Company Name Industry Round/Series Amount  \\\n",
       "count               526      526          526    526   \n",
       "unique              525      405           21    198   \n",
       "top     TheCollegeFever        —         Seed      —   \n",
       "freq                  2       30          280    148   \n",
       "\n",
       "                           Location  \\\n",
       "count                           526   \n",
       "unique                           50   \n",
       "top     Bangalore, Karnataka, India   \n",
       "freq                            102   \n",
       "\n",
       "                                            About Company  \n",
       "count                                                 526  \n",
       "unique                                                524  \n",
       "top     TheCollegeFever is a hub for fun, fiesta and f...  \n",
       "freq                                                    2  "
      ]
     },
     "execution_count": 274,
     "metadata": {},
     "output_type": "execute_result"
    }
   ],
   "source": [
    "df.describe(include='object')  # here Generating descriptive statistics of the DataFrame"
   ]
  },
  {
   "attachments": {},
   "cell_type": "markdown",
   "metadata": {},
   "source": [
    "now we have some description about the data set, we can now move on with data cleaning\n",
    " \n",
    "MISSING VALUES "
   ]
  },
  {
   "attachments": {},
   "cell_type": "markdown",
   "metadata": {},
   "source": [
    "#### Handling Duplicated Data"
   ]
  },
  {
   "cell_type": "code",
   "execution_count": 275,
   "metadata": {},
   "outputs": [
    {
     "name": "stdout",
     "output_type": "stream",
     "text": [
      "Company Name: True\n",
      "Industry: True\n",
      "Round/Series: True\n",
      "Amount: True\n",
      "Location: True\n",
      "About Company: True\n"
     ]
    }
   ],
   "source": [
    "# below we are checking duplicates values withinn the columns \n",
    "\n",
    "columns_to_check = ['Company Name', 'Industry', 'Round/Series', 'Amount', 'Location', 'About Company']\n",
    "\n",
    "for column in columns_to_check:\n",
    "    has_duplicates = df[column].duplicated().any()\n",
    "    print(f'{column}: {has_duplicates}')"
   ]
  },
  {
   "cell_type": "code",
   "execution_count": 276,
   "metadata": {},
   "outputs": [],
   "source": [
    "df.drop_duplicates(subset=['Company Name', 'Industry', 'Round/Series', 'Amount', 'Location', 'About Company'], inplace=True)"
   ]
  },
  {
   "attachments": {},
   "cell_type": "markdown",
   "metadata": {},
   "source": [
    "Standardizing Data Formats\n",
    "\n",
    "now let's see how we can standardize tha data set to make sure we have the same format of data points "
   ]
  },
  {
   "attachments": {},
   "cell_type": "markdown",
   "metadata": {},
   "source": [
    "first let's check for dash symbols within the columns using a simple python function "
   ]
  },
  {
   "cell_type": "code",
   "execution_count": 277,
   "metadata": {},
   "outputs": [
    {
     "name": "stdout",
     "output_type": "stream",
     "text": [
      "Amount: True\n",
      "Company Name: False\n",
      "Location: False\n",
      "About Company: False\n",
      "Industry: True\n",
      "Round/Series: False\n"
     ]
    }
   ],
   "source": [
    "# below we are checking for '-' symbols within the columns\n",
    "\n",
    "columns_to_check = ['Amount', 'Company Name', 'Location', 'About Company', 'Industry', 'Round/Series']\n",
    "\n",
    "for column in columns_to_check:\n",
    "    has_dash_symbols = df[column].str.contains('—').any()\n",
    "    print(f\"{column}: {has_dash_symbols}\")"
   ]
  },
  {
   "attachments": {},
   "cell_type": "markdown",
   "metadata": {},
   "source": [
    "now let's handle the dash symbols in **the Amount column**, clean and format the amount the column correctly & Convert Currency to USD"
   ]
  },
  {
   "cell_type": "code",
   "execution_count": 278,
   "metadata": {},
   "outputs": [
    {
     "data": {
      "text/plain": [
       "0         250000\n",
       "1    ₹40,000,000\n",
       "2    ₹65,000,000\n",
       "3        2000000\n",
       "4              —\n",
       "Name: Amount, dtype: object"
      ]
     },
     "execution_count": 278,
     "metadata": {},
     "output_type": "execute_result"
    }
   ],
   "source": [
    "df['Amount'].head() # first let's look at the Amount the column"
   ]
  },
  {
   "cell_type": "code",
   "execution_count": 279,
   "metadata": {},
   "outputs": [],
   "source": [
    "# Cleaning the Amounts column \n",
    "\n",
    "df['Amount'] = df['Amount'].apply(str)\n",
    "df['Amount'].replace(\",\", \"\", inplace = True, regex=True)\n",
    "df['Amount'].replace(\"—\", 0, inplace = True, regex=True)\n",
    "df['Amount'].replace(\"$\", \"\", inplace = True, regex=True)"
   ]
  },
  {
   "cell_type": "markdown",
   "metadata": {},
   "source": [
    "## Assumptions Made for Amount Column\n",
    "- Amounts without currency symbols in the 2018 dataset are in USD.\n",
    "- The average Indian Rupee (INR) to US Dollar (USD) rate for the relevant year will be used for currency conversions.\n",
    "- Use exchange rate from https://www.exchangerates.org.uk/INR-USD-spot-exchange-rates-history-2018.html, use the average exchange rate of 0.0146"
   ]
  },
  {
   "cell_type": "code",
   "execution_count": 280,
   "metadata": {},
   "outputs": [],
   "source": [
    "# Set the desired exchange rate\n",
    "exchange_rate = 0.0146\n",
    "\n",
    "# Cleaning the Amounts column\n",
    "df['Amount'] = df['Amount'].apply(str)\n",
    "df['Amount'].replace([',', '—', '$'], ['', 0, ''], inplace=True, regex=True)\n",
    "\n",
    "# Extract the Indian currency amount\n",
    "df['Indiancurr'] = df['Amount'].str.rsplit('₹', n=2).str[1]\n",
    "df['Indiancurr'] = df['Indiancurr'].apply(float).fillna(0)\n",
    "\n",
    "# Convert Indian currency to USD using the specified exchange rate\n",
    "df['UsCurr'] = df['Indiancurr'] * exchange_rate\n",
    "\n",
    "# Replace 0 values with NaN\n",
    "df['UsCurr'] = df['UsCurr'].replace(0, np.nan)\n",
    "\n",
    "# Fill NaN values in 'UsCurr' with original 'Amount' values\n",
    "df['UsCurr'] = df['UsCurr'].fillna(df['Amount'])\n",
    "\n",
    "# Remove '$' symbol from 'UsCurr' column\n",
    "df['UsCurr'] = df['UsCurr'].replace(\"$\", \"\", regex=True)\n",
    "\n",
    "# Update 'Amount' column with converted USD values\n",
    "df['Amount'] = df['UsCurr'].apply(lambda x: float(str(x).replace(\"$\",\"\")))\n",
    "\n",
    "# Replace 0 values with NaN in 'Amount' column\n",
    "df['Amount'] = df['Amount'].replace(0, np.nan)\n",
    "\n",
    "# Format the 'Amount' column\n",
    "format_amount = lambda amount: \"{:,.2f}\".format(amount)\n",
    "df['Amount'] = df['Amount'].map(format_amount)"
   ]
  },
  {
   "cell_type": "code",
   "execution_count": 281,
   "metadata": {},
   "outputs": [
    {
     "data": {
      "text/plain": [
       "numpy.float64"
      ]
     },
     "execution_count": 281,
     "metadata": {},
     "output_type": "execute_result"
    }
   ],
   "source": [
    "df['Amount'] = df['Amount'].str.replace(',', '').astype(float) # since the Amount column is holding and amount, we have to comvert it to float\n",
    "type(df['Amount'][0])"
   ]
  },
  {
   "attachments": {},
   "cell_type": "markdown",
   "metadata": {},
   "source": [
    "#### Handling Categorical Data\n",
    "NOW LET'S \n",
    "\n",
    "handle the categorical data in the 'Industry', 'Round/Series', and 'Location' columns\n",
    "\n",
    "Analyzing unique values\n",
    "Start by examining the unique values in each column to identify any inconsistencies or variations we do this \n",
    "Using the unique() function to get the unique values in each column."
   ]
  },
  {
   "attachments": {},
   "cell_type": "markdown",
   "metadata": {},
   "source": [
    "### Location Column"
   ]
  },
  {
   "cell_type": "markdown",
   "metadata": {},
   "source": [
    "#### The Location column contains combined information (e.g., city, state, country)"
   ]
  },
  {
   "cell_type": "code",
   "execution_count": 282,
   "metadata": {},
   "outputs": [
    {
     "data": {
      "text/plain": [
       "array(['Bangalore, Karnataka, India', 'Mumbai, Maharashtra, India',\n",
       "       'Gurgaon, Haryana, India', 'Noida, Uttar Pradesh, India',\n",
       "       'Hyderabad, Andhra Pradesh, India', 'Bengaluru, Karnataka, India',\n",
       "       'Kalkaji, Delhi, India', 'Delhi, Delhi, India', 'India, Asia',\n",
       "       'Hubli, Karnataka, India', 'New Delhi, Delhi, India',\n",
       "       'Chennai, Tamil Nadu, India', 'Mohali, Punjab, India',\n",
       "       'Kolkata, West Bengal, India', 'Pune, Maharashtra, India',\n",
       "       'Jodhpur, Rajasthan, India', 'Kanpur, Uttar Pradesh, India',\n",
       "       'Ahmedabad, Gujarat, India', 'Azadpur, Delhi, India',\n",
       "       'Haryana, Haryana, India', 'Cochin, Kerala, India',\n",
       "       'Faridabad, Haryana, India', 'Jaipur, Rajasthan, India',\n",
       "       'Kota, Rajasthan, India', 'Anand, Gujarat, India',\n",
       "       'Bangalore City, Karnataka, India', 'Belgaum, Karnataka, India',\n",
       "       'Thane, Maharashtra, India', 'Margão, Goa, India',\n",
       "       'Indore, Madhya Pradesh, India', 'Alwar, Rajasthan, India',\n",
       "       'Kannur, Kerala, India', 'Trivandrum, Kerala, India',\n",
       "       'Ernakulam, Kerala, India', 'Kormangala, Karnataka, India',\n",
       "       'Uttar Pradesh, India, Asia', 'Andheri, Maharashtra, India',\n",
       "       'Mylapore, Tamil Nadu, India', 'Ghaziabad, Uttar Pradesh, India',\n",
       "       'Kochi, Kerala, India', 'Powai, Assam, India',\n",
       "       'Guntur, Andhra Pradesh, India', 'Kalpakkam, Tamil Nadu, India',\n",
       "       'Bhopal, Madhya Pradesh, India', 'Coimbatore, Tamil Nadu, India',\n",
       "       'Worli, Maharashtra, India', 'Alleppey, Kerala, India',\n",
       "       'Chandigarh, Chandigarh, India', 'Guindy, Tamil Nadu, India',\n",
       "       'Lucknow, Uttar Pradesh, India'], dtype=object)"
      ]
     },
     "execution_count": 282,
     "metadata": {},
     "output_type": "execute_result"
    }
   ],
   "source": [
    "df['Location'].unique() # checking each unique values "
   ]
  },
  {
   "cell_type": "code",
   "execution_count": 283,
   "metadata": {},
   "outputs": [
    {
     "data": {
      "text/plain": [
       "Bangalore, Karnataka, India         101\n",
       "Mumbai, Maharashtra, India           94\n",
       "Bengaluru, Karnataka, India          55\n",
       "Gurgaon, Haryana, India              52\n",
       "New Delhi, Delhi, India              51\n",
       "Pune, Maharashtra, India             20\n",
       "Chennai, Tamil Nadu, India           19\n",
       "Hyderabad, Andhra Pradesh, India     18\n",
       "Delhi, Delhi, India                  16\n",
       "Noida, Uttar Pradesh, India          15\n",
       "Haryana, Haryana, India              11\n",
       "Jaipur, Rajasthan, India              9\n",
       "Ahmedabad, Gujarat, India             6\n",
       "Kolkata, West Bengal, India           6\n",
       "Bangalore City, Karnataka, India      5\n",
       "Indore, Madhya Pradesh, India         4\n",
       "India, Asia                           4\n",
       "Kormangala, Karnataka, India          3\n",
       "Ghaziabad, Uttar Pradesh, India       2\n",
       "Kochi, Kerala, India                  2\n",
       "Bhopal, Madhya Pradesh, India         2\n",
       "Thane, Maharashtra, India             2\n",
       "Jodhpur, Rajasthan, India             1\n",
       "Powai, Assam, India                   1\n",
       "Andheri, Maharashtra, India           1\n",
       "Mylapore, Tamil Nadu, India           1\n",
       "Kalpakkam, Tamil Nadu, India          1\n",
       "Guntur, Andhra Pradesh, India         1\n",
       "Coimbatore, Tamil Nadu, India         1\n",
       "Worli, Maharashtra, India             1\n",
       "Alleppey, Kerala, India               1\n",
       "Chandigarh, Chandigarh, India         1\n",
       "Guindy, Tamil Nadu, India             1\n",
       "Uttar Pradesh, India, Asia            1\n",
       "Trivandrum, Kerala, India             1\n",
       "Ernakulam, Kerala, India              1\n",
       "Kanpur, Uttar Pradesh, India          1\n",
       "Kannur, Kerala, India                 1\n",
       "Alwar, Rajasthan, India               1\n",
       "Margão, Goa, India                    1\n",
       "Belgaum, Karnataka, India             1\n",
       "Kalkaji, Delhi, India                 1\n",
       "Anand, Gujarat, India                 1\n",
       "Kota, Rajasthan, India                1\n",
       "Faridabad, Haryana, India             1\n",
       "Cochin, Kerala, India                 1\n",
       "Hubli, Karnataka, India               1\n",
       "Azadpur, Delhi, India                 1\n",
       "Mohali, Punjab, India                 1\n",
       "Lucknow, Uttar Pradesh, India         1\n",
       "Name: Location, dtype: int64"
      ]
     },
     "execution_count": 283,
     "metadata": {},
     "output_type": "execute_result"
    }
   ],
   "source": [
    "df['Location'].value_counts() # getting the total of all unique values "
   ]
  },
  {
   "cell_type": "code",
   "execution_count": 284,
   "metadata": {},
   "outputs": [],
   "source": [
    "# The 'Location' column is in the format, 'City, Region, Country',\n",
    "# Only 'City' aspect is needed for this analysis\n",
    "# Take all character until we reach the first comma sign\n",
    "\n",
    "df['Location'] = df['Location'].apply(str)\n",
    "df['Location'] = df['Location'].str.split(',').str[0]\n",
    "df['Location'] = df['Location'].replace(\"'\",\"\",regex=True)"
   ]
  },
  {
   "cell_type": "code",
   "execution_count": 285,
   "metadata": {},
   "outputs": [],
   "source": [
    "# From observation, some city names that refer to the same place are appearing different.\n",
    "# The incorrect names need to be rectified for correct analysis, eg A city with more than one name.\n",
    "df[\"Location\"] = df[\"Location\"].replace (['Bangalore','Bangalore City'], 'Bengaluru')\n",
    "df.loc[~df['Location'].str.contains('New Delhi', na=False), 'Location'] = df['Location'].str.replace('Delhi', 'New Delhi')\n",
    "df['Location'] = df['Location'].replace (['Gurgaon'], 'Gurugram')"
   ]
  },
  {
   "cell_type": "code",
   "execution_count": 286,
   "metadata": {},
   "outputs": [
    {
     "data": {
      "text/plain": [
       "0      Bengaluru\n",
       "1         Mumbai\n",
       "2       Gurugram\n",
       "3          Noida\n",
       "4      Hyderabad\n",
       "         ...    \n",
       "521    Bengaluru\n",
       "522      Haryana\n",
       "523       Mumbai\n",
       "524       Mumbai\n",
       "525      Chennai\n",
       "Name: Location, Length: 525, dtype: object"
      ]
     },
     "execution_count": 286,
     "metadata": {},
     "output_type": "execute_result"
    }
   ],
   "source": [
    "df['Location'] # taking a look at the location column to comfirm the changes "
   ]
  },
  {
   "cell_type": "code",
   "execution_count": 287,
   "metadata": {},
   "outputs": [
    {
     "data": {
      "text/plain": [
       "array(['Bengaluru', 'Mumbai', 'Gurugram', 'Noida', 'Hyderabad', 'Kalkaji',\n",
       "       'New Delhi', 'India', 'Hubli', 'Chennai', 'Mohali', 'Kolkata',\n",
       "       'Pune', 'Jodhpur', 'Kanpur', 'Ahmedabad', 'Azadpur', 'Haryana',\n",
       "       'Cochin', 'Faridabad', 'Jaipur', 'Kota', 'Anand', 'Belgaum',\n",
       "       'Thane', 'Margão', 'Indore', 'Alwar', 'Kannur', 'Trivandrum',\n",
       "       'Ernakulam', 'Kormangala', 'Uttar Pradesh', 'Andheri', 'Mylapore',\n",
       "       'Ghaziabad', 'Kochi', 'Powai', 'Guntur', 'Kalpakkam', 'Bhopal',\n",
       "       'Coimbatore', 'Worli', 'Alleppey', 'Chandigarh', 'Guindy',\n",
       "       'Lucknow'], dtype=object)"
      ]
     },
     "execution_count": 287,
     "metadata": {},
     "output_type": "execute_result"
    }
   ],
   "source": [
    "df['Location'].unique() # checking the unique values once more"
   ]
  },
  {
   "cell_type": "code",
   "execution_count": 288,
   "metadata": {},
   "outputs": [
    {
     "data": {
      "text/plain": [
       "Bengaluru        161\n",
       "Mumbai            94\n",
       "New Delhi         67\n",
       "Gurugram          52\n",
       "Pune              20\n",
       "Chennai           19\n",
       "Hyderabad         18\n",
       "Noida             15\n",
       "Haryana           11\n",
       "Jaipur             9\n",
       "Kolkata            6\n",
       "Ahmedabad          6\n",
       "Indore             4\n",
       "India              4\n",
       "Kormangala         3\n",
       "Bhopal             2\n",
       "Ghaziabad          2\n",
       "Thane              2\n",
       "Kochi              2\n",
       "Alleppey           1\n",
       "Guindy             1\n",
       "Andheri            1\n",
       "Mylapore           1\n",
       "Powai              1\n",
       "Worli              1\n",
       "Guntur             1\n",
       "Kalpakkam          1\n",
       "Chandigarh         1\n",
       "Coimbatore         1\n",
       "Uttar Pradesh      1\n",
       "Belgaum            1\n",
       "Ernakulam          1\n",
       "Trivandrum         1\n",
       "Kannur             1\n",
       "Alwar              1\n",
       "Margão             1\n",
       "Anand              1\n",
       "Kota               1\n",
       "Faridabad          1\n",
       "Cochin             1\n",
       "Azadpur            1\n",
       "Kanpur             1\n",
       "Jodhpur            1\n",
       "Mohali             1\n",
       "Hubli              1\n",
       "Kalkaji            1\n",
       "Lucknow            1\n",
       "Name: Location, dtype: int64"
      ]
     },
     "execution_count": 288,
     "metadata": {},
     "output_type": "execute_result"
    }
   ],
   "source": [
    "df['Location'].value_counts() # counting the unique values again to be sure of the changes "
   ]
  },
  {
   "cell_type": "code",
   "execution_count": 289,
   "metadata": {},
   "outputs": [
    {
     "data": {
      "text/plain": [
       "0"
      ]
     },
     "execution_count": 289,
     "metadata": {},
     "output_type": "execute_result"
    }
   ],
   "source": [
    "df['Location'].isnull().sum() # checking for null values in the loaction column"
   ]
  },
  {
   "attachments": {},
   "cell_type": "markdown",
   "metadata": {},
   "source": [
    "### Industry Column"
   ]
  },
  {
   "cell_type": "code",
   "execution_count": 290,
   "metadata": {},
   "outputs": [
    {
     "data": {
      "text/plain": [
       "0      Brand Marketing, Event Promotion, Marketing, S...\n",
       "1                                   Agriculture, Farming\n",
       "2       Credit, Financial Services, Lending, Marketplace\n",
       "3                            Financial Services, FinTech\n",
       "4                     E-Commerce Platforms, Retail, SaaS\n",
       "                             ...                        \n",
       "521     B2B, Business Development, Internet, Marketplace\n",
       "522                                      Tourism, Travel\n",
       "523           Food and Beverage, Food Delivery, Internet\n",
       "524                               Information Technology\n",
       "525           Biotechnology, Health Care, Pharmaceutical\n",
       "Name: Industry, Length: 525, dtype: object"
      ]
     },
     "execution_count": 290,
     "metadata": {},
     "output_type": "execute_result"
    }
   ],
   "source": [
    "df['Industry'] # taking a look at the Industry column first to have some insight into the column "
   ]
  },
  {
   "cell_type": "code",
   "execution_count": 291,
   "metadata": {},
   "outputs": [
    {
     "data": {
      "text/plain": [
       "array(['Brand Marketing, Event Promotion, Marketing, Sponsorship, Ticketing',\n",
       "       'Agriculture, Farming',\n",
       "       'Credit, Financial Services, Lending, Marketplace',\n",
       "       'Financial Services, FinTech',\n",
       "       'E-Commerce Platforms, Retail, SaaS',\n",
       "       'Cloud Infrastructure, PaaS, SaaS',\n",
       "       'Internet, Leisure, Marketplace', 'Market Research',\n",
       "       'Information Services, Information Technology', 'Mobile Payments',\n",
       "       'B2B, Shoes', 'Internet',\n",
       "       'Apps, Collaboration, Developer Platform, Enterprise Software, Messaging, Productivity Tools, Video Chat',\n",
       "       'Food Delivery', 'Industrial Automation',\n",
       "       'Automotive, Search Engine, Service Industry',\n",
       "       'Finance, Internet, Travel',\n",
       "       'Accounting, Business Information Systems, Business Travel, Finance, SaaS',\n",
       "       'Artificial Intelligence, Product Search, SaaS, Service Industry, Software',\n",
       "       'Internet of Things, Waste Management',\n",
       "       'Air Transportation, Freight Service, Logistics, Marine Transportation',\n",
       "       'Financial Services', 'Food and Beverage', 'Autonomous Vehicles',\n",
       "       'Enterprise Software, Health Care, Hospital, Parenting, Personal Health, SaaS',\n",
       "       'Agriculture, Analytics, Big Data, Farming',\n",
       "       'Logistics, Supply Chain Management',\n",
       "       'Financial Services, Lending',\n",
       "       'Automotive, Marketplace, Online Portals',\n",
       "       'Artificial Intelligence',\n",
       "       'Internet of Things, Telecommunications', 'Insurance',\n",
       "       'Information Technology, Logistics, Supply Chain Management',\n",
       "       'Blockchain, Developer Tools, Enterprise Software',\n",
       "       'Industrial Automation, Logistics, Supply Chain Management',\n",
       "       'Food and Beverage, Food Delivery, Snack Food', 'Education',\n",
       "       'E-Commerce, Fashion, Jewelry, Retail', 'Renewable Energy',\n",
       "       'E-Learning, Education',\n",
       "       'Clean Energy, CleanTech, Laundry and Dry-cleaning',\n",
       "       'E-Commerce, Fashion, Mobile',\n",
       "       'Apps, Messaging, Navigation, Public Safety', 'Transportation',\n",
       "       'Fitness, Health Care, Wellness',\n",
       "       'Artificial Intelligence, Machine Learning, SaaS, Virtual Assistant',\n",
       "       'Hospitality', 'Food and Beverage, Tea',\n",
       "       'Media and Entertainment, News, Outdoors',\n",
       "       'Broadcasting, Media and Entertainment, Music, Music Streaming, Video, Video Streaming',\n",
       "       'B2B, Information Services, Information Technology',\n",
       "       'EdTech, Education, Enterprise Software, Peer to Peer',\n",
       "       'Health Care, Medical', 'E-Commerce',\n",
       "       'Health Care, Hospital, Wellness', '—', 'Sports',\n",
       "       'Big Data, Consumer Lending, FinTech',\n",
       "       'Cloud Computing, Computer, Semiconductor',\n",
       "       'Health Care, Medical, Pharmaceutical', 'Food Processing, Retail',\n",
       "       'Trading Platform', \"Consumer Goods, Lifestyle, Men's\", 'Wellness',\n",
       "       'Food and Beverage, Food Processing, Nutrition', 'Fashion',\n",
       "       'Automotive, Electric Vehicle, Energy Storage',\n",
       "       'Consulting, Retail, Social',\n",
       "       'Biotechnology, Life Science, Pharmaceutical, Product Research',\n",
       "       'Health Care',\n",
       "       'Credit, Financial Services, FinTech, Personal Finance',\n",
       "       'Communities, Coworking, Incubators',\n",
       "       'Consumer, Financial Services, FinTech',\n",
       "       'Consumer Applications, Information Services, Location Based Services, Virtual Assistant',\n",
       "       'Mobile, Mobile Apps, Personalization, Test and Measurement, Web Apps',\n",
       "       'Education, Financial Services, FinTech',\n",
       "       'Advertising, Consulting, Digital Marketing',\n",
       "       'Marketplace, Real Estate, Rental Property',\n",
       "       'E-Learning, Internet, Video Games',\n",
       "       'Artificial Intelligence, Cloud Computing, Video',\n",
       "       'Health Care, Information Technology', 'Aerospace',\n",
       "       'E-Commerce, Fashion, Lifestyle',\n",
       "       'Artificial Intelligence, Business Intelligence, Industrial Automation, Machine Learning',\n",
       "       'Home Decor, Home Improvement, Home Renovation, Home Services, Interior Design, Smart Home',\n",
       "       'EdTech, Education, Information Services, SaaS', 'Energy, Solar',\n",
       "       'B2B, Biometrics, Cyber Security, Fraud Detection, SaaS, Security',\n",
       "       'Artificial Intelligence, Social',\n",
       "       'Logistics, Transportation, Travel',\n",
       "       'Digital Marketing, SEM, SEO, Web Development',\n",
       "       'Health Care, Hospital, Medical', 'Finance, Financial Services',\n",
       "       'Food Delivery, Food Processing, Internet',\n",
       "       'E-Commerce, Food and Beverage, Internet',\n",
       "       'Fitness, Food and Beverage, Health Care, Nutrition',\n",
       "       'EdTech, Education, Knowledge Management',\n",
       "       'Apps, Beauty, Consumer, Retail',\n",
       "       'Creative Agency, Crowdfunding, EdTech, Health Care, Internet, Medical, Non Profit, Personal Health',\n",
       "       'Consumer Lending, Financial Services, FinTech, Insurance, Lending, Mobile Payments, Payments, Wealth Management',\n",
       "       'E-Learning, Education, Higher Education', 'Health Diagnostics',\n",
       "       'EdTech, Education', 'Financial Services, SaaS, Security',\n",
       "       'Banking, Finance, Financial Services, Non Profit',\n",
       "       'B2B, E-Commerce, Mobile',\n",
       "       'Automotive, Electric Vehicle, Renewable Energy', 'E-Learning',\n",
       "       'Embedded Systems, Health Care, Medical, Product Research',\n",
       "       'Apps, E-Commerce, Internet',\n",
       "       'Advertising, Human Resources, Marketing',\n",
       "       'Beauty, Fitness, Home Services, Internet',\n",
       "       'Health Care, Medical Device, Public Safety',\n",
       "       'Food Delivery, Online Portals, Restaurants',\n",
       "       'AgTech, B2B, Supply Chain Management',\n",
       "       'Credit Cards, Finance, Mobile Apps, Mobile Payments, Payments',\n",
       "       'Software',\n",
       "       'EdTech, Education, Higher Education, Secondary Education',\n",
       "       'Manufacturing, Retail', 'Manufacturing',\n",
       "       'Information Services, Information Technology, InsurTech',\n",
       "       'Consumer Lending, FinTech', 'Internet, Social Network, TV',\n",
       "       'Beauty, Health Care', 'Hospital', 'Events',\n",
       "       '3D Printing, Manufacturing, Product Design', 'Automotive',\n",
       "       'Automotive, Retail', 'Apps, Audio', 'Automotive, E-Commerce',\n",
       "       'Digital Entertainment, Fantasy Sports, Sports',\n",
       "       'E-Learning, EdTech, Education',\n",
       "       'Funding Platform, Incubators, Non Profit',\n",
       "       'Hospitality, Hotel, Leisure, Travel',\n",
       "       'Classifieds, Internet, Marketplace, Rental Property',\n",
       "       'Banking, E-Learning, Trading Platform',\n",
       "       'E-Commerce, Mobile, Retail',\n",
       "       'Artificial Intelligence, Information Technology',\n",
       "       'Enterprise Resource Planning (ERP), Information Services, Information Technology, Real Estate',\n",
       "       'Banking, Finance, Financial Services',\n",
       "       'Audio, Mobile, Tourism, Travel',\n",
       "       'Energy, Energy Storage, Infrastructure',\n",
       "       'Government, Information Technology, Software',\n",
       "       'Information Technology',\n",
       "       'Education, Information Technology, Internet, Mobile, Software',\n",
       "       'Consumer Lending, Financial Services, Lending, Personal Finance',\n",
       "       'Digital Media, Internet, Media and Entertainment, Online Portals, Social Media',\n",
       "       'Business Intelligence, Customer Service, Market Research, SaaS',\n",
       "       'Credit, Financial Services, FinTech, Lending',\n",
       "       'Children, Education, Parenting',\n",
       "       'Automotive, Battery, Energy, Energy Storage',\n",
       "       'E-Commerce, Mobile, Sharing Economy',\n",
       "       'Food Delivery, Organic, Organic Food', 'Mobile', 'Rental',\n",
       "       'Travel', 'Consumer', 'B2B, Farming, Marketplace',\n",
       "       'Wealth Management', 'Biotechnology',\n",
       "       'Education, Gaming, Training', 'Veterinary',\n",
       "       'Internet, Mobile, Social Entrepreneurship, Telecommunications, Wireless',\n",
       "       'Health Care, Hospital, Supply Chain Management',\n",
       "       'Tourism, Travel', 'Hospitality, Real Estate', 'Finance',\n",
       "       'Digital Media, EBooks, Publishing, Reading Apps',\n",
       "       'Consumer Electronics, Embedded Systems, Hardware, Smart Building, Software',\n",
       "       'Food and Beverage, Food Processing',\n",
       "       'Internet, Marketplace, Shopping',\n",
       "       'Analytics, Computer Vision, Enterprise Software, Machine Learning, Natural Language Processing, Speech Recognition',\n",
       "       'Facilities Support Services',\n",
       "       'Automotive, Electric Vehicle, Energy',\n",
       "       'Health Care, Health Diagnostics, Predictive Analytics',\n",
       "       'Cloud Computing, Computer, SaaS, Software',\n",
       "       'Fashion, Lifestyle, Retail', 'Medical', 'Music Streaming',\n",
       "       'Finance, Impact Investing, Internet',\n",
       "       'Internet, Social Entrepreneurship', 'Retail',\n",
       "       'Finance, Impact Investing, Mobile Apps',\n",
       "       'Cloud Computing, Computer, Software',\n",
       "       'Business Development, Market Research, Outsourcing',\n",
       "       'Health Care, Hospitality', 'Internet, Social News, Sports',\n",
       "       'Human Resources', 'Finance, Financial Services, FinTech',\n",
       "       'Customer Service, Software, Video, Video Streaming',\n",
       "       'E-Commerce, Food Processing', 'Training',\n",
       "       'Dietary Supplements, Food and Beverage, Health Care, Organic Food, Snack Food',\n",
       "       'Manufacturing, Oil and Gas, Robotics',\n",
       "       'Artificial Intelligence, Computer, Machine Learning',\n",
       "       'Collaboration, Communities, Coworking, Sharing Economy',\n",
       "       'Big Data, EdTech, Machine Learning', 'Nanotechnology',\n",
       "       'Analytics, Audio, Digital Media, Innovation Management, Internet Radio, Media and Entertainment',\n",
       "       'Financial Services, Lending, Peer to Peer',\n",
       "       'E-Commerce, Furniture, Home Decor, Interior Design, Internet',\n",
       "       'Digital Media', 'File Sharing, Personalization, Social Media',\n",
       "       'Home Decor, Interior Design',\n",
       "       'Health Care, Medical Device, Mobile Apps',\n",
       "       'E-Commerce, Facilities Support Services, Procurement, Supply Chain Management',\n",
       "       'Crowdfunding, Finance, Financial Services',\n",
       "       'Finance, Financial Services, Insurance',\n",
       "       'Children, Education, Online Portals', 'Software, Virtual Reality',\n",
       "       'B2B, Food and Beverage, Food Delivery',\n",
       "       'Catering, Food and Beverage, Food Delivery, Food Processing',\n",
       "       'Food and Beverage, Snack Food', 'Automotive, E-Commerce, Mobile',\n",
       "       'Computer, Digital Marketing, Facilities Support Services, Graphic Design, Internet, Mobile Apps, Social Media Marketing, Web Development',\n",
       "       'Android, Big Data, Blockchain, Cloud Computing, EdTech, Education, Information Technology, iOS, Training, Web Development',\n",
       "       'Analytics, CRM, Loyalty Programs, Machine Learning, Marketing Automation, Retail Technology, SaaS, Small and Medium Businesses',\n",
       "       'Delivery, Information Technology, Mobile Apps',\n",
       "       'Environmental Consulting, Renewable Energy',\n",
       "       'Big Data, Business Intelligence, Financial Services, FinTech, Personal Finance',\n",
       "       'Commercial Real Estate, Coworking, Office Administration, Real Estate',\n",
       "       'Food and Beverage, Food Processing, Organic Food, Snack Food',\n",
       "       'Apps, Health Care, Internet, Mobile Apps, Personal Health',\n",
       "       'Digital Media, Incubators, Social Entrepreneurship',\n",
       "       'Finance, Financial Services, Marketing',\n",
       "       'Biotechnology, Health Care, Life Science, Medical Device',\n",
       "       'Education, Human Resources', 'Consumer Electronics',\n",
       "       'Apps, Health Care, Hospital, Mobile Apps',\n",
       "       'Delivery Service, Logistics, Service Industry',\n",
       "       'Big Data, Data Visualization, Logistics, Software',\n",
       "       'Basketball, Cricket, Cycling, eSports, Fitness, Golf, Health Care, Hockey, Sports, Swimming, Table Tennis, Volley Ball',\n",
       "       'Media and Entertainment, News, Publishing', 'Consulting',\n",
       "       'Big Data, Financial Services, Machine Learning, Predictive Analytics',\n",
       "       'Agriculture, AgTech, Manufacturing',\n",
       "       'Digital Media, News, Publishing', 'Health Care, Hospital',\n",
       "       'B2B, E-Commerce, Enterprise',\n",
       "       'Fraud Detection, Information Services, Security',\n",
       "       'Agriculture, AgTech, Artificial Intelligence, Internet of Things, Machine Learning',\n",
       "       'Cryptocurrency, Trading Platform',\n",
       "       'Finance, FinTech, Mobile Payments', 'Wedding',\n",
       "       'E-Learning, EdTech, Education, Image Recognition, Machine Learning, STEM Education',\n",
       "       'Consumer Goods', 'Digital Entertainment',\n",
       "       'Crowdsourcing, Financial Services, Funding Platform, Venture Capital',\n",
       "       'Delivery, Drones, Geospatial, Robotics',\n",
       "       'Health Care, Information Technology, Management Information Systems',\n",
       "       'Farming',\n",
       "       'Business Travel, Hospitality, Hotel, Marketplace, Tourism, Travel Accommodations',\n",
       "       'Career Planning, Education, Higher Education, Service Industry',\n",
       "       'Medical Device', 'Alternative Medicine, Health Care',\n",
       "       'Internet, Software',\n",
       "       'Dental, Elder Care, Health Care, Home Health Care, Personal Health',\n",
       "       'Financial Services, Insurance, Private Social Networking',\n",
       "       'Consumer Electronics, E-Commerce, E-Commerce Platforms, Electronics, Shipping, Shopping',\n",
       "       'CleanTech', 'Advertising, Internet, Marketing',\n",
       "       'Human Resources, Security, Training',\n",
       "       'Consumer Lending, Finance, FinTech',\n",
       "       'Marketing, Social Media, Video', 'Banking', 'Food Processing',\n",
       "       'Apps', 'Marketing',\n",
       "       'Apps, B2B, Freight Service, Logistics, SaaS, Shipping, Supply Chain Management, Transportation',\n",
       "       'Digital Entertainment, Fantasy Sports, Gaming, Sports',\n",
       "       'Automotive, Last Mile Transportation, Peer to Peer, Ride Sharing',\n",
       "       'Commercial, E-Learning, Education',\n",
       "       'Continuing Education, EdTech, Education, Skill Assessment',\n",
       "       'Smart Cities, Telecommunications', 'Internet of Things, Robotics',\n",
       "       'Apps, Home Services, Information Services, Information Technology',\n",
       "       'Medical, Tourism', 'Career Planning, Education, Internet',\n",
       "       'Fashion, Graphic Design, Wearables',\n",
       "       'Communities, Leisure, Mobile Apps, Software',\n",
       "       'Automotive, Rental, Sharing Economy',\n",
       "       'Energy, Environmental Consulting, Renewable Energy, Solar',\n",
       "       'Information Technology, SaaS, Security',\n",
       "       'Crowdfunding, Financial Services, Internet',\n",
       "       'Customer Service, Information Technology, Internet, Sales Automation',\n",
       "       'Advertising, Artificial Intelligence, Digital Media, iOS, Location Based Services, News, Video, Video on Demand, Video Streaming',\n",
       "       'Credit Cards, Payments, Property Insurance, Property Management, Rental Property',\n",
       "       'Beauty, Cosmetics, Health Care, Service Industry',\n",
       "       'EdTech, Education, Mobile, Tutoring', 'Social Media, Sports',\n",
       "       'Biopharma', 'E-Commerce, E-Commerce Platforms, Retail',\n",
       "       'E-Commerce, Fashion, Shopping',\n",
       "       'Digital Entertainment, Mobile, PC Games',\n",
       "       'Finance, Financial Services, Small and Medium Businesses',\n",
       "       'Artificial Intelligence, Energy, Oil and Gas',\n",
       "       'Computer, FinTech, Risk Management, Software',\n",
       "       'Apps, Financial Services, FinTech',\n",
       "       \"Child Care, Health Care, Hospital, Medical, Women's\",\n",
       "       'Agriculture, Mobile',\n",
       "       'Finance, FinTech, Payments, Property Development, Rental',\n",
       "       'Information Services, Information Technology, Mobile, Software',\n",
       "       'Apps, Fitness, Health Care, mHealth',\n",
       "       'Food and Beverage, Food Delivery', 'Apps, Payments, Retail',\n",
       "       'Health Insurance, Insurance, Life Insurance',\n",
       "       'Rental, Taxi Service, Travel',\n",
       "       'E-Commerce, E-Commerce Platforms, Internet, Retail',\n",
       "       'Financial Services, Professional Services',\n",
       "       'Customer Service, Messaging, Mobile Apps, Personalization',\n",
       "       'Gaming, iOS, Sports',\n",
       "       'E-Commerce, E-Commerce Platforms, Internet, Mobile Apps, Social Media',\n",
       "       'Search Engine',\n",
       "       'Battery, Electric Vehicle, Energy, Renewable Energy, Transportation',\n",
       "       'Agriculture, Farmers Market, Farming',\n",
       "       'Artificial Intelligence, Drones, Navigation, Packaging Services, Robotics',\n",
       "       'Fitness, GreenTech, Internet of Things, Mobile Apps, Ride Sharing, Transportation',\n",
       "       'Mobile, Software, Travel', 'Cosmetics',\n",
       "       'Consulting, Cyber Security, Network Security',\n",
       "       'eSports, Gaming, Video Games', 'Fashion, Jewelry',\n",
       "       'B2B, Medical Device', 'Consumer Goods, Manufacturing',\n",
       "       'Biotechnology, Health Care, Wellness',\n",
       "       'Health Care, Hospital, Medical, Robotics',\n",
       "       'E-Commerce, Fitness, Health Care',\n",
       "       'Financial Services, Venture Capital', 'Accounting, Apps, FinTech',\n",
       "       'Apps, Mobile, Transportation', 'Reading Apps',\n",
       "       'Energy, Renewable Energy, Solar',\n",
       "       'Banking, Financial Services, FinTech', 'Apps, Education, Retail',\n",
       "       'Electric Vehicle',\n",
       "       'Automotive, Battery, Electric Vehicle, Manufacturing, Mechanical Design',\n",
       "       'Automotive, E-Commerce, Marketplace', 'Agriculture',\n",
       "       'Apps, Information Services, Information Technology',\n",
       "       'B2B, Marketplace', 'Packaging Services',\n",
       "       'Computer, Furniture, Software',\n",
       "       'Food Delivery, Hospitality, Reservations, Restaurants, Search Engine',\n",
       "       'Collaboration, Communities, Coworking, Real Estate',\n",
       "       'Accounting, Banking, Finance',\n",
       "       'Cloud Computing, Enterprise Software, Network Hardware, Network Security, SaaS',\n",
       "       'Information Services, Internet, Logistics, Supply Chain Management, Transportation',\n",
       "       'Automotive, E-Commerce, Information Services',\n",
       "       'Delivery, Logistics, Transportation',\n",
       "       'Automotive, E-Commerce Platforms, Marketplace',\n",
       "       'Last Mile Transportation, Railroad, Transportation, Travel',\n",
       "       'Cooking, E-Commerce, Food and Beverage, Food Delivery, Online Portals',\n",
       "       'FinTech, Mobile, Mobile Payments, Payments, Retail Technology',\n",
       "       'Online Games, Software',\n",
       "       'Online Portals, Property Management, Rental',\n",
       "       'E-Commerce, Food and Beverage, Tea',\n",
       "       'Music, Social Network, Video',\n",
       "       'Health Care, Pharmaceutical, Wellness',\n",
       "       'Delivery Service, Food and Beverage, Food Delivery',\n",
       "       'Hospitality, Information Technology, Travel Accommodations',\n",
       "       'Biotechnology, Diabetes, Health Care',\n",
       "       'Autonomous Vehicles, Last Mile Transportation, Recreational Vehicles, Rental',\n",
       "       'Finance, Financial Exchanges, Financial Services, Micro Lending',\n",
       "       'Analytics, Apps, Market Research',\n",
       "       'E-Commerce, E-Commerce Platforms, Furniture, Home Decor, Internet',\n",
       "       'Apps, Mobile, Mobile Apps, Software',\n",
       "       'News, Publishing, Social Media',\n",
       "       'Industrial, Industrial Automation',\n",
       "       'Internet, Mobile Apps, Social Network',\n",
       "       'Health Care, Health Diagnostics, Internet of Things, Life Science, Machine Learning, Medical, Medical Device',\n",
       "       'E-Commerce, Furniture, Interior Design', 'Apps, Events, News',\n",
       "       'Artificial Intelligence, Human Resources, Information Services, Information Technology',\n",
       "       'Logistics, Railroad, Transportation',\n",
       "       'Dating, Private Social Networking',\n",
       "       'Artificial Intelligence, Machine Learning, PaaS',\n",
       "       'Consumer, Furniture, Home Decor, Home Improvement',\n",
       "       'Apps, E-Commerce, Internet, Mobile, Ride Sharing, Transportation',\n",
       "       'Health Care, Health Insurance', 'Energy, Natural Resources',\n",
       "       'E-Commerce, Education, Health Care',\n",
       "       'Apps, Health Care, Pharmaceutical',\n",
       "       'Internet, Knowledge Management',\n",
       "       'Credit, Finance, FinTech, Lending, Sales Automation',\n",
       "       'Banking, Financial Services, Internet',\n",
       "       'E-Commerce, Health Care, Retail',\n",
       "       'Child Care, Information Technology',\n",
       "       'Financial Services, Micro Lending',\n",
       "       'E-Commerce, Retail, Shopping',\n",
       "       'Food and Beverage, Snack Food, Tea',\n",
       "       'Delivery Service, E-Commerce, Logistics',\n",
       "       'Fashion, Lifestyle, Rental', 'Fantasy Sports, Mobile, Sports',\n",
       "       'Beauty, Fashion, Wellness', 'Food and Beverage, Restaurants, Tea',\n",
       "       'Fitness, Sporting Goods, Sports',\n",
       "       'Food and Beverage, Food Processing, Manufacturing',\n",
       "       'E-Learning, Internet', 'Eyewear, Internet',\n",
       "       'Information Technology, Mobile, News, Operating Systems, Social Media, Social News',\n",
       "       'FinTech, Internet, Payments, Service Industry',\n",
       "       'B2B, Business Development, Internet, Marketplace',\n",
       "       'Food and Beverage, Food Delivery, Internet',\n",
       "       'Biotechnology, Health Care, Pharmaceutical'], dtype=object)"
      ]
     },
     "execution_count": 291,
     "metadata": {},
     "output_type": "execute_result"
    }
   ],
   "source": [
    "# let's check all the unique values in the industry column\n",
    "df['Industry'].unique()"
   ]
  },
  {
   "cell_type": "code",
   "execution_count": 292,
   "metadata": {},
   "outputs": [
    {
     "data": {
      "text/plain": [
       "—                                                                                 30\n",
       "Financial Services                                                                15\n",
       "Education                                                                          8\n",
       "Information Technology                                                             7\n",
       "Finance, Financial Services                                                        5\n",
       "                                                                                  ..\n",
       "Business Intelligence, Customer Service, Market Research, SaaS                     1\n",
       "Digital Media, Internet, Media and Entertainment, Online Portals, Social Media     1\n",
       "Consumer Lending, Financial Services, Lending, Personal Finance                    1\n",
       "Education, Information Technology, Internet, Mobile, Software                      1\n",
       "Biotechnology, Health Care, Pharmaceutical                                         1\n",
       "Name: Industry, Length: 405, dtype: int64"
      ]
     },
     "execution_count": 292,
     "metadata": {},
     "output_type": "execute_result"
    }
   ],
   "source": [
    "df['Industry'].value_counts() # counting all the unique values in the Industry column "
   ]
  },
  {
   "cell_type": "markdown",
   "metadata": {},
   "source": [
    "BELOW WE WANT TO HANDLE, Title casing, leading and trailing spaces and also standardize the indusrty column "
   ]
  },
  {
   "cell_type": "code",
   "execution_count": 293,
   "metadata": {},
   "outputs": [
    {
     "name": "stdout",
     "output_type": "stream",
     "text": [
      "{' Infrastructure', ' Medical Device', ' Audio', ' Security', ' Test and Measurement', ' Food and Beverage', ' Insurance', ' Social Media Marketing', ' CRM', ' Apps', ' Micro Lending', ' Swimming', ' Collaboration', ' Image Recognition', ' Marine Transportation', ' Fantasy Sports', ' Taxi Service', ' Manufacturing', ' Social Network', ' Health Care', ' Computer', ' Fraud Detection', ' Crowdfunding', ' Wireless', ' SEO', ' Fitness', ' CleanTech', ' Ride Sharing', ' Non Profit', ' Developer Platform', ' Social', ' Small and Medium Businesses', ' Biometrics', ' Sharing Economy', ' Packaging Services', ' Sponsorship', ' Outdoors', ' AgTech', ' Shipping', ' Professional Services', ' Network Hardware', ' Financial Services', ' SaaS', ' Speech Recognition', ' Consumer', ' Shopping', ' Virtual Assistant', ' Last Mile Transportation', ' Home Renovation', ' Customer Service', ' Rental', ' Reservations', ' Computer Vision', ' Tutoring', ' Network Security', ' EBooks', ' Public Safety', \" Men's\", ' Home Decor', ' Management Information Systems', ' Elder Care', ' Property Insurance', ' Marketing', ' Information Services', ' Supply Chain Management', ' Telecommunications', ' Mobile Apps', ' Risk Management', ' Enterprise Software', ' Office Administration', ' Predictive Analytics', ' Venture Capital', ' Consulting', ' SEM', 'Learning', ' Interior Design', ' Electronics', ' Waste Management', ' Parenting', ' Hospital', ' Energy', ' Tourism', ' Cycling', ' Music Streaming', ' Training', ' Navigation', ' Procurement', ' Mechanical Design', ' Drones', ' Business Travel', ' Oil and Gas', 'Commerce', ' Cloud Computing', ' Virtual Reality', ' Analytics', ' Consumer Lending', ' TV', ' E', ' Volley Ball', ' Location Based Services', ' Impact Investing', ' Business Development', ' Sports', ' Health Insurance', ' Skill Assessment', ' Wealth Management', ' Messaging', ' Freight Service', ' Developer Tools', ' Facilities Support Services', ' Travel', ' Education', ' Shoes', ' Artificial Intelligence', ' FinTech', ' Hospitality', ' Funding Platform', ' Embedded Systems', ' Loyalty Programs', ' Sporting Goods', ' Event Promotion', ' PaaS', ' Digital Media', ' Food Processing', ' Mobile Payments', ' Video Games', ' Organic', ' Reading Apps', ' Cyber Security', ' Data Visualization', ' Golf', ' Media and Entertainment', ' Nutrition', ' Incubators', ' Farmers Market', ' Information Technology', ' Digital Marketing', ' Market Research', ' Jewelry', ' Beauty', ' Renewable Energy', ' Lending', ' Product Design', ' Life Insurance', ' Events', ' Retail Technology', ' Private Social Networking', 'Commerce Platforms', ' Secondary Education', ' Snack Food', ' Retail', ' Video Streaming', ' B2B', ' Web Apps', ' Internet Radio', ' Rental Property', ' Environmental Consulting', ' Online Portals', ' Social Media', ' Innovation Management', ' Semiconductor', ' Payments', \" Women's\", ' Laundry and Dry', ' Travel Accommodations', ' Home Services', ' Business Information Systems', ' Pharmaceutical', ' Service Industry', ' Graphic Design', ' Video on Demand', ' Marketplace', ' eSports', ' Recreational Vehicles', ' Blockchain', ' Industrial Automation', ' Lifestyle', ' Finance', ' Hockey', ' Battery', ' Mobile', ' Web Development', ' Electric Vehicle', ' Business Intelligence', ' Natural Resources', ' Enterprise', ' Social Entrepreneurship', ' Wellness', ' Transportation', ' Publishing', ' Big Data', ' Home Improvement', ' Robotics', ' Fashion', ' Hotel', ' Tea', ' Real Estate', ' Personal Finance', ' Property Management', ' Cricket', ' mHealth', ' Trading Platform', ' Natural Language Processing', ' Gaming', ' Sales Automation', ' Operating Systems', ' Diabetes', ' News', 'cleaning', ' Coworking', ' Leisure', ' Medical', ' STEM Education', ' Search Engine', ' Music', ' Railroad', ' GreenTech', ' Hardware', ' Peer to Peer', ' Ticketing', ' Machine Learning', ' Life Science', ' Cosmetics', ' Human Resources', ' Product Search', ' Social News', ' Internet', ' Home Health Care', ' Banking', ' iOS', ' Smart Building', ' Organic Food', ' Internet of Things', ' Furniture', ' Restaurants', ' Video', ' Higher Education', ' Geospatial', ' Outsourcing', ' Productivity Tools', ' EdTech', ' Knowledge Management', ' Marketing Automation', ' Product Research', ' Video Chat', ' Software', ' Food Delivery', ' Smart Home', ' Energy Storage', ' Communities', ' Farming', ' InsurTech', ' Wearables', ' Personal Health', ' PC Games', ' Property Development', ' Health Diagnostics', ' Personalization', ' Solar', ' Table Tennis', ' Financial Exchanges', ' Logistics'}\n"
     ]
    }
   ],
   "source": [
    "# Get unique values in the 'Industry' column\n",
    "unique_values = df['Industry'].unique()\n",
    "# Create a set to store the delimiters\n",
    "delimiters = set()\n",
    "\n",
    "# Iterate over the unique values\n",
    "for value in unique_values:\n",
    "    parts = re.split(',|;|/|-', value) # Split the value by commas and other delimiters\n",
    "    delimiters.update(filter(lambda x: x != '', parts[1:])) # Add the delimiters to the set\n",
    "# Print the identified delimiters\n",
    "print(delimiters)"
   ]
  },
  {
   "cell_type": "code",
   "execution_count": 294,
   "metadata": {},
   "outputs": [],
   "source": [
    "# keeping only the first unique vlaues in the Industry column\n",
    "df['Industry'] = df['Industry'].str.split(',').str[0]\n",
    "#converting the industry names in the column to title case\n",
    "df['Industry'] = df['Industry'].str.title()"
   ]
  },
  {
   "cell_type": "code",
   "execution_count": 295,
   "metadata": {},
   "outputs": [
    {
     "data": {
      "text/html": [
       "<div>\n",
       "<style scoped>\n",
       "    .dataframe tbody tr th:only-of-type {\n",
       "        vertical-align: middle;\n",
       "    }\n",
       "\n",
       "    .dataframe tbody tr th {\n",
       "        vertical-align: top;\n",
       "    }\n",
       "\n",
       "    .dataframe thead th {\n",
       "        text-align: right;\n",
       "    }\n",
       "</style>\n",
       "<table border=\"1\" class=\"dataframe\">\n",
       "  <thead>\n",
       "    <tr style=\"text-align: right;\">\n",
       "      <th></th>\n",
       "      <th>Company Name</th>\n",
       "      <th>Industry</th>\n",
       "      <th>Round/Series</th>\n",
       "      <th>Amount</th>\n",
       "      <th>Location</th>\n",
       "      <th>About Company</th>\n",
       "      <th>Indiancurr</th>\n",
       "      <th>UsCurr</th>\n",
       "    </tr>\n",
       "  </thead>\n",
       "  <tbody>\n",
       "    <tr>\n",
       "      <th>58</th>\n",
       "      <td>MissMalini Entertainment</td>\n",
       "      <td>—</td>\n",
       "      <td>Seed</td>\n",
       "      <td>1,518,400.00</td>\n",
       "      <td>Mumbai</td>\n",
       "      <td>MissMalini Entertainment is a multi-platform n...</td>\n",
       "      <td>104,000,000.00</td>\n",
       "      <td>1,518,400.00</td>\n",
       "    </tr>\n",
       "    <tr>\n",
       "      <th>105</th>\n",
       "      <td>Jagaran Microfin</td>\n",
       "      <td>—</td>\n",
       "      <td>Debt Financing</td>\n",
       "      <td>8,030,000.00</td>\n",
       "      <td>Kolkata</td>\n",
       "      <td>Jagaran Microfin is a Microfinance institution...</td>\n",
       "      <td>550,000,000.00</td>\n",
       "      <td>8,030,000.00</td>\n",
       "    </tr>\n",
       "    <tr>\n",
       "      <th>121</th>\n",
       "      <td>FLEECA</td>\n",
       "      <td>—</td>\n",
       "      <td>Seed</td>\n",
       "      <td>NaN</td>\n",
       "      <td>Jaipur</td>\n",
       "      <td>FLEECA is a Tyre Care Provider company.</td>\n",
       "      <td>0.00</td>\n",
       "      <td>0</td>\n",
       "    </tr>\n",
       "    <tr>\n",
       "      <th>146</th>\n",
       "      <td>WheelsEMI</td>\n",
       "      <td>—</td>\n",
       "      <td>Series B</td>\n",
       "      <td>14,000,000.00</td>\n",
       "      <td>Pune</td>\n",
       "      <td>WheelsEMI is the brand name of NBFC, WheelsEMI...</td>\n",
       "      <td>0.00</td>\n",
       "      <td>$14000000</td>\n",
       "    </tr>\n",
       "    <tr>\n",
       "      <th>153</th>\n",
       "      <td>Fric Bergen</td>\n",
       "      <td>—</td>\n",
       "      <td>Venture - Series Unknown</td>\n",
       "      <td>NaN</td>\n",
       "      <td>Alwar</td>\n",
       "      <td>Fric Bergen is a leader in the specialty food ...</td>\n",
       "      <td>0.00</td>\n",
       "      <td>0</td>\n",
       "    </tr>\n",
       "    <tr>\n",
       "      <th>174</th>\n",
       "      <td>Deftouch</td>\n",
       "      <td>—</td>\n",
       "      <td>Seed</td>\n",
       "      <td>NaN</td>\n",
       "      <td>Bengaluru</td>\n",
       "      <td>Deftouch is a mobile game development company ...</td>\n",
       "      <td>0.00</td>\n",
       "      <td>0</td>\n",
       "    </tr>\n",
       "    <tr>\n",
       "      <th>181</th>\n",
       "      <td>Corefactors</td>\n",
       "      <td>—</td>\n",
       "      <td>Seed</td>\n",
       "      <td>NaN</td>\n",
       "      <td>Bengaluru</td>\n",
       "      <td>Corefactors is a leading campaign management, ...</td>\n",
       "      <td>0.00</td>\n",
       "      <td>0</td>\n",
       "    </tr>\n",
       "    <tr>\n",
       "      <th>210</th>\n",
       "      <td>Cell Propulsion</td>\n",
       "      <td>—</td>\n",
       "      <td>Seed</td>\n",
       "      <td>102,200.00</td>\n",
       "      <td>Bengaluru</td>\n",
       "      <td>Cell Propulsion is an electric mobility startu...</td>\n",
       "      <td>7,000,000.00</td>\n",
       "      <td>102,200.00</td>\n",
       "    </tr>\n",
       "    <tr>\n",
       "      <th>230</th>\n",
       "      <td>Flathalt</td>\n",
       "      <td>—</td>\n",
       "      <td>Angel</td>\n",
       "      <td>50,000.00</td>\n",
       "      <td>Gurugram</td>\n",
       "      <td>FInd your Customized Home here.</td>\n",
       "      <td>0.00</td>\n",
       "      <td>50000</td>\n",
       "    </tr>\n",
       "    <tr>\n",
       "      <th>235</th>\n",
       "      <td>dishq</td>\n",
       "      <td>—</td>\n",
       "      <td>Seed</td>\n",
       "      <td>400,000.00</td>\n",
       "      <td>Bengaluru</td>\n",
       "      <td>dishq leverages food science and machine learn...</td>\n",
       "      <td>0.00</td>\n",
       "      <td>400000</td>\n",
       "    </tr>\n",
       "    <tr>\n",
       "      <th>238</th>\n",
       "      <td>Trell</td>\n",
       "      <td>—</td>\n",
       "      <td>Seed</td>\n",
       "      <td>1,250,000.00</td>\n",
       "      <td>Bengaluru</td>\n",
       "      <td>Trell is a location based network which helps ...</td>\n",
       "      <td>0.00</td>\n",
       "      <td>1250000</td>\n",
       "    </tr>\n",
       "    <tr>\n",
       "      <th>242</th>\n",
       "      <td>HousingMan.com</td>\n",
       "      <td>—</td>\n",
       "      <td>Seed</td>\n",
       "      <td>1,503,800.00</td>\n",
       "      <td>Bengaluru</td>\n",
       "      <td>New Apartments, Flats for Sale in Bangalore</td>\n",
       "      <td>103,000,000.00</td>\n",
       "      <td>1,503,800.00</td>\n",
       "    </tr>\n",
       "    <tr>\n",
       "      <th>243</th>\n",
       "      <td>Steradian Semiconductors</td>\n",
       "      <td>—</td>\n",
       "      <td>Seed</td>\n",
       "      <td>NaN</td>\n",
       "      <td>Bengaluru</td>\n",
       "      <td>It is a fabless semiconductor company focused ...</td>\n",
       "      <td>0.00</td>\n",
       "      <td>0</td>\n",
       "    </tr>\n",
       "    <tr>\n",
       "      <th>247</th>\n",
       "      <td>SaffronStays</td>\n",
       "      <td>—</td>\n",
       "      <td>Seed</td>\n",
       "      <td>2,000,000.00</td>\n",
       "      <td>Mumbai</td>\n",
       "      <td>SaffronStays connects travellers to India's In...</td>\n",
       "      <td>0.00</td>\n",
       "      <td>2000000</td>\n",
       "    </tr>\n",
       "    <tr>\n",
       "      <th>251</th>\n",
       "      <td>Inner Being Wellness</td>\n",
       "      <td>—</td>\n",
       "      <td>Angel</td>\n",
       "      <td>511,000.00</td>\n",
       "      <td>Hyderabad</td>\n",
       "      <td>Inner Being Wellness manufactures beauty, well...</td>\n",
       "      <td>35,000,000.00</td>\n",
       "      <td>511,000.00</td>\n",
       "    </tr>\n",
       "    <tr>\n",
       "      <th>257</th>\n",
       "      <td>MySEODoc</td>\n",
       "      <td>—</td>\n",
       "      <td>Seed</td>\n",
       "      <td>NaN</td>\n",
       "      <td>New Delhi</td>\n",
       "      <td>SEO, PPC, Search Engine Marketing, Social Medi...</td>\n",
       "      <td>0.00</td>\n",
       "      <td>0</td>\n",
       "    </tr>\n",
       "    <tr>\n",
       "      <th>258</th>\n",
       "      <td>ENLYFT DIGITAL SOLUTIONS PRIVATE LIMITED</td>\n",
       "      <td>—</td>\n",
       "      <td>Seed</td>\n",
       "      <td>2,920.00</td>\n",
       "      <td>Pune</td>\n",
       "      <td>Digital Marketing Agency</td>\n",
       "      <td>200,000.00</td>\n",
       "      <td>2,920.00</td>\n",
       "    </tr>\n",
       "    <tr>\n",
       "      <th>259</th>\n",
       "      <td>Scale Labs</td>\n",
       "      <td>—</td>\n",
       "      <td>Seed</td>\n",
       "      <td>1,000,000.00</td>\n",
       "      <td>New Delhi</td>\n",
       "      <td>Scale Labs is a cross border e-commerce soluti...</td>\n",
       "      <td>0.00</td>\n",
       "      <td>1000000</td>\n",
       "    </tr>\n",
       "    <tr>\n",
       "      <th>294</th>\n",
       "      <td>Roadcast</td>\n",
       "      <td>—</td>\n",
       "      <td>Angel</td>\n",
       "      <td>250,000.00</td>\n",
       "      <td>New Delhi</td>\n",
       "      <td>Transforming the way businesses deliver. Work-...</td>\n",
       "      <td>0.00</td>\n",
       "      <td>250000</td>\n",
       "    </tr>\n",
       "    <tr>\n",
       "      <th>325</th>\n",
       "      <td>Toffee</td>\n",
       "      <td>—</td>\n",
       "      <td>Seed</td>\n",
       "      <td>1,500,000.00</td>\n",
       "      <td>Gurugram</td>\n",
       "      <td>Toffee is a bite size, micro-event &amp; contextua...</td>\n",
       "      <td>0.00</td>\n",
       "      <td>1500000</td>\n",
       "    </tr>\n",
       "    <tr>\n",
       "      <th>326</th>\n",
       "      <td>ORO Wealth</td>\n",
       "      <td>—</td>\n",
       "      <td>Series A</td>\n",
       "      <td>1,600,000.00</td>\n",
       "      <td>Mumbai</td>\n",
       "      <td>Online wealth management platform</td>\n",
       "      <td>0.00</td>\n",
       "      <td>1600000</td>\n",
       "    </tr>\n",
       "    <tr>\n",
       "      <th>346</th>\n",
       "      <td>Finwego</td>\n",
       "      <td>—</td>\n",
       "      <td>Seed</td>\n",
       "      <td>NaN</td>\n",
       "      <td>Chennai</td>\n",
       "      <td>Finwego partners with Small and Medium Busines...</td>\n",
       "      <td>0.00</td>\n",
       "      <td>0</td>\n",
       "    </tr>\n",
       "    <tr>\n",
       "      <th>398</th>\n",
       "      <td>Cred</td>\n",
       "      <td>—</td>\n",
       "      <td>Seed</td>\n",
       "      <td>NaN</td>\n",
       "      <td>Bengaluru</td>\n",
       "      <td>Cred is a platform to celebrate and reward the...</td>\n",
       "      <td>0.00</td>\n",
       "      <td>0</td>\n",
       "    </tr>\n",
       "    <tr>\n",
       "      <th>457</th>\n",
       "      <td>Origo</td>\n",
       "      <td>—</td>\n",
       "      <td>Venture - Series Unknown</td>\n",
       "      <td>11,680,000.00</td>\n",
       "      <td>Gurugram</td>\n",
       "      <td>Origo Commodities, a complete post-harvest man...</td>\n",
       "      <td>800,000,000.00</td>\n",
       "      <td>11,680,000.00</td>\n",
       "    </tr>\n",
       "    <tr>\n",
       "      <th>472</th>\n",
       "      <td>Sequretek</td>\n",
       "      <td>—</td>\n",
       "      <td>Venture - Series Unknown</td>\n",
       "      <td>3,700,000.00</td>\n",
       "      <td>Mumbai</td>\n",
       "      <td>Sequretek is a cyber security start-up.</td>\n",
       "      <td>0.00</td>\n",
       "      <td>3700000</td>\n",
       "    </tr>\n",
       "    <tr>\n",
       "      <th>473</th>\n",
       "      <td>Avenues Payments India Pvt. Ltd.</td>\n",
       "      <td>—</td>\n",
       "      <td>Corporate Round</td>\n",
       "      <td>1,300,000.00</td>\n",
       "      <td>Mumbai</td>\n",
       "      <td>Avenues Payments is an IT solutions provider f...</td>\n",
       "      <td>0.00</td>\n",
       "      <td>1300000</td>\n",
       "    </tr>\n",
       "    <tr>\n",
       "      <th>476</th>\n",
       "      <td>Planet11 eCommerce Solutions India (Avenue11)</td>\n",
       "      <td>—</td>\n",
       "      <td>Corporate Round</td>\n",
       "      <td>3,796,000.00</td>\n",
       "      <td>Bengaluru</td>\n",
       "      <td>Planet11 is backed by SK Planet, which is a pa...</td>\n",
       "      <td>260,000,000.00</td>\n",
       "      <td>3,796,000.00</td>\n",
       "    </tr>\n",
       "    <tr>\n",
       "      <th>478</th>\n",
       "      <td>Iba Halal Care</td>\n",
       "      <td>—</td>\n",
       "      <td>Series A</td>\n",
       "      <td>2,190,000.00</td>\n",
       "      <td>Ahmedabad</td>\n",
       "      <td>Iba Halal Care is a cosmetics brand company.</td>\n",
       "      <td>150,000,000.00</td>\n",
       "      <td>2,190,000.00</td>\n",
       "    </tr>\n",
       "    <tr>\n",
       "      <th>480</th>\n",
       "      <td>Togedr</td>\n",
       "      <td>—</td>\n",
       "      <td>Venture - Series Unknown</td>\n",
       "      <td>NaN</td>\n",
       "      <td>Gurugram</td>\n",
       "      <td>Togedr is an activity discovery &amp; booking plat...</td>\n",
       "      <td>0.00</td>\n",
       "      <td>0</td>\n",
       "    </tr>\n",
       "    <tr>\n",
       "      <th>510</th>\n",
       "      <td>Scholify</td>\n",
       "      <td>—</td>\n",
       "      <td>Pre-Seed</td>\n",
       "      <td>NaN</td>\n",
       "      <td>Bengaluru</td>\n",
       "      <td>Edutech</td>\n",
       "      <td>0.00</td>\n",
       "      <td>0</td>\n",
       "    </tr>\n",
       "  </tbody>\n",
       "</table>\n",
       "</div>"
      ],
      "text/plain": [
       "                                      Company Name Industry  \\\n",
       "58                        MissMalini Entertainment        —   \n",
       "105                               Jagaran Microfin        —   \n",
       "121                                         FLEECA        —   \n",
       "146                                      WheelsEMI        —   \n",
       "153                                    Fric Bergen        —   \n",
       "174                                       Deftouch        —   \n",
       "181                                    Corefactors        —   \n",
       "210                                Cell Propulsion        —   \n",
       "230                                       Flathalt        —   \n",
       "235                                          dishq        —   \n",
       "238                                          Trell        —   \n",
       "242                                 HousingMan.com        —   \n",
       "243                       Steradian Semiconductors        —   \n",
       "247                                   SaffronStays        —   \n",
       "251                           Inner Being Wellness        —   \n",
       "257                                       MySEODoc        —   \n",
       "258       ENLYFT DIGITAL SOLUTIONS PRIVATE LIMITED        —   \n",
       "259                                     Scale Labs        —   \n",
       "294                                       Roadcast        —   \n",
       "325                                         Toffee        —   \n",
       "326                                     ORO Wealth        —   \n",
       "346                                        Finwego        —   \n",
       "398                                           Cred        —   \n",
       "457                                          Origo        —   \n",
       "472                                      Sequretek        —   \n",
       "473               Avenues Payments India Pvt. Ltd.        —   \n",
       "476  Planet11 eCommerce Solutions India (Avenue11)        —   \n",
       "478                                 Iba Halal Care        —   \n",
       "480                                         Togedr        —   \n",
       "510                                       Scholify        —   \n",
       "\n",
       "                 Round/Series        Amount   Location  \\\n",
       "58                       Seed  1,518,400.00     Mumbai   \n",
       "105            Debt Financing  8,030,000.00    Kolkata   \n",
       "121                      Seed           NaN     Jaipur   \n",
       "146                  Series B 14,000,000.00       Pune   \n",
       "153  Venture - Series Unknown           NaN      Alwar   \n",
       "174                      Seed           NaN  Bengaluru   \n",
       "181                      Seed           NaN  Bengaluru   \n",
       "210                      Seed    102,200.00  Bengaluru   \n",
       "230                     Angel     50,000.00   Gurugram   \n",
       "235                      Seed    400,000.00  Bengaluru   \n",
       "238                      Seed  1,250,000.00  Bengaluru   \n",
       "242                      Seed  1,503,800.00  Bengaluru   \n",
       "243                      Seed           NaN  Bengaluru   \n",
       "247                      Seed  2,000,000.00     Mumbai   \n",
       "251                     Angel    511,000.00  Hyderabad   \n",
       "257                      Seed           NaN  New Delhi   \n",
       "258                      Seed      2,920.00       Pune   \n",
       "259                      Seed  1,000,000.00  New Delhi   \n",
       "294                     Angel    250,000.00  New Delhi   \n",
       "325                      Seed  1,500,000.00   Gurugram   \n",
       "326                  Series A  1,600,000.00     Mumbai   \n",
       "346                      Seed           NaN    Chennai   \n",
       "398                      Seed           NaN  Bengaluru   \n",
       "457  Venture - Series Unknown 11,680,000.00   Gurugram   \n",
       "472  Venture - Series Unknown  3,700,000.00     Mumbai   \n",
       "473           Corporate Round  1,300,000.00     Mumbai   \n",
       "476           Corporate Round  3,796,000.00  Bengaluru   \n",
       "478                  Series A  2,190,000.00  Ahmedabad   \n",
       "480  Venture - Series Unknown           NaN   Gurugram   \n",
       "510                  Pre-Seed           NaN  Bengaluru   \n",
       "\n",
       "                                         About Company     Indiancurr  \\\n",
       "58   MissMalini Entertainment is a multi-platform n... 104,000,000.00   \n",
       "105  Jagaran Microfin is a Microfinance institution... 550,000,000.00   \n",
       "121            FLEECA is a Tyre Care Provider company.           0.00   \n",
       "146  WheelsEMI is the brand name of NBFC, WheelsEMI...           0.00   \n",
       "153  Fric Bergen is a leader in the specialty food ...           0.00   \n",
       "174  Deftouch is a mobile game development company ...           0.00   \n",
       "181  Corefactors is a leading campaign management, ...           0.00   \n",
       "210  Cell Propulsion is an electric mobility startu...   7,000,000.00   \n",
       "230                    FInd your Customized Home here.           0.00   \n",
       "235  dishq leverages food science and machine learn...           0.00   \n",
       "238  Trell is a location based network which helps ...           0.00   \n",
       "242        New Apartments, Flats for Sale in Bangalore 103,000,000.00   \n",
       "243  It is a fabless semiconductor company focused ...           0.00   \n",
       "247  SaffronStays connects travellers to India's In...           0.00   \n",
       "251  Inner Being Wellness manufactures beauty, well...  35,000,000.00   \n",
       "257  SEO, PPC, Search Engine Marketing, Social Medi...           0.00   \n",
       "258                           Digital Marketing Agency     200,000.00   \n",
       "259  Scale Labs is a cross border e-commerce soluti...           0.00   \n",
       "294  Transforming the way businesses deliver. Work-...           0.00   \n",
       "325  Toffee is a bite size, micro-event & contextua...           0.00   \n",
       "326                  Online wealth management platform           0.00   \n",
       "346  Finwego partners with Small and Medium Busines...           0.00   \n",
       "398  Cred is a platform to celebrate and reward the...           0.00   \n",
       "457  Origo Commodities, a complete post-harvest man... 800,000,000.00   \n",
       "472            Sequretek is a cyber security start-up.           0.00   \n",
       "473  Avenues Payments is an IT solutions provider f...           0.00   \n",
       "476  Planet11 is backed by SK Planet, which is a pa... 260,000,000.00   \n",
       "478       Iba Halal Care is a cosmetics brand company. 150,000,000.00   \n",
       "480  Togedr is an activity discovery & booking plat...           0.00   \n",
       "510                                            Edutech           0.00   \n",
       "\n",
       "           UsCurr  \n",
       "58   1,518,400.00  \n",
       "105  8,030,000.00  \n",
       "121             0  \n",
       "146     $14000000  \n",
       "153             0  \n",
       "174             0  \n",
       "181             0  \n",
       "210    102,200.00  \n",
       "230         50000  \n",
       "235        400000  \n",
       "238       1250000  \n",
       "242  1,503,800.00  \n",
       "243             0  \n",
       "247       2000000  \n",
       "251    511,000.00  \n",
       "257             0  \n",
       "258      2,920.00  \n",
       "259       1000000  \n",
       "294        250000  \n",
       "325       1500000  \n",
       "326       1600000  \n",
       "346             0  \n",
       "398             0  \n",
       "457 11,680,000.00  \n",
       "472       3700000  \n",
       "473       1300000  \n",
       "476  3,796,000.00  \n",
       "478  2,190,000.00  \n",
       "480             0  \n",
       "510             0  "
      ]
     },
     "execution_count": 295,
     "metadata": {},
     "output_type": "execute_result"
    }
   ],
   "source": [
    "df[df['Industry']=='—']"
   ]
  },
  {
   "cell_type": "code",
   "execution_count": 296,
   "metadata": {},
   "outputs": [],
   "source": [
    "# renaming some of the Company names to their official names\n",
    "\n",
    "company_mapping = {\n",
    "    'dishq': 'DISH',\n",
    "    'HousingMan.com': 'HousingMan',\n",
    "    'ENLYFT DIGITAL SOLUTIONS PRIVATE LIMITED': 'ENLYFT DIGITAL SOLUTIONS',\n",
    "    'Toffee': 'Toffee Pvt Ltd',\n",
    "    'Avenues Payments India Pvt. Ltd.': 'Avenues Payments',\n",
    "    'Planet11 eCommerce Solutions India (Avenue11)': 'Planet11',\n",
    "    \n",
    "}\n",
    "\n",
    "# Replacing the '-' dash symbols in the Sector column \n",
    "\n",
    "industry_mapping = {\n",
    "    '—': '',\n",
    "    'Fashion and Lifestyle Blog': 'Fashion and Lifestyle Blog',\n",
    "    'Financial Services': 'Financial Services',\n",
    "    'Automotive Services': 'Automotive Services',\n",
    "    'Automotive Financing': 'Automotive Financing',\n",
    "    'Food and Beverage': 'Food and Beverage',\n",
    "    'Gaming and Entertainment': 'Gaming and Entertainment',\n",
    "    'Marketing Technology': 'Marketing Technology',\n",
    "    'Electric Vehicle Technology': 'Electric Vehicle Technology',\n",
    "    'Real Estate Technology': 'Real Estate Technology',\n",
    "    'Telecommunications': 'Telecommunications',\n",
    "    'E-commerce': 'E-commerce',\n",
    "    'Hospitality Technology': 'Hospitality Technology',\n",
    "    'Health and Wellness': 'Health and Wellness',\n",
    "    'Digital Marketing': 'Digital Marketing',\n",
    "    'E-commerce Solutions': 'E-commerce Solutions',\n",
    "    'Transportation and Logistics Technology': 'Transportation and Logistics Technology',\n",
    "    'Cosmetics': 'Cosmetics',\n",
    "    'Travel and Adventure': 'Travel and Adventure',\n",
    "    'EdTech': 'EdTech'\n",
    "}\n",
    "\n",
    "# Replace the dash symbol with the corresponding values using apply function\n",
    "df['Company Name'] = df['Company Name'].apply(lambda x: company_mapping[x] if x in company_mapping else x)\n",
    "df['Industry'] = df['Industry'].apply(lambda x: industry_mapping[x] if x in industry_mapping else x)"
   ]
  },
  {
   "cell_type": "code",
   "execution_count": 297,
   "metadata": {},
   "outputs": [
    {
     "name": "stdout",
     "output_type": "stream",
     "text": [
      "                                       Company Name              Industry  \\\n",
      "3                                       PayMe India    Financial Services   \n",
      "4                                          Eunimart  E-Commerce Platforms   \n",
      "8                                      Freightwalla  Information Services   \n",
      "9                                Microchip Payments       Mobile Payments   \n",
      "12                                            Flock                  Apps   \n",
      "..                                              ...                   ...   \n",
      "496                                            Myra                  Apps   \n",
      "500                         Bon(Bonfleet Solutions)    Financial Services   \n",
      "503  Belstar Investment and Finance Private Limited    Financial Services   \n",
      "511                                         Dream11        Fantasy Sports   \n",
      "515                                         Heelium               Fitness   \n",
      "\n",
      "                 Round/Series         Amount   Location  \\\n",
      "3                       Angel   2,000,000.00      Noida   \n",
      "4                        Seed            NaN  Hyderabad   \n",
      "8                        Seed            NaN     Mumbai   \n",
      "9                        Seed            NaN  Bengaluru   \n",
      "12                       Seed            NaN      India   \n",
      "..                        ...            ...        ...   \n",
      "496  Venture - Series Unknown     127,750.00  Bengaluru   \n",
      "500                      Seed   1,138,800.00       Pune   \n",
      "503  Venture - Series Unknown  28,000,000.00    Chennai   \n",
      "511                  Series D 100,000,000.00     Mumbai   \n",
      "515                      Seed            NaN       Pune   \n",
      "\n",
      "                                         About Company    Indiancurr  \\\n",
      "3    PayMe India is an innovative FinTech organizat...          0.00   \n",
      "4    Eunimart is a one stop solution for merchants ...          0.00   \n",
      "8    Freightwalla is an international forwarder tha...          0.00   \n",
      "9    Microchip payments is a mobile-based payment a...          0.00   \n",
      "12   Flock is a real-time messaging and collaborati...          0.00   \n",
      "..                                                 ...           ...   \n",
      "496  Myra is a unique solution of technology and op...  8,750,000.00   \n",
      "500  Bon, a Pune-based FinTech firm was created to ... 78,000,000.00   \n",
      "503  Belstar Investment and Finance Private Limited...          0.00   \n",
      "511  Dream11 is India’s Biggest Sports Game with 30...          0.00   \n",
      "515  Heelium is an athletic footwear and wearable s...          0.00   \n",
      "\n",
      "          UsCurr  \n",
      "3        2000000  \n",
      "4              0  \n",
      "8              0  \n",
      "9              0  \n",
      "12             0  \n",
      "..           ...  \n",
      "496   127,750.00  \n",
      "500 1,138,800.00  \n",
      "503     28000000  \n",
      "511    100000000  \n",
      "515            0  \n",
      "\n",
      "[108 rows x 8 columns]\n"
     ]
    }
   ],
   "source": [
    "# checking if there are any leading or trailing spaces in the industry names in the 'Industry' column\n",
    "has_spaces = df['Industry'].str.contains('^s|s$', regex=True)\n",
    "\n",
    "rows_with_spaces = df[has_spaces]\n",
    "print(rows_with_spaces)"
   ]
  },
  {
   "cell_type": "code",
   "execution_count": 298,
   "metadata": {},
   "outputs": [],
   "source": [
    "# remove the leading or trailing spaces from the industry names in the 'Industry' column\n",
    "df['Industry'] = df['Industry'].str.strip()"
   ]
  },
  {
   "cell_type": "code",
   "execution_count": 299,
   "metadata": {},
   "outputs": [
    {
     "data": {
      "text/plain": [
       "0"
      ]
     },
     "execution_count": 299,
     "metadata": {},
     "output_type": "execute_result"
    }
   ],
   "source": [
    "df['Industry'].isnull().sum() # confirming the null values in the industry column "
   ]
  },
  {
   "cell_type": "code",
   "execution_count": 300,
   "metadata": {},
   "outputs": [
    {
     "data": {
      "text/html": [
       "<div>\n",
       "<style scoped>\n",
       "    .dataframe tbody tr th:only-of-type {\n",
       "        vertical-align: middle;\n",
       "    }\n",
       "\n",
       "    .dataframe tbody tr th {\n",
       "        vertical-align: top;\n",
       "    }\n",
       "\n",
       "    .dataframe thead th {\n",
       "        text-align: right;\n",
       "    }\n",
       "</style>\n",
       "<table border=\"1\" class=\"dataframe\">\n",
       "  <thead>\n",
       "    <tr style=\"text-align: right;\">\n",
       "      <th></th>\n",
       "      <th>Company Name</th>\n",
       "      <th>Industry</th>\n",
       "      <th>Round/Series</th>\n",
       "      <th>Amount</th>\n",
       "      <th>Location</th>\n",
       "      <th>About Company</th>\n",
       "      <th>Indiancurr</th>\n",
       "      <th>UsCurr</th>\n",
       "    </tr>\n",
       "  </thead>\n",
       "  <tbody>\n",
       "    <tr>\n",
       "      <th>0</th>\n",
       "      <td>TheCollegeFever</td>\n",
       "      <td>Brand Marketing</td>\n",
       "      <td>Seed</td>\n",
       "      <td>250,000.00</td>\n",
       "      <td>Bengaluru</td>\n",
       "      <td>TheCollegeFever is a hub for fun, fiesta and f...</td>\n",
       "      <td>0.00</td>\n",
       "      <td>250000</td>\n",
       "    </tr>\n",
       "    <tr>\n",
       "      <th>1</th>\n",
       "      <td>Happy Cow Dairy</td>\n",
       "      <td>Agriculture</td>\n",
       "      <td>Seed</td>\n",
       "      <td>584,000.00</td>\n",
       "      <td>Mumbai</td>\n",
       "      <td>A startup which aggregates milk from dairy far...</td>\n",
       "      <td>40,000,000.00</td>\n",
       "      <td>584,000.00</td>\n",
       "    </tr>\n",
       "    <tr>\n",
       "      <th>2</th>\n",
       "      <td>MyLoanCare</td>\n",
       "      <td>Credit</td>\n",
       "      <td>Series A</td>\n",
       "      <td>949,000.00</td>\n",
       "      <td>Gurugram</td>\n",
       "      <td>Leading Online Loans Marketplace in India</td>\n",
       "      <td>65,000,000.00</td>\n",
       "      <td>949,000.00</td>\n",
       "    </tr>\n",
       "    <tr>\n",
       "      <th>3</th>\n",
       "      <td>PayMe India</td>\n",
       "      <td>Financial Services</td>\n",
       "      <td>Angel</td>\n",
       "      <td>2,000,000.00</td>\n",
       "      <td>Noida</td>\n",
       "      <td>PayMe India is an innovative FinTech organizat...</td>\n",
       "      <td>0.00</td>\n",
       "      <td>2000000</td>\n",
       "    </tr>\n",
       "    <tr>\n",
       "      <th>4</th>\n",
       "      <td>Eunimart</td>\n",
       "      <td>E-Commerce Platforms</td>\n",
       "      <td>Seed</td>\n",
       "      <td>NaN</td>\n",
       "      <td>Hyderabad</td>\n",
       "      <td>Eunimart is a one stop solution for merchants ...</td>\n",
       "      <td>0.00</td>\n",
       "      <td>0</td>\n",
       "    </tr>\n",
       "  </tbody>\n",
       "</table>\n",
       "</div>"
      ],
      "text/plain": [
       "      Company Name              Industry Round/Series       Amount   Location  \\\n",
       "0  TheCollegeFever       Brand Marketing         Seed   250,000.00  Bengaluru   \n",
       "1  Happy Cow Dairy           Agriculture         Seed   584,000.00     Mumbai   \n",
       "2       MyLoanCare                Credit     Series A   949,000.00   Gurugram   \n",
       "3      PayMe India    Financial Services        Angel 2,000,000.00      Noida   \n",
       "4         Eunimart  E-Commerce Platforms         Seed          NaN  Hyderabad   \n",
       "\n",
       "                                       About Company    Indiancurr     UsCurr  \n",
       "0  TheCollegeFever is a hub for fun, fiesta and f...          0.00     250000  \n",
       "1  A startup which aggregates milk from dairy far... 40,000,000.00 584,000.00  \n",
       "2          Leading Online Loans Marketplace in India 65,000,000.00 949,000.00  \n",
       "3  PayMe India is an innovative FinTech organizat...          0.00    2000000  \n",
       "4  Eunimart is a one stop solution for merchants ...          0.00          0  "
      ]
     },
     "execution_count": 300,
     "metadata": {},
     "output_type": "execute_result"
    }
   ],
   "source": [
    "df.head() # getting the first sample of the data set "
   ]
  },
  {
   "attachments": {},
   "cell_type": "markdown",
   "metadata": {},
   "source": [
    "### Round/Series Column"
   ]
  },
  {
   "cell_type": "code",
   "execution_count": 301,
   "metadata": {},
   "outputs": [
    {
     "data": {
      "text/plain": [
       "array(['Seed', 'Series A', 'Angel', 'Series B', 'Pre-Seed',\n",
       "       'Private Equity', 'Venture - Series Unknown', 'Grant',\n",
       "       'Debt Financing', 'Post-IPO Debt', 'Series H', 'Series C',\n",
       "       'Series E', 'Corporate Round', 'Undisclosed',\n",
       "       'https://docs.google.com/spreadsheets/d/1x9ziNeaz6auNChIHnMI8U6kS7knTr3byy_YBGfQaoUA/edit#gid=1861303593',\n",
       "       'Series D', 'Secondary Market', 'Post-IPO Equity',\n",
       "       'Non-equity Assistance', 'Funding Round'], dtype=object)"
      ]
     },
     "execution_count": 301,
     "metadata": {},
     "output_type": "execute_result"
    }
   ],
   "source": [
    "df['Round/Series'].unique() # getting the unique values "
   ]
  },
  {
   "cell_type": "code",
   "execution_count": 302,
   "metadata": {},
   "outputs": [
    {
     "data": {
      "text/plain": [
       "Seed                                                                                                       279\n",
       "Series A                                                                                                    73\n",
       "Angel                                                                                                       37\n",
       "Venture - Series Unknown                                                                                    37\n",
       "Series B                                                                                                    20\n",
       "Series C                                                                                                    16\n",
       "Debt Financing                                                                                              13\n",
       "Private Equity                                                                                              10\n",
       "Corporate Round                                                                                              8\n",
       "Pre-Seed                                                                                                     6\n",
       "Series E                                                                                                     5\n",
       "Grant                                                                                                        4\n",
       "Series D                                                                                                     3\n",
       "Secondary Market                                                                                             3\n",
       "Post-IPO Equity                                                                                              3\n",
       "Undisclosed                                                                                                  2\n",
       "Post-IPO Debt                                                                                                2\n",
       "Non-equity Assistance                                                                                        1\n",
       "Series H                                                                                                     1\n",
       "https://docs.google.com/spreadsheets/d/1x9ziNeaz6auNChIHnMI8U6kS7knTr3byy_YBGfQaoUA/edit#gid=1861303593      1\n",
       "Funding Round                                                                                                1\n",
       "Name: Round/Series, dtype: int64"
      ]
     },
     "execution_count": 302,
     "metadata": {},
     "output_type": "execute_result"
    }
   ],
   "source": [
    "df['Round/Series'].value_counts() # counting and returning the sum of all the values "
   ]
  },
  {
   "cell_type": "code",
   "execution_count": 303,
   "metadata": {},
   "outputs": [],
   "source": [
    "# below we are replacing some unique values such as undisclosed with nan and remove some inconsistency from the data\n",
    "\n",
    "df['Round/Series']=df['Round/Series'].replace('Undisclosed',np.nan)\n",
    "df['Round/Series']=df['Round/Series'].replace('Venture - Series Unknown',np.nan)\n",
    "df['Round/Series'] = df['Round/Series'].replace('https://docs.google.com/spreadsheets/d/1x9ziNeaz6auNChIHnMI8U6kS7knTr3byy_YBGfQaoUA/edit#gid=1861303593', 'nan')\n",
    "df['Round/Series'] = df['Round/Series'].replace('nan', np.nan)"
   ]
  },
  {
   "cell_type": "code",
   "execution_count": 304,
   "metadata": {},
   "outputs": [
    {
     "data": {
      "text/plain": [
       "array(['Seed', 'Series A', 'Angel', 'Series B', 'Pre-Seed',\n",
       "       'Private Equity', nan, 'Grant', 'Debt Financing', 'Post-IPO Debt',\n",
       "       'Series H', 'Series C', 'Series E', 'Corporate Round', 'Series D',\n",
       "       'Secondary Market', 'Post-IPO Equity', 'Non-equity Assistance',\n",
       "       'Funding Round'], dtype=object)"
      ]
     },
     "execution_count": 304,
     "metadata": {},
     "output_type": "execute_result"
    }
   ],
   "source": [
    "df['Round/Series'].unique() # getting the unique values "
   ]
  },
  {
   "cell_type": "code",
   "execution_count": 305,
   "metadata": {},
   "outputs": [
    {
     "data": {
      "text/plain": [
       "Seed                     279\n",
       "Series A                  73\n",
       "Angel                     37\n",
       "Series B                  20\n",
       "Series C                  16\n",
       "Debt Financing            13\n",
       "Private Equity            10\n",
       "Corporate Round            8\n",
       "Pre-Seed                   6\n",
       "Series E                   5\n",
       "Grant                      4\n",
       "Series D                   3\n",
       "Secondary Market           3\n",
       "Post-IPO Equity            3\n",
       "Post-IPO Debt              2\n",
       "Non-equity Assistance      1\n",
       "Series H                   1\n",
       "Funding Round              1\n",
       "Name: Round/Series, dtype: int64"
      ]
     },
     "execution_count": 305,
     "metadata": {},
     "output_type": "execute_result"
    }
   ],
   "source": [
    "df['Round/Series'].value_counts() # counting and returning the sum of all the values  "
   ]
  },
  {
   "cell_type": "markdown",
   "metadata": {},
   "source": [
    "### Clean Categorical Data "
   ]
  },
  {
   "cell_type": "code",
   "execution_count": 306,
   "metadata": {},
   "outputs": [
    {
     "data": {
      "text/html": [
       "<div>\n",
       "<style scoped>\n",
       "    .dataframe tbody tr th:only-of-type {\n",
       "        vertical-align: middle;\n",
       "    }\n",
       "\n",
       "    .dataframe tbody tr th {\n",
       "        vertical-align: top;\n",
       "    }\n",
       "\n",
       "    .dataframe thead th {\n",
       "        text-align: right;\n",
       "    }\n",
       "</style>\n",
       "<table border=\"1\" class=\"dataframe\">\n",
       "  <thead>\n",
       "    <tr style=\"text-align: right;\">\n",
       "      <th></th>\n",
       "      <th>Company Name</th>\n",
       "      <th>Industry</th>\n",
       "      <th>Round/Series</th>\n",
       "      <th>Amount</th>\n",
       "      <th>Location</th>\n",
       "      <th>About Company</th>\n",
       "      <th>Indiancurr</th>\n",
       "      <th>UsCurr</th>\n",
       "    </tr>\n",
       "  </thead>\n",
       "  <tbody>\n",
       "    <tr>\n",
       "      <th>0</th>\n",
       "      <td>Thecollegefever</td>\n",
       "      <td>Brand Marketing</td>\n",
       "      <td>Seed</td>\n",
       "      <td>250,000.00</td>\n",
       "      <td>Bengaluru</td>\n",
       "      <td>TheCollegeFever is a hub for fun fiesta and fr...</td>\n",
       "      <td>0.00</td>\n",
       "      <td>250000</td>\n",
       "    </tr>\n",
       "    <tr>\n",
       "      <th>1</th>\n",
       "      <td>Happy Cow Dairy</td>\n",
       "      <td>Agriculture</td>\n",
       "      <td>Seed</td>\n",
       "      <td>584,000.00</td>\n",
       "      <td>Mumbai</td>\n",
       "      <td>A startup which aggregates milk from dairy far...</td>\n",
       "      <td>40,000,000.00</td>\n",
       "      <td>584,000.00</td>\n",
       "    </tr>\n",
       "    <tr>\n",
       "      <th>2</th>\n",
       "      <td>Myloancare</td>\n",
       "      <td>Credit</td>\n",
       "      <td>Series A</td>\n",
       "      <td>949,000.00</td>\n",
       "      <td>Gurugram</td>\n",
       "      <td>Leading Online Loans Marketplace in India</td>\n",
       "      <td>65,000,000.00</td>\n",
       "      <td>949,000.00</td>\n",
       "    </tr>\n",
       "    <tr>\n",
       "      <th>3</th>\n",
       "      <td>Payme India</td>\n",
       "      <td>Financial Services</td>\n",
       "      <td>Angel</td>\n",
       "      <td>2,000,000.00</td>\n",
       "      <td>Noida</td>\n",
       "      <td>PayMe India is an innovative FinTech organizat...</td>\n",
       "      <td>0.00</td>\n",
       "      <td>2000000</td>\n",
       "    </tr>\n",
       "    <tr>\n",
       "      <th>4</th>\n",
       "      <td>Eunimart</td>\n",
       "      <td>E-Commerce Platforms</td>\n",
       "      <td>Seed</td>\n",
       "      <td>NaN</td>\n",
       "      <td>Hyderabad</td>\n",
       "      <td>Eunimart is a one stop solution for merchants ...</td>\n",
       "      <td>0.00</td>\n",
       "      <td>0</td>\n",
       "    </tr>\n",
       "  </tbody>\n",
       "</table>\n",
       "</div>"
      ],
      "text/plain": [
       "      Company Name              Industry Round/Series       Amount   Location  \\\n",
       "0  Thecollegefever       Brand Marketing         Seed   250,000.00  Bengaluru   \n",
       "1  Happy Cow Dairy           Agriculture         Seed   584,000.00     Mumbai   \n",
       "2       Myloancare                Credit     Series A   949,000.00   Gurugram   \n",
       "3      Payme India    Financial Services        Angel 2,000,000.00      Noida   \n",
       "4         Eunimart  E-Commerce Platforms         Seed          NaN  Hyderabad   \n",
       "\n",
       "                                       About Company    Indiancurr     UsCurr  \n",
       "0  TheCollegeFever is a hub for fun fiesta and fr...          0.00     250000  \n",
       "1  A startup which aggregates milk from dairy far... 40,000,000.00 584,000.00  \n",
       "2          Leading Online Loans Marketplace in India 65,000,000.00 949,000.00  \n",
       "3  PayMe India is an innovative FinTech organizat...          0.00    2000000  \n",
       "4  Eunimart is a one stop solution for merchants ...          0.00          0  "
      ]
     },
     "execution_count": 306,
     "metadata": {},
     "output_type": "execute_result"
    }
   ],
   "source": [
    "# Clean Company Name column\n",
    "df['Company Name'] = df['Company Name'].str.strip()  # Remove leading and trailing spaces\n",
    "df['Company Name'] = df['Company Name'].str.title()  # Standardize capitalization\n",
    "\n",
    "# Clean About Company column\n",
    "df['About Company'] = df['About Company'].str.strip()  # Remove leading and trailing spaces\n",
    "\n",
    "# Function to handle special characters or encoding issues\n",
    "def clean_text(text):\n",
    "    # Remove special characters using regex\n",
    "    cleaned_text = re.sub(r\"[^a-zA-Z0-9\\s]\", \"\", text)\n",
    "    return cleaned_text\n",
    "\n",
    "# Apply the clean_text function to the About Company column\n",
    "df['About Company'] = df['About Company'].apply(clean_text)\n",
    "\n",
    "# Print the cleaned DataFrame\n",
    "df.head()"
   ]
  },
  {
   "cell_type": "markdown",
   "metadata": {},
   "source": [
    "BELOW WE ARE CHECKING FOR NULL VALUES IN THE ROUND/SERIESE COLUMN "
   ]
  },
  {
   "cell_type": "code",
   "execution_count": 307,
   "metadata": {},
   "outputs": [
    {
     "data": {
      "text/plain": [
       "40"
      ]
     },
     "execution_count": 307,
     "metadata": {},
     "output_type": "execute_result"
    }
   ],
   "source": [
    "df['Round/Series'].isnull().sum() # checking for null values"
   ]
  },
  {
   "cell_type": "markdown",
   "metadata": {},
   "source": [
    "NOW LET'S RE-ORDER THE ROUND/SERIES COLUMN "
   ]
  },
  {
   "cell_type": "code",
   "execution_count": 308,
   "metadata": {},
   "outputs": [],
   "source": [
    "grouped_stages = {\n",
    "    # Group 1: Early Stage\n",
    "    'Pre-seed': 'Early Stage',\n",
    "    'Seed': 'Early Stage',\n",
    "    'Seed A': 'Early Stage',\n",
    "    'Seed Funding': 'Early Stage',\n",
    "    'Seed Investment': 'Early Stage',\n",
    "    'Seed Round': 'Early Stage',\n",
    "    'Seed Round & Series A': 'Early Stage',\n",
    "    'Seed fund': 'Early Stage',\n",
    "    'Seed funding': 'Early Stage',\n",
    "    'Seed round': 'Early Stage',\n",
    "    'Seed+': 'Early Stage',\n",
    "\n",
    "    # Group 2: Mid Stage\n",
    "    'Series A': 'Mid Stage',\n",
    "    'Series A+': 'Mid Stage',\n",
    "    'Series A-1': 'Mid Stage',\n",
    "    'Series A2': 'Mid Stage',\n",
    "    'Series B': 'Mid Stage',\n",
    "    'Series B+': 'Mid Stage',\n",
    "    'Series B2': 'Mid Stage',\n",
    "    'Series B3': 'Mid Stage',\n",
    "    'Series C': 'Mid Stage',\n",
    "    'Seies A': 'Mid Stage',\n",
    "    \n",
    "    # Group 3: Late Stage\n",
    "    'Series D': 'Late Stage',\n",
    "    'Series I': 'Late Stage',\n",
    "    'Series D1': 'Late Stage',\n",
    "    'Series E': 'Late Stage',\n",
    "    'Series E2': 'Late Stage',\n",
    "    'Series F': 'Late Stage',\n",
    "    'Series F1': 'Late Stage',\n",
    "    'Series F2': 'Late Stage',\n",
    "    'Series G': 'Late Stage',\n",
    "    'Series H': 'Late Stage',\n",
    "    \n",
    "    # Group 4: Other Stages\n",
    "    'Angel': 'Other Stages',\n",
    "    'Angel Round': 'Other Stages',\n",
    "    'Bridge': 'Other Stages',\n",
    "    'Bridge Round': 'Other Stages',\n",
    "    'Corporate Round': 'Other Stages',\n",
    "    'Debt': 'Other Stages',\n",
    "    'Debt Financing': 'Other Stages',\n",
    "    'Early seed': 'Other Stages',\n",
    "    'Edge': 'Other Stages',\n",
    "    'Fresh funding': 'Other Stages',\n",
    "    'Funding Round': 'Other Stages',\n",
    "    'Grant': 'Other Stages',\n",
    "    'Mid series': 'Other Stages',\n",
    "    'Non-equity Assistance': 'Other Stages',\n",
    "    'None': 'Other Stages',\n",
    "    'PE': 'Other Stages',\n",
    "    'Post series A': 'Other Stages',\n",
    "    'Post-IPO Debt': 'Other Stages',\n",
    "    'Post-IPO Equity': 'Other Stages',\n",
    "    'Pre Series A': 'Other Stages',\n",
    "    'Pre- series A': 'Other Stages',\n",
    "    'Pre-Seed': 'Other Stages',\n",
    "    'Pre-Series B': 'Other Stages',\n",
    "    'Private Equity': 'Other Stages',\n",
    "    'Secondary Market': 'Other Stages',\n",
    "    'Pre-series A': 'Other Stages',\n",
    "    'None': 'Other Series',\n",
    "    'Pre-series B':'Other Stages',\n",
    "    'Pre-series A1': 'Other Stage',\n",
    "    'Pre-series':'Other Stages',\n",
    "}\n",
    "\n",
    "df['Round/Series'] = df['Round/Series'].replace(grouped_stages)\n"
   ]
  },
  {
   "cell_type": "code",
   "execution_count": 309,
   "metadata": {},
   "outputs": [
    {
     "data": {
      "text/plain": [
       "0       Early Stage\n",
       "1       Early Stage\n",
       "2         Mid Stage\n",
       "3      Other Stages\n",
       "4       Early Stage\n",
       "           ...     \n",
       "521       Mid Stage\n",
       "522       Mid Stage\n",
       "523     Early Stage\n",
       "524     Early Stage\n",
       "525       Mid Stage\n",
       "Name: Round/Series, Length: 525, dtype: object"
      ]
     },
     "execution_count": 309,
     "metadata": {},
     "output_type": "execute_result"
    }
   ],
   "source": [
    "df['Round/Series'] # confirming the Round/Series again "
   ]
  },
  {
   "cell_type": "markdown",
   "metadata": {},
   "source": [
    "NOW LET'S DEAL WITH THE NULL VALUES IN THE ROUND/SERIES "
   ]
  },
  {
   "cell_type": "markdown",
   "metadata": {},
   "source": [
    "NOW LET'S CREATE THE CROSSTAB"
   ]
  },
  {
   "cell_type": "code",
   "execution_count": 310,
   "metadata": {},
   "outputs": [
    {
     "data": {
      "text/html": [
       "<div>\n",
       "<style scoped>\n",
       "    .dataframe tbody tr th:only-of-type {\n",
       "        vertical-align: middle;\n",
       "    }\n",
       "\n",
       "    .dataframe tbody tr th {\n",
       "        vertical-align: top;\n",
       "    }\n",
       "\n",
       "    .dataframe thead th {\n",
       "        text-align: right;\n",
       "    }\n",
       "</style>\n",
       "<table border=\"1\" class=\"dataframe\">\n",
       "  <thead>\n",
       "    <tr style=\"text-align: right;\">\n",
       "      <th>col_0</th>\n",
       "      <th>Round/Series</th>\n",
       "    </tr>\n",
       "    <tr>\n",
       "      <th>Industry</th>\n",
       "      <th></th>\n",
       "    </tr>\n",
       "  </thead>\n",
       "  <tbody>\n",
       "    <tr>\n",
       "      <th></th>\n",
       "      <td>30</td>\n",
       "    </tr>\n",
       "    <tr>\n",
       "      <th>3D Printing</th>\n",
       "      <td>1</td>\n",
       "    </tr>\n",
       "    <tr>\n",
       "      <th>Accounting</th>\n",
       "      <td>3</td>\n",
       "    </tr>\n",
       "    <tr>\n",
       "      <th>Advertising</th>\n",
       "      <td>4</td>\n",
       "    </tr>\n",
       "    <tr>\n",
       "      <th>Aerospace</th>\n",
       "      <td>2</td>\n",
       "    </tr>\n",
       "    <tr>\n",
       "      <th>...</th>\n",
       "      <td>...</td>\n",
       "    </tr>\n",
       "    <tr>\n",
       "      <th>Travel</th>\n",
       "      <td>3</td>\n",
       "    </tr>\n",
       "    <tr>\n",
       "      <th>Veterinary</th>\n",
       "      <td>1</td>\n",
       "    </tr>\n",
       "    <tr>\n",
       "      <th>Wealth Management</th>\n",
       "      <td>1</td>\n",
       "    </tr>\n",
       "    <tr>\n",
       "      <th>Wedding</th>\n",
       "      <td>1</td>\n",
       "    </tr>\n",
       "    <tr>\n",
       "      <th>Wellness</th>\n",
       "      <td>1</td>\n",
       "    </tr>\n",
       "  </tbody>\n",
       "</table>\n",
       "<p>148 rows × 1 columns</p>\n",
       "</div>"
      ],
      "text/plain": [
       "col_0              Round/Series\n",
       "Industry                       \n",
       "                             30\n",
       "3D Printing                   1\n",
       "Accounting                    3\n",
       "Advertising                   4\n",
       "Aerospace                     2\n",
       "...                         ...\n",
       "Travel                        3\n",
       "Veterinary                    1\n",
       "Wealth Management             1\n",
       "Wedding                       1\n",
       "Wellness                      1\n",
       "\n",
       "[148 rows x 1 columns]"
      ]
     },
     "execution_count": 310,
     "metadata": {},
     "output_type": "execute_result"
    }
   ],
   "source": [
    "cross_table_Round_Series_Indu = pd.crosstab(df['Industry'], ['Round/Series']) # here we are creating a contingency table between stage and sector \n",
    "cross_table_Round_Series_Indu"
   ]
  },
  {
   "cell_type": "markdown",
   "metadata": {},
   "source": [
    "now to deal with the missing value in the stage column, we will use the percentage of the first 6 largest most occurring \n",
    "Round/Series column to fill in the missing values"
   ]
  },
  {
   "cell_type": "code",
   "execution_count": 311,
   "metadata": {},
   "outputs": [
    {
     "data": {
      "text/plain": [
       "Industry\n",
       "                    5.71\n",
       "3D Printing         0.19\n",
       "Accounting          0.57\n",
       "Advertising         0.76\n",
       "Aerospace           0.38\n",
       "                    ... \n",
       "Travel              0.57\n",
       "Veterinary          0.19\n",
       "Wealth Management   0.19\n",
       "Wedding             0.19\n",
       "Wellness            0.19\n",
       "Name: Round/Series, Length: 148, dtype: float64"
      ]
     },
     "execution_count": 311,
     "metadata": {},
     "output_type": "execute_result"
    }
   ],
   "source": [
    "# below we are getting the percentages \n",
    "cross_table_Round_Series_Indu_perc = (cross_table_Round_Series_Indu['Round/Series'] / cross_table_Round_Series_Indu['Round/Series'].sum()) * 100\n",
    "cross_table_Round_Series_Indu_perc\n"
   ]
  },
  {
   "cell_type": "markdown",
   "metadata": {},
   "source": [
    "NOW LET'S LOOK AT THE FIRST SIX "
   ]
  },
  {
   "cell_type": "code",
   "execution_count": 312,
   "metadata": {},
   "outputs": [
    {
     "data": {
      "text/plain": [
       "Industry\n",
       "                     5.71\n",
       "Financial Services   4.95\n",
       "Health Care          4.95\n",
       "E-Commerce           4.19\n",
       "Apps                 3.81\n",
       "Automotive           3.43\n",
       "Name: Round/Series, dtype: float64"
      ]
     },
     "execution_count": 312,
     "metadata": {},
     "output_type": "execute_result"
    }
   ],
   "source": [
    "top_six_Round_Series = cross_table_Round_Series_Indu_perc.nlargest(6) # here we are looking at the top six Round/Series \n",
    "top_six_Round_Series"
   ]
  },
  {
   "cell_type": "markdown",
   "metadata": {},
   "source": [
    "NOW LET'S FILL IN THE MISSING VALUES IN THE STAGE COLUMN, USING THE RESPECTIVE VALUES FROM THE TOP SIX \n",
    "STAGES "
   ]
  },
  {
   "cell_type": "code",
   "execution_count": 313,
   "metadata": {},
   "outputs": [],
   "source": [
    "# Filling missing values in \"Round/Series\" column with the top six values\n",
    "\n",
    "# Normalize the probabilities\n",
    "normalize_prob = top_six_Round_Series / top_six_Round_Series.sum()\n",
    "# Filling missing values in \"Round/Series\" column with the top six values\n",
    "df['Round/Series'] = df['Round/Series'].fillna(pd.Series(np.random.choice(top_six_Round_Series.index.tolist(), size=len(df['Round/Series']), p=normalize_prob.values)))\n"
   ]
  },
  {
   "cell_type": "markdown",
   "metadata": {},
   "source": [
    "NOW LET'S CONFRIM THE MISSING VALUES IN THE ROUND/SERIES AGAIN "
   ]
  },
  {
   "cell_type": "code",
   "execution_count": 314,
   "metadata": {},
   "outputs": [
    {
     "data": {
      "text/plain": [
       "0"
      ]
     },
     "execution_count": 314,
     "metadata": {},
     "output_type": "execute_result"
    }
   ],
   "source": [
    "# confirming the null values in the Round/Series column again \n",
    "df['Round/Series'].isnull().sum()"
   ]
  },
  {
   "cell_type": "code",
   "execution_count": 315,
   "metadata": {},
   "outputs": [
    {
     "data": {
      "text/plain": [
       "Index(['Company Name', 'Industry', 'Round/Series', 'Amount', 'Location',\n",
       "       'About Company', 'Indiancurr', 'UsCurr'],\n",
       "      dtype='object')"
      ]
     },
     "execution_count": 315,
     "metadata": {},
     "output_type": "execute_result"
    }
   ],
   "source": [
    "df.columns # looking at the columns in the data set to comfirm "
   ]
  },
  {
   "cell_type": "code",
   "execution_count": 316,
   "metadata": {},
   "outputs": [],
   "source": [
    "df.drop(columns=['Indiancurr','UsCurr'], inplace=True) # dropping some colunmns we need no more "
   ]
  },
  {
   "cell_type": "code",
   "execution_count": 317,
   "metadata": {},
   "outputs": [],
   "source": [
    "df.insert(6,\"Funding Year\", 2018) # inserting a new column 'startup_funding 2018' to keep track of this data set"
   ]
  },
  {
   "cell_type": "code",
   "execution_count": 318,
   "metadata": {},
   "outputs": [],
   "source": [
    "# below are renaming the columns to ensure consistency when combinning the four data sets \n",
    "\n",
    "df.rename(columns = {'Company Name':'Company',\n",
    "                        'Industry':'Sector',\n",
    "                        'Amount':'Amount',\n",
    "                        'About Company':'About',\n",
    "                        'Round/Series' : 'Stage'},\n",
    "             inplace = True)"
   ]
  },
  {
   "cell_type": "code",
   "execution_count": 319,
   "metadata": {},
   "outputs": [
    {
     "data": {
      "text/html": [
       "<div>\n",
       "<style scoped>\n",
       "    .dataframe tbody tr th:only-of-type {\n",
       "        vertical-align: middle;\n",
       "    }\n",
       "\n",
       "    .dataframe tbody tr th {\n",
       "        vertical-align: top;\n",
       "    }\n",
       "\n",
       "    .dataframe thead th {\n",
       "        text-align: right;\n",
       "    }\n",
       "</style>\n",
       "<table border=\"1\" class=\"dataframe\">\n",
       "  <thead>\n",
       "    <tr style=\"text-align: right;\">\n",
       "      <th></th>\n",
       "      <th>Company</th>\n",
       "      <th>Sector</th>\n",
       "      <th>Stage</th>\n",
       "      <th>Amount</th>\n",
       "      <th>Location</th>\n",
       "      <th>About</th>\n",
       "      <th>Funding Year</th>\n",
       "    </tr>\n",
       "  </thead>\n",
       "  <tbody>\n",
       "    <tr>\n",
       "      <th>0</th>\n",
       "      <td>Thecollegefever</td>\n",
       "      <td>Brand Marketing</td>\n",
       "      <td>Early Stage</td>\n",
       "      <td>250,000.00</td>\n",
       "      <td>Bengaluru</td>\n",
       "      <td>TheCollegeFever is a hub for fun fiesta and fr...</td>\n",
       "      <td>2018</td>\n",
       "    </tr>\n",
       "    <tr>\n",
       "      <th>1</th>\n",
       "      <td>Happy Cow Dairy</td>\n",
       "      <td>Agriculture</td>\n",
       "      <td>Early Stage</td>\n",
       "      <td>584,000.00</td>\n",
       "      <td>Mumbai</td>\n",
       "      <td>A startup which aggregates milk from dairy far...</td>\n",
       "      <td>2018</td>\n",
       "    </tr>\n",
       "    <tr>\n",
       "      <th>2</th>\n",
       "      <td>Myloancare</td>\n",
       "      <td>Credit</td>\n",
       "      <td>Mid Stage</td>\n",
       "      <td>949,000.00</td>\n",
       "      <td>Gurugram</td>\n",
       "      <td>Leading Online Loans Marketplace in India</td>\n",
       "      <td>2018</td>\n",
       "    </tr>\n",
       "    <tr>\n",
       "      <th>3</th>\n",
       "      <td>Payme India</td>\n",
       "      <td>Financial Services</td>\n",
       "      <td>Other Stages</td>\n",
       "      <td>2,000,000.00</td>\n",
       "      <td>Noida</td>\n",
       "      <td>PayMe India is an innovative FinTech organizat...</td>\n",
       "      <td>2018</td>\n",
       "    </tr>\n",
       "    <tr>\n",
       "      <th>4</th>\n",
       "      <td>Eunimart</td>\n",
       "      <td>E-Commerce Platforms</td>\n",
       "      <td>Early Stage</td>\n",
       "      <td>NaN</td>\n",
       "      <td>Hyderabad</td>\n",
       "      <td>Eunimart is a one stop solution for merchants ...</td>\n",
       "      <td>2018</td>\n",
       "    </tr>\n",
       "  </tbody>\n",
       "</table>\n",
       "</div>"
      ],
      "text/plain": [
       "           Company                Sector         Stage       Amount  \\\n",
       "0  Thecollegefever       Brand Marketing   Early Stage   250,000.00   \n",
       "1  Happy Cow Dairy           Agriculture   Early Stage   584,000.00   \n",
       "2       Myloancare                Credit     Mid Stage   949,000.00   \n",
       "3      Payme India    Financial Services  Other Stages 2,000,000.00   \n",
       "4         Eunimart  E-Commerce Platforms   Early Stage          NaN   \n",
       "\n",
       "    Location                                              About  Funding Year  \n",
       "0  Bengaluru  TheCollegeFever is a hub for fun fiesta and fr...          2018  \n",
       "1     Mumbai  A startup which aggregates milk from dairy far...          2018  \n",
       "2   Gurugram          Leading Online Loans Marketplace in India          2018  \n",
       "3      Noida  PayMe India is an innovative FinTech organizat...          2018  \n",
       "4  Hyderabad  Eunimart is a one stop solution for merchants ...          2018  "
      ]
     },
     "execution_count": 319,
     "metadata": {},
     "output_type": "execute_result"
    }
   ],
   "source": [
    "df.head() # finally comfirming the head of the data to be sure of all changes before saving the data"
   ]
  },
  {
   "cell_type": "markdown",
   "metadata": {},
   "source": [
    "NOW LET'S DO FINAL CLEANING TO BE SURE # 2018 DATA SETS \n",
    "WE WILL START BY CHECKING FOR NULL VALUES "
   ]
  },
  {
   "cell_type": "code",
   "execution_count": 320,
   "metadata": {},
   "outputs": [
    {
     "data": {
      "text/plain": [
       "Company           0\n",
       "Sector            0\n",
       "Stage             0\n",
       "Amount          148\n",
       "Location          0\n",
       "About             0\n",
       "Funding Year      0\n",
       "dtype: int64"
      ]
     },
     "execution_count": 320,
     "metadata": {},
     "output_type": "execute_result"
    }
   ],
   "source": [
    "# here we want to check for null values in the entire data set\n",
    "df.isnull().sum()\n"
   ]
  },
  {
   "cell_type": "markdown",
   "metadata": {},
   "source": [
    "NOW LET'S DEAL WITH THE AMOUNT COLUMN\n"
   ]
  },
  {
   "cell_type": "code",
   "execution_count": 321,
   "metadata": {},
   "outputs": [
    {
     "data": {
      "text/plain": [
       "39.257294429708224"
      ]
     },
     "execution_count": 321,
     "metadata": {},
     "output_type": "execute_result"
    }
   ],
   "source": [
    "# first let's check for the percentage of missing values in the Amount column\n",
    "Amount_missing = df['Amount'].isna().sum()\n",
    "Amount_total = df['Amount'].count()\n",
    "percent_Amount_missing = (Amount_missing / Amount_total) * 100\n",
    "percent_Amount_missing"
   ]
  },
  {
   "cell_type": "markdown",
   "metadata": {},
   "source": [
    "TO TAKE OF THE NULL OR MISSING VALUES. WE WILL FIRST NEED TO UNDERSTAND THE PATTERN OF THE MISSING DATA \n"
   ]
  },
  {
   "cell_type": "markdown",
   "metadata": {},
   "source": [
    "first let's identify if there is any relationship between the missing values and the diffferent sectors \n",
    "this insight into the missing value will guide us on how to properly impute for the missing values \n",
    "\n",
    "We will start by creating a contingency table to show the distribution of missing values across the different\n",
    "Sectors \n",
    "\n",
    "NOTE: this table and test is to help us prove or reject a hypothesis, by conducting a chi-square test \n",
    "Using the chi2_contingency function from the scipy.stats module to perform the chi-square test, this function calculates the chi-square statistic, p-value, degrees of freedom, and expected frequencies\n",
    "\n",
    "but we will only look at the p-value with a specific chosen significant value \n",
    "\n",
    "Finally, we will interprete the result of the p-value, if the p-value is below a chosen significance level (e.g., 0.05), we can reject the null hypothesis and conclude that there is a significant association between the missing values in the \"Amount\" column and the \"Sector\" column.\n",
    "\n",
    "BELOW IS THE HYPOTHESIS AND THE ALTERNATIVE HYPOTHESIS\n",
    "\n",
    "Null hypothesis (H0): There is no association between the missing values in the \"Amount\" column and the \"Sector\" column.\n",
    "\n",
    "Alternative hypothesis (H1): There is a significant association between the missing values in the \"Amount\" column and the \"Sector\" column\n"
   ]
  },
  {
   "cell_type": "markdown",
   "metadata": {},
   "source": [
    "Creating a contingency table:\n",
    "\n",
    " we will use the pd.crosstab() function to create a contingency table that will shows the distribution of missing values across the different sectors. This table will help us visualize the association between the two variables."
   ]
  },
  {
   "cell_type": "code",
   "execution_count": 322,
   "metadata": {},
   "outputs": [
    {
     "data": {
      "text/html": [
       "<div>\n",
       "<style scoped>\n",
       "    .dataframe tbody tr th:only-of-type {\n",
       "        vertical-align: middle;\n",
       "    }\n",
       "\n",
       "    .dataframe tbody tr th {\n",
       "        vertical-align: top;\n",
       "    }\n",
       "\n",
       "    .dataframe thead th {\n",
       "        text-align: right;\n",
       "    }\n",
       "</style>\n",
       "<table border=\"1\" class=\"dataframe\">\n",
       "  <thead>\n",
       "    <tr style=\"text-align: right;\">\n",
       "      <th>Amount</th>\n",
       "      <th>False</th>\n",
       "      <th>True</th>\n",
       "    </tr>\n",
       "    <tr>\n",
       "      <th>Sector</th>\n",
       "      <th></th>\n",
       "      <th></th>\n",
       "    </tr>\n",
       "  </thead>\n",
       "  <tbody>\n",
       "    <tr>\n",
       "      <th></th>\n",
       "      <td>20</td>\n",
       "      <td>10</td>\n",
       "    </tr>\n",
       "    <tr>\n",
       "      <th>3D Printing</th>\n",
       "      <td>0</td>\n",
       "      <td>1</td>\n",
       "    </tr>\n",
       "    <tr>\n",
       "      <th>Accounting</th>\n",
       "      <td>2</td>\n",
       "      <td>1</td>\n",
       "    </tr>\n",
       "    <tr>\n",
       "      <th>Advertising</th>\n",
       "      <td>2</td>\n",
       "      <td>2</td>\n",
       "    </tr>\n",
       "    <tr>\n",
       "      <th>Aerospace</th>\n",
       "      <td>1</td>\n",
       "      <td>1</td>\n",
       "    </tr>\n",
       "    <tr>\n",
       "      <th>...</th>\n",
       "      <td>...</td>\n",
       "      <td>...</td>\n",
       "    </tr>\n",
       "    <tr>\n",
       "      <th>Travel</th>\n",
       "      <td>2</td>\n",
       "      <td>1</td>\n",
       "    </tr>\n",
       "    <tr>\n",
       "      <th>Veterinary</th>\n",
       "      <td>1</td>\n",
       "      <td>0</td>\n",
       "    </tr>\n",
       "    <tr>\n",
       "      <th>Wealth Management</th>\n",
       "      <td>1</td>\n",
       "      <td>0</td>\n",
       "    </tr>\n",
       "    <tr>\n",
       "      <th>Wedding</th>\n",
       "      <td>0</td>\n",
       "      <td>1</td>\n",
       "    </tr>\n",
       "    <tr>\n",
       "      <th>Wellness</th>\n",
       "      <td>1</td>\n",
       "      <td>0</td>\n",
       "    </tr>\n",
       "  </tbody>\n",
       "</table>\n",
       "<p>148 rows × 2 columns</p>\n",
       "</div>"
      ],
      "text/plain": [
       "Amount             False  True\n",
       "Sector                        \n",
       "                      20    10\n",
       "3D Printing            0     1\n",
       "Accounting             2     1\n",
       "Advertising            2     2\n",
       "Aerospace              1     1\n",
       "...                  ...   ...\n",
       "Travel                 2     1\n",
       "Veterinary             1     0\n",
       "Wealth Management      1     0\n",
       "Wedding                0     1\n",
       "Wellness               1     0\n",
       "\n",
       "[148 rows x 2 columns]"
      ]
     },
     "execution_count": 322,
     "metadata": {},
     "output_type": "execute_result"
    }
   ],
   "source": [
    "# creating the contingency table\n",
    "\n",
    "conting_table = pd.crosstab(df['Sector'], df['Amount'].isnull())\n",
    "conting_table"
   ]
  },
  {
   "cell_type": "markdown",
   "metadata": {},
   "source": [
    " now let's Perform the chi-square test: \n",
    "\n",
    " Using the chi2_contingency() function from the scipy.stats module we will perform the chi-square test. This function calculates the chi-square statistic, p-value, degrees of freedom, and expected frequencies."
   ]
  },
  {
   "cell_type": "code",
   "execution_count": 323,
   "metadata": {},
   "outputs": [
    {
     "data": {
      "text/plain": [
       "0.34916791124706825"
      ]
     },
     "execution_count": 323,
     "metadata": {},
     "output_type": "execute_result"
    }
   ],
   "source": [
    "# below we are performing the chi-square test\n",
    "chi2, p_value, _,_ = chi2_contingency(conting_table)\n",
    "p_value"
   ]
  },
  {
   "cell_type": "markdown",
   "metadata": {},
   "source": [
    "Interpreting the results:\n",
    "\n",
    "Checking the p-value obtained from the chi-square test.\n",
    "\n",
    "If the p-value is below our chosen significance level (in this case 0.05), we can reject the null hypothesis and conclude that there is a significant association between the missing values in the \"Amount\" column and the \"Sector\" column. If the p-value is above the significance level, we fail to reject the null hypothesis."
   ]
  },
  {
   "cell_type": "code",
   "execution_count": 324,
   "metadata": {},
   "outputs": [
    {
     "name": "stdout",
     "output_type": "stream",
     "text": [
      "There is no significant association between the missing values in the 'Amount' column and the 'Sector' column.\n"
     ]
    }
   ],
   "source": [
    "# we are interpretting the chi-sqaure test \n",
    "significance_level = 0.05\n",
    "\n",
    "if p_value < significance_level:\n",
    "    print(\"There is a significant association between the missing values in the 'Amount' column and the 'Sector' column.\")\n",
    "else:\n",
    "    print(\"There is no significant association between the missing values in the 'Amount' column and the 'Sector' column.\")\n"
   ]
  },
  {
   "cell_type": "markdown",
   "metadata": {},
   "source": [
    "From the above output we can drop this approach to fill in the missing values \n",
    "\n",
    "THE NEXT APPROACH IS TO USE THE: \n",
    "\n",
    "\n",
    "Missing Data Patterns: \n",
    "\n",
    "We will analyze the patterns of missing values in the 'Amount' column and other relevant columns, in our case the 'Amount', 'Sector', 'Stage', 'Location' If the missing values are missing completely at random (MCAR) or missing at random (MAR), it may indicate that imputation methods like median imputation could be suitable.\n"
   ]
  },
  {
   "cell_type": "markdown",
   "metadata": {},
   "source": [
    "BELOW WE WILL USE HEAT MAP AND CORRELATION PLOT TO TRY AND DETERMINE SOME PATTERNS "
   ]
  },
  {
   "cell_type": "markdown",
   "metadata": {},
   "source": [
    "1. MISSING DATA HEAT MAP"
   ]
  },
  {
   "cell_type": "code",
   "execution_count": 325,
   "metadata": {},
   "outputs": [
    {
     "data": {
      "text/html": [
       "<div>\n",
       "<style scoped>\n",
       "    .dataframe tbody tr th:only-of-type {\n",
       "        vertical-align: middle;\n",
       "    }\n",
       "\n",
       "    .dataframe tbody tr th {\n",
       "        vertical-align: top;\n",
       "    }\n",
       "\n",
       "    .dataframe thead th {\n",
       "        text-align: right;\n",
       "    }\n",
       "</style>\n",
       "<table border=\"1\" class=\"dataframe\">\n",
       "  <thead>\n",
       "    <tr style=\"text-align: right;\">\n",
       "      <th></th>\n",
       "      <th>Company</th>\n",
       "      <th>Sector</th>\n",
       "      <th>Stage</th>\n",
       "      <th>Amount</th>\n",
       "      <th>Location</th>\n",
       "      <th>About</th>\n",
       "      <th>Funding Year</th>\n",
       "    </tr>\n",
       "  </thead>\n",
       "  <tbody>\n",
       "  </tbody>\n",
       "</table>\n",
       "</div>"
      ],
      "text/plain": [
       "Empty DataFrame\n",
       "Columns: [Company, Sector, Stage, Amount, Location, About, Funding Year]\n",
       "Index: []"
      ]
     },
     "execution_count": 325,
     "metadata": {},
     "output_type": "execute_result"
    }
   ],
   "source": [
    "\n",
    "df[df['Amount'] == 'Brand Marketing']\n"
   ]
  },
  {
   "cell_type": "code",
   "execution_count": 326,
   "metadata": {},
   "outputs": [
    {
     "data": {
      "text/html": [
       "<div>\n",
       "<style scoped>\n",
       "    .dataframe tbody tr th:only-of-type {\n",
       "        vertical-align: middle;\n",
       "    }\n",
       "\n",
       "    .dataframe tbody tr th {\n",
       "        vertical-align: top;\n",
       "    }\n",
       "\n",
       "    .dataframe thead th {\n",
       "        text-align: right;\n",
       "    }\n",
       "</style>\n",
       "<table border=\"1\" class=\"dataframe\">\n",
       "  <thead>\n",
       "    <tr style=\"text-align: right;\">\n",
       "      <th></th>\n",
       "      <th>Company</th>\n",
       "      <th>Sector</th>\n",
       "      <th>Stage</th>\n",
       "      <th>Amount</th>\n",
       "      <th>Location</th>\n",
       "      <th>About</th>\n",
       "      <th>Funding Year</th>\n",
       "    </tr>\n",
       "  </thead>\n",
       "  <tbody>\n",
       "  </tbody>\n",
       "</table>\n",
       "</div>"
      ],
      "text/plain": [
       "Empty DataFrame\n",
       "Columns: [Company, Sector, Stage, Amount, Location, About, Funding Year]\n",
       "Index: []"
      ]
     },
     "execution_count": 326,
     "metadata": {},
     "output_type": "execute_result"
    }
   ],
   "source": [
    "df[df['Location'] == 'Brand Marketing']"
   ]
  },
  {
   "cell_type": "code",
   "execution_count": 327,
   "metadata": {},
   "outputs": [
    {
     "data": {
      "text/html": [
       "<div>\n",
       "<style scoped>\n",
       "    .dataframe tbody tr th:only-of-type {\n",
       "        vertical-align: middle;\n",
       "    }\n",
       "\n",
       "    .dataframe tbody tr th {\n",
       "        vertical-align: top;\n",
       "    }\n",
       "\n",
       "    .dataframe thead th {\n",
       "        text-align: right;\n",
       "    }\n",
       "</style>\n",
       "<table border=\"1\" class=\"dataframe\">\n",
       "  <thead>\n",
       "    <tr style=\"text-align: right;\">\n",
       "      <th></th>\n",
       "      <th>Company</th>\n",
       "      <th>Sector</th>\n",
       "      <th>Stage</th>\n",
       "      <th>Amount</th>\n",
       "      <th>Location</th>\n",
       "      <th>About</th>\n",
       "      <th>Funding Year</th>\n",
       "    </tr>\n",
       "  </thead>\n",
       "  <tbody>\n",
       "    <tr>\n",
       "      <th>0</th>\n",
       "      <td>Thecollegefever</td>\n",
       "      <td>Brand Marketing</td>\n",
       "      <td>Early Stage</td>\n",
       "      <td>250,000.00</td>\n",
       "      <td>Bengaluru</td>\n",
       "      <td>TheCollegeFever is a hub for fun fiesta and fr...</td>\n",
       "      <td>2018</td>\n",
       "    </tr>\n",
       "  </tbody>\n",
       "</table>\n",
       "</div>"
      ],
      "text/plain": [
       "           Company           Sector        Stage     Amount   Location  \\\n",
       "0  Thecollegefever  Brand Marketing  Early Stage 250,000.00  Bengaluru   \n",
       "\n",
       "                                               About  Funding Year  \n",
       "0  TheCollegeFever is a hub for fun fiesta and fr...          2018  "
      ]
     },
     "execution_count": 327,
     "metadata": {},
     "output_type": "execute_result"
    }
   ],
   "source": [
    "df[df['Sector'] == 'Brand Marketing']"
   ]
  },
  {
   "cell_type": "code",
   "execution_count": 328,
   "metadata": {},
   "outputs": [
    {
     "data": {
      "image/png": "[encoded data removed]",
      "text/plain": [
       "<Figure size 432x288 with 1 Axes>"
      ]
     },
     "metadata": {
      "needs_background": "light"
     },
     "output_type": "display_data"
    }
   ],
   "source": [
    "# creating a subset of the relevant columns\n",
    "rele_col = ['Amount', 'Sector', 'Stage', 'Location']\n",
    "\n",
    "# creating a dataframe with missing value indicator \n",
    "missing_indicator_df = df[rele_col].isnull()\n",
    "\n",
    "# below we are creating a missing data heat map\n",
    "sns.heatmap(missing_indicator_df, cmap='viridis', cbar=False)\n",
    "plt.title('Missing Data Map')\n",
    "plt.show()"
   ]
  },
  {
   "cell_type": "markdown",
   "metadata": {},
   "source": [
    "The information from the above supports the assumption that the missing values in the 'Amount' column are missing completely at random (MCAR) or missing at random (MAR). This means that the missingness is unrelated to the 'Sector', 'Location', or 'Stage' variables.\n",
    "\n",
    "Based on this pattern of missingness, median imputation could be a reasonable option to impute the missing values in the 'Amount' column."
   ]
  },
  {
   "cell_type": "markdown",
   "metadata": {},
   "source": [
    "2. CORRELATION PLOT"
   ]
  },
  {
   "cell_type": "code",
   "execution_count": 329,
   "metadata": {},
   "outputs": [
    {
     "data": {
      "image/png": "[encoded data removed]",
      "text/plain": [
       "<Figure size 432x288 with 2 Axes>"
      ]
     },
     "metadata": {
      "needs_background": "light"
     },
     "output_type": "display_data"
    }
   ],
   "source": [
    "# below we are creating a correlation matrix plot\n",
    "\n",
    "correl_matrix = df[rele_col].corr()\n",
    "sns.heatmap(correl_matrix, annot=True, cmap='coolwarm')\n",
    "plt.title('Correlation Plot')\n",
    "plt.show()"
   ]
  },
  {
   "cell_type": "markdown",
   "metadata": {},
   "source": [
    "NOW LET'S IMPUTE THE MISSING VALUES USING THE MEDIAN IMPUTATION "
   ]
  },
  {
   "cell_type": "code",
   "execution_count": 330,
   "metadata": {},
   "outputs": [],
   "source": [
    "# we are creating the median of the not missing values \n",
    "median_non_null_Amount = df['Amount'].dropna()\n",
    "\n",
    "median_Amount = median_non_null_Amount.median() \n",
    "\n",
    "# below we are filling in the missing values with the median \n",
    "df['Amount'].fillna(median_Amount, inplace=True)"
   ]
  },
  {
   "cell_type": "markdown",
   "metadata": {},
   "source": [
    "NOW LET'S CONFRIM THE AMOUNT FOR MISSING VALUES AGAIN "
   ]
  },
  {
   "cell_type": "code",
   "execution_count": 331,
   "metadata": {},
   "outputs": [
    {
     "data": {
      "text/plain": [
       "0"
      ]
     },
     "execution_count": 331,
     "metadata": {},
     "output_type": "execute_result"
    }
   ],
   "source": [
    "df['Amount'].isnull().sum() # checking for null values "
   ]
  },
  {
   "cell_type": "code",
   "execution_count": 332,
   "metadata": {},
   "outputs": [],
   "source": [
    "df.to_csv('df18.csv', index=False) # here we are saveing the clean data and naming it df18.csv"
   ]
  },
  {
   "attachments": {},
   "cell_type": "markdown",
   "metadata": {},
   "source": [
    "BELOW WE ARE WORKING ON THE NEXT DATA SET CALLED 2019 DATA SET\n",
    "\n",
    "#### 2019 Data"
   ]
  },
  {
   "cell_type": "code",
   "execution_count": 333,
   "metadata": {},
   "outputs": [
    {
     "data": {
      "text/html": [
       "<div>\n",
       "<style scoped>\n",
       "    .dataframe tbody tr th:only-of-type {\n",
       "        vertical-align: middle;\n",
       "    }\n",
       "\n",
       "    .dataframe tbody tr th {\n",
       "        vertical-align: top;\n",
       "    }\n",
       "\n",
       "    .dataframe thead th {\n",
       "        text-align: right;\n",
       "    }\n",
       "</style>\n",
       "<table border=\"1\" class=\"dataframe\">\n",
       "  <thead>\n",
       "    <tr style=\"text-align: right;\">\n",
       "      <th></th>\n",
       "      <th>Company/Brand</th>\n",
       "      <th>Founded</th>\n",
       "      <th>HeadQuarter</th>\n",
       "      <th>Sector</th>\n",
       "      <th>What it does</th>\n",
       "      <th>Founders</th>\n",
       "      <th>Investor</th>\n",
       "      <th>Amount($)</th>\n",
       "      <th>Stage</th>\n",
       "    </tr>\n",
       "  </thead>\n",
       "  <tbody>\n",
       "    <tr>\n",
       "      <th>0</th>\n",
       "      <td>Bombay Shaving</td>\n",
       "      <td>NaN</td>\n",
       "      <td>NaN</td>\n",
       "      <td>Ecommerce</td>\n",
       "      <td>Provides a range of male grooming products</td>\n",
       "      <td>Shantanu Deshpande</td>\n",
       "      <td>Sixth Sense Ventures</td>\n",
       "      <td>$6,300,000</td>\n",
       "      <td>NaN</td>\n",
       "    </tr>\n",
       "    <tr>\n",
       "      <th>1</th>\n",
       "      <td>Ruangguru</td>\n",
       "      <td>2,014.00</td>\n",
       "      <td>Mumbai</td>\n",
       "      <td>Edtech</td>\n",
       "      <td>A learning platform that provides topic-based ...</td>\n",
       "      <td>Adamas Belva Syah Devara, Iman Usman.</td>\n",
       "      <td>General Atlantic</td>\n",
       "      <td>$150,000,000</td>\n",
       "      <td>Series C</td>\n",
       "    </tr>\n",
       "    <tr>\n",
       "      <th>2</th>\n",
       "      <td>Eduisfun</td>\n",
       "      <td>NaN</td>\n",
       "      <td>Mumbai</td>\n",
       "      <td>Edtech</td>\n",
       "      <td>It aims to make learning fun via games.</td>\n",
       "      <td>Jatin Solanki</td>\n",
       "      <td>Deepak Parekh, Amitabh Bachchan, Piyush Pandey</td>\n",
       "      <td>$28,000,000</td>\n",
       "      <td>Fresh funding</td>\n",
       "    </tr>\n",
       "    <tr>\n",
       "      <th>3</th>\n",
       "      <td>HomeLane</td>\n",
       "      <td>2,014.00</td>\n",
       "      <td>Chennai</td>\n",
       "      <td>Interior design</td>\n",
       "      <td>Provides interior designing solutions</td>\n",
       "      <td>Srikanth Iyer, Rama Harinath</td>\n",
       "      <td>Evolvence India Fund (EIF), Pidilite Group, FJ...</td>\n",
       "      <td>$30,000,000</td>\n",
       "      <td>Series D</td>\n",
       "    </tr>\n",
       "    <tr>\n",
       "      <th>4</th>\n",
       "      <td>Nu Genes</td>\n",
       "      <td>2,004.00</td>\n",
       "      <td>Telangana</td>\n",
       "      <td>AgriTech</td>\n",
       "      <td>It is a seed company engaged in production, pr...</td>\n",
       "      <td>Narayana Reddy Punyala</td>\n",
       "      <td>Innovation in Food and Agriculture (IFA)</td>\n",
       "      <td>$6,000,000</td>\n",
       "      <td>NaN</td>\n",
       "    </tr>\n",
       "  </tbody>\n",
       "</table>\n",
       "</div>"
      ],
      "text/plain": [
       "    Company/Brand  Founded HeadQuarter           Sector  \\\n",
       "0  Bombay Shaving      NaN         NaN        Ecommerce   \n",
       "1       Ruangguru 2,014.00      Mumbai           Edtech   \n",
       "2        Eduisfun      NaN      Mumbai           Edtech   \n",
       "3        HomeLane 2,014.00     Chennai  Interior design   \n",
       "4        Nu Genes 2,004.00   Telangana         AgriTech   \n",
       "\n",
       "                                        What it does  \\\n",
       "0         Provides a range of male grooming products   \n",
       "1  A learning platform that provides topic-based ...   \n",
       "2            It aims to make learning fun via games.   \n",
       "3              Provides interior designing solutions   \n",
       "4  It is a seed company engaged in production, pr...   \n",
       "\n",
       "                                Founders  \\\n",
       "0                     Shantanu Deshpande   \n",
       "1  Adamas Belva Syah Devara, Iman Usman.   \n",
       "2                          Jatin Solanki   \n",
       "3           Srikanth Iyer, Rama Harinath   \n",
       "4                 Narayana Reddy Punyala   \n",
       "\n",
       "                                            Investor     Amount($)  \\\n",
       "0                               Sixth Sense Ventures    $6,300,000   \n",
       "1                                   General Atlantic  $150,000,000   \n",
       "2     Deepak Parekh, Amitabh Bachchan, Piyush Pandey   $28,000,000   \n",
       "3  Evolvence India Fund (EIF), Pidilite Group, FJ...   $30,000,000   \n",
       "4           Innovation in Food and Agriculture (IFA)    $6,000,000   \n",
       "\n",
       "           Stage  \n",
       "0            NaN  \n",
       "1       Series C  \n",
       "2  Fresh funding  \n",
       "3       Series D  \n",
       "4            NaN  "
      ]
     },
     "execution_count": 333,
     "metadata": {},
     "output_type": "execute_result"
    }
   ],
   "source": [
    "df2.head() # first let's look at the head of the data set "
   ]
  },
  {
   "cell_type": "code",
   "execution_count": 334,
   "metadata": {},
   "outputs": [
    {
     "data": {
      "text/plain": [
       "(89, 9)"
      ]
     },
     "execution_count": 334,
     "metadata": {},
     "output_type": "execute_result"
    }
   ],
   "source": [
    "df2.shape # now let's look at the shape of the data to get some idea about the columns and rows "
   ]
  },
  {
   "cell_type": "code",
   "execution_count": 335,
   "metadata": {},
   "outputs": [
    {
     "data": {
      "text/plain": [
       "Index(['Company/Brand', 'Founded', 'HeadQuarter', 'Sector', 'What it does',\n",
       "       'Founders', 'Investor', 'Amount($)', 'Stage'],\n",
       "      dtype='object')"
      ]
     },
     "execution_count": 335,
     "metadata": {},
     "output_type": "execute_result"
    }
   ],
   "source": [
    "df2.columns # now let's look at the columns in the 2019 data sets "
   ]
  },
  {
   "cell_type": "code",
   "execution_count": 336,
   "metadata": {},
   "outputs": [
    {
     "name": "stdout",
     "output_type": "stream",
     "text": [
      "<class 'pandas.core.frame.DataFrame'>\n",
      "RangeIndex: 89 entries, 0 to 88\n",
      "Data columns (total 9 columns):\n",
      " #   Column         Non-Null Count  Dtype  \n",
      "---  ------         --------------  -----  \n",
      " 0   Company/Brand  89 non-null     object \n",
      " 1   Founded        60 non-null     float64\n",
      " 2   HeadQuarter    70 non-null     object \n",
      " 3   Sector         84 non-null     object \n",
      " 4   What it does   89 non-null     object \n",
      " 5   Founders       86 non-null     object \n",
      " 6   Investor       89 non-null     object \n",
      " 7   Amount($)      89 non-null     object \n",
      " 8   Stage          43 non-null     object \n",
      "dtypes: float64(1), object(8)\n",
      "memory usage: 6.4+ KB\n"
     ]
    }
   ],
   "source": [
    "df2.info() # Getting inforamation about the data2 dataframe"
   ]
  },
  {
   "cell_type": "code",
   "execution_count": 337,
   "metadata": {},
   "outputs": [
    {
     "data": {
      "text/html": [
       "<div>\n",
       "<style scoped>\n",
       "    .dataframe tbody tr th:only-of-type {\n",
       "        vertical-align: middle;\n",
       "    }\n",
       "\n",
       "    .dataframe tbody tr th {\n",
       "        vertical-align: top;\n",
       "    }\n",
       "\n",
       "    .dataframe thead th {\n",
       "        text-align: right;\n",
       "    }\n",
       "</style>\n",
       "<table border=\"1\" class=\"dataframe\">\n",
       "  <thead>\n",
       "    <tr style=\"text-align: right;\">\n",
       "      <th></th>\n",
       "      <th>Company/Brand</th>\n",
       "      <th>HeadQuarter</th>\n",
       "      <th>Sector</th>\n",
       "      <th>What it does</th>\n",
       "      <th>Founders</th>\n",
       "      <th>Investor</th>\n",
       "      <th>Amount($)</th>\n",
       "      <th>Stage</th>\n",
       "    </tr>\n",
       "  </thead>\n",
       "  <tbody>\n",
       "    <tr>\n",
       "      <th>count</th>\n",
       "      <td>89</td>\n",
       "      <td>70</td>\n",
       "      <td>84</td>\n",
       "      <td>89</td>\n",
       "      <td>86</td>\n",
       "      <td>89</td>\n",
       "      <td>89</td>\n",
       "      <td>43</td>\n",
       "    </tr>\n",
       "    <tr>\n",
       "      <th>unique</th>\n",
       "      <td>87</td>\n",
       "      <td>17</td>\n",
       "      <td>52</td>\n",
       "      <td>88</td>\n",
       "      <td>85</td>\n",
       "      <td>86</td>\n",
       "      <td>50</td>\n",
       "      <td>15</td>\n",
       "    </tr>\n",
       "    <tr>\n",
       "      <th>top</th>\n",
       "      <td>Kratikal</td>\n",
       "      <td>Bangalore</td>\n",
       "      <td>Edtech</td>\n",
       "      <td>Online meat shop</td>\n",
       "      <td>Vivek Gupta, Abhay Hanjura</td>\n",
       "      <td>Undisclosed</td>\n",
       "      <td>Undisclosed</td>\n",
       "      <td>Series A</td>\n",
       "    </tr>\n",
       "    <tr>\n",
       "      <th>freq</th>\n",
       "      <td>2</td>\n",
       "      <td>21</td>\n",
       "      <td>7</td>\n",
       "      <td>2</td>\n",
       "      <td>2</td>\n",
       "      <td>3</td>\n",
       "      <td>12</td>\n",
       "      <td>10</td>\n",
       "    </tr>\n",
       "  </tbody>\n",
       "</table>\n",
       "</div>"
      ],
      "text/plain": [
       "       Company/Brand HeadQuarter  Sector      What it does  \\\n",
       "count             89          70      84                89   \n",
       "unique            87          17      52                88   \n",
       "top         Kratikal   Bangalore  Edtech  Online meat shop   \n",
       "freq               2          21       7                 2   \n",
       "\n",
       "                          Founders     Investor    Amount($)     Stage  \n",
       "count                           86           89           89        43  \n",
       "unique                          85           86           50        15  \n",
       "top     Vivek Gupta, Abhay Hanjura  Undisclosed  Undisclosed  Series A  \n",
       "freq                             2            3           12        10  "
      ]
     },
     "execution_count": 337,
     "metadata": {},
     "output_type": "execute_result"
    }
   ],
   "source": [
    "df2.describe(include='object') # getting General descriptive statistics of the data2 dataFrame"
   ]
  },
  {
   "attachments": {},
   "cell_type": "markdown",
   "metadata": {},
   "source": [
    "#### Handling Duplicated Data"
   ]
  },
  {
   "cell_type": "code",
   "execution_count": 338,
   "metadata": {},
   "outputs": [
    {
     "name": "stdout",
     "output_type": "stream",
     "text": [
      "Company/Brand: True\n",
      "Founded: True\n",
      "HeadQuarter: True\n",
      "Sector: True\n",
      "What it does: True\n",
      "Founders: True\n",
      "Investor: True\n",
      "Amount($): True\n",
      "Stage: True\n"
     ]
    }
   ],
   "source": [
    "# below we are checking for duplicated values within the columns \n",
    "\n",
    "columns_to_check2 = ['Company/Brand', 'Founded', 'HeadQuarter', 'Sector', 'What it does', 'Founders', 'Investor', 'Amount($)', 'Stage',]\n",
    "\n",
    "for column2 in columns_to_check2:\n",
    "    has_duplicates2 = df2[column2].duplicated().any()\n",
    "    print(f'{column2}: {has_duplicates2}')"
   ]
  },
  {
   "cell_type": "code",
   "execution_count": 339,
   "metadata": {},
   "outputs": [],
   "source": [
    "# below we are dropping all the duplicated rows within the colums\n",
    "\n",
    "df2.drop_duplicates(subset=['Company/Brand', 'Founded', 'HeadQuarter', 'Sector', 'What it does', 'Founders', 'Investor', 'Amount($)', 'Stage',], inplace=True)"
   ]
  },
  {
   "attachments": {},
   "cell_type": "markdown",
   "metadata": {},
   "source": [
    "now we have some description about the data set, we can now move on with data cleaning\n",
    " \n",
    "MISSING VALUES "
   ]
  },
  {
   "cell_type": "code",
   "execution_count": 340,
   "metadata": {},
   "outputs": [
    {
     "data": {
      "text/plain": [
       "Company/Brand     0\n",
       "Founded          29\n",
       "HeadQuarter      19\n",
       "Sector            5\n",
       "What it does      0\n",
       "Founders          3\n",
       "Investor          0\n",
       "Amount($)         0\n",
       "Stage            46\n",
       "dtype: int64"
      ]
     },
     "execution_count": 340,
     "metadata": {},
     "output_type": "execute_result"
    }
   ],
   "source": [
    "missing_values2 = df2.isnull().sum() # looking for missing values in dataFrame 2\n",
    "missing_values2"
   ]
  },
  {
   "attachments": {},
   "cell_type": "markdown",
   "metadata": {},
   "source": [
    "LET'S DEAL WITH THE MISSING VALUES FROM THE ABOVE OUTPUT"
   ]
  },
  {
   "cell_type": "markdown",
   "metadata": {},
   "source": [
    "DEALING WIHT MISSING VALUES FOR HEADQUARTER "
   ]
  },
  {
   "cell_type": "markdown",
   "metadata": {},
   "source": [
    "### The company/Brand Column has actual data from existing startups. The null Headquarter values can be filled by searching the HeadQuarters on Google"
   ]
  },
  {
   "cell_type": "code",
   "execution_count": 341,
   "metadata": {},
   "outputs": [],
   "source": [
    "#fillna values in HeadQuarter column\n",
    "\n",
    "# using google we are able to get accurate info about the Company's headquater\n",
    "\n",
    "df2.loc[df2['Company/Brand'] == 'Bombay Shaving', 'HeadQuarter'] = 'Gurugram'\n",
    "df2.loc[df2['Company/Brand'] == 'Quantiphi', 'HeadQuarter'] = 'Marlborough'\n",
    "df2.loc[df2['Company/Brand'] == 'Open Secret', 'HeadQuarter'] = 'Mumbai'\n",
    "df2.loc[df2['Company/Brand'] == \"Byju's\", 'HeadQuarter'] = 'Bengaluru'\n",
    "df2.loc[df2['Company/Brand'] == \"Witblox\", 'HeadQuarter'] = 'Mumbai'\n",
    "df2.loc[df2['Company/Brand'] == \"SalaryFits\", 'HeadQuarter'] = 'London'\n",
    "df2.loc[df2['Company/Brand'] == \"Pristyn Care\", 'HeadQuarter'] = 'Gurgaon'\n",
    "df2.loc[df2['Company/Brand'] == \"Springboard\", 'HeadQuarter'] = 'Bengaluru'\n",
    "df2.loc[df2['Company/Brand'] == \"Fireflies .ai\", 'HeadQuarter'] = 'San Francisco'\n",
    "df2.loc[df2['Company/Brand'] == \"Bijak\", 'HeadQuarter'] = 'New Delhi'\n",
    "df2.loc[df2['Company/Brand'] == \"truMe\", 'HeadQuarter'] = 'Gurugram'\n",
    "df2.loc[df2['Company/Brand'] == \"Rivigo\", 'HeadQuarter'] = 'Gurgaon'\n",
    "df2.loc[df2['Company/Brand'] == \"VMate\", 'HeadQuarter'] = 'Gurgaon'\n",
    "df2.loc[df2['Company/Brand'] == \"Slintel\", 'HeadQuarter'] = 'California'\n",
    "df2.loc[df2['Company/Brand'] == \"Ninjacart\", 'HeadQuarter'] = 'Bengaluru'\n",
    "df2.loc[df2['Company/Brand'] == \"Zebu\", 'HeadQuarter'] = 'London'\n",
    "df2.loc[df2['Company/Brand'] == \"Phable\", 'HeadQuarter'] = 'Bengaluru'\n",
    "df2.loc[df2['Company/Brand'] == \"Zolostays\", 'HeadQuarter'] = 'Bengaluru'\n",
    "df2.loc[df2['Company/Brand'] == 'Cubical Labs', 'HeadQuarter'] = 'New Delhi'\n"
   ]
  },
  {
   "cell_type": "code",
   "execution_count": 342,
   "metadata": {},
   "outputs": [],
   "source": [
    "# below we are replacing some names within the columns with their official names.\n",
    "# This ensures uniformity of the names\n",
    "\n",
    "df2.loc[~df2['HeadQuarter'].str.contains('New Delhi', na=False), 'HeadQuarter'] = df2['HeadQuarter'].str.replace('Delhi', 'New Delhi')\n",
    "df2[\"HeadQuarter\"] = df2[\"HeadQuarter\"].replace (['Bangalore','Bangalore City'], 'Bengaluru')\n",
    "df2['HeadQuarter'] = df2['HeadQuarter'].replace (['Gurgaon'], 'Gurugram')"
   ]
  },
  {
   "cell_type": "code",
   "execution_count": 343,
   "metadata": {},
   "outputs": [
    {
     "data": {
      "text/html": [
       "<div>\n",
       "<style scoped>\n",
       "    .dataframe tbody tr th:only-of-type {\n",
       "        vertical-align: middle;\n",
       "    }\n",
       "\n",
       "    .dataframe tbody tr th {\n",
       "        vertical-align: top;\n",
       "    }\n",
       "\n",
       "    .dataframe thead th {\n",
       "        text-align: right;\n",
       "    }\n",
       "</style>\n",
       "<table border=\"1\" class=\"dataframe\">\n",
       "  <thead>\n",
       "    <tr style=\"text-align: right;\">\n",
       "      <th></th>\n",
       "      <th>Company/Brand</th>\n",
       "      <th>Founded</th>\n",
       "      <th>HeadQuarter</th>\n",
       "      <th>Sector</th>\n",
       "      <th>What it does</th>\n",
       "      <th>Founders</th>\n",
       "      <th>Investor</th>\n",
       "      <th>Amount($)</th>\n",
       "      <th>Stage</th>\n",
       "    </tr>\n",
       "  </thead>\n",
       "  <tbody>\n",
       "  </tbody>\n",
       "</table>\n",
       "</div>"
      ],
      "text/plain": [
       "Empty DataFrame\n",
       "Columns: [Company/Brand, Founded, HeadQuarter, Sector, What it does, Founders, Investor, Amount($), Stage]\n",
       "Index: []"
      ]
     },
     "execution_count": 343,
     "metadata": {},
     "output_type": "execute_result"
    }
   ],
   "source": [
    "df2[df2['HeadQuarter'].isnull()] #Check if all null values in HeadQuarter have been filled"
   ]
  },
  {
   "cell_type": "markdown",
   "metadata": {},
   "source": [
    "LET'S DEAL WITH THE MISSING VALUE IN THE SECTOR COLUMN"
   ]
  },
  {
   "cell_type": "markdown",
   "metadata": {},
   "source": [
    "filling in the missing values in the \"Sector\" column using the mode (most frequent value) is a reasonable approach when the number of missing values is relatively small compared to the total number of values in the column"
   ]
  },
  {
   "cell_type": "code",
   "execution_count": 344,
   "metadata": {},
   "outputs": [],
   "source": [
    "#fillna values in Sector column by Google Search\n",
    "df2.loc[df2['Company/Brand'] == 'VMate', 'Sector'] = 'Short Video Platform'\n",
    "df2.loc[df2['Company/Brand'] == 'Awign Enterprises', 'Sector'] = 'Workforce Solutions'\n",
    "df2.loc[df2['Company/Brand'] == 'TapChief', 'Sector'] = 'Online Consulting'\n",
    "df2.loc[df2['Company/Brand'] == 'KredX', 'Sector'] = 'Fintech'\n",
    "df2.loc[df2['Company/Brand'] == 'm.Paani', 'Sector'] = 'E-commerce'"
   ]
  },
  {
   "cell_type": "code",
   "execution_count": 345,
   "metadata": {},
   "outputs": [
    {
     "data": {
      "text/plain": [
       "0"
      ]
     },
     "execution_count": 345,
     "metadata": {},
     "output_type": "execute_result"
    }
   ],
   "source": [
    "df2['Sector'].isnull().sum() # confirming the null values again"
   ]
  },
  {
   "cell_type": "markdown",
   "metadata": {},
   "source": [
    "NOW LET'S DEAL WITH THE STAGE COLUMN \n",
    "\n",
    "BUT FIRST LET'S RE-ORDER THE STAEG COLUMN"
   ]
  },
  {
   "cell_type": "code",
   "execution_count": 346,
   "metadata": {},
   "outputs": [
    {
     "data": {
      "text/plain": [
       "Series A         10\n",
       "Pre series A      8\n",
       "Series B          8\n",
       "Series D          4\n",
       "Series C          3\n",
       "Fresh funding     1\n",
       "Series G          1\n",
       "Post series A     1\n",
       "Seed funding      1\n",
       "Seed fund         1\n",
       "Series E          1\n",
       "Series F          1\n",
       "Series B+         1\n",
       "Seed round        1\n",
       "Pre-series A      1\n",
       "Name: Stage, dtype: int64"
      ]
     },
     "execution_count": 346,
     "metadata": {},
     "output_type": "execute_result"
    }
   ],
   "source": [
    "df2['Stage'].value_counts() # checking for value counts in the stage column"
   ]
  },
  {
   "cell_type": "markdown",
   "metadata": {},
   "source": [
    "now to deal with the missing value in the stage column, we will use the percentage of the first 6 largest most occurring \n",
    "stage to fill in the missing values\n"
   ]
  },
  {
   "cell_type": "code",
   "execution_count": 347,
   "metadata": {},
   "outputs": [
    {
     "data": {
      "text/html": [
       "<div>\n",
       "<style scoped>\n",
       "    .dataframe tbody tr th:only-of-type {\n",
       "        vertical-align: middle;\n",
       "    }\n",
       "\n",
       "    .dataframe tbody tr th {\n",
       "        vertical-align: top;\n",
       "    }\n",
       "\n",
       "    .dataframe thead th {\n",
       "        text-align: right;\n",
       "    }\n",
       "</style>\n",
       "<table border=\"1\" class=\"dataframe\">\n",
       "  <thead>\n",
       "    <tr style=\"text-align: right;\">\n",
       "      <th>col_0</th>\n",
       "      <th>Stage</th>\n",
       "    </tr>\n",
       "    <tr>\n",
       "      <th>Sector</th>\n",
       "      <th></th>\n",
       "    </tr>\n",
       "  </thead>\n",
       "  <tbody>\n",
       "    <tr>\n",
       "      <th>AI</th>\n",
       "      <td>2</td>\n",
       "    </tr>\n",
       "    <tr>\n",
       "      <th>AI &amp; Tech</th>\n",
       "      <td>1</td>\n",
       "    </tr>\n",
       "    <tr>\n",
       "      <th>Accomodation</th>\n",
       "      <td>2</td>\n",
       "    </tr>\n",
       "    <tr>\n",
       "      <th>AgriTech</th>\n",
       "      <td>4</td>\n",
       "    </tr>\n",
       "    <tr>\n",
       "      <th>Automobile</th>\n",
       "      <td>3</td>\n",
       "    </tr>\n",
       "    <tr>\n",
       "      <th>Automobile &amp; Technology</th>\n",
       "      <td>1</td>\n",
       "    </tr>\n",
       "    <tr>\n",
       "      <th>Automotive tech</th>\n",
       "      <td>2</td>\n",
       "    </tr>\n",
       "    <tr>\n",
       "      <th>B2B</th>\n",
       "      <td>1</td>\n",
       "    </tr>\n",
       "    <tr>\n",
       "      <th>B2B Supply Chain</th>\n",
       "      <td>1</td>\n",
       "    </tr>\n",
       "    <tr>\n",
       "      <th>Banking</th>\n",
       "      <td>1</td>\n",
       "    </tr>\n",
       "    <tr>\n",
       "      <th>Cosmetics</th>\n",
       "      <td>1</td>\n",
       "    </tr>\n",
       "    <tr>\n",
       "      <th>Cybersecurity</th>\n",
       "      <td>1</td>\n",
       "    </tr>\n",
       "    <tr>\n",
       "      <th>E-Sports</th>\n",
       "      <td>1</td>\n",
       "    </tr>\n",
       "    <tr>\n",
       "      <th>E-commerce</th>\n",
       "      <td>4</td>\n",
       "    </tr>\n",
       "    <tr>\n",
       "      <th>E-commerce &amp; AR</th>\n",
       "      <td>1</td>\n",
       "    </tr>\n",
       "    <tr>\n",
       "      <th>E-marketplace</th>\n",
       "      <td>2</td>\n",
       "    </tr>\n",
       "    <tr>\n",
       "      <th>Ecommerce</th>\n",
       "      <td>1</td>\n",
       "    </tr>\n",
       "    <tr>\n",
       "      <th>Edtech</th>\n",
       "      <td>7</td>\n",
       "    </tr>\n",
       "    <tr>\n",
       "      <th>Fintech</th>\n",
       "      <td>6</td>\n",
       "    </tr>\n",
       "    <tr>\n",
       "      <th>Food</th>\n",
       "      <td>2</td>\n",
       "    </tr>\n",
       "    <tr>\n",
       "      <th>Food &amp; Nutrition</th>\n",
       "      <td>1</td>\n",
       "    </tr>\n",
       "    <tr>\n",
       "      <th>Food &amp; tech</th>\n",
       "      <td>1</td>\n",
       "    </tr>\n",
       "    <tr>\n",
       "      <th>Food tech</th>\n",
       "      <td>1</td>\n",
       "    </tr>\n",
       "    <tr>\n",
       "      <th>Foodtech</th>\n",
       "      <td>2</td>\n",
       "    </tr>\n",
       "    <tr>\n",
       "      <th>Games</th>\n",
       "      <td>1</td>\n",
       "    </tr>\n",
       "    <tr>\n",
       "      <th>HR tech</th>\n",
       "      <td>1</td>\n",
       "    </tr>\n",
       "    <tr>\n",
       "      <th>Health</th>\n",
       "      <td>1</td>\n",
       "    </tr>\n",
       "    <tr>\n",
       "      <th>Healthcare</th>\n",
       "      <td>1</td>\n",
       "    </tr>\n",
       "    <tr>\n",
       "      <th>Healthtech</th>\n",
       "      <td>1</td>\n",
       "    </tr>\n",
       "    <tr>\n",
       "      <th>Hospitality</th>\n",
       "      <td>1</td>\n",
       "    </tr>\n",
       "    <tr>\n",
       "      <th>Infratech</th>\n",
       "      <td>1</td>\n",
       "    </tr>\n",
       "    <tr>\n",
       "      <th>Insurance technology</th>\n",
       "      <td>1</td>\n",
       "    </tr>\n",
       "    <tr>\n",
       "      <th>Interior design</th>\n",
       "      <td>1</td>\n",
       "    </tr>\n",
       "    <tr>\n",
       "      <th>IoT</th>\n",
       "      <td>2</td>\n",
       "    </tr>\n",
       "    <tr>\n",
       "      <th>Jewellery</th>\n",
       "      <td>1</td>\n",
       "    </tr>\n",
       "    <tr>\n",
       "      <th>Legal tech</th>\n",
       "      <td>1</td>\n",
       "    </tr>\n",
       "    <tr>\n",
       "      <th>Logistics</th>\n",
       "      <td>3</td>\n",
       "    </tr>\n",
       "    <tr>\n",
       "      <th>Manufacturing</th>\n",
       "      <td>1</td>\n",
       "    </tr>\n",
       "    <tr>\n",
       "      <th>Marketing &amp; Customer loyalty</th>\n",
       "      <td>1</td>\n",
       "    </tr>\n",
       "    <tr>\n",
       "      <th>Mutual Funds</th>\n",
       "      <td>1</td>\n",
       "    </tr>\n",
       "    <tr>\n",
       "      <th>Online Consulting</th>\n",
       "      <td>1</td>\n",
       "    </tr>\n",
       "    <tr>\n",
       "      <th>Pharmaceutical</th>\n",
       "      <td>1</td>\n",
       "    </tr>\n",
       "    <tr>\n",
       "      <th>Robotics &amp; AI</th>\n",
       "      <td>1</td>\n",
       "    </tr>\n",
       "    <tr>\n",
       "      <th>SaaS</th>\n",
       "      <td>4</td>\n",
       "    </tr>\n",
       "    <tr>\n",
       "      <th>Safety tech</th>\n",
       "      <td>1</td>\n",
       "    </tr>\n",
       "    <tr>\n",
       "      <th>Short Video Platform</th>\n",
       "      <td>1</td>\n",
       "    </tr>\n",
       "    <tr>\n",
       "      <th>Social Media</th>\n",
       "      <td>1</td>\n",
       "    </tr>\n",
       "    <tr>\n",
       "      <th>Sports</th>\n",
       "      <td>1</td>\n",
       "    </tr>\n",
       "    <tr>\n",
       "      <th>Technology</th>\n",
       "      <td>4</td>\n",
       "    </tr>\n",
       "    <tr>\n",
       "      <th>Transport &amp; Rentals</th>\n",
       "      <td>1</td>\n",
       "    </tr>\n",
       "    <tr>\n",
       "      <th>Transportation</th>\n",
       "      <td>1</td>\n",
       "    </tr>\n",
       "    <tr>\n",
       "      <th>Travel</th>\n",
       "      <td>1</td>\n",
       "    </tr>\n",
       "    <tr>\n",
       "      <th>Virtual Banking</th>\n",
       "      <td>1</td>\n",
       "    </tr>\n",
       "    <tr>\n",
       "      <th>Workforce Solutions</th>\n",
       "      <td>1</td>\n",
       "    </tr>\n",
       "    <tr>\n",
       "      <th>Yoga &amp; wellness</th>\n",
       "      <td>1</td>\n",
       "    </tr>\n",
       "  </tbody>\n",
       "</table>\n",
       "</div>"
      ],
      "text/plain": [
       "col_0                         Stage\n",
       "Sector                             \n",
       "AI                                2\n",
       "AI & Tech                         1\n",
       "Accomodation                      2\n",
       "AgriTech                          4\n",
       "Automobile                        3\n",
       "Automobile & Technology           1\n",
       "Automotive tech                   2\n",
       "B2B                               1\n",
       "B2B Supply Chain                  1\n",
       "Banking                           1\n",
       "Cosmetics                         1\n",
       "Cybersecurity                     1\n",
       "E-Sports                          1\n",
       "E-commerce                        4\n",
       "E-commerce & AR                   1\n",
       "E-marketplace                     2\n",
       "Ecommerce                         1\n",
       "Edtech                            7\n",
       "Fintech                           6\n",
       "Food                              2\n",
       "Food & Nutrition                  1\n",
       "Food & tech                       1\n",
       "Food tech                         1\n",
       "Foodtech                          2\n",
       "Games                             1\n",
       "HR tech                           1\n",
       "Health                            1\n",
       "Healthcare                        1\n",
       "Healthtech                        1\n",
       "Hospitality                       1\n",
       "Infratech                         1\n",
       "Insurance technology              1\n",
       "Interior design                   1\n",
       "IoT                               2\n",
       "Jewellery                         1\n",
       "Legal tech                        1\n",
       "Logistics                         3\n",
       "Manufacturing                     1\n",
       "Marketing & Customer loyalty      1\n",
       "Mutual Funds                      1\n",
       "Online Consulting                 1\n",
       "Pharmaceutical                    1\n",
       "Robotics & AI                     1\n",
       "SaaS                              4\n",
       "Safety tech                       1\n",
       "Short Video Platform              1\n",
       "Social Media                      1\n",
       "Sports                            1\n",
       "Technology                        4\n",
       "Transport & Rentals               1\n",
       "Transportation                    1\n",
       "Travel                            1\n",
       "Virtual Banking                   1\n",
       "Workforce Solutions               1\n",
       "Yoga & wellness                   1"
      ]
     },
     "execution_count": 347,
     "metadata": {},
     "output_type": "execute_result"
    }
   ],
   "source": [
    "cross_table_Sector_Stage_2 = pd.crosstab(df2['Sector'], ['Stage']) # here we are creating a contingency table between stage and sector \n",
    "cross_table_Sector_Stage_2"
   ]
  },
  {
   "cell_type": "code",
   "execution_count": 348,
   "metadata": {},
   "outputs": [
    {
     "data": {
      "text/plain": [
       "Sector\n",
       "AI                             2.25\n",
       "AI & Tech                      1.12\n",
       "Accomodation                   2.25\n",
       "AgriTech                       4.49\n",
       "Automobile                     3.37\n",
       "Automobile & Technology        1.12\n",
       "Automotive tech                2.25\n",
       "B2B                            1.12\n",
       "B2B Supply Chain               1.12\n",
       "Banking                        1.12\n",
       "Cosmetics                      1.12\n",
       "Cybersecurity                  1.12\n",
       "E-Sports                       1.12\n",
       "E-commerce                     4.49\n",
       "E-commerce & AR                1.12\n",
       "E-marketplace                  2.25\n",
       "Ecommerce                      1.12\n",
       "Edtech                         7.87\n",
       "Fintech                        6.74\n",
       "Food                           2.25\n",
       "Food & Nutrition               1.12\n",
       "Food & tech                    1.12\n",
       "Food tech                      1.12\n",
       "Foodtech                       2.25\n",
       "Games                          1.12\n",
       "HR tech                        1.12\n",
       "Health                         1.12\n",
       "Healthcare                     1.12\n",
       "Healthtech                     1.12\n",
       "Hospitality                    1.12\n",
       "Infratech                      1.12\n",
       "Insurance technology           1.12\n",
       "Interior design                1.12\n",
       "IoT                            2.25\n",
       "Jewellery                      1.12\n",
       "Legal tech                     1.12\n",
       "Logistics                      3.37\n",
       "Manufacturing                  1.12\n",
       "Marketing & Customer loyalty   1.12\n",
       "Mutual Funds                   1.12\n",
       "Online Consulting              1.12\n",
       "Pharmaceutical                 1.12\n",
       "Robotics & AI                  1.12\n",
       "SaaS                           4.49\n",
       "Safety tech                    1.12\n",
       "Short Video Platform           1.12\n",
       "Social Media                   1.12\n",
       "Sports                         1.12\n",
       "Technology                     4.49\n",
       "Transport & Rentals            1.12\n",
       "Transportation                 1.12\n",
       "Travel                         1.12\n",
       "Virtual Banking                1.12\n",
       "Workforce Solutions            1.12\n",
       "Yoga & wellness                1.12\n",
       "Name: Stage, dtype: float64"
      ]
     },
     "execution_count": 348,
     "metadata": {},
     "output_type": "execute_result"
    }
   ],
   "source": [
    "# below we are getting the percentages \n",
    "cross_table_Sector_Stage_per_2 = (cross_table_Sector_Stage_2['Stage'] / cross_table_Sector_Stage_2['Stage'].sum()) * 100\n",
    "cross_table_Sector_Stage_per_2"
   ]
  },
  {
   "cell_type": "code",
   "execution_count": 349,
   "metadata": {},
   "outputs": [
    {
     "data": {
      "text/plain": [
       "Sector\n",
       "Edtech       7.87\n",
       "Fintech      6.74\n",
       "AgriTech     4.49\n",
       "E-commerce   4.49\n",
       "SaaS         4.49\n",
       "Technology   4.49\n",
       "Name: Stage, dtype: float64"
      ]
     },
     "execution_count": 349,
     "metadata": {},
     "output_type": "execute_result"
    }
   ],
   "source": [
    "# here we are looking at the top six stages \n",
    "top_six_stages_2 = cross_table_Sector_Stage_per_2.nlargest(6)\n",
    "top_six_stages_2"
   ]
  },
  {
   "cell_type": "markdown",
   "metadata": {},
   "source": [
    "NOW LET'S FILL IN THE MISSING VALUES IN THE STAGE COLUMN, USING THE RESPECTIVE VALUES IN FROM THE TOP SIX \n",
    "STAGES \n"
   ]
  },
  {
   "cell_type": "code",
   "execution_count": 350,
   "metadata": {},
   "outputs": [],
   "source": [
    "# Filling missing values in \"Stage\" column with the top six values\n",
    "\n",
    "# Normalize the probabilities\n",
    "normalize_prob_2 = top_six_stages_2 / top_six_stages_2.sum()\n",
    "# Filling missing values in \"Stage\" column with the top six values\n",
    "df2['Stage'] = df2['Stage'].fillna(pd.Series(np.random.choice(top_six_stages_2.index.tolist(), size=len(df2['Stage']), p=normalize_prob_2.values)))"
   ]
  },
  {
   "cell_type": "code",
   "execution_count": 351,
   "metadata": {},
   "outputs": [
    {
     "data": {
      "text/plain": [
       "0"
      ]
     },
     "execution_count": 351,
     "metadata": {},
     "output_type": "execute_result"
    }
   ],
   "source": [
    "df2['Stage'].isnull().sum() # let's confirm the null values in Stage column again"
   ]
  },
  {
   "cell_type": "code",
   "execution_count": 352,
   "metadata": {},
   "outputs": [
    {
     "data": {
      "text/plain": [
       "Company/Brand     0\n",
       "Founded          29\n",
       "HeadQuarter       0\n",
       "Sector            0\n",
       "What it does      0\n",
       "Founders          3\n",
       "Investor          0\n",
       "Amount($)         0\n",
       "Stage             0\n",
       "dtype: int64"
      ]
     },
     "execution_count": 352,
     "metadata": {},
     "output_type": "execute_result"
    }
   ],
   "source": [
    "df2.isnull().sum() # confirming the second data sets for missing valeus "
   ]
  },
  {
   "cell_type": "code",
   "execution_count": 353,
   "metadata": {},
   "outputs": [
    {
     "data": {
      "text/plain": [
       "array(['Gurugram', 'Mumbai', 'Chennai', 'Telangana', 'Pune', 'Bengaluru',\n",
       "       'Noida', 'Marlborough', 'New Delhi', 'Ahmedabad', 'London',\n",
       "       'Haryana', 'San Francisco', 'Chandigarh', 'Jaipur', 'California',\n",
       "       'Surat', 'Uttar pradesh', 'Hyderabad', 'Rajasthan'], dtype=object)"
      ]
     },
     "execution_count": 353,
     "metadata": {},
     "output_type": "execute_result"
    }
   ],
   "source": [
    "df2['HeadQuarter'].unique() # let's get some idea about the unique values int he HeadQuater column"
   ]
  },
  {
   "cell_type": "code",
   "execution_count": 354,
   "metadata": {},
   "outputs": [
    {
     "data": {
      "text/plain": [
       "array(['Ecommerce', 'Edtech', 'Interior design', 'AgriTech', 'Technology',\n",
       "       'SaaS', 'AI & Tech', 'E-commerce', 'E-commerce & AR', 'Fintech',\n",
       "       'HR tech', 'Food tech', 'Health', 'Healthcare', 'Safety tech',\n",
       "       'Pharmaceutical', 'Insurance technology', 'AI', 'Foodtech', 'Food',\n",
       "       'IoT', 'E-marketplace', 'Robotics & AI', 'Logistics', 'Travel',\n",
       "       'Manufacturing', 'Food & Nutrition', 'Social Media',\n",
       "       'Short Video Platform', 'E-Sports', 'Workforce Solutions',\n",
       "       'Cosmetics', 'B2B', 'Online Consulting', 'Jewellery',\n",
       "       'B2B Supply Chain', 'Games', 'Food & tech', 'Accomodation',\n",
       "       'Automotive tech', 'Legal tech', 'Mutual Funds', 'Cybersecurity',\n",
       "       'Automobile', 'Sports', 'Healthtech', 'Yoga & wellness',\n",
       "       'Virtual Banking', 'Transportation', 'Transport & Rentals',\n",
       "       'Marketing & Customer loyalty', 'Infratech', 'Hospitality',\n",
       "       'Automobile & Technology', 'Banking'], dtype=object)"
      ]
     },
     "execution_count": 354,
     "metadata": {},
     "output_type": "execute_result"
    }
   ],
   "source": [
    "df2['Sector'].unique() # now let's look at the unique values of the 'Sector' column"
   ]
  },
  {
   "cell_type": "code",
   "execution_count": 355,
   "metadata": {},
   "outputs": [
    {
     "data": {
      "text/plain": [
       "array(['AgriTech', 'Series C', 'Fresh funding', 'Series D', 'Technology',\n",
       "       'SaaS', 'Pre series A', 'Series A', 'Series G', 'Fintech',\n",
       "       'Edtech', 'Series B', 'Post series A', 'Seed funding', 'Seed fund',\n",
       "       'Series E', 'Series F', 'Series B+', 'E-commerce', 'Seed round',\n",
       "       'Pre-series A'], dtype=object)"
      ]
     },
     "execution_count": 355,
     "metadata": {},
     "output_type": "execute_result"
    }
   ],
   "source": [
    "df2['Stage'].unique() # now let's look at the unique values of the 'stage' colum"
   ]
  },
  {
   "cell_type": "code",
   "execution_count": 356,
   "metadata": {},
   "outputs": [
    {
     "data": {
      "text/plain": [
       "Fintech          10\n",
       "Series A         10\n",
       "AgriTech          8\n",
       "Pre series A      8\n",
       "Series B          8\n",
       "Edtech            8\n",
       "SaaS              8\n",
       "Technology        7\n",
       "E-commerce        5\n",
       "Series D          4\n",
       "Series C          3\n",
       "Series G          1\n",
       "Fresh funding     1\n",
       "Post series A     1\n",
       "Seed funding      1\n",
       "Seed fund         1\n",
       "Series E          1\n",
       "Series F          1\n",
       "Series B+         1\n",
       "Seed round        1\n",
       "Pre-series A      1\n",
       "Name: Stage, dtype: int64"
      ]
     },
     "execution_count": 356,
     "metadata": {},
     "output_type": "execute_result"
    }
   ],
   "source": [
    "df2['Stage'].value_counts()"
   ]
  },
  {
   "cell_type": "code",
   "execution_count": 357,
   "metadata": {},
   "outputs": [
    {
     "data": {
      "text/html": [
       "<div>\n",
       "<style scoped>\n",
       "    .dataframe tbody tr th:only-of-type {\n",
       "        vertical-align: middle;\n",
       "    }\n",
       "\n",
       "    .dataframe tbody tr th {\n",
       "        vertical-align: top;\n",
       "    }\n",
       "\n",
       "    .dataframe thead th {\n",
       "        text-align: right;\n",
       "    }\n",
       "</style>\n",
       "<table border=\"1\" class=\"dataframe\">\n",
       "  <thead>\n",
       "    <tr style=\"text-align: right;\">\n",
       "      <th></th>\n",
       "      <th>Company/Brand</th>\n",
       "      <th>Founded</th>\n",
       "      <th>HeadQuarter</th>\n",
       "      <th>Sector</th>\n",
       "      <th>What it does</th>\n",
       "      <th>Founders</th>\n",
       "      <th>Investor</th>\n",
       "      <th>Amount($)</th>\n",
       "      <th>Stage</th>\n",
       "    </tr>\n",
       "  </thead>\n",
       "  <tbody>\n",
       "    <tr>\n",
       "      <th>0</th>\n",
       "      <td>Bombay Shaving</td>\n",
       "      <td>NaN</td>\n",
       "      <td>Gurugram</td>\n",
       "      <td>Ecommerce</td>\n",
       "      <td>Provides a range of male grooming products</td>\n",
       "      <td>Shantanu Deshpande</td>\n",
       "      <td>Sixth Sense Ventures</td>\n",
       "      <td>$6,300,000</td>\n",
       "      <td>AgriTech</td>\n",
       "    </tr>\n",
       "    <tr>\n",
       "      <th>5</th>\n",
       "      <td>FlytBase</td>\n",
       "      <td>NaN</td>\n",
       "      <td>Pune</td>\n",
       "      <td>Technology</td>\n",
       "      <td>A drone automation platform</td>\n",
       "      <td>Nitin Gupta</td>\n",
       "      <td>Undisclosed</td>\n",
       "      <td>Undisclosed</td>\n",
       "      <td>AgriTech</td>\n",
       "    </tr>\n",
       "    <tr>\n",
       "      <th>24</th>\n",
       "      <td>Medlife</td>\n",
       "      <td>2,014.00</td>\n",
       "      <td>Bengaluru</td>\n",
       "      <td>Pharmaceutical</td>\n",
       "      <td>It solves inadequacies in the healthcare deliv...</td>\n",
       "      <td>Tushar Kumar, Prashant Singh</td>\n",
       "      <td>Wilson Global Opportunities Fund</td>\n",
       "      <td>$15,500,000</td>\n",
       "      <td>AgriTech</td>\n",
       "    </tr>\n",
       "    <tr>\n",
       "      <th>39</th>\n",
       "      <td>Lil’ Goodness and sCool meal</td>\n",
       "      <td>NaN</td>\n",
       "      <td>Bengaluru</td>\n",
       "      <td>Food &amp; Nutrition</td>\n",
       "      <td>It empowers moms to provide the best of foods ...</td>\n",
       "      <td>NaN</td>\n",
       "      <td>Sajan Pillai, Muthu Krishnan,</td>\n",
       "      <td>$400,000</td>\n",
       "      <td>AgriTech</td>\n",
       "    </tr>\n",
       "    <tr>\n",
       "      <th>55</th>\n",
       "      <td>Binca Games</td>\n",
       "      <td>2,014.00</td>\n",
       "      <td>Mumbai</td>\n",
       "      <td>Games</td>\n",
       "      <td>It offers games that are available across Indi...</td>\n",
       "      <td>Rubianca Wadhwa, Sahil Wadhwa</td>\n",
       "      <td>Sunil Gavaskar</td>\n",
       "      <td>Undisclosed</td>\n",
       "      <td>AgriTech</td>\n",
       "    </tr>\n",
       "    <tr>\n",
       "      <th>59</th>\n",
       "      <td>WishADish</td>\n",
       "      <td>NaN</td>\n",
       "      <td>New Delhi</td>\n",
       "      <td>Food &amp; tech</td>\n",
       "      <td>Provides management solution for restaurants</td>\n",
       "      <td>Sawan Kumar, Bhavya Bhambhani</td>\n",
       "      <td>Undisclosed</td>\n",
       "      <td>$6,000,000</td>\n",
       "      <td>AgriTech</td>\n",
       "    </tr>\n",
       "    <tr>\n",
       "      <th>81</th>\n",
       "      <td>Zoomcar</td>\n",
       "      <td>2,013.00</td>\n",
       "      <td>Bengaluru</td>\n",
       "      <td>Transport &amp; Rentals</td>\n",
       "      <td>A car rental service platform</td>\n",
       "      <td>Greg Moran, David Back</td>\n",
       "      <td>Zoomcar Inc</td>\n",
       "      <td>$4,800,000</td>\n",
       "      <td>AgriTech</td>\n",
       "    </tr>\n",
       "    <tr>\n",
       "      <th>87</th>\n",
       "      <td>Spinny</td>\n",
       "      <td>2,015.00</td>\n",
       "      <td>New Delhi</td>\n",
       "      <td>Automobile</td>\n",
       "      <td>Online car retailer</td>\n",
       "      <td>Niraj Singh, Ramanshu Mahaur, Ganesh Pawar, Mo...</td>\n",
       "      <td>Norwest Venture Partners, General Catalyst, Fu...</td>\n",
       "      <td>$50,000,000</td>\n",
       "      <td>AgriTech</td>\n",
       "    </tr>\n",
       "  </tbody>\n",
       "</table>\n",
       "</div>"
      ],
      "text/plain": [
       "                   Company/Brand  Founded HeadQuarter               Sector  \\\n",
       "0                 Bombay Shaving      NaN    Gurugram            Ecommerce   \n",
       "5                       FlytBase      NaN        Pune           Technology   \n",
       "24                       Medlife 2,014.00   Bengaluru       Pharmaceutical   \n",
       "39  Lil’ Goodness and sCool meal      NaN   Bengaluru     Food & Nutrition   \n",
       "55                   Binca Games 2,014.00      Mumbai                Games   \n",
       "59                     WishADish      NaN   New Delhi          Food & tech   \n",
       "81                       Zoomcar 2,013.00   Bengaluru  Transport & Rentals   \n",
       "87                        Spinny 2,015.00   New Delhi           Automobile   \n",
       "\n",
       "                                         What it does  \\\n",
       "0          Provides a range of male grooming products   \n",
       "5                         A drone automation platform   \n",
       "24  It solves inadequacies in the healthcare deliv...   \n",
       "39  It empowers moms to provide the best of foods ...   \n",
       "55  It offers games that are available across Indi...   \n",
       "59       Provides management solution for restaurants   \n",
       "81                      A car rental service platform   \n",
       "87                                Online car retailer   \n",
       "\n",
       "                                             Founders  \\\n",
       "0                                  Shantanu Deshpande   \n",
       "5                                         Nitin Gupta   \n",
       "24                       Tushar Kumar, Prashant Singh   \n",
       "39                                                NaN   \n",
       "55                      Rubianca Wadhwa, Sahil Wadhwa   \n",
       "59                      Sawan Kumar, Bhavya Bhambhani   \n",
       "81                             Greg Moran, David Back   \n",
       "87  Niraj Singh, Ramanshu Mahaur, Ganesh Pawar, Mo...   \n",
       "\n",
       "                                             Investor    Amount($)     Stage  \n",
       "0                                Sixth Sense Ventures   $6,300,000  AgriTech  \n",
       "5                                         Undisclosed  Undisclosed  AgriTech  \n",
       "24                   Wilson Global Opportunities Fund  $15,500,000  AgriTech  \n",
       "39                      Sajan Pillai, Muthu Krishnan,     $400,000  AgriTech  \n",
       "55                                     Sunil Gavaskar  Undisclosed  AgriTech  \n",
       "59                                        Undisclosed   $6,000,000  AgriTech  \n",
       "81                                        Zoomcar Inc   $4,800,000  AgriTech  \n",
       "87  Norwest Venture Partners, General Catalyst, Fu...  $50,000,000  AgriTech  "
      ]
     },
     "execution_count": 357,
     "metadata": {},
     "output_type": "execute_result"
    }
   ],
   "source": [
    "df2[df2['Stage'] == 'AgriTech'] "
   ]
  },
  {
   "cell_type": "code",
   "execution_count": 358,
   "metadata": {},
   "outputs": [],
   "source": [
    "df.loc[df['Company'] == 'Zolostays', 'Stage'] = 'Series B'"
   ]
  },
  {
   "cell_type": "code",
   "execution_count": 359,
   "metadata": {},
   "outputs": [],
   "source": [
    "df.loc[df['Company'] == 'Cub McPaws', 'Stage'] = 'Seed'\n",
    "df.loc[df['Company'] == 'truMe', 'Stage'] = 'Seed'\n",
    "df.loc[df['Company'] == 'MyGameMate', 'Stage'] = 'Seed'\n",
    "df.loc[df['Company'] == 'Smart Institute', 'Stage'] = 'Seed'\n",
    "df.loc[df['Company'] == 'Spinny', 'Stage'] = 'Series B'"
   ]
  },
  {
   "cell_type": "code",
   "execution_count": 360,
   "metadata": {},
   "outputs": [],
   "source": [
    "df.loc[df['Company'] == 'DROR Labs Pvt. Ltd.', 'Stage'] = 'Seed'\n",
    "df.loc[df['Company'] == 'Asteria Aerospace', 'Stage'] = 'Series B'\n",
    "df.loc[df['Company'] == 'Binca Games', 'Stage'] = 'Seed'\n",
    "df.loc[df['Company'] == 'Stanza Living', 'Stage'] = 'Series A'\n",
    "df.loc[df['Company'] == 'PiBeam', 'Stage'] = 'Series A'\n",
    "df.loc[df['Company'] == 'Credr', 'Stage'] = 'Series A'"
   ]
  },
  {
   "cell_type": "code",
   "execution_count": 361,
   "metadata": {},
   "outputs": [],
   "source": [
    "df2.loc[df2['Company/Brand'] == 'FlytBase', 'Stage'] = 'Seed'\n",
    "df2.loc[df2['Company/Brand'] == 'Lil’ Goodness and sCool meal\t', 'Stage'] = 'Seed'\n",
    "df.loc[df['Company'] == 'Origo', 'Stage'] = 'Seed'\n",
    "df.loc[df['Company'] == 'Cuemath', 'Stage'] = 'Series A'\n",
    "df.loc[df['Company'] == 'Phable', 'Stage'] = 'Seed'\n",
    "df.loc[df['Company'] == 'Sarva', 'Stage'] = 'Seed'\n",
    "df.loc[df['Company'] == 'Zoomcar', 'Stage'] = 'Series C'"
   ]
  },
  {
   "cell_type": "code",
   "execution_count": 362,
   "metadata": {},
   "outputs": [],
   "source": [
    "\n",
    "df2.loc[df2['Company/Brand'] == 'Appnomic', 'Stage'] = 'Series A'\n",
    "df2.loc[df2['Company/Brand'] == 'Finly', 'Stage'] = 'Seed'\n",
    "df2.loc[df2['Company/Brand'] == 'LivFin', 'Stage'] = 'Series A'\n",
    "df2.loc[df2['Company/Brand'] == 'Afinoz', 'Stage'] = 'Seed'\n",
    "df2.loc[df2['Company/Brand'] == 'Box8', 'Stage'] = 'Series C'\n",
    "df2.loc[df2['Company/Brand'] == 'Ecom Express', 'Stage'] = 'Series B'\n",
    "df2.loc[df2['Company/Brand'] == 'Nivesh.com', 'Stage'] = 'Seed'\n",
    "df2.loc[df2['Company/Brand'] == 'Ola', 'Stage'] = 'Series F'\n",
    "df2.loc[df2['Company/Brand'] == 'Ess Kay Fincorp', 'Stage'] = 'Series D'\n"
   ]
  },
  {
   "cell_type": "code",
   "execution_count": 363,
   "metadata": {},
   "outputs": [],
   "source": [
    "df2.loc[df2['Company/Brand'] == 'Bombay Shaving', 'Stage'] = 'Seed'\n",
    "df2.loc[df2['Company/Brand'] == 'Nu Genes', 'Stage'] = 'Seed'\n",
    "df2.loc[df2['Company/Brand'] == 'JobSquare', 'Stage'] = 'Seed'\n",
    "df2.loc[df2['Company/Brand'] == \"Byju's\", 'Stage'] = 'Series F'\n",
    "df2.loc[df2['Company/Brand'] == 'Fireflies .ai', 'Stage'] = 'Seed'\n",
    "df2.loc[df2['Company/Brand'] == 'Bombay Shirt Company', 'Stage'] = 'Series A'\n",
    "df2.loc[df2['Company/Brand'] == 'Slintel', 'Stage'] = 'Seed'\n",
    "df2.loc[df2['Company/Brand'] == 'Ninjacart', 'Stage'] = 'Series C'\n",
    "df2.loc[df2['Company/Brand'] == 'Euler Motors', 'Stage'] = 'Seed'\n",
    "df2.loc[df2['Company/Brand'] == 'Zolozstays', 'Stage'] = 'Series A'\n",
    "df2.loc[df2['Company/Brand'] == 'Oyo', 'Stage'] = 'Series D'\n"
   ]
  },
  {
   "cell_type": "code",
   "execution_count": 364,
   "metadata": {},
   "outputs": [],
   "source": [
    "df2.loc[df2['Company/Brand'] == 'Open Secret', 'Stage'] = 'Series C'\n",
    "df2.loc[df2['Company/Brand'] == 'Witblox', 'Stage'] = 'Seed'\n",
    "df2.loc[df2['Company/Brand'] == 'SalaryFits', 'Stage'] = 'Series A'\n",
    "df2.loc[df2['Company/Brand'] == 'Medlife', 'Stage'] = 'Series B'\n",
    "df2.loc[df2['Company/Brand'] == 'Pumpkart', 'Stage'] = 'Seed'\n",
    "df2.loc[df2['Company/Brand'] == 'VMate', 'Stage'] = 'Series A'\n",
    "df2.loc[df2['Company/Brand'] == 'WishADish', 'Stage'] = 'Series A'\n",
    "df2.loc[df2['Company/Brand'] == 'Lawyered', 'Stage'] = 'Seed'\n"
   ]
  },
  {
   "cell_type": "code",
   "execution_count": 365,
   "metadata": {},
   "outputs": [
    {
     "data": {
      "text/plain": [
       "0      Early Stage\n",
       "1        Mid Stage\n",
       "2     Other Stages\n",
       "3       Late Stage\n",
       "4      Early Stage\n",
       "          ...     \n",
       "84       Mid Stage\n",
       "85      Late Stage\n",
       "86       Mid Stage\n",
       "87        AgriTech\n",
       "88      Late Stage\n",
       "Name: Stage, Length: 89, dtype: object"
      ]
     },
     "execution_count": 365,
     "metadata": {},
     "output_type": "execute_result"
    }
   ],
   "source": [
    "grouped_stages_2 = {\n",
    "    # Group 1: Early Stage\n",
    "    'Pre-seed': 'Early Stage',\n",
    "    'Seed': 'Early Stage',\n",
    "    'Seed A': 'Early Stage',\n",
    "    'Seed Funding': 'Early Stage',\n",
    "    'Seed Investment': 'Early Stage',\n",
    "    'Seed Round': 'Early Stage',\n",
    "    'Seed Round & Series A': 'Early Stage',\n",
    "    'Seed fund': 'Early Stage',\n",
    "    'Seed funding': 'Early Stage',\n",
    "    'Seed round': 'Early Stage',\n",
    "    'Seed+': 'Early Stage',\n",
    "\n",
    "    # Group 2: Mid Stage\n",
    "    'Series A': 'Mid Stage',\n",
    "    'Series A+': 'Mid Stage',\n",
    "    'Series A-1': 'Mid Stage',\n",
    "    'Series A2': 'Mid Stage',\n",
    "    'Series B': 'Mid Stage',\n",
    "    'Series B+': 'Mid Stage',\n",
    "    'Series B2': 'Mid Stage',\n",
    "    'Series B3': 'Mid Stage',\n",
    "    'Series C': 'Mid Stage',\n",
    "    'Seies A': 'Mid Stage',\n",
    "    \n",
    "    # Group 3: Late Stage\n",
    "    'Series D': 'Late Stage',\n",
    "    'Series I': 'Late Stage',\n",
    "    'Series D1': 'Late Stage',\n",
    "    'Series E': 'Late Stage',\n",
    "    'Series E2': 'Late Stage',\n",
    "    'Series F': 'Late Stage',\n",
    "    'Series F1': 'Late Stage',\n",
    "    'Series F2': 'Late Stage',\n",
    "    'Series G': 'Late Stage',\n",
    "    'Series H': 'Late Stage',\n",
    "    \n",
    "    # Group 4: Other Stages\n",
    "    'Angel': 'Other Stages',\n",
    "    'Angel Round': 'Other Stages',\n",
    "    'Bridge': 'Other Stages',\n",
    "    'Bridge Round': 'Other Stages',\n",
    "    'Corporate Round': 'Other Stages',\n",
    "    'Debt': 'Other Stages',\n",
    "    'Debt Financing': 'Other Stages',\n",
    "    'Early seed': 'Other Stages',\n",
    "    'Edge': 'Other Stages',\n",
    "    'Fresh funding': 'Other Stages',\n",
    "    'Funding Round': 'Other Stages',\n",
    "    'Grant': 'Other Stages',\n",
    "    'Mid series': 'Other Stages',\n",
    "    'Non-equity Assistance': 'Other Stages',\n",
    "    'None': 'Other Stages',\n",
    "    'PE': 'Other Stages',\n",
    "    'Post series A': 'Other Stages',\n",
    "    'Post-IPO Debt': 'Other Stages',\n",
    "    'Post-IPO Equity': 'Other Stages',\n",
    "    'Pre Series A': 'Other Stages',\n",
    "    'Pre- series A': 'Other Stages',\n",
    "    'Pre-Seed': 'Other Stages',\n",
    "    'Pre-Series B': 'Other Stages',\n",
    "    'Private Equity': 'Other Stages',\n",
    "    'Secondary Market': 'Other Stages',\n",
    "    'Pre-series A': 'Other Stages',\n",
    "    'None': 'Other Series',\n",
    "    'Pre-series B':'Other Stages',\n",
    "    'Pre-series A1': 'Other Stage',\n",
    "    'Pre-series':'Other Stages',\n",
    "    'Pre series A':'Other Stages'\n",
    "}\n",
    "\n",
    "df2['Stage'] = df2['Stage'].replace(grouped_stages_2)\n",
    "df2['Stage']"
   ]
  },
  {
   "cell_type": "code",
   "execution_count": 366,
   "metadata": {},
   "outputs": [],
   "source": [
    " # creating or maintaining only the valid stages\n",
    "\n",
    "unwanted_stages = ['Fintech', 'Technology', 'AgriTech', 'E-commerce', 'Edtech']\n",
    "df2['Stage'] = df2['Stage'].replace(unwanted_stages, np.nan)"
   ]
  },
  {
   "cell_type": "code",
   "execution_count": 367,
   "metadata": {},
   "outputs": [
    {
     "data": {
      "text/plain": [
       "13"
      ]
     },
     "execution_count": 367,
     "metadata": {},
     "output_type": "execute_result"
    }
   ],
   "source": [
    "df2['Stage'].isnull().sum() # checking for unique values in the stage column "
   ]
  },
  {
   "cell_type": "code",
   "execution_count": 368,
   "metadata": {},
   "outputs": [
    {
     "data": {
      "text/plain": [
       "76"
      ]
     },
     "execution_count": 368,
     "metadata": {},
     "output_type": "execute_result"
    }
   ],
   "source": [
    "df2['Stage'].count() # getting the total of the values in the Stage column"
   ]
  },
  {
   "cell_type": "code",
   "execution_count": 369,
   "metadata": {},
   "outputs": [],
   "source": [
    "# getting the mode of the non-null values \n",
    "\n",
    "non_null_values_stg = df2['Stage'].dropna()\n",
    "mode_non_null_stg = non_null_values_stg.mode()  "
   ]
  },
  {
   "cell_type": "code",
   "execution_count": 370,
   "metadata": {},
   "outputs": [],
   "source": [
    "df2['Stage'] = df2['Stage'].astype(str) # converting the stage column to string"
   ]
  },
  {
   "cell_type": "code",
   "execution_count": 371,
   "metadata": {},
   "outputs": [],
   "source": [
    "df2['Stage'].fillna(mode_non_null_stg, inplace=True) # filling in the null value with the mode"
   ]
  },
  {
   "cell_type": "code",
   "execution_count": 372,
   "metadata": {},
   "outputs": [
    {
     "data": {
      "text/plain": [
       "0"
      ]
     },
     "execution_count": 372,
     "metadata": {},
     "output_type": "execute_result"
    }
   ],
   "source": [
    "df2['Stage'].isnull().sum() # checking for null values again"
   ]
  },
  {
   "cell_type": "code",
   "execution_count": 373,
   "metadata": {},
   "outputs": [
    {
     "data": {
      "text/plain": [
       "Company/Brand     0\n",
       "Founded          29\n",
       "HeadQuarter       0\n",
       "Sector            0\n",
       "What it does      0\n",
       "Founders          3\n",
       "Investor          0\n",
       "Amount($)         0\n",
       "Stage             0\n",
       "dtype: int64"
      ]
     },
     "execution_count": 373,
     "metadata": {},
     "output_type": "execute_result"
    }
   ],
   "source": [
    "df2.isnull().sum() # let's check for null vlaues and sum them up "
   ]
  },
  {
   "attachments": {},
   "cell_type": "markdown",
   "metadata": {},
   "source": [
    "Standardizing Data Formats\n",
    "\n",
    "now let's see how we can standardize tha data set to make sure we have the same format of data points "
   ]
  },
  {
   "attachments": {},
   "cell_type": "markdown",
   "metadata": {},
   "source": [
    "first let's check for dash symbols within the columns using a simple python function "
   ]
  },
  {
   "cell_type": "code",
   "execution_count": 374,
   "metadata": {},
   "outputs": [
    {
     "name": "stdout",
     "output_type": "stream",
     "text": [
      "Company/Brand: False\n",
      "HeadQuarter: False\n",
      "Sector: True\n",
      "What it does: True\n",
      "Amount($): False\n",
      "Stage: False\n"
     ]
    }
   ],
   "source": [
    "# checking for '-' symbol within the columns\n",
    "\n",
    "columns_to_check2 = ['Company/Brand', 'HeadQuarter', 'Sector', 'What it does', 'Amount($)', 'Stage']\n",
    "\n",
    "for column2 in columns_to_check2:\n",
    "    has_dash_symbols2 = df2[column2].astype(str).str.contains('-').any()\n",
    "    print(f'{column2}: {has_dash_symbols2}')"
   ]
  },
  {
   "cell_type": "code",
   "execution_count": 375,
   "metadata": {},
   "outputs": [
    {
     "name": "stdout",
     "output_type": "stream",
     "text": [
      "Company/Brand: False\n",
      "HeadQuarter: False\n",
      "Sector: False\n",
      "What it does: False\n",
      "Amount($): True\n"
     ]
    }
   ],
   "source": [
    "# checking for currency symbol \n",
    "\n",
    "columns_to_check2 = ['Company/Brand','HeadQuarter', 'Sector', 'What it does', 'Amount($)']\n",
    "\n",
    "for column2 in columns_to_check2:\n",
    "    has_currency_symbols = df2[column2].astype(str).str.contains('[$₹]').any()\n",
    "    print(f'{column2}: {has_currency_symbols}')"
   ]
  },
  {
   "cell_type": "code",
   "execution_count": 376,
   "metadata": {},
   "outputs": [],
   "source": [
    "# replacing the '-' symbols using a simple function \n",
    "\n",
    "dash_currency_columns = ['Sector', 'What it does', 'Stage']\n",
    "\n",
    "for dash_columns2 in dash_currency_columns:\n",
    "    dash_replaced2 = df2[dash_columns2].replace('-', np.nan, inplace=True)"
   ]
  },
  {
   "attachments": {},
   "cell_type": "markdown",
   "metadata": {},
   "source": [
    "now let's handle the dash symbols in the Amount column, clean and format the amount the column correctly "
   ]
  },
  {
   "cell_type": "code",
   "execution_count": 377,
   "metadata": {},
   "outputs": [
    {
     "data": {
      "text/plain": [
       "array(['$6,300,000', '$150,000,000', '$28,000,000', '$30,000,000',\n",
       "       '$6,000,000', 'Undisclosed', '$1,000,000', '$20,000,000',\n",
       "       '$275,000,000', '$22,000,000', '$5,000,000', '$140,500',\n",
       "       '$540,000,000', '$15,000,000', '$182,700', '$12,000,000',\n",
       "       '$11,000,000', '$15,500,000', '$1,500,000', '$5,500,000',\n",
       "       '$2,500,000', '$140,000', '$230,000,000', '$49,400,000',\n",
       "       '$32,000,000', '$26,000,000', '$150,000', '$400,000', '$2,000,000',\n",
       "       '$100,000,000', '$8,000,000', '$100,000', '$50,000,000',\n",
       "       '$120,000,000', '$4,000,000', '$6,800,000', '$36,000,000',\n",
       "       '$5,700,000', '$25,000,000', '$600,000', '$70,000,000',\n",
       "       '$60,000,000', '$220,000', '$2,800,000', '$2,100,000',\n",
       "       '$7,000,000', '$311,000,000', '$4,800,000', '$693,000,000',\n",
       "       '$33,000,000'], dtype=object)"
      ]
     },
     "execution_count": 377,
     "metadata": {},
     "output_type": "execute_result"
    }
   ],
   "source": [
    "df2['Amount($)'].unique() # let's check for unique values "
   ]
  },
  {
   "cell_type": "code",
   "execution_count": 378,
   "metadata": {},
   "outputs": [],
   "source": [
    "# Cleaning the Amounts column & # removing the currency symbol in df_2019\n",
    "df2['Amount($)'] = df2['Amount($)'].astype(str).str.replace('[\\₹$,]', '', regex=True)\n",
    "df2['Amount($)'] = df2['Amount($)'].str.replace('Undisclosed', '0', regex=True)\n",
    "df2['Amount($)'].replace(\",\", \"\", inplace = True, regex=True)\n",
    "df2['Amount($)'].replace(\"—\", 0, inplace = True, regex=True)"
   ]
  },
  {
   "cell_type": "code",
   "execution_count": 379,
   "metadata": {},
   "outputs": [
    {
     "data": {
      "text/plain": [
       "numpy.float64"
      ]
     },
     "execution_count": 379,
     "metadata": {},
     "output_type": "execute_result"
    }
   ],
   "source": [
    "df2['Amount($)'] = df2['Amount($)'].astype(float) # here we are converting the amount column to float data type \n",
    "type(df2['Amount($)'][0])"
   ]
  },
  {
   "cell_type": "code",
   "execution_count": 380,
   "metadata": {},
   "outputs": [
    {
     "data": {
      "text/plain": [
       "0      6,300,000.00\n",
       "1    150,000,000.00\n",
       "2     28,000,000.00\n",
       "3     30,000,000.00\n",
       "4      6,000,000.00\n",
       "          ...      \n",
       "84    20,000,000.00\n",
       "85   693,000,000.00\n",
       "86     5,000,000.00\n",
       "87    50,000,000.00\n",
       "88    33,000,000.00\n",
       "Name: Amount($), Length: 89, dtype: float64"
      ]
     },
     "execution_count": 380,
     "metadata": {},
     "output_type": "execute_result"
    }
   ],
   "source": [
    "df2['Amount($)'] # here we are looking at the Amount column "
   ]
  },
  {
   "cell_type": "code",
   "execution_count": 381,
   "metadata": {},
   "outputs": [
    {
     "data": {
      "text/plain": [
       "array([6.300e+06, 1.500e+08, 2.800e+07, 3.000e+07, 6.000e+06, 0.000e+00,\n",
       "       1.000e+06, 2.000e+07, 2.750e+08, 2.200e+07, 5.000e+06, 1.405e+05,\n",
       "       5.400e+08, 1.500e+07, 1.827e+05, 1.200e+07, 1.100e+07, 1.550e+07,\n",
       "       1.500e+06, 5.500e+06, 2.500e+06, 1.400e+05, 2.300e+08, 4.940e+07,\n",
       "       3.200e+07, 2.600e+07, 1.500e+05, 4.000e+05, 2.000e+06, 1.000e+08,\n",
       "       8.000e+06, 1.000e+05, 5.000e+07, 1.200e+08, 4.000e+06, 6.800e+06,\n",
       "       3.600e+07, 5.700e+06, 2.500e+07, 6.000e+05, 7.000e+07, 6.000e+07,\n",
       "       2.200e+05, 2.800e+06, 2.100e+06, 7.000e+06, 3.110e+08, 4.800e+06,\n",
       "       6.930e+08, 3.300e+07])"
      ]
     },
     "execution_count": 381,
     "metadata": {},
     "output_type": "execute_result"
    }
   ],
   "source": [
    "df2['Amount($)'].unique() # this line of code looks at the unique value "
   ]
  },
  {
   "cell_type": "code",
   "execution_count": 382,
   "metadata": {},
   "outputs": [
    {
     "data": {
      "text/plain": [
       "0"
      ]
     },
     "execution_count": 382,
     "metadata": {},
     "output_type": "execute_result"
    }
   ],
   "source": [
    "df2['Amount($)'].isnull().sum()"
   ]
  },
  {
   "cell_type": "markdown",
   "metadata": {},
   "source": [
    "### Clean Text Data"
   ]
  },
  {
   "cell_type": "code",
   "execution_count": 383,
   "metadata": {},
   "outputs": [
    {
     "data": {
      "text/html": [
       "<div>\n",
       "<style scoped>\n",
       "    .dataframe tbody tr th:only-of-type {\n",
       "        vertical-align: middle;\n",
       "    }\n",
       "\n",
       "    .dataframe tbody tr th {\n",
       "        vertical-align: top;\n",
       "    }\n",
       "\n",
       "    .dataframe thead th {\n",
       "        text-align: right;\n",
       "    }\n",
       "</style>\n",
       "<table border=\"1\" class=\"dataframe\">\n",
       "  <thead>\n",
       "    <tr style=\"text-align: right;\">\n",
       "      <th></th>\n",
       "      <th>Company/Brand</th>\n",
       "      <th>Founded</th>\n",
       "      <th>HeadQuarter</th>\n",
       "      <th>Sector</th>\n",
       "      <th>What it does</th>\n",
       "      <th>Founders</th>\n",
       "      <th>Investor</th>\n",
       "      <th>Amount($)</th>\n",
       "      <th>Stage</th>\n",
       "    </tr>\n",
       "  </thead>\n",
       "  <tbody>\n",
       "    <tr>\n",
       "      <th>0</th>\n",
       "      <td>Bombay Shaving</td>\n",
       "      <td>NaN</td>\n",
       "      <td>Gurugram</td>\n",
       "      <td>Ecommerce</td>\n",
       "      <td>Provides a range of male grooming products</td>\n",
       "      <td>Shantanu Deshpande</td>\n",
       "      <td>Sixth Sense Ventures</td>\n",
       "      <td>6,300,000.00</td>\n",
       "      <td>Early Stage</td>\n",
       "    </tr>\n",
       "    <tr>\n",
       "      <th>1</th>\n",
       "      <td>Ruangguru</td>\n",
       "      <td>2,014.00</td>\n",
       "      <td>Mumbai</td>\n",
       "      <td>Edtech</td>\n",
       "      <td>A learning platform that provides topicbased j...</td>\n",
       "      <td>Adamas Belva Syah Devara, Iman Usman.</td>\n",
       "      <td>General Atlantic</td>\n",
       "      <td>150,000,000.00</td>\n",
       "      <td>Mid Stage</td>\n",
       "    </tr>\n",
       "    <tr>\n",
       "      <th>2</th>\n",
       "      <td>Eduisfun</td>\n",
       "      <td>NaN</td>\n",
       "      <td>Mumbai</td>\n",
       "      <td>Edtech</td>\n",
       "      <td>It aims to make learning fun via games</td>\n",
       "      <td>Jatin Solanki</td>\n",
       "      <td>Deepak Parekh, Amitabh Bachchan, Piyush Pandey</td>\n",
       "      <td>28,000,000.00</td>\n",
       "      <td>Other Stages</td>\n",
       "    </tr>\n",
       "    <tr>\n",
       "      <th>3</th>\n",
       "      <td>Homelane</td>\n",
       "      <td>2,014.00</td>\n",
       "      <td>Chennai</td>\n",
       "      <td>Interior Design</td>\n",
       "      <td>Provides interior designing solutions</td>\n",
       "      <td>Srikanth Iyer, Rama Harinath</td>\n",
       "      <td>Evolvence India Fund (EIF), Pidilite Group, FJ...</td>\n",
       "      <td>30,000,000.00</td>\n",
       "      <td>Late Stage</td>\n",
       "    </tr>\n",
       "    <tr>\n",
       "      <th>4</th>\n",
       "      <td>Nu Genes</td>\n",
       "      <td>2,004.00</td>\n",
       "      <td>Telangana</td>\n",
       "      <td>Agritech</td>\n",
       "      <td>It is a seed company engaged in production pro...</td>\n",
       "      <td>Narayana Reddy Punyala</td>\n",
       "      <td>Innovation in Food and Agriculture (IFA)</td>\n",
       "      <td>6,000,000.00</td>\n",
       "      <td>Early Stage</td>\n",
       "    </tr>\n",
       "  </tbody>\n",
       "</table>\n",
       "</div>"
      ],
      "text/plain": [
       "    Company/Brand  Founded HeadQuarter           Sector  \\\n",
       "0  Bombay Shaving      NaN    Gurugram        Ecommerce   \n",
       "1       Ruangguru 2,014.00      Mumbai           Edtech   \n",
       "2        Eduisfun      NaN      Mumbai           Edtech   \n",
       "3        Homelane 2,014.00     Chennai  Interior Design   \n",
       "4        Nu Genes 2,004.00   Telangana         Agritech   \n",
       "\n",
       "                                        What it does  \\\n",
       "0         Provides a range of male grooming products   \n",
       "1  A learning platform that provides topicbased j...   \n",
       "2             It aims to make learning fun via games   \n",
       "3              Provides interior designing solutions   \n",
       "4  It is a seed company engaged in production pro...   \n",
       "\n",
       "                                Founders  \\\n",
       "0                     Shantanu Deshpande   \n",
       "1  Adamas Belva Syah Devara, Iman Usman.   \n",
       "2                          Jatin Solanki   \n",
       "3           Srikanth Iyer, Rama Harinath   \n",
       "4                 Narayana Reddy Punyala   \n",
       "\n",
       "                                            Investor      Amount($)  \\\n",
       "0                               Sixth Sense Ventures   6,300,000.00   \n",
       "1                                   General Atlantic 150,000,000.00   \n",
       "2     Deepak Parekh, Amitabh Bachchan, Piyush Pandey  28,000,000.00   \n",
       "3  Evolvence India Fund (EIF), Pidilite Group, FJ...  30,000,000.00   \n",
       "4           Innovation in Food and Agriculture (IFA)   6,000,000.00   \n",
       "\n",
       "          Stage  \n",
       "0   Early Stage  \n",
       "1     Mid Stage  \n",
       "2  Other Stages  \n",
       "3    Late Stage  \n",
       "4   Early Stage  "
      ]
     },
     "execution_count": 383,
     "metadata": {},
     "output_type": "execute_result"
    }
   ],
   "source": [
    "# Clean Company Name column\n",
    "df2['Company/Brand'] = df2['Company/Brand'].str.strip()  # Remove leading and trailing spaces\n",
    "df2['Company/Brand'] = df2['Company/Brand'].str.title()  # Standardize capitalization\n",
    "\n",
    "# Clean Company Name column\n",
    "df2['Sector'] = df2['Sector'].str.strip()  # Remove leading and trailing spaces\n",
    "df2['Sector'] = df2['Sector'].str.title()  # Standardize capitalization\n",
    "\n",
    "# Clean About Company column\n",
    "df2['What it does'] = df2['What it does'].str.strip()  # Remove leading and trailing spaces\n",
    "\n",
    "# Function to handle special characters or encoding issues\n",
    "def clean_text(text):\n",
    "    # Remove special characters using regex\n",
    "    cleaned_text = re.sub(r\"[^a-zA-Z0-9\\s]\", \"\", text)\n",
    "    return cleaned_text\n",
    "\n",
    "# Apply the clean_text function to the About Company column\n",
    "df2['What it does'] = df2['What it does'].apply(clean_text)\n",
    "\n",
    "# Print the cleaned DataFrame\n",
    "df2.head()"
   ]
  },
  {
   "cell_type": "code",
   "execution_count": 384,
   "metadata": {},
   "outputs": [],
   "source": [
    "# Dropping the columns that are not important to our analysis\n",
    "\n",
    "df2.drop(columns=['Founded','Founders','Investor'], inplace=True)"
   ]
  },
  {
   "cell_type": "code",
   "execution_count": 385,
   "metadata": {},
   "outputs": [],
   "source": [
    "df2.insert(6,\"Funding Year\", 2019) # here we are inserting a new column to keep track of the data set after combining "
   ]
  },
  {
   "cell_type": "code",
   "execution_count": 386,
   "metadata": {},
   "outputs": [],
   "source": [
    "# below we are renaming the columns to enure consistency \n",
    "\n",
    "df2.rename(columns = {'Company/Brand':'Company',\n",
    "                        'HeadQuarter':'Location',\n",
    "                        'Amount($)':'Amount',\n",
    "                        'What it does':'About'},\n",
    "             inplace = True)"
   ]
  },
  {
   "cell_type": "code",
   "execution_count": 387,
   "metadata": {},
   "outputs": [
    {
     "data": {
      "text/html": [
       "<div>\n",
       "<style scoped>\n",
       "    .dataframe tbody tr th:only-of-type {\n",
       "        vertical-align: middle;\n",
       "    }\n",
       "\n",
       "    .dataframe tbody tr th {\n",
       "        vertical-align: top;\n",
       "    }\n",
       "\n",
       "    .dataframe thead th {\n",
       "        text-align: right;\n",
       "    }\n",
       "</style>\n",
       "<table border=\"1\" class=\"dataframe\">\n",
       "  <thead>\n",
       "    <tr style=\"text-align: right;\">\n",
       "      <th></th>\n",
       "      <th>Company</th>\n",
       "      <th>Location</th>\n",
       "      <th>Sector</th>\n",
       "      <th>About</th>\n",
       "      <th>Amount</th>\n",
       "      <th>Stage</th>\n",
       "      <th>Funding Year</th>\n",
       "    </tr>\n",
       "  </thead>\n",
       "  <tbody>\n",
       "    <tr>\n",
       "      <th>0</th>\n",
       "      <td>Bombay Shaving</td>\n",
       "      <td>Gurugram</td>\n",
       "      <td>Ecommerce</td>\n",
       "      <td>Provides a range of male grooming products</td>\n",
       "      <td>6,300,000.00</td>\n",
       "      <td>Early Stage</td>\n",
       "      <td>2019</td>\n",
       "    </tr>\n",
       "    <tr>\n",
       "      <th>1</th>\n",
       "      <td>Ruangguru</td>\n",
       "      <td>Mumbai</td>\n",
       "      <td>Edtech</td>\n",
       "      <td>A learning platform that provides topicbased j...</td>\n",
       "      <td>150,000,000.00</td>\n",
       "      <td>Mid Stage</td>\n",
       "      <td>2019</td>\n",
       "    </tr>\n",
       "    <tr>\n",
       "      <th>2</th>\n",
       "      <td>Eduisfun</td>\n",
       "      <td>Mumbai</td>\n",
       "      <td>Edtech</td>\n",
       "      <td>It aims to make learning fun via games</td>\n",
       "      <td>28,000,000.00</td>\n",
       "      <td>Other Stages</td>\n",
       "      <td>2019</td>\n",
       "    </tr>\n",
       "    <tr>\n",
       "      <th>3</th>\n",
       "      <td>Homelane</td>\n",
       "      <td>Chennai</td>\n",
       "      <td>Interior Design</td>\n",
       "      <td>Provides interior designing solutions</td>\n",
       "      <td>30,000,000.00</td>\n",
       "      <td>Late Stage</td>\n",
       "      <td>2019</td>\n",
       "    </tr>\n",
       "    <tr>\n",
       "      <th>4</th>\n",
       "      <td>Nu Genes</td>\n",
       "      <td>Telangana</td>\n",
       "      <td>Agritech</td>\n",
       "      <td>It is a seed company engaged in production pro...</td>\n",
       "      <td>6,000,000.00</td>\n",
       "      <td>Early Stage</td>\n",
       "      <td>2019</td>\n",
       "    </tr>\n",
       "  </tbody>\n",
       "</table>\n",
       "</div>"
      ],
      "text/plain": [
       "          Company   Location           Sector  \\\n",
       "0  Bombay Shaving   Gurugram        Ecommerce   \n",
       "1       Ruangguru     Mumbai           Edtech   \n",
       "2        Eduisfun     Mumbai           Edtech   \n",
       "3        Homelane    Chennai  Interior Design   \n",
       "4        Nu Genes  Telangana         Agritech   \n",
       "\n",
       "                                               About         Amount  \\\n",
       "0         Provides a range of male grooming products   6,300,000.00   \n",
       "1  A learning platform that provides topicbased j... 150,000,000.00   \n",
       "2             It aims to make learning fun via games  28,000,000.00   \n",
       "3              Provides interior designing solutions  30,000,000.00   \n",
       "4  It is a seed company engaged in production pro...   6,000,000.00   \n",
       "\n",
       "          Stage  Funding Year  \n",
       "0   Early Stage          2019  \n",
       "1     Mid Stage          2019  \n",
       "2  Other Stages          2019  \n",
       "3    Late Stage          2019  \n",
       "4   Early Stage          2019  "
      ]
     },
     "execution_count": 387,
     "metadata": {},
     "output_type": "execute_result"
    }
   ],
   "source": [
    "df2.head() # let's comfirm the data set by looking at the head before we save it "
   ]
  },
  {
   "cell_type": "code",
   "execution_count": 388,
   "metadata": {},
   "outputs": [],
   "source": [
    "df2.to_csv('df_19.csv', index=False) # here we are saving the set and naming it df_19.csv"
   ]
  },
  {
   "attachments": {},
   "cell_type": "markdown",
   "metadata": {},
   "source": [
    "NOW LET'S WORK ON THE THIRD DATA SET 2020\n",
    "\n",
    "### 2020 Data"
   ]
  },
  {
   "cell_type": "code",
   "execution_count": 389,
   "metadata": {},
   "outputs": [
    {
     "data": {
      "text/html": [
       "<div>\n",
       "<style scoped>\n",
       "    .dataframe tbody tr th:only-of-type {\n",
       "        vertical-align: middle;\n",
       "    }\n",
       "\n",
       "    .dataframe tbody tr th {\n",
       "        vertical-align: top;\n",
       "    }\n",
       "\n",
       "    .dataframe thead th {\n",
       "        text-align: right;\n",
       "    }\n",
       "</style>\n",
       "<table border=\"1\" class=\"dataframe\">\n",
       "  <thead>\n",
       "    <tr style=\"text-align: right;\">\n",
       "      <th></th>\n",
       "      <th>Company_Brand</th>\n",
       "      <th>Founded</th>\n",
       "      <th>HeadQuarter</th>\n",
       "      <th>Sector</th>\n",
       "      <th>What_it_does</th>\n",
       "      <th>Founders</th>\n",
       "      <th>Investor</th>\n",
       "      <th>Amount</th>\n",
       "      <th>Stage</th>\n",
       "      <th>column10</th>\n",
       "    </tr>\n",
       "  </thead>\n",
       "  <tbody>\n",
       "    <tr>\n",
       "      <th>0</th>\n",
       "      <td>Aqgromalin</td>\n",
       "      <td>2,019.00</td>\n",
       "      <td>Chennai</td>\n",
       "      <td>AgriTech</td>\n",
       "      <td>Cultivating Ideas for Profit</td>\n",
       "      <td>Prasanna Manogaran, Bharani C L</td>\n",
       "      <td>Angel investors</td>\n",
       "      <td>200,000.00</td>\n",
       "      <td>None</td>\n",
       "      <td>None</td>\n",
       "    </tr>\n",
       "    <tr>\n",
       "      <th>1</th>\n",
       "      <td>Krayonnz</td>\n",
       "      <td>2,019.00</td>\n",
       "      <td>Bangalore</td>\n",
       "      <td>EdTech</td>\n",
       "      <td>An academy-guardian-scholar centric ecosystem ...</td>\n",
       "      <td>Saurabh Dixit, Gurudutt Upadhyay</td>\n",
       "      <td>GSF Accelerator</td>\n",
       "      <td>100,000.00</td>\n",
       "      <td>Pre-seed</td>\n",
       "      <td>None</td>\n",
       "    </tr>\n",
       "    <tr>\n",
       "      <th>2</th>\n",
       "      <td>PadCare Labs</td>\n",
       "      <td>2,018.00</td>\n",
       "      <td>Pune</td>\n",
       "      <td>Hygiene management</td>\n",
       "      <td>Converting bio-hazardous waste to harmless waste</td>\n",
       "      <td>Ajinkya Dhariya</td>\n",
       "      <td>Venture Center</td>\n",
       "      <td>NaN</td>\n",
       "      <td>Pre-seed</td>\n",
       "      <td>None</td>\n",
       "    </tr>\n",
       "    <tr>\n",
       "      <th>3</th>\n",
       "      <td>NCOME</td>\n",
       "      <td>2,020.00</td>\n",
       "      <td>New Delhi</td>\n",
       "      <td>Escrow</td>\n",
       "      <td>Escrow-as-a-service platform</td>\n",
       "      <td>Ritesh Tiwari</td>\n",
       "      <td>Venture Catalysts, PointOne Capital</td>\n",
       "      <td>400,000.00</td>\n",
       "      <td>None</td>\n",
       "      <td>None</td>\n",
       "    </tr>\n",
       "    <tr>\n",
       "      <th>4</th>\n",
       "      <td>Gramophone</td>\n",
       "      <td>2,016.00</td>\n",
       "      <td>Indore</td>\n",
       "      <td>AgriTech</td>\n",
       "      <td>Gramophone is an AgTech platform enabling acce...</td>\n",
       "      <td>Ashish Rajan Singh, Harshit Gupta, Nishant Mah...</td>\n",
       "      <td>Siana Capital Management, Info Edge</td>\n",
       "      <td>340,000.00</td>\n",
       "      <td>None</td>\n",
       "      <td>None</td>\n",
       "    </tr>\n",
       "  </tbody>\n",
       "</table>\n",
       "</div>"
      ],
      "text/plain": [
       "  Company_Brand  Founded HeadQuarter              Sector  \\\n",
       "0    Aqgromalin 2,019.00     Chennai            AgriTech   \n",
       "1      Krayonnz 2,019.00   Bangalore              EdTech   \n",
       "2  PadCare Labs 2,018.00        Pune  Hygiene management   \n",
       "3         NCOME 2,020.00   New Delhi              Escrow   \n",
       "4    Gramophone 2,016.00      Indore            AgriTech   \n",
       "\n",
       "                                        What_it_does  \\\n",
       "0                       Cultivating Ideas for Profit   \n",
       "1  An academy-guardian-scholar centric ecosystem ...   \n",
       "2   Converting bio-hazardous waste to harmless waste   \n",
       "3                       Escrow-as-a-service platform   \n",
       "4  Gramophone is an AgTech platform enabling acce...   \n",
       "\n",
       "                                            Founders  \\\n",
       "0                    Prasanna Manogaran, Bharani C L   \n",
       "1                   Saurabh Dixit, Gurudutt Upadhyay   \n",
       "2                                    Ajinkya Dhariya   \n",
       "3                                      Ritesh Tiwari   \n",
       "4  Ashish Rajan Singh, Harshit Gupta, Nishant Mah...   \n",
       "\n",
       "                              Investor     Amount     Stage column10  \n",
       "0                      Angel investors 200,000.00      None     None  \n",
       "1                      GSF Accelerator 100,000.00  Pre-seed     None  \n",
       "2                       Venture Center        NaN  Pre-seed     None  \n",
       "3  Venture Catalysts, PointOne Capital 400,000.00      None     None  \n",
       "4  Siana Capital Management, Info Edge 340,000.00      None     None  "
      ]
     },
     "execution_count": 389,
     "metadata": {},
     "output_type": "execute_result"
    }
   ],
   "source": [
    "df3.head() #showing the first five rows"
   ]
  },
  {
   "cell_type": "code",
   "execution_count": 390,
   "metadata": {},
   "outputs": [
    {
     "name": "stdout",
     "output_type": "stream",
     "text": [
      "<class 'pandas.core.frame.DataFrame'>\n",
      "RangeIndex: 1055 entries, 0 to 1054\n",
      "Data columns (total 10 columns):\n",
      " #   Column         Non-Null Count  Dtype  \n",
      "---  ------         --------------  -----  \n",
      " 0   Company_Brand  1055 non-null   object \n",
      " 1   Founded        842 non-null    float64\n",
      " 2   HeadQuarter    961 non-null    object \n",
      " 3   Sector         1042 non-null   object \n",
      " 4   What_it_does   1055 non-null   object \n",
      " 5   Founders       1043 non-null   object \n",
      " 6   Investor       1017 non-null   object \n",
      " 7   Amount         801 non-null    float64\n",
      " 8   Stage          591 non-null    object \n",
      " 9   column10       2 non-null      object \n",
      "dtypes: float64(2), object(8)\n",
      "memory usage: 82.5+ KB\n"
     ]
    }
   ],
   "source": [
    "df3.info() # Get inforamation about the df3 dataframe"
   ]
  },
  {
   "cell_type": "code",
   "execution_count": 391,
   "metadata": {},
   "outputs": [
    {
     "data": {
      "text/plain": [
       "Index(['Company_Brand', 'Founded', 'HeadQuarter', 'Sector', 'What_it_does',\n",
       "       'Founders', 'Investor', 'Amount', 'Stage', 'column10'],\n",
       "      dtype='object')"
      ]
     },
     "execution_count": 391,
     "metadata": {},
     "output_type": "execute_result"
    }
   ],
   "source": [
    "df3.columns #accessing specific columns"
   ]
  },
  {
   "cell_type": "code",
   "execution_count": 392,
   "metadata": {},
   "outputs": [
    {
     "data": {
      "text/html": [
       "<div>\n",
       "<style scoped>\n",
       "    .dataframe tbody tr th:only-of-type {\n",
       "        vertical-align: middle;\n",
       "    }\n",
       "\n",
       "    .dataframe tbody tr th {\n",
       "        vertical-align: top;\n",
       "    }\n",
       "\n",
       "    .dataframe thead th {\n",
       "        text-align: right;\n",
       "    }\n",
       "</style>\n",
       "<table border=\"1\" class=\"dataframe\">\n",
       "  <thead>\n",
       "    <tr style=\"text-align: right;\">\n",
       "      <th></th>\n",
       "      <th>Company_Brand</th>\n",
       "      <th>HeadQuarter</th>\n",
       "      <th>Sector</th>\n",
       "      <th>What_it_does</th>\n",
       "      <th>Founders</th>\n",
       "      <th>Investor</th>\n",
       "      <th>Stage</th>\n",
       "      <th>column10</th>\n",
       "    </tr>\n",
       "  </thead>\n",
       "  <tbody>\n",
       "    <tr>\n",
       "      <th>count</th>\n",
       "      <td>1055</td>\n",
       "      <td>961</td>\n",
       "      <td>1042</td>\n",
       "      <td>1055</td>\n",
       "      <td>1043</td>\n",
       "      <td>1017</td>\n",
       "      <td>591</td>\n",
       "      <td>2</td>\n",
       "    </tr>\n",
       "    <tr>\n",
       "      <th>unique</th>\n",
       "      <td>905</td>\n",
       "      <td>77</td>\n",
       "      <td>302</td>\n",
       "      <td>990</td>\n",
       "      <td>927</td>\n",
       "      <td>848</td>\n",
       "      <td>42</td>\n",
       "      <td>2</td>\n",
       "    </tr>\n",
       "    <tr>\n",
       "      <th>top</th>\n",
       "      <td>Nykaa</td>\n",
       "      <td>Bangalore</td>\n",
       "      <td>Fintech</td>\n",
       "      <td>Provides online learning classes</td>\n",
       "      <td>Falguni Nayar</td>\n",
       "      <td>Venture Catalysts</td>\n",
       "      <td>Series A</td>\n",
       "      <td>Pre-Seed</td>\n",
       "    </tr>\n",
       "    <tr>\n",
       "      <th>freq</th>\n",
       "      <td>6</td>\n",
       "      <td>317</td>\n",
       "      <td>80</td>\n",
       "      <td>4</td>\n",
       "      <td>6</td>\n",
       "      <td>20</td>\n",
       "      <td>96</td>\n",
       "      <td>1</td>\n",
       "    </tr>\n",
       "  </tbody>\n",
       "</table>\n",
       "</div>"
      ],
      "text/plain": [
       "       Company_Brand HeadQuarter   Sector                      What_it_does  \\\n",
       "count           1055         961     1042                              1055   \n",
       "unique           905          77      302                               990   \n",
       "top            Nykaa   Bangalore  Fintech  Provides online learning classes   \n",
       "freq               6         317       80                                 4   \n",
       "\n",
       "             Founders           Investor     Stage  column10  \n",
       "count            1043               1017       591         2  \n",
       "unique            927                848        42         2  \n",
       "top     Falguni Nayar  Venture Catalysts  Series A  Pre-Seed  \n",
       "freq                6                 20        96         1  "
      ]
     },
     "execution_count": 392,
     "metadata": {},
     "output_type": "execute_result"
    }
   ],
   "source": [
    "df3.describe(include='object') # Getting general descriptive statistics of the data2 dataFrame"
   ]
  },
  {
   "cell_type": "code",
   "execution_count": 393,
   "metadata": {},
   "outputs": [
    {
     "data": {
      "text/html": [
       "<div>\n",
       "<style scoped>\n",
       "    .dataframe tbody tr th:only-of-type {\n",
       "        vertical-align: middle;\n",
       "    }\n",
       "\n",
       "    .dataframe tbody tr th {\n",
       "        vertical-align: top;\n",
       "    }\n",
       "\n",
       "    .dataframe thead th {\n",
       "        text-align: right;\n",
       "    }\n",
       "</style>\n",
       "<table border=\"1\" class=\"dataframe\">\n",
       "  <thead>\n",
       "    <tr style=\"text-align: right;\">\n",
       "      <th></th>\n",
       "      <th>Founded</th>\n",
       "      <th>Amount</th>\n",
       "    </tr>\n",
       "  </thead>\n",
       "  <tbody>\n",
       "    <tr>\n",
       "      <th>count</th>\n",
       "      <td>842.00</td>\n",
       "      <td>801.00</td>\n",
       "    </tr>\n",
       "    <tr>\n",
       "      <th>mean</th>\n",
       "      <td>2,015.36</td>\n",
       "      <td>113,042,969.54</td>\n",
       "    </tr>\n",
       "    <tr>\n",
       "      <th>std</th>\n",
       "      <td>4.10</td>\n",
       "      <td>2,476,634,939.89</td>\n",
       "    </tr>\n",
       "    <tr>\n",
       "      <th>min</th>\n",
       "      <td>1,973.00</td>\n",
       "      <td>12,700.00</td>\n",
       "    </tr>\n",
       "    <tr>\n",
       "      <th>25%</th>\n",
       "      <td>2,014.00</td>\n",
       "      <td>1,000,000.00</td>\n",
       "    </tr>\n",
       "    <tr>\n",
       "      <th>50%</th>\n",
       "      <td>2,016.00</td>\n",
       "      <td>3,000,000.00</td>\n",
       "    </tr>\n",
       "    <tr>\n",
       "      <th>75%</th>\n",
       "      <td>2,018.00</td>\n",
       "      <td>11,000,000.00</td>\n",
       "    </tr>\n",
       "    <tr>\n",
       "      <th>max</th>\n",
       "      <td>2,020.00</td>\n",
       "      <td>70,000,000,000.00</td>\n",
       "    </tr>\n",
       "  </tbody>\n",
       "</table>\n",
       "</div>"
      ],
      "text/plain": [
       "       Founded            Amount\n",
       "count   842.00            801.00\n",
       "mean  2,015.36    113,042,969.54\n",
       "std       4.10  2,476,634,939.89\n",
       "min   1,973.00         12,700.00\n",
       "25%   2,014.00      1,000,000.00\n",
       "50%   2,016.00      3,000,000.00\n",
       "75%   2,018.00     11,000,000.00\n",
       "max   2,020.00 70,000,000,000.00"
      ]
     },
     "execution_count": 393,
     "metadata": {},
     "output_type": "execute_result"
    }
   ],
   "source": [
    "df3.describe(include='float') # Getting general descriptive statistics for float columns"
   ]
  },
  {
   "attachments": {},
   "cell_type": "markdown",
   "metadata": {},
   "source": [
    "#### Handling Duplicated Data"
   ]
  },
  {
   "cell_type": "code",
   "execution_count": 394,
   "metadata": {},
   "outputs": [
    {
     "name": "stdout",
     "output_type": "stream",
     "text": [
      "Company_Brand: True\n",
      "Founded: True\n",
      "HeadQuarter: True\n",
      "Sector: True\n",
      "What_it_does: True\n",
      "Founders: True\n",
      "Investor: True\n",
      "Amount: True\n",
      "Stage: True\n"
     ]
    }
   ],
   "source": [
    "# checking for duplicated values \n",
    "\n",
    "columns_to_check3 = ['Company_Brand', 'Founded', 'HeadQuarter', 'Sector', 'What_it_does', 'Founders', 'Investor', 'Amount', 'Stage']\n",
    "for column2 in columns_to_check3:\n",
    "    has_duplicates2 = df3[column2].duplicated().any()\n",
    "    print(f'{column2}: {has_duplicates2}')"
   ]
  },
  {
   "cell_type": "code",
   "execution_count": 395,
   "metadata": {},
   "outputs": [],
   "source": [
    "# below we are dropping the duplicates rows \n",
    "\n",
    "df3.drop_duplicates(subset=['Company_Brand', 'Founded', 'HeadQuarter', 'Sector', 'What_it_does', 'Founders', 'Investor', 'Amount', 'Stage'], inplace=True)"
   ]
  },
  {
   "attachments": {},
   "cell_type": "markdown",
   "metadata": {},
   "source": [
    "#### Handling Categorical Data"
   ]
  },
  {
   "cell_type": "code",
   "execution_count": 396,
   "metadata": {},
   "outputs": [
    {
     "data": {
      "text/plain": [
       "Company_Brand       0\n",
       "Founded           213\n",
       "HeadQuarter        94\n",
       "Sector             13\n",
       "What_it_does        0\n",
       "Founders           12\n",
       "Investor           38\n",
       "Amount            253\n",
       "Stage             462\n",
       "column10         1050\n",
       "dtype: int64"
      ]
     },
     "execution_count": 396,
     "metadata": {},
     "output_type": "execute_result"
    }
   ],
   "source": [
    "df3.isna().sum() #looking for missing values in dataFrame 2"
   ]
  },
  {
   "cell_type": "code",
   "execution_count": 397,
   "metadata": {},
   "outputs": [
    {
     "data": {
      "text/plain": [
       "array(['Chennai', 'Bangalore', 'Pune', 'New Delhi', 'Indore', 'Hyderabad',\n",
       "       'Gurgaon', 'Belgaum', 'Noida', 'Mumbai', 'Andheri', 'Jaipur',\n",
       "       'Ahmedabad', 'Kolkata', 'Tirunelveli, Tamilnadu', 'Thane', None,\n",
       "       'Singapore', 'Gurugram', 'Gujarat', 'Haryana', 'Kerala', 'Jodhpur',\n",
       "       'Jaipur, Rajastan', 'Delhi', 'Frisco, Texas, United States',\n",
       "       'California', 'Dhingsara, Haryana', 'New York, United States',\n",
       "       'Patna', 'San Francisco, California, United States',\n",
       "       'San Francisco, United States', 'San Ramon, California',\n",
       "       'Paris, Ile-de-France, France', 'Plano, Texas, United States',\n",
       "       'Sydney', 'San Francisco Bay Area, Silicon Valley, West Coast',\n",
       "       'Bangaldesh', 'London, England, United Kingdom',\n",
       "       'Sydney, New South Wales, Australia', 'Milano, Lombardia, Italy',\n",
       "       'Palmwoods, Queensland, Australia', 'France',\n",
       "       'San Francisco Bay Area, West Coast, Western US',\n",
       "       'Trivandrum, Kerala, India', 'Cochin', 'Samastipur, Bihar',\n",
       "       'Irvine, California, United States', 'Tumkur, Karnataka',\n",
       "       'Newcastle Upon Tyne, Newcastle upon Tyne, United Kingdom',\n",
       "       'Shanghai, China', 'Jiaxing, Zhejiang, China', 'Rajastan', 'Kochi',\n",
       "       'Ludhiana', 'Dehradun', 'San Franciscao', 'San Francisco',\n",
       "       'Tangerang, Jawa Barat, Indonesia', 'Berlin', 'Seattle', 'Riyadh',\n",
       "       'Seoul', 'New York', 'Bangkok', 'Kanpur', 'Chandigarh', 'Warangal',\n",
       "       'Hyderebad', 'Odisha', 'Bihar', 'Goa', 'Tamil Nadu',\n",
       "       'Uttar Pradesh', 'Bhopal', 'Banglore', 'Coimbatore', 'Bengaluru'],\n",
       "      dtype=object)"
      ]
     },
     "execution_count": 397,
     "metadata": {},
     "output_type": "execute_result"
    }
   ],
   "source": [
    "df3['HeadQuarter'].unique() #displaying the unique values found in the 'HeadQuarter' column."
   ]
  },
  {
   "cell_type": "code",
   "execution_count": 398,
   "metadata": {},
   "outputs": [],
   "source": [
    "# we are replacing the data in the Headquater by researching from google\n",
    "\n",
    "df3.loc[df3['Company_Brand'] == 'Habitat', 'HeadQuarter'] = 'Bengaluru'\n",
    "df3.loc[df3['Company_Brand'] == 'Wealth Bucket', 'HeadQuarter'] = 'Bengaluru'\n",
    "df3.loc[df3['Company_Brand'] == 'EpiFi', 'HeadQuarter'] = 'New Delhi'\n",
    "df3.loc[df3['Company_Brand'] == 'XpressBees', 'HeadQuarter'] = 'Pune'\n",
    "df3.loc[df3['Company_Brand'] == 'Shiksha', 'HeadQuarter'] = 'Noida'\n",
    "df3.loc[df3['Company_Brand'] == 'Byju', 'HeadQuarter'] = 'Bengaluru'\n",
    "df3.loc[df3['Company_Brand'] == 'Zomato', 'HeadQuarter'] = 'Gurugram'\n",
    "df3.loc[df3['Company_Brand'] == 'Rentomojo', 'HeadQuarter'] = 'Bengaluru'\n",
    "df3.loc[df3['Company_Brand'] == 'Mamaearth', 'HeadQuarter'] = 'Gurgaon'\n",
    "df3.loc[df3['Company_Brand'] == 'HaikuJAM', 'HeadQuarter'] = 'Mumbai'\n",
    "df3.loc[df3['Company_Brand'] == 'Testbook', 'HeadQuarter'] = 'Mumbai'\n",
    "df3.loc[df3['Company_Brand'] == 'Techbooze', 'HeadQuarter'] = 'New Delhi'\n",
    "df3.loc[df3['Company_Brand'] == 'Rheo', 'HeadQuarter'] = 'Bengaluru'\n",
    "df3.loc[df3['Company_Brand'] == 'Klub', 'HeadQuarter'] = 'Bengaluru'\n",
    "df3.loc[df3['Company_Brand'] == 'TechnifyBiz', 'HeadQuarter'] = 'New Delhi'\n",
    "df3.loc[df3['Company_Brand'] == 'Aesthetic Nutrition', 'HeadQuarter'] = 'New Delhi'\n",
    "df3.loc[df3['Company_Brand'] == 'Gamerji', 'HeadQuarter'] = 'Ahmedabad'\n",
    "df3.loc[df3['Company_Brand'] == 'Phenom People', 'HeadQuarter'] = 'Hyderabad'\n",
    "df3.loc[df3['Company_Brand'] == 'Teach Us', 'HeadQuarter'] = 'Hyderabad'\n",
    "df3.loc[df3['Company_Brand'] == 'Invento Robotics', 'HeadQuarter'] = 'Bengaluru'\n",
    "df3.loc[df3['Company_Brand'] == 'Kristal AI', 'HeadQuarter'] = 'Bengaluru'\n",
    "df3.loc[df3['Company_Brand'] == 'Samya AI', 'HeadQuarter'] = 'Bengaluru'\n",
    "df3.loc[df3['Company_Brand'] == 'Skylo', 'HeadQuarter'] = 'Bengaluru'\n",
    "df3.loc[df3['Company_Brand'] == 'SmartKarrot', 'HeadQuarter'] = 'Bengaluru'\n",
    "df3.loc[df3['Company_Brand'] == 'Park+', 'HeadQuarter'] = 'Gurgaon'\n",
    "df3.loc[df3['Company_Brand'] == 'LogiNext', 'HeadQuarter'] = 'Mumbai'\n",
    "df3.loc[df3['Company_Brand'] == 'MoneyTap', 'HeadQuarter'] = 'Bengaluru'\n",
    "df3.loc[df3['Company_Brand'] == 'RACEnergy', 'HeadQuarter'] = 'Hyderabad'\n",
    "df3.loc[df3['Company_Brand'] == 'Oye! Rickshaw', 'HeadQuarter'] = 'New Delhi'\n",
    "df3.loc[df3['Company_Brand'] == 'Fleetx', 'HeadQuarter'] = 'Gurgaon'\n",
    "df3.loc[df3['Company_Brand'] == 'Raskik', 'HeadQuarter'] = 'Gurgaon'\n",
    "df3.loc[df3['Company_Brand'] == 'Pravasirojgar', 'HeadQuarter'] = 'Mumbai'\n",
    "df3.loc[df3['Company_Brand'] == 'Kaagaz Scanner', 'HeadQuarter'] = 'Gurugram'\n",
    "df3.loc[df3['Company_Brand'] == 'Exprs', 'HeadQuarter'] = 'Madhapur'\n",
    "df3.loc[df3['Company_Brand'] == 'Verloop.io', 'HeadQuarter'] = 'Bengaluru'\n",
    "df3.loc[df3['Company_Brand'] == 'Otipy', 'HeadQuarter'] = 'Gurugram'\n",
    "df3.loc[df3['Company_Brand'] == 'Daalchini', 'HeadQuarter'] = 'New Delhi'\n",
    "df3.loc[df3['Company_Brand'] == 'Suno India', 'HeadQuarter'] = 'Hyderabad'\n",
    "df3.loc[df3['Company_Brand'] == 'Eden Smart Homes', 'HeadQuarter'] = 'New Delhi'\n",
    "df3.loc[df3['Company_Brand'] == 'Bijnis', 'HeadQuarter'] = 'New Delhi'\n",
    "df3.loc[df3['Company_Brand'] == 'Oziva', 'HeadQuarter'] = 'Mumbai'\n",
    "df3.loc[df3['Company_Brand'] == 'Yulu', 'HeadQuarter'] = 'Bengaluru'\n",
    "df3.loc[df3['Company_Brand'] == 'Peppermint', 'HeadQuarter'] = 'Mumbai'\n",
    "df3.loc[df3['Company_Brand'] == 'Jiffy ai', 'HeadQuarter'] = 'Bengaluru'\n",
    "df3.loc[df3['Company_Brand'] == 'Postman', 'HeadQuarter'] = 'Bengaluru'\n",
    "df3.loc[df3['Company_Brand'] == 'F5', 'HeadQuarter'] = 'Bengaluru'\n",
    "df3.loc[df3['Company_Brand'] == 'Myelin Foundry', 'HeadQuarter'] = 'Bengaluru'\n",
    "df3.loc[df3['Company_Brand'] == 'iNurture Education', 'HeadQuarter'] = 'Bengaluru'\n",
    "df3.loc[df3['Company_Brand'] == 'Credgencies', 'HeadQuarter'] = 'Gurugram'\n",
    "df3.loc[df3['Company_Brand'] == 'Vahak', 'HeadQuarter'] = 'Bengaluru'\n",
    "df3.loc[df3['Company_Brand'] == 'Illumnus', 'HeadQuarter'] = 'Gurgaon'\n",
    "df3.loc[df3['Company_Brand'] == 'Juicy Chemistry', 'HeadQuarter'] = 'Coimbatore'\n",
    "df3.loc[df3['Company_Brand'] == 'Shiprocket', 'HeadQuarter'] = 'New Delhi'\n",
    "df3.loc[df3['Company_Brand'] == 'Phable', 'HeadQuarter'] = 'Bengaluru'\n",
    "df3.loc[df3['Company_Brand'] == 'Generic Aadhaar', 'HeadQuarter'] = 'Thane'\n",
    "df3.loc[df3['Company_Brand'] == 'Nium', 'HeadQuarter'] = 'Mumbai'\n",
    "df3.loc[df3['Company_Brand'] == 'DailyHunt', 'HeadQuarter'] = 'Bengaluru'\n",
    "df3.loc[df3['Company_Brand'] == 'Pedagogy', 'HeadQuarter'] = 'Ahmedabad'\n",
    "df3.loc[df3['Company_Brand'] == 'Sarva', 'HeadQuarter'] = 'Mumbai'\n",
    "df3.loc[df3['Company_Brand'] == 'NIRA', 'HeadQuarter'] = 'Bengaluru'\n",
    "df3.loc[df3['Company_Brand'] == 'Indusface', 'HeadQuarter'] = 'Bengaluru'\n",
    "df3.loc[df3['Company_Brand'] == 'Morning Context', 'HeadQuarter'] = 'Singapore'\n",
    "df3.loc[df3['Company_Brand'] == 'Savvy Co op', 'HeadQuarter'] = 'New York'\n",
    "df3.loc[df3['Company_Brand'] == 'BLive', 'HeadQuarter'] = 'Bengaluru'\n",
    "df3.loc[df3['Company_Brand'] == 'Toch', 'HeadQuarter'] = 'Mumbai'\n",
    "df3.loc[df3['Company_Brand'] == 'Setu', 'HeadQuarter'] = 'Bengaluru'\n",
    "df3.loc[df3['Company_Brand'] == 'Rebel Foods', 'HeadQuarter'] = 'Mumbai'\n",
    "df3.loc[df3['Company_Brand'] == 'Amica', 'HeadQuarter'] = 'Mumbai'\n",
    "df3.loc[df3['Company_Brand'] == 'Fingerlix', 'HeadQuarter'] = 'Mumbai'\n",
    "df3.loc[df3['Company_Brand'] == 'Zupee', 'HeadQuarter'] = 'Gurugram'\n",
    "df3.loc[df3['Company_Brand'] == 'DeHaat', 'HeadQuarter'] = 'Patna'\n",
    "df3.loc[df3['Company_Brand'] == 'Akna Medical', 'HeadQuarter'] = 'Bengaluru'\n",
    "df3.loc[df3['Company_Brand'] == 'RaRa Delivery', 'HeadQuarter'] = 'Jakarta'\n",
    "df3.loc[df3['Company_Brand'] == 'Obviously AI', 'HeadQuarter'] = 'San Francisco'\n",
    "df3.loc[df3['Company_Brand'] == 'CoinDCX', 'HeadQuarter'] = 'Mumbai'\n",
    "df3.loc[df3['Company_Brand'] == 'NuNu TV', 'HeadQuarter'] = 'New Delhi'\n",
    "df3.loc[df3['Company_Brand'] == 'Fintso', 'HeadQuarter'] = 'Mumbai'\n",
    "df3.loc[df3['Company_Brand'] == 'Smart Coin', 'HeadQuarter'] = 'Bengaluru'\n",
    "df3.loc[df3['Company_Brand'] == 'Shop101', 'HeadQuarter'] = 'Mumbai'\n",
    "df3.loc[df3['Company_Brand'] == 'Neeman', 'HeadQuarter'] = 'Hyderabad'\n",
    "df3.loc[df3['Company_Brand'] == 'Invideo', 'HeadQuarter'] = 'Bengaluru'\n",
    "df3.loc[df3['Company_Brand'] == 'AvalonMeta', 'HeadQuarter'] = 'Bengaluru'\n",
    "df3.loc[df3['Company_Brand'] == 'SmartVizX', 'HeadQuarter'] = 'Noida'\n",
    "df3.loc[df3['Company_Brand'] == 'Carbon Clean', 'HeadQuarter'] = 'Bengaluru'\n",
    "df3.loc[df3['Company_Brand'] == 'Onsitego', 'HeadQuarter'] = 'Mumbai'\n",
    "df3.loc[df3['Company_Brand'] == 'Nova Credit', 'HeadQuarter'] = 'New Delhi'\n",
    "df3.loc[df3['Company_Brand'] == 'HempStreet', 'HeadQuarter'] = 'New Delhi'\n",
    "df3.loc[df3['Company_Brand'] == 'Classplus', 'HeadQuarter'] = 'Noida'\n",
    "df3.loc[df3['Company_Brand'] == 'Chaayos', 'HeadQuarter'] = 'New Delhi'\n",
    "df3.loc[df3['Company_Brand'] == 'Altor', 'HeadQuarter'] = 'Bengaluru'\n",
    "df3.loc[df3['Company_Brand'] == 'WorkIndia', 'HeadQuarter'] = 'Mumbai'"
   ]
  },
  {
   "cell_type": "code",
   "execution_count": 399,
   "metadata": {},
   "outputs": [],
   "source": [
    "# below we are reformating the Headquater column with their official values\n",
    "df3.loc[~df3['HeadQuarter'].str.contains('New Delhi', na=False), 'HeadQuarter'] = df3['HeadQuarter'].str.replace('Delhi', 'New Delhi')\n",
    "df3[\"HeadQuarter\"] = df3[\"HeadQuarter\"].replace (['Bangalore','Banglore','Bangalore City'], 'Bengaluru')\n",
    "df3['HeadQuarter'] = df3['HeadQuarter'].replace (['Gurgaon'], 'Gurugram')"
   ]
  },
  {
   "cell_type": "code",
   "execution_count": 400,
   "metadata": {},
   "outputs": [
    {
     "data": {
      "text/plain": [
       "Pre-Seed      1\n",
       "Seed Round    1\n",
       "Name: column10, dtype: int64"
      ]
     },
     "execution_count": 400,
     "metadata": {},
     "output_type": "execute_result"
    }
   ],
   "source": [
    "df3[\"column10\"].value_counts() # Calculate the frequency count of unique values in the \"Amount\" column"
   ]
  },
  {
   "cell_type": "code",
   "execution_count": 401,
   "metadata": {},
   "outputs": [
    {
     "data": {
      "text/html": [
       "<div>\n",
       "<style scoped>\n",
       "    .dataframe tbody tr th:only-of-type {\n",
       "        vertical-align: middle;\n",
       "    }\n",
       "\n",
       "    .dataframe tbody tr th {\n",
       "        vertical-align: top;\n",
       "    }\n",
       "\n",
       "    .dataframe thead th {\n",
       "        text-align: right;\n",
       "    }\n",
       "</style>\n",
       "<table border=\"1\" class=\"dataframe\">\n",
       "  <thead>\n",
       "    <tr style=\"text-align: right;\">\n",
       "      <th></th>\n",
       "      <th>Company_Brand</th>\n",
       "      <th>Founded</th>\n",
       "      <th>HeadQuarter</th>\n",
       "      <th>Sector</th>\n",
       "      <th>What_it_does</th>\n",
       "      <th>Founders</th>\n",
       "      <th>Investor</th>\n",
       "      <th>Amount</th>\n",
       "      <th>Stage</th>\n",
       "      <th>column10</th>\n",
       "    </tr>\n",
       "  </thead>\n",
       "  <tbody>\n",
       "    <tr>\n",
       "      <th>611</th>\n",
       "      <td>Walrus</td>\n",
       "      <td>2,019.00</td>\n",
       "      <td>Bengaluru</td>\n",
       "      <td>Fintech</td>\n",
       "      <td>It provides banking solutions for teens and yo...</td>\n",
       "      <td>Bhagaban Behera, Sriharsha Shetty, Nakul Kelkar</td>\n",
       "      <td>Better Capital</td>\n",
       "      <td>NaN</td>\n",
       "      <td>Pre-Seed</td>\n",
       "      <td>Pre-Seed</td>\n",
       "    </tr>\n",
       "    <tr>\n",
       "      <th>613</th>\n",
       "      <td>goDutch</td>\n",
       "      <td>NaN</td>\n",
       "      <td>Mumbai</td>\n",
       "      <td>Fintech</td>\n",
       "      <td>Group Payments platform</td>\n",
       "      <td>Aniruddh Singh, Riyaz Khan, Sagar Sheth</td>\n",
       "      <td>Matrix India, Y Combinator, Global Founders Ca...</td>\n",
       "      <td>1,700,000.00</td>\n",
       "      <td>Seed Round</td>\n",
       "      <td>Seed Round</td>\n",
       "    </tr>\n",
       "  </tbody>\n",
       "</table>\n",
       "</div>"
      ],
      "text/plain": [
       "    Company_Brand  Founded HeadQuarter   Sector  \\\n",
       "611        Walrus 2,019.00   Bengaluru  Fintech   \n",
       "613       goDutch      NaN      Mumbai  Fintech   \n",
       "\n",
       "                                          What_it_does  \\\n",
       "611  It provides banking solutions for teens and yo...   \n",
       "613                            Group Payments platform   \n",
       "\n",
       "                                            Founders  \\\n",
       "611  Bhagaban Behera, Sriharsha Shetty, Nakul Kelkar   \n",
       "613          Aniruddh Singh, Riyaz Khan, Sagar Sheth   \n",
       "\n",
       "                                              Investor       Amount  \\\n",
       "611                                     Better Capital          NaN   \n",
       "613  Matrix India, Y Combinator, Global Founders Ca... 1,700,000.00   \n",
       "\n",
       "          Stage    column10  \n",
       "611    Pre-Seed    Pre-Seed  \n",
       "613  Seed Round  Seed Round  "
      ]
     },
     "execution_count": 401,
     "metadata": {},
     "output_type": "execute_result"
    }
   ],
   "source": [
    "df3[df3['column10'].isin(['Pre-Seed','Seed Round'])] #checking if the values in the 'column10' column match either 'Pre-Seed' or 'Seed Round'."
   ]
  },
  {
   "cell_type": "code",
   "execution_count": 402,
   "metadata": {},
   "outputs": [
    {
     "data": {
      "text/plain": [
       "<bound method Series.unique of 0                 AgriTech\n",
       "1                   EdTech\n",
       "2       Hygiene management\n",
       "3                   Escrow\n",
       "4                 AgriTech\n",
       "               ...        \n",
       "1050                Edtech\n",
       "1051               Fintech\n",
       "1052             Cosmetics\n",
       "1053             Transport\n",
       "1054              Logitech\n",
       "Name: Sector, Length: 1052, dtype: object>"
      ]
     },
     "execution_count": 402,
     "metadata": {},
     "output_type": "execute_result"
    }
   ],
   "source": [
    "df3['Sector'].unique # ckecking for unique values in the Sector column "
   ]
  },
  {
   "cell_type": "code",
   "execution_count": 403,
   "metadata": {},
   "outputs": [
    {
     "data": {
      "text/html": [
       "<div>\n",
       "<style scoped>\n",
       "    .dataframe tbody tr th:only-of-type {\n",
       "        vertical-align: middle;\n",
       "    }\n",
       "\n",
       "    .dataframe tbody tr th {\n",
       "        vertical-align: top;\n",
       "    }\n",
       "\n",
       "    .dataframe thead th {\n",
       "        text-align: right;\n",
       "    }\n",
       "</style>\n",
       "<table border=\"1\" class=\"dataframe\">\n",
       "  <thead>\n",
       "    <tr style=\"text-align: right;\">\n",
       "      <th></th>\n",
       "      <th>Company_Brand</th>\n",
       "      <th>Founded</th>\n",
       "      <th>HeadQuarter</th>\n",
       "      <th>Sector</th>\n",
       "      <th>What_it_does</th>\n",
       "      <th>Founders</th>\n",
       "      <th>Investor</th>\n",
       "      <th>Amount</th>\n",
       "      <th>Stage</th>\n",
       "      <th>column10</th>\n",
       "    </tr>\n",
       "  </thead>\n",
       "  <tbody>\n",
       "    <tr>\n",
       "      <th>518</th>\n",
       "      <td>Text Mercato</td>\n",
       "      <td>2,015.00</td>\n",
       "      <td>Bengaluru</td>\n",
       "      <td>None</td>\n",
       "      <td>Cataloguing startup that serves ecommerce plat...</td>\n",
       "      <td>Kiran Ramakrishna, Subhajit Mukherjee</td>\n",
       "      <td>1Crowd</td>\n",
       "      <td>649,600.00</td>\n",
       "      <td>Series A</td>\n",
       "      <td>None</td>\n",
       "    </tr>\n",
       "    <tr>\n",
       "      <th>569</th>\n",
       "      <td>Magicpin</td>\n",
       "      <td>2,015.00</td>\n",
       "      <td>Gurugram</td>\n",
       "      <td>None</td>\n",
       "      <td>It is a local discovery, rewards, and commerce...</td>\n",
       "      <td>Anshoo Sharma, Brij Bhushan</td>\n",
       "      <td>Samsung Venture Investment Corporation</td>\n",
       "      <td>7,000,000.00</td>\n",
       "      <td>Series D</td>\n",
       "      <td>None</td>\n",
       "    </tr>\n",
       "    <tr>\n",
       "      <th>687</th>\n",
       "      <td>Leap Club</td>\n",
       "      <td>NaN</td>\n",
       "      <td>Gurugram</td>\n",
       "      <td>None</td>\n",
       "      <td>Community led professional network for women</td>\n",
       "      <td>Ragini Das, Anand Sinha</td>\n",
       "      <td>Whiteboard Capital, FirstCheque, Artha India V...</td>\n",
       "      <td>340,000.00</td>\n",
       "      <td>Pre seed round</td>\n",
       "      <td>None</td>\n",
       "    </tr>\n",
       "    <tr>\n",
       "      <th>699</th>\n",
       "      <td>Juicy Chemistry</td>\n",
       "      <td>2,014.00</td>\n",
       "      <td>Coimbatore</td>\n",
       "      <td>None</td>\n",
       "      <td>It focuses on organic based skincare products</td>\n",
       "      <td>Pritesh Asher</td>\n",
       "      <td>Akya Ventures</td>\n",
       "      <td>650,000.00</td>\n",
       "      <td>Series A</td>\n",
       "      <td>None</td>\n",
       "    </tr>\n",
       "    <tr>\n",
       "      <th>707</th>\n",
       "      <td>Magicpin</td>\n",
       "      <td>2,015.00</td>\n",
       "      <td>Gurugram</td>\n",
       "      <td>None</td>\n",
       "      <td>It is a local discovery, rewards, and commerce...</td>\n",
       "      <td>Anshoo Sharma, Brij Bhushan</td>\n",
       "      <td>Lightspeed Venture Partners</td>\n",
       "      <td>3,879,000.00</td>\n",
       "      <td>None</td>\n",
       "      <td>None</td>\n",
       "    </tr>\n",
       "    <tr>\n",
       "      <th>732</th>\n",
       "      <td>Servify</td>\n",
       "      <td>NaN</td>\n",
       "      <td>Mumbai</td>\n",
       "      <td>None</td>\n",
       "      <td>It is a technology company which serves as a p...</td>\n",
       "      <td>Sreevathsa Prabhakar</td>\n",
       "      <td>Barkawi</td>\n",
       "      <td>250,000.00</td>\n",
       "      <td>None</td>\n",
       "      <td>None</td>\n",
       "    </tr>\n",
       "    <tr>\n",
       "      <th>746</th>\n",
       "      <td>Wagonfly</td>\n",
       "      <td>2,018.00</td>\n",
       "      <td>Bengaluru</td>\n",
       "      <td>None</td>\n",
       "      <td>Contactless shopping and delivery experience b...</td>\n",
       "      <td>Raghavendra Prasad</td>\n",
       "      <td>Investment Trust of India</td>\n",
       "      <td>500,000.00</td>\n",
       "      <td>None</td>\n",
       "      <td>None</td>\n",
       "    </tr>\n",
       "    <tr>\n",
       "      <th>763</th>\n",
       "      <td>DrinkPrime</td>\n",
       "      <td>NaN</td>\n",
       "      <td>Bengaluru</td>\n",
       "      <td>None</td>\n",
       "      <td>Water purifier subscription service</td>\n",
       "      <td>Manas Ranjan Hota, Vijender Reddy</td>\n",
       "      <td>Abhishek Goyal, Bharat Jaisinghani, FirstCheque</td>\n",
       "      <td>NaN</td>\n",
       "      <td>Seed Round</td>\n",
       "      <td>None</td>\n",
       "    </tr>\n",
       "    <tr>\n",
       "      <th>809</th>\n",
       "      <td>Kitchens Centre</td>\n",
       "      <td>2,019.00</td>\n",
       "      <td>New Delhi</td>\n",
       "      <td>None</td>\n",
       "      <td>Offers solutions to cloud kitchens by providin...</td>\n",
       "      <td>Lakshay Jain</td>\n",
       "      <td>AngelList India</td>\n",
       "      <td>500,000.00</td>\n",
       "      <td>Seed Round</td>\n",
       "      <td>None</td>\n",
       "    </tr>\n",
       "    <tr>\n",
       "      <th>918</th>\n",
       "      <td>Innoviti</td>\n",
       "      <td>NaN</td>\n",
       "      <td>Bengaluru</td>\n",
       "      <td>None</td>\n",
       "      <td>Digital payments solutions company</td>\n",
       "      <td>Rajeev Agrawal</td>\n",
       "      <td>FMO</td>\n",
       "      <td>5,000,000.00</td>\n",
       "      <td>None</td>\n",
       "      <td>None</td>\n",
       "    </tr>\n",
       "    <tr>\n",
       "      <th>926</th>\n",
       "      <td>Brick&amp;Bolt</td>\n",
       "      <td>2,018.00</td>\n",
       "      <td>Bengaluru</td>\n",
       "      <td>None</td>\n",
       "      <td>Operates in the residential construction space</td>\n",
       "      <td>Jayesh Rajpurohit, Arpit Rajpurohit</td>\n",
       "      <td>Surge</td>\n",
       "      <td>1,500,000.00</td>\n",
       "      <td>Pre series A</td>\n",
       "      <td>None</td>\n",
       "    </tr>\n",
       "    <tr>\n",
       "      <th>1012</th>\n",
       "      <td>Toddle</td>\n",
       "      <td>NaN</td>\n",
       "      <td>Bengaluru</td>\n",
       "      <td>None</td>\n",
       "      <td>Collaboration and productivity platform for te...</td>\n",
       "      <td>Deepanshu Arora, Parita Parekh</td>\n",
       "      <td>Matrix Partners India</td>\n",
       "      <td>NaN</td>\n",
       "      <td>None</td>\n",
       "      <td>None</td>\n",
       "    </tr>\n",
       "    <tr>\n",
       "      <th>1031</th>\n",
       "      <td>HaikuJAM</td>\n",
       "      <td>NaN</td>\n",
       "      <td>Mumbai</td>\n",
       "      <td>None</td>\n",
       "      <td>Creative writing mobile platform</td>\n",
       "      <td>Neer Sharma</td>\n",
       "      <td>Lightbox. Social Capital, Dunce Capital</td>\n",
       "      <td>3,400,000.00</td>\n",
       "      <td>None</td>\n",
       "      <td>None</td>\n",
       "    </tr>\n",
       "  </tbody>\n",
       "</table>\n",
       "</div>"
      ],
      "text/plain": [
       "        Company_Brand  Founded HeadQuarter Sector  \\\n",
       "518      Text Mercato 2,015.00   Bengaluru   None   \n",
       "569          Magicpin 2,015.00    Gurugram   None   \n",
       "687         Leap Club      NaN    Gurugram   None   \n",
       "699   Juicy Chemistry 2,014.00  Coimbatore   None   \n",
       "707          Magicpin 2,015.00    Gurugram   None   \n",
       "732           Servify      NaN      Mumbai   None   \n",
       "746          Wagonfly 2,018.00   Bengaluru   None   \n",
       "763        DrinkPrime      NaN   Bengaluru   None   \n",
       "809   Kitchens Centre 2,019.00   New Delhi   None   \n",
       "918          Innoviti      NaN   Bengaluru   None   \n",
       "926        Brick&Bolt 2,018.00   Bengaluru   None   \n",
       "1012           Toddle      NaN   Bengaluru   None   \n",
       "1031         HaikuJAM      NaN      Mumbai   None   \n",
       "\n",
       "                                           What_it_does  \\\n",
       "518   Cataloguing startup that serves ecommerce plat...   \n",
       "569   It is a local discovery, rewards, and commerce...   \n",
       "687        Community led professional network for women   \n",
       "699       It focuses on organic based skincare products   \n",
       "707   It is a local discovery, rewards, and commerce...   \n",
       "732   It is a technology company which serves as a p...   \n",
       "746   Contactless shopping and delivery experience b...   \n",
       "763                 Water purifier subscription service   \n",
       "809   Offers solutions to cloud kitchens by providin...   \n",
       "918                  Digital payments solutions company   \n",
       "926      Operates in the residential construction space   \n",
       "1012  Collaboration and productivity platform for te...   \n",
       "1031                   Creative writing mobile platform   \n",
       "\n",
       "                                   Founders  \\\n",
       "518   Kiran Ramakrishna, Subhajit Mukherjee   \n",
       "569             Anshoo Sharma, Brij Bhushan   \n",
       "687                 Ragini Das, Anand Sinha   \n",
       "699                           Pritesh Asher   \n",
       "707             Anshoo Sharma, Brij Bhushan   \n",
       "732                    Sreevathsa Prabhakar   \n",
       "746                      Raghavendra Prasad   \n",
       "763       Manas Ranjan Hota, Vijender Reddy   \n",
       "809                            Lakshay Jain   \n",
       "918                          Rajeev Agrawal   \n",
       "926     Jayesh Rajpurohit, Arpit Rajpurohit   \n",
       "1012         Deepanshu Arora, Parita Parekh   \n",
       "1031                            Neer Sharma   \n",
       "\n",
       "                                               Investor       Amount  \\\n",
       "518                                              1Crowd   649,600.00   \n",
       "569              Samsung Venture Investment Corporation 7,000,000.00   \n",
       "687   Whiteboard Capital, FirstCheque, Artha India V...   340,000.00   \n",
       "699                                       Akya Ventures   650,000.00   \n",
       "707                         Lightspeed Venture Partners 3,879,000.00   \n",
       "732                                             Barkawi   250,000.00   \n",
       "746                           Investment Trust of India   500,000.00   \n",
       "763     Abhishek Goyal, Bharat Jaisinghani, FirstCheque          NaN   \n",
       "809                                     AngelList India   500,000.00   \n",
       "918                                                 FMO 5,000,000.00   \n",
       "926                                               Surge 1,500,000.00   \n",
       "1012                              Matrix Partners India          NaN   \n",
       "1031            Lightbox. Social Capital, Dunce Capital 3,400,000.00   \n",
       "\n",
       "               Stage column10  \n",
       "518         Series A     None  \n",
       "569         Series D     None  \n",
       "687   Pre seed round     None  \n",
       "699         Series A     None  \n",
       "707             None     None  \n",
       "732             None     None  \n",
       "746             None     None  \n",
       "763       Seed Round     None  \n",
       "809       Seed Round     None  \n",
       "918             None     None  \n",
       "926     Pre series A     None  \n",
       "1012            None     None  \n",
       "1031            None     None  "
      ]
     },
     "execution_count": 403,
     "metadata": {},
     "output_type": "execute_result"
    }
   ],
   "source": [
    "df3[df3['Sector'].isnull()] # we are checking for null values"
   ]
  },
  {
   "cell_type": "code",
   "execution_count": 404,
   "metadata": {},
   "outputs": [],
   "source": [
    "# we replacing the null values with the actual data by searching from google\n",
    "\n",
    "df3.loc[df3['Company_Brand'] == 'Text Mercato', 'Sector'] = 'E-commerce Technology'\n",
    "df3.loc[df3['Company_Brand'] == 'Magicpin', 'Sector'] = 'Hyperlocal Services'\n",
    "df3.loc[df3['Company_Brand'] == 'Leap Club', 'Sector'] = 'Professional Networking'\n",
    "df3.loc[df3['Company_Brand'] == 'Juicy Chemistry', 'Sector'] = 'Organic Skincare'\n",
    "df3.loc[df3['Company_Brand'] == 'Servify', 'Sector'] = 'Technology Services'\n",
    "df3.loc[df3['Company_Brand'] == 'Wagonfly', 'Sector'] = 'Retail Technology'\n",
    "df3.loc[df3['Company_Brand'] == 'DrinkPrime', 'Sector'] = 'Water Technology'\n",
    "df3.loc[df3['Company_Brand'] == 'Kitchens Centre', 'Sector'] = 'Food Service Infrastructure'\n",
    "df3.loc[df3['Company_Brand'] == 'Innoviti', 'Sector'] = 'Fintech'\n",
    "df3.loc[df3['Company_Brand'] == 'Brick&Bolt', 'Sector'] = 'Construction and Real Estate'\n",
    "df3.loc[df3['Company_Brand'] == 'Toddle', 'Sector'] = 'EdTech'\n",
    "df3.loc[df3['Company_Brand'] == 'HaikuJAM', 'Sector'] = 'EdTech'"
   ]
  },
  {
   "cell_type": "code",
   "execution_count": 405,
   "metadata": {},
   "outputs": [
    {
     "data": {
      "text/html": [
       "<div>\n",
       "<style scoped>\n",
       "    .dataframe tbody tr th:only-of-type {\n",
       "        vertical-align: middle;\n",
       "    }\n",
       "\n",
       "    .dataframe tbody tr th {\n",
       "        vertical-align: top;\n",
       "    }\n",
       "\n",
       "    .dataframe thead th {\n",
       "        text-align: right;\n",
       "    }\n",
       "</style>\n",
       "<table border=\"1\" class=\"dataframe\">\n",
       "  <thead>\n",
       "    <tr style=\"text-align: right;\">\n",
       "      <th></th>\n",
       "      <th>Company_Brand</th>\n",
       "      <th>Founded</th>\n",
       "      <th>HeadQuarter</th>\n",
       "      <th>Sector</th>\n",
       "      <th>What_it_does</th>\n",
       "      <th>Founders</th>\n",
       "      <th>Investor</th>\n",
       "      <th>Amount</th>\n",
       "      <th>Stage</th>\n",
       "      <th>column10</th>\n",
       "    </tr>\n",
       "  </thead>\n",
       "  <tbody>\n",
       "  </tbody>\n",
       "</table>\n",
       "</div>"
      ],
      "text/plain": [
       "Empty DataFrame\n",
       "Columns: [Company_Brand, Founded, HeadQuarter, Sector, What_it_does, Founders, Investor, Amount, Stage, column10]\n",
       "Index: []"
      ]
     },
     "execution_count": 405,
     "metadata": {},
     "output_type": "execute_result"
    }
   ],
   "source": [
    "df3[df3['Sector'].isnull()] # checking to confirm the null values "
   ]
  },
  {
   "cell_type": "code",
   "execution_count": 406,
   "metadata": {},
   "outputs": [
    {
     "data": {
      "text/plain": [
       "<bound method Series.unique of 0             None\n",
       "1         Pre-seed\n",
       "2         Pre-seed\n",
       "3             None\n",
       "4             None\n",
       "           ...    \n",
       "1050          None\n",
       "1051    Seed Round\n",
       "1052          None\n",
       "1053      Series C\n",
       "1054      Series A\n",
       "Name: Stage, Length: 1052, dtype: object>"
      ]
     },
     "execution_count": 406,
     "metadata": {},
     "output_type": "execute_result"
    }
   ],
   "source": [
    "df3['Stage'].unique # checking the unique values in the data set"
   ]
  },
  {
   "cell_type": "markdown",
   "metadata": {},
   "source": [
    "LET'S CLEAN THE STAGE COLUMN "
   ]
  },
  {
   "cell_type": "markdown",
   "metadata": {},
   "source": [
    "BELOW WE ARE RE-ORDERING THE STAGE COLUMN "
   ]
  },
  {
   "cell_type": "code",
   "execution_count": 407,
   "metadata": {},
   "outputs": [],
   "source": [
    "grouped_stages_3 = {\n",
    "    'Pre-seed': 'Early Stage',\n",
    "    'Seed': 'Early Stage',\n",
    "    'Seed A': 'Early Stage',\n",
    "    'Seed Funding': 'Early Stage',\n",
    "    'Seed Investment': 'Early Stage',\n",
    "    'Seed Round': 'Early Stage',\n",
    "    'Seed Round & Series A': 'Early Stage',\n",
    "    'Seed fund': 'Early Stage',\n",
    "    'Seed funding': 'Early Stage',\n",
    "    'Seed round': 'Early Stage',\n",
    "    'Seed+': 'Early Stage',\n",
    "    'Series A': 'Mid Stage',\n",
    "    'Series A+': 'Mid Stage',\n",
    "    'Series A-1': 'Mid Stage',\n",
    "    'Series A2': 'Mid Stage',\n",
    "    'Series B': 'Mid Stage',\n",
    "    'Series B+': 'Mid Stage',\n",
    "    'Series B2': 'Mid Stage',\n",
    "    'Series B3': 'Mid Stage',\n",
    "    'Series C': 'Mid Stage',\n",
    "    'Series A': 'Mid Stage',\n",
    "    'Series D': 'Late Stage',\n",
    "    'Series I': 'Late Stage',\n",
    "    'Series D1': 'Late Stage',\n",
    "    'Series E': 'Late Stage',\n",
    "    'Series E2': 'Late Stage',\n",
    "    'Series F': 'Late Stage',\n",
    "    'Series F1': 'Late Stage',\n",
    "    'Series F2': 'Late Stage',\n",
    "    'Series G': 'Late Stage',\n",
    "    'Series H': 'Late Stage',\n",
    "    'Angel': 'Other Stages',\n",
    "    'Angel Round': 'Other Stages',\n",
    "    'Bridge': 'Other Stages',\n",
    "    'Bridge Round': 'Other Stages',\n",
    "    'Corporate Round': 'Other Stages',\n",
    "    'Debt': 'Other Stages',\n",
    "    'Debt Financing': 'Other Stages',\n",
    "    'Early seed': 'Other Stages',\n",
    "    'Edge': 'Other Stages',\n",
    "    'Fresh funding': 'Other Stages',\n",
    "    'Funding Round': 'Other Stages',\n",
    "    'Grant': 'Other Stages',\n",
    "    'Mid series': 'Other Stages',\n",
    "    'Non-equity Assistance': 'Other Stages',\n",
    "    'None': 'Other Stages',\n",
    "    'PE': 'Other Stages',\n",
    "    'Post series A': 'Other Stages',\n",
    "    'Post-IPO Debt': 'Other Stages',\n",
    "    'Post-IPO Equity': 'Other Stages',\n",
    "    'Pre Series A': 'Other Stages',\n",
    "    'Pre-Series B': 'Other Stages',\n",
    "    'Private Equity': 'Other Stages',\n",
    "    'Secondary Market': 'Other Stages',\n",
    "    'Pre-series A': 'Other Stages',\n",
    "    'Pre-seed Round': 'Other Stages',\n",
    "    'Pre series C': 'Other Stages',\n",
    "    'Pre series A1': 'Other Stages',\n",
    "    'Pre seed round': 'Other Stages',\n",
    "    'Pre seed Round': 'Other Stages',\n",
    "    'Pre series A': 'Other Stages',\n",
    "    'Pre series B': 'Other Stages',\n",
    "    'Pre- series A': 'Other Stages',\n",
    "    'Pre-Seed': 'Other Stages',\n",
    "    'Pre-series': 'Other Stages',\n",
    "    'Pre-series B': 'Other Stages',\n",
    "    'Pre-series C': 'Other Stages',\n",
    "    'Series C, D': 'Other Stages'\n",
    "}\n",
    "\n",
    "df3['Stage'] = df3['Stage'].replace(grouped_stages_3)\n"
   ]
  },
  {
   "cell_type": "markdown",
   "metadata": {},
   "source": [
    "HANDLING THE HEADQUATER COLUMN \n"
   ]
  },
  {
   "cell_type": "code",
   "execution_count": 408,
   "metadata": {},
   "outputs": [],
   "source": [
    "# BELOW WE ARE TAKING CARE OF THE MISSING HEADQUATER / LOACTION \n",
    "\n",
    "df3.loc[df3['Company_Brand'] == 'Habitat', 'HeadQuarter'] = 'Bengaluru'\n",
    "df3.loc[df3['Company_Brand'] == 'Wealth Bucket', 'HeadQuarter'] = 'Bengaluru'\n",
    "df3.loc[df3['Company_Brand'] == 'EpiFi', 'HeadQuarter'] = 'New Delhi'\n",
    "df3.loc[df3['Company_Brand'] == 'XpressBees', 'HeadQuarter'] = 'Pune'\n",
    "df3.loc[df3['Company_Brand'] == 'Shiksha', 'HeadQuarter'] = 'Noida'\n",
    "df3.loc[df3['Company_Brand'] == 'Byju', 'HeadQuarter'] = 'Bengaluru'\n",
    "df3.loc[df3['Company_Brand'] == 'Zomato', 'HeadQuarter'] = 'Gurugram'\n",
    "df3.loc[df3['Company_Brand'] == 'Rentomojo', 'HeadQuarter'] = 'Bengaluru'\n",
    "df3.loc[df3['Company_Brand'] == 'Mamaearth', 'HeadQuarter'] = 'Gurgaon'\n",
    "df3.loc[df3['Company_Brand'] == 'HaikuJAM', 'HeadQuarter'] = 'Mumbai'\n",
    "df3.loc[df3['Company_Brand'] == 'Testbook', 'HeadQuarter'] = 'Mumbai'\n",
    "df3.loc[df3['Company_Brand'] == 'Techbooze', 'HeadQuarter'] = 'New Delhi'\n",
    "df3.loc[df3['Company_Brand'] == 'Rheo', 'HeadQuarter'] = 'Bengaluru'\n",
    "df3.loc[df3['Company_Brand'] == 'Klub', 'HeadQuarter'] = 'Bengaluru'\n",
    "df3.loc[df3['Company_Brand'] == 'TechnifyBiz', 'HeadQuarter'] = 'New Delhi'\n",
    "df3.loc[df3['Company_Brand'] == 'Aesthetic Nutrition', 'HeadQuarter'] = 'New Delhi'\n",
    "df3.loc[df3['Company_Brand'] == 'Gamerji', 'HeadQuarter'] = 'Ahmedabad'\n",
    "df3.loc[df3['Company_Brand'] == 'Phenom People', 'HeadQuarter'] = 'Hyderabad'\n",
    "df3.loc[df3['Company_Brand'] == 'Teach Us', 'HeadQuarter'] = 'Hyderabad'\n",
    "df3.loc[df3['Company_Brand'] == 'Invento Robotics', 'HeadQuarter'] = 'Bengaluru'\n",
    "df3.loc[df3['Company_Brand'] == 'Kristal AI', 'HeadQuarter'] = 'Bengaluru'\n",
    "df3.loc[df3['Company_Brand'] == 'Samya AI', 'HeadQuarter'] = 'Bengaluru'\n",
    "df3.loc[df3['Company_Brand'] == 'Skylo', 'HeadQuarter'] = 'Bengaluru'\n",
    "df3.loc[df3['Company_Brand'] == 'SmartKarrot', 'HeadQuarter'] = 'Bengaluru'\n",
    "df3.loc[df3['Company_Brand'] == 'Park+', 'HeadQuarter'] = 'Gurgaon'\n",
    "df3.loc[df3['Company_Brand'] == 'LogiNext', 'HeadQuarter'] = 'Mumbai'\n",
    "df3.loc[df3['Company_Brand'] == 'MoneyTap', 'HeadQuarter'] = 'Bengaluru'\n",
    "df3.loc[df3['Company_Brand'] == 'RACEnergy', 'HeadQuarter'] = 'Hyderabad'\n",
    "df3.loc[df3['Company_Brand'] == 'Oye! Rickshaw', 'HeadQuarter'] = 'New Delhi'\n",
    "df3.loc[df3['Company_Brand'] == 'Fleetx', 'HeadQuarter'] = 'Gurgaon'\n",
    "df3.loc[df3['Company_Brand'] == 'Raskik', 'HeadQuarter'] = 'Gurgaon'\n",
    "df3.loc[df3['Company_Brand'] == 'Pravasirojgar', 'HeadQuarter'] = 'Mumbai'\n",
    "df3.loc[df3['Company_Brand'] == 'Kaagaz Scanner', 'HeadQuarter'] = 'Gurugram'\n",
    "df3.loc[df3['Company_Brand'] == 'Exprs', 'HeadQuarter'] = 'Madhapur'\n",
    "df3.loc[df3['Company_Brand'] == 'Verloop.io', 'HeadQuarter'] = 'Bengaluru'\n",
    "df3.loc[df3['Company_Brand'] == 'Otipy', 'HeadQuarter'] = 'Gurugram'\n",
    "df3.loc[df3['Company_Brand'] == 'Daalchini', 'HeadQuarter'] = 'New Delhi'\n",
    "df3.loc[df3['Company_Brand'] == 'Suno India', 'HeadQuarter'] = 'Hyderabad'\n",
    "df3.loc[df3['Company_Brand'] == 'Eden Smart Homes', 'HeadQuarter'] = 'New Delhi'\n",
    "df3.loc[df3['Company_Brand'] == 'Bijnis', 'HeadQuarter'] = 'New Delhi'\n",
    "df3.loc[df3['Company_Brand'] == 'Oziva', 'HeadQuarter'] = 'Mumbai'\n",
    "df3.loc[df3['Company_Brand'] == 'Yulu', 'HeadQuarter'] = 'Bengaluru'\n",
    "df3.loc[df3['Company_Brand'] == 'Peppermint', 'HeadQuarter'] = 'Mumbai'\n",
    "df3.loc[df3['Company_Brand'] == 'Jiffy ai', 'HeadQuarter'] = 'Bengaluru'\n",
    "df3.loc[df3['Company_Brand'] == 'Postman', 'HeadQuarter'] = 'Bengaluru'\n",
    "df3.loc[df3['Company_Brand'] == 'F5', 'HeadQuarter'] = 'Bengaluru'\n",
    "df3.loc[df3['Company_Brand'] == 'Myelin Foundry', 'HeadQuarter'] = 'Bengaluru'\n",
    "df3.loc[df3['Company_Brand'] == 'iNurture Education', 'HeadQuarter'] = 'Bengaluru'\n",
    "df3.loc[df3['Company_Brand'] == 'Credgencies', 'HeadQuarter'] = 'Gurugram'\n",
    "df3.loc[df3['Company_Brand'] == 'Vahak', 'HeadQuarter'] = 'Bengaluru'\n",
    "df3.loc[df3['Company_Brand'] == 'Illumnus', 'HeadQuarter'] = 'Gurgaon'\n",
    "df3.loc[df3['Company_Brand'] == 'Juicy Chemistry', 'HeadQuarter'] = 'Coimbatore'\n",
    "df3.loc[df3['Company_Brand'] == 'Shiprocket', 'HeadQuarter'] = 'New Delhi'\n",
    "df3.loc[df3['Company_Brand'] == 'Phable', 'HeadQuarter'] = 'Bengaluru'\n",
    "df3.loc[df3['Company_Brand'] == 'Generic Aadhaar', 'HeadQuarter'] = 'Thane'\n",
    "df3.loc[df3['Company_Brand'] == 'Nium', 'HeadQuarter'] = 'Mumbai'\n",
    "df3.loc[df3['Company_Brand'] == 'DailyHunt', 'HeadQuarter'] = 'Bengaluru'\n",
    "df3.loc[df3['Company_Brand'] == 'Pedagogy', 'HeadQuarter'] = 'Ahmedabad'\n",
    "df3.loc[df3['Company_Brand'] == 'Sarva', 'HeadQuarter'] = 'Mumbai'\n",
    "df3.loc[df3['Company_Brand'] == 'NIRA', 'HeadQuarter'] = 'Bengaluru'\n",
    "df3.loc[df3['Company_Brand'] == 'Indusface', 'HeadQuarter'] = 'Bengaluru'\n",
    "df3.loc[df3['Company_Brand'] == 'Morning Context', 'HeadQuarter'] = 'Singapore'\n",
    "df3.loc[df3['Company_Brand'] == 'Savvy Co op', 'HeadQuarter'] = 'New York'\n",
    "df3.loc[df3['Company_Brand'] == 'BLive', 'HeadQuarter'] = 'Bengaluru'\n",
    "df3.loc[df3['Company_Brand'] == 'Toch', 'HeadQuarter'] = 'Mumbai'\n",
    "df3.loc[df3['Company_Brand'] == 'Setu', 'HeadQuarter'] = 'Bengaluru'\n",
    "df3.loc[df3['Company_Brand'] == 'Rebel Foods', 'HeadQuarter'] = 'Mumbai'\n",
    "df3.loc[df3['Company_Brand'] == 'Amica', 'HeadQuarter'] = 'Mumbai'\n",
    "df3.loc[df3['Company_Brand'] == 'Fingerlix', 'HeadQuarter'] = 'Mumbai'\n",
    "df3.loc[df3['Company_Brand'] == 'Zupee', 'HeadQuarter'] = 'Gurugram'\n",
    "df3.loc[df3['Company_Brand'] == 'DeHaat', 'HeadQuarter'] = 'Patna'\n",
    "df3.loc[df3['Company_Brand'] == 'Akna Medical', 'HeadQuarter'] = 'Bengaluru'\n",
    "df3.loc[df3['Company_Brand'] == 'RaRa Delivery', 'HeadQuarter'] = 'Jakarta'\n",
    "df3.loc[df3['Company_Brand'] == 'Obviously AI', 'HeadQuarter'] = 'San Francisco'\n",
    "df3.loc[df3['Company_Brand'] == 'CoinDCX', 'HeadQuarter'] = 'Mumbai'\n",
    "df3.loc[df3['Company_Brand'] == 'NuNu TV', 'HeadQuarter'] = 'New Delhi'\n",
    "df3.loc[df3['Company_Brand'] == 'Fintso', 'HeadQuarter'] = 'Mumbai'\n",
    "df3.loc[df3['Company_Brand'] == 'Smart Coin', 'HeadQuarter'] = 'Bengaluru'\n",
    "df3.loc[df3['Company_Brand'] == 'Shop101', 'HeadQuarter'] = 'Mumbai'\n",
    "df3.loc[df3['Company_Brand'] == 'Neeman', 'HeadQuarter'] = 'Hyderabad'\n",
    "df3.loc[df3['Company_Brand'] == 'Invideo', 'HeadQuarter'] = 'Bengaluru'\n",
    "df3.loc[df3['Company_Brand'] == 'AvalonMeta', 'HeadQuarter'] = 'Bengaluru'\n",
    "df3.loc[df3['Company_Brand'] == 'SmartVizX', 'HeadQuarter'] = 'Noida'\n",
    "df3.loc[df3['Company_Brand'] == 'Carbon Clean', 'HeadQuarter'] = 'Bengaluru'\n",
    "df3.loc[df3['Company_Brand'] == 'Onsitego', 'HeadQuarter'] = 'Mumbai'\n",
    "df3.loc[df3['Company_Brand'] == 'Nova Credit', 'HeadQuarter'] = 'New Delhi'\n",
    "df3.loc[df3['Company_Brand'] == 'HempStreet', 'HeadQuarter'] = 'New Delhi'\n",
    "df3.loc[df3['Company_Brand'] == 'Classplus', 'HeadQuarter'] = 'Noida'\n",
    "df3.loc[df3['Company_Brand'] == 'Chaayos', 'HeadQuarter'] = 'New Delhi'\n",
    "df3.loc[df3['Company_Brand'] == 'Altor', 'HeadQuarter'] = 'Bengaluru'\n",
    "df3.loc[df3['Company_Brand'] == 'WorkIndia', 'HeadQuarter'] = 'Mumbai'"
   ]
  },
  {
   "cell_type": "code",
   "execution_count": 409,
   "metadata": {},
   "outputs": [
    {
     "data": {
      "text/html": [
       "<div>\n",
       "<style scoped>\n",
       "    .dataframe tbody tr th:only-of-type {\n",
       "        vertical-align: middle;\n",
       "    }\n",
       "\n",
       "    .dataframe tbody tr th {\n",
       "        vertical-align: top;\n",
       "    }\n",
       "\n",
       "    .dataframe thead th {\n",
       "        text-align: right;\n",
       "    }\n",
       "</style>\n",
       "<table border=\"1\" class=\"dataframe\">\n",
       "  <thead>\n",
       "    <tr style=\"text-align: right;\">\n",
       "      <th></th>\n",
       "      <th>Company_Brand</th>\n",
       "      <th>Founded</th>\n",
       "      <th>HeadQuarter</th>\n",
       "      <th>Sector</th>\n",
       "      <th>What_it_does</th>\n",
       "      <th>Founders</th>\n",
       "      <th>Investor</th>\n",
       "      <th>Amount</th>\n",
       "      <th>Stage</th>\n",
       "      <th>column10</th>\n",
       "    </tr>\n",
       "  </thead>\n",
       "  <tbody>\n",
       "  </tbody>\n",
       "</table>\n",
       "</div>"
      ],
      "text/plain": [
       "Empty DataFrame\n",
       "Columns: [Company_Brand, Founded, HeadQuarter, Sector, What_it_does, Founders, Investor, Amount, Stage, column10]\n",
       "Index: []"
      ]
     },
     "execution_count": 409,
     "metadata": {},
     "output_type": "execute_result"
    }
   ],
   "source": [
    "df3[df3['HeadQuarter'].isnull()]"
   ]
  },
  {
   "cell_type": "code",
   "execution_count": 410,
   "metadata": {},
   "outputs": [],
   "source": [
    "# below we are reformating the Headquater column with their official values\n",
    "df3.loc[~df3['HeadQuarter'].str.contains('New Delhi', na=False), 'HeadQuarter'] = df3['HeadQuarter'].str.replace('Delhi', 'New Delhi')\n",
    "df3[\"HeadQuarter\"] = df3[\"HeadQuarter\"].replace (['Bangalore','Banglore','Bangalore City'], 'Bengaluru')\n",
    "df3['HeadQuarter'] = df3['HeadQuarter'].replace (['Gurgaon'], 'Gurugram')"
   ]
  },
  {
   "cell_type": "markdown",
   "metadata": {},
   "source": [
    "FOR NOW LET'S REPLACE ALL THE 'NONE' WITH NAN VALUES "
   ]
  },
  {
   "cell_type": "code",
   "execution_count": 411,
   "metadata": {},
   "outputs": [],
   "source": [
    "df3['Stage'] = df3['Stage'].astype(str)\n",
    "df3['Stage'].replace('None', np.nan, inplace=True) # here we convert all the values to string so we can replace all the None values\n"
   ]
  },
  {
   "cell_type": "code",
   "execution_count": 412,
   "metadata": {},
   "outputs": [
    {
     "data": {
      "text/plain": [
       "0               NaN\n",
       "1       Early Stage\n",
       "2       Early Stage\n",
       "3               NaN\n",
       "4               NaN\n",
       "           ...     \n",
       "1050            NaN\n",
       "1051    Early Stage\n",
       "1052            NaN\n",
       "1053      Mid Stage\n",
       "1054      Mid Stage\n",
       "Name: Stage, Length: 1052, dtype: object"
      ]
     },
     "execution_count": 412,
     "metadata": {},
     "output_type": "execute_result"
    }
   ],
   "source": [
    "df3['Stage'] # now we confirm the stage column again"
   ]
  },
  {
   "cell_type": "markdown",
   "metadata": {},
   "source": [
    "WE WILL BE REPLACING THE NULL VALUES IN THE STAGE COLUMN USING THE \n",
    "MOST 6 OCCURENCE OF THE STAGES BUT TO GET THAT WE NEED THE SECTOR COLUMN \n",
    "\n",
    "WHICH MEANS WE NEED TO DEAL WITH NULL VALUES IN THE SECTOR COLUMN FIRST"
   ]
  },
  {
   "cell_type": "code",
   "execution_count": 413,
   "metadata": {},
   "outputs": [
    {
     "data": {
      "text/plain": [
       "1052"
      ]
     },
     "execution_count": 413,
     "metadata": {},
     "output_type": "execute_result"
    }
   ],
   "source": [
    "df3['Sector'].count() # getting the total values in the Sector column "
   ]
  },
  {
   "cell_type": "code",
   "execution_count": 414,
   "metadata": {},
   "outputs": [
    {
     "data": {
      "text/plain": [
       "78.30508474576271"
      ]
     },
     "execution_count": 414,
     "metadata": {},
     "output_type": "execute_result"
    }
   ],
   "source": [
    "# below we are confirming the null values in the sector column \n",
    "missing_values3 = df3['Stage'].isnull().sum()\n",
    "\n",
    "percent_miss_sec_3 = (missing_values3 / df3['Stage'].count()) * 100\n",
    "percent_miss_sec_3"
   ]
  },
  {
   "cell_type": "markdown",
   "metadata": {},
   "source": [
    " based on the result that only 1.25% of the values in the 'Sector' column are missing, it is reasonable to consider imputing the null values with the mode of the 'Sector' column.\n",
    "\n",
    "below:\n"
   ]
  },
  {
   "cell_type": "code",
   "execution_count": 415,
   "metadata": {},
   "outputs": [],
   "source": [
    "non_null_values_3 = df3[df3['Sector'].notnull()]  # Filtering non-null values\n",
    "mode_sector = non_null_values_3['Sector'].mode().iloc[0]  # Getting the mode value\n",
    "df3['Sector'].fillna(mode_sector, inplace=True)  # Imputing null values with the mode"
   ]
  },
  {
   "cell_type": "code",
   "execution_count": 416,
   "metadata": {},
   "outputs": [
    {
     "data": {
      "text/plain": [
       "0"
      ]
     },
     "execution_count": 416,
     "metadata": {},
     "output_type": "execute_result"
    }
   ],
   "source": [
    "# NOW LET'S CONFIRM THE NULL VALUES AGAIN \n",
    "df3['Sector'].isnull().sum()"
   ]
  },
  {
   "cell_type": "markdown",
   "metadata": {},
   "source": [
    "NOW WE CAN USE OUR STRATEGY IN COMBINATION OF THE SECTOR COLUMN TO FILL IN THE \n",
    "NAN VALUES FOR THE STAGE COLUMN "
   ]
  },
  {
   "cell_type": "code",
   "execution_count": 417,
   "metadata": {},
   "outputs": [
    {
     "data": {
      "text/html": [
       "<div>\n",
       "<style scoped>\n",
       "    .dataframe tbody tr th:only-of-type {\n",
       "        vertical-align: middle;\n",
       "    }\n",
       "\n",
       "    .dataframe tbody tr th {\n",
       "        vertical-align: top;\n",
       "    }\n",
       "\n",
       "    .dataframe thead th {\n",
       "        text-align: right;\n",
       "    }\n",
       "</style>\n",
       "<table border=\"1\" class=\"dataframe\">\n",
       "  <thead>\n",
       "    <tr style=\"text-align: right;\">\n",
       "      <th>col_0</th>\n",
       "      <th>Sector</th>\n",
       "    </tr>\n",
       "    <tr>\n",
       "      <th>Stage</th>\n",
       "      <th></th>\n",
       "    </tr>\n",
       "  </thead>\n",
       "  <tbody>\n",
       "    <tr>\n",
       "      <th>Early Stage</th>\n",
       "      <td>175</td>\n",
       "    </tr>\n",
       "    <tr>\n",
       "      <th>Late Stage</th>\n",
       "      <td>35</td>\n",
       "    </tr>\n",
       "    <tr>\n",
       "      <th>Mid Stage</th>\n",
       "      <td>206</td>\n",
       "    </tr>\n",
       "    <tr>\n",
       "      <th>Other Stages</th>\n",
       "      <td>174</td>\n",
       "    </tr>\n",
       "  </tbody>\n",
       "</table>\n",
       "</div>"
      ],
      "text/plain": [
       "col_0         Sector\n",
       "Stage               \n",
       "Early Stage      175\n",
       "Late Stage        35\n",
       "Mid Stage        206\n",
       "Other Stages     174"
      ]
     },
     "execution_count": 417,
     "metadata": {},
     "output_type": "execute_result"
    }
   ],
   "source": [
    "# creating the contingency table\n",
    "conting_tabl_3 = pd.crosstab(df3['Stage'], ['Sector'])\n",
    "conting_tabl_3"
   ]
  },
  {
   "cell_type": "markdown",
   "metadata": {},
   "source": [
    "FINDING THEIR PERCENTAGES"
   ]
  },
  {
   "cell_type": "code",
   "execution_count": 418,
   "metadata": {},
   "outputs": [],
   "source": [
    "total_non_null = 462 # the total number of nulls\n",
    "\n",
    "percent_early_stage = (175 / total_non_null) * 100\n",
    "percent_late_stage = (35 / total_non_null) * 100   # here we are getting their perentages \n",
    "percent_mid_stage = (206 / total_non_null) * 100\n",
    "percent_other_stage = (174 / total_non_null) * 100"
   ]
  },
  {
   "cell_type": "code",
   "execution_count": 419,
   "metadata": {},
   "outputs": [
    {
     "data": {
      "text/plain": [
       "(37.878787878787875, 7.575757575757576, 44.58874458874459, 37.66233766233766)"
      ]
     },
     "execution_count": 419,
     "metadata": {},
     "output_type": "execute_result"
    }
   ],
   "source": [
    "percent_early_stage, percent_late_stage,percent_mid_stage,percent_other_stage # here the percentages displayed below "
   ]
  },
  {
   "cell_type": "markdown",
   "metadata": {},
   "source": [
    "NOW WE WILL FIND AND SELECT THE STAGES BASE ON THE SECTOR COLUMN AND USE THIS STAGES \n",
    "AND AT A RANDOMIZED CHOICE TO FILL IN THE NULL VALUES "
   ]
  },
  {
   "cell_type": "code",
   "execution_count": 420,
   "metadata": {},
   "outputs": [],
   "source": [
    "stage_percentages = {\n",
    "    'Early Stage': percent_early_stage,\n",
    "    'Late Stage': percent_late_stage,\n",
    "    'Mid Stage': percent_mid_stage,           # CREATING A LIST OF THE PERCENTAGES \n",
    "    'Other Stages': percent_other_stage\n",
    "}"
   ]
  },
  {
   "cell_type": "markdown",
   "metadata": {},
   "source": [
    "Filling in the null values in the 'Stage' column proportionally using the apply method and a lambda function:"
   ]
  },
  {
   "cell_type": "code",
   "execution_count": 421,
   "metadata": {},
   "outputs": [],
   "source": [
    "# BELOW WE ARE FILLING IN THE MISSING VALUES\n",
    "\n",
    "total_prob = sum(stage_percentages.values())\n",
    "normalized_probs = [prob / total_prob for prob in stage_percentages.values()]\n",
    "\n",
    "df3['Stage'] = df3['Stage'].apply(lambda x: np.random.choice(list(stage_percentages.keys()), p=normalized_probs) if pd.isnull(x) else x)\n"
   ]
  },
  {
   "cell_type": "code",
   "execution_count": 422,
   "metadata": {},
   "outputs": [
    {
     "data": {
      "text/plain": [
       "0"
      ]
     },
     "execution_count": 422,
     "metadata": {},
     "output_type": "execute_result"
    }
   ],
   "source": [
    "df3['Stage'].isnull().sum() # CONFIRMING THE NULL VALUES AGAIN "
   ]
  },
  {
   "cell_type": "code",
   "execution_count": 423,
   "metadata": {},
   "outputs": [
    {
     "data": {
      "text/plain": [
       "1,000,000.00     53\n",
       "2,000,000.00     39\n",
       "3,000,000.00     27\n",
       "5,000,000.00     24\n",
       "500,000.00       22\n",
       "                 ..\n",
       "2,879,000.00      1\n",
       "26,500,000.00     1\n",
       "351,000.00        1\n",
       "46,761,000.00     1\n",
       "8,043,000.00      1\n",
       "Name: Amount, Length: 300, dtype: int64"
      ]
     },
     "execution_count": 423,
     "metadata": {},
     "output_type": "execute_result"
    }
   ],
   "source": [
    "df3[\"Amount\"].value_counts()# Calculate the frequency count of unique values in the \"Amount\" column"
   ]
  },
  {
   "cell_type": "code",
   "execution_count": 424,
   "metadata": {},
   "outputs": [
    {
     "name": "stdout",
     "output_type": "stream",
     "text": [
      "Company_Brand: False\n",
      "HeadQuarter: False\n",
      "Sector: False\n",
      "What_it_does: False\n",
      "Stage: False\n",
      "Amount: False\n"
     ]
    }
   ],
   "source": [
    "# checking for '-' symbol within the columns\n",
    "df3_to_check_colomns = ['Company_Brand','HeadQuarter', 'Sector', 'What_it_does','Stage','Amount']\n",
    "for col in df3_to_check_colomns:\n",
    "    dash_symbols = df3[col].astype(str).str.contains('—').any()\n",
    "    print(f\"{col}: {dash_symbols}\")"
   ]
  },
  {
   "cell_type": "code",
   "execution_count": 425,
   "metadata": {},
   "outputs": [
    {
     "name": "stdout",
     "output_type": "stream",
     "text": [
      "Company_Brand: True\n",
      "HeadQuarter: True\n",
      "Sector: True\n",
      "What_it_does: True\n",
      "Stage: True\n",
      "Amount: True\n"
     ]
    }
   ],
   "source": [
    "# checking for '$' symbol within the columns\n",
    "df3_to_check_colomns = ['Company_Brand','HeadQuarter', 'Sector', 'What_it_does','Stage','Amount']\n",
    "\n",
    "for col in df3_to_check_colomns:\n",
    "    dash_symbols = df3[col].astype(str).str.contains('$').any()\n",
    "    print(f\"{col}: {dash_symbols}\")"
   ]
  },
  {
   "attachments": {},
   "cell_type": "markdown",
   "metadata": {},
   "source": [
    "# Converting Amounts in Indian Rupees to Us Dollar"
   ]
  },
  {
   "cell_type": "code",
   "execution_count": 426,
   "metadata": {},
   "outputs": [],
   "source": [
    "# Set the desired exchange rate\n",
    "exchange_rate = 0.0146\n",
    "\n",
    "# Cleaning the Amounts column\n",
    "df3['Amount'] = df3['Amount'].apply(str)\n",
    "df3['Amount'].replace([',', '—', '$'], ['', 0, ''], inplace=True, regex=True)\n",
    "\n",
    "# Extract the Indian currency amount\n",
    "df3['Indiancurr'] = df3['Amount'].str.rsplit('₹', n=2).str[1]\n",
    "df3['Indiancurr'] = df3['Indiancurr'].apply(float).fillna(0)\n",
    "\n",
    "# Convert Indian currency to USD using the specified exchange rate\n",
    "df3['UsCurr'] = df3['Indiancurr'] * exchange_rate\n",
    "\n",
    "# Replace 0 values with NaN\n",
    "df3['UsCurr'] = df3['UsCurr'].replace(0, np.nan)\n",
    "\n",
    "# Fill NaN values in 'UsCurr' with original 'Amount' values\n",
    "df3['UsCurr'] = df3['UsCurr'].fillna(df3['Amount'])\n",
    "\n",
    "# Remove '$' symbol from 'UsCurr' column\n",
    "df3['UsCurr'] = df3['UsCurr'].replace(\"$\", \"\", regex=True)\n",
    "\n",
    "# Update 'Amount' column with converted USD values\n",
    "df3['Amount'] = df3['UsCurr'].apply(lambda x: float(str(x).replace(\"$\",\"\")))\n",
    "\n",
    "# Replace 0 values with NaN in 'Amount' column\n",
    "df3['Amount'] = df3['Amount'].replace(0, np.nan)\n",
    "\n",
    "# Format the 'Amount' column\n",
    "format_amount = lambda amount: \"{:,.2f}\".format(amount)\n",
    "df3['Amount'] = df3['Amount'].map(format_amount)\n"
   ]
  },
  {
   "cell_type": "code",
   "execution_count": 427,
   "metadata": {},
   "outputs": [],
   "source": [
    "# Cleaning the Amounts column\n",
    "\n",
    "df3['Amount'] = df3['Amount'].apply(str)\n",
    "df3['Amount'].replace(\",\", \"\", inplace = True, regex=True)\n",
    "df3['Amount'].replace(\"$\", \"\", inplace = True, regex=True)\n",
    "df3['Company_Brand'].replace(\"$\", \"\", inplace = True, regex=True)\n",
    "df3['HeadQuarter'].replace(\"$\", \"\", inplace = True, regex=True)\n",
    "df3['Sector'].replace(\"$\", \"\", inplace = True, regex=True)\n",
    "df3['What_it_does'].replace(\"$\", \"\", inplace = True, regex=True)\n",
    "df3['Stage'].replace(\"$\", \"\", inplace = True, regex=True)"
   ]
  },
  {
   "cell_type": "code",
   "execution_count": 428,
   "metadata": {},
   "outputs": [],
   "source": [
    "# Remove leading or trailing spaces\n",
    "df3['Amount'] = df3['Amount'].str.strip()\n",
    "\n",
    "# Remove commas and symbols\n",
    "df3['Amount'] = df3['Amount'].str.replace(',', '')\n",
    "df3['Amount'] = df3['Amount'].str.replace('$', '')\n",
    "# Add more replacements for other symbols as needed\n",
    "\n",
    "# Convert 'Amount' column to float\n",
    "df3['Amount'] = df3['Amount'].astype(float)\n",
    "\n",
    "# Convert 'Amount' column to float, handling NaN values explicitly\n",
    "df3['Amount'] = pd.to_numeric(df3['Amount'], errors='coerce')\n",
    "\n",
    "# Set the float format\n",
    "pd.options.display.float_format = '{:.2f}'.format"
   ]
  },
  {
   "cell_type": "code",
   "execution_count": 429,
   "metadata": {},
   "outputs": [
    {
     "name": "stdout",
     "output_type": "stream",
     "text": [
      "[ 200000.  100000.      nan ... 8000000. 8043000. 9000000.]\n"
     ]
    }
   ],
   "source": [
    "# Convert the values to regular floats and handle NaN values\n",
    "amount_values = np.asarray(df3['Amount'], dtype=float)\n",
    "amount_values[np.isnan(amount_values)] = np.nan\n",
    "\n",
    "# Print the unique values\n",
    "print(amount_values)"
   ]
  },
  {
   "cell_type": "code",
   "execution_count": 430,
   "metadata": {},
   "outputs": [
    {
     "name": "stdout",
     "output_type": "stream",
     "text": [
      "[2.0000000e+05 1.0000000e+05           nan 4.0000000e+05 3.4000000e+05\n",
      " 6.0000000e+05 4.5000000e+07 1.0000000e+06 2.0000000e+06 1.2000000e+06\n",
      " 6.6000000e+08 1.2000000e+05 7.5000000e+06 5.0000000e+06 5.0000000e+05\n",
      " 3.0000000e+06 1.0000000e+07 1.4500000e+08 1.0000000e+08 2.1000000e+07\n",
      " 4.0000000e+06 2.0000000e+07 5.6000000e+05 2.7500000e+05 4.5000000e+06\n",
      " 1.5000000e+07 3.9000000e+08 7.0000000e+06 5.1000000e+06 7.0000000e+08\n",
      " 2.3000000e+06 7.0000000e+05 1.9000000e+07 9.0000000e+06 4.0000000e+07\n",
      " 7.5000000e+05 1.5000000e+06 7.8000000e+06 5.0000000e+07 8.0000000e+07\n",
      " 3.0000000e+07 1.7000000e+06 2.5000000e+06 4.0000000e+04 3.3000000e+07\n",
      " 3.5000000e+07 3.0000000e+05 2.5000000e+07 3.5000000e+06 2.0000000e+08\n",
      " 6.0000000e+06 1.3000000e+06 4.1000000e+06 5.7500000e+05 8.0000000e+05\n",
      " 2.8000000e+07 1.8000000e+07 3.2000000e+06 9.0000000e+05 2.5000000e+05\n",
      " 4.7000000e+06 7.5000000e+07 8.0000000e+06 1.2100000e+08 5.5000000e+07\n",
      " 3.3000000e+06 1.1000000e+07 1.6000000e+07 5.4000000e+06 1.5000000e+08\n",
      " 4.2000000e+06 2.2000000e+07 5.2000000e+07 1.1000000e+06 1.1800000e+08\n",
      " 1.6000000e+06 1.8500000e+07 7.0000000e+10 8.0000000e+08 4.0000000e+08\n",
      " 1.5000000e+05 1.7600000e+08 6.0000000e+07 4.7000000e+05 2.4000000e+05\n",
      " 3.0000000e+09 7.4000000e+07 6.2000000e+07 2.1000000e+06 5.0000000e+08\n",
      " 1.2500000e+07 2.2000000e+09 5.0600000e+06 2.2500000e+08 2.4700000e+07\n",
      " 7.7000000e+06 1.9067328e+07 5.1000000e+07 1.1500000e+05 5.4000000e+04\n",
      " 2.0000000e+04 8.0314600e+05 2.3800000e+05 1.0220000e+07 1.0200000e+06\n",
      " 1.2000000e+07 1.3400000e+07 1.7000000e+08 2.9000000e+06 5.4300000e+05\n",
      " 9.0000000e+07 3.4000000e+06 2.3000000e+07 8.0900000e+06 1.0300000e+06\n",
      " 5.0400000e+06 3.6000000e+05 1.4000000e+06 6.5000000e+05 5.4000000e+07\n",
      " 4.2500000e+07 1.1370000e+07 3.2500000e+05 4.1000000e+05 4.5000000e+05\n",
      " 6.8200000e+05 4.0500000e+06 1.0500000e+06 1.0800000e+06 4.3000000e+06\n",
      " 6.8000000e+06 2.1100000e+06 7.6400000e+05 6.0300000e+05 4.0900000e+05\n",
      " 2.9200000e+05 2.8600000e+05 1.3600000e+05 5.4600000e+05 8.8700000e+05\n",
      " 4.3000000e+04 4.0900000e+04 2.2000000e+06 5.6600000e+06 3.5000000e+05\n",
      " 1.1000000e+05 1.2200000e+08 1.1635000e+07 2.8000000e+06 1.0650000e+06\n",
      " 6.6900000e+05 1.6076000e+07 6.4960000e+05 6.7000000e+06 2.2000000e+05\n",
      " 2.6650000e+05 2.8790000e+06 2.6500000e+07 3.5100000e+05 4.6761000e+07\n",
      " 1.7500000e+05 1.1241000e+07 8.0400000e+05 1.3400000e+06 4.6700000e+05\n",
      " 1.3300000e+05 3.8230000e+06 9.3400000e+05 2.9300000e+05 1.9800000e+05\n",
      " 9.2700000e+05 9.7100000e+05 3.0600000e+06 1.8620000e+06 2.3200000e+05\n",
      " 2.8880000e+06 1.3280000e+06 1.5500000e+07 5.6000000e+07 2.2500000e+06\n",
      " 1.6753000e+07 3.7000000e+06 1.4700000e+06 5.3000000e+05 2.6700000e+05\n",
      " 3.3440000e+06 7.2000000e+06 2.7430000e+06 6.0820000e+06 6.6090000e+06\n",
      " 2.7700000e+07 5.9400000e+06 3.9640000e+06 5.5000000e+06 1.9700000e+05\n",
      " 4.3270000e+06 4.5900000e+05 3.9370000e+06 1.3135000e+06 2.2980000e+05\n",
      " 5.3050000e+06 2.6400000e+05 1.7500000e+06 5.9670000e+06 2.9800000e+06\n",
      " 3.2300000e+05 1.3260000e+06 2.7000000e+07 5.2000000e+06 2.5300000e+06\n",
      " 7.9200000e+05 1.1363000e+07 1.7150000e+06 3.2900000e+05 5.2710000e+06\n",
      " 8.7000000e+06 3.2260000e+06 5.9000000e+06 4.4000000e+07 3.8790000e+06\n",
      " 1.3000000e+07 8.8000000e+06 9.5000000e+06 9.2000000e+05 3.5600000e+07\n",
      " 9.4000000e+06 7.9000000e+05 4.8000000e+05 1.6000000e+05 8.2000000e+06\n",
      " 4.2570000e+06 1.4100000e+06 3.4980000e+05 7.8600000e+05 2.0040000e+06\n",
      " 1.2300000e+08 2.4800000e+05 2.4000000e+07 1.4259000e+07 2.4500000e+07\n",
      " 3.8000000e+06 1.8370000e+07 6.8525000e+07 4.8000000e+06 1.8340000e+06\n",
      " 2.3850000e+07 4.3000000e+07 2.1600000e+07 4.5980000e+06 1.3137000e+07\n",
      " 1.1500000e+08 3.9000000e+06 6.7000000e+05 8.5000000e+06 3.1480000e+06\n",
      " 2.6000000e+06 4.0495000e+06 1.0500000e+07 6.5000000e+06 4.3700000e+07\n",
      " 1.3800000e+07 3.0690000e+05 4.2000000e+05 6.2730000e+05 1.1300000e+08\n",
      " 3.2000000e+07 1.1000000e+08 1.3970000e+06 4.4850000e+05 7.9757000e+06\n",
      " 3.3000000e+05 5.6000000e+06 1.4020000e+06 2.1500000e+07 2.9600000e+08\n",
      " 4.9000000e+06 1.4024000e+06 1.2618300e+07 9.9000000e+06 9.8253000e+05\n",
      " 7.0185200e+07 2.1000000e+08 8.4000000e+07 3.9000000e+07 2.7000000e+06\n",
      " 1.4034000e+06 1.0500000e+08 1.0300000e+08 2.8130000e+05 1.2700000e+04\n",
      " 2.5000000e+04 9.7500000e+07 5.0700000e+05 8.4000000e+06 1.8300000e+07\n",
      " 1.2500000e+08 1.8100000e+05 2.8000000e+05 1.4700000e+07 1.3200000e+07\n",
      " 8.0430000e+06]\n"
     ]
    }
   ],
   "source": [
    "print(df3['Amount'].unique())"
   ]
  },
  {
   "cell_type": "code",
   "execution_count": 431,
   "metadata": {},
   "outputs": [],
   "source": [
    "df3['Amount'] = df3['Amount'].astype(float) #converting the values in the \"Amount\" column of DataFrame df3 to the float data type."
   ]
  },
  {
   "cell_type": "code",
   "execution_count": 432,
   "metadata": {},
   "outputs": [
    {
     "data": {
      "text/plain": [
       "0        200000.00\n",
       "1        100000.00\n",
       "2              NaN\n",
       "3        400000.00\n",
       "4        340000.00\n",
       "           ...    \n",
       "1050    1500000.00\n",
       "1051   13200000.00\n",
       "1052    8000000.00\n",
       "1053    8043000.00\n",
       "1054    9000000.00\n",
       "Name: Amount, Length: 1052, dtype: float64"
      ]
     },
     "execution_count": 432,
     "metadata": {},
     "output_type": "execute_result"
    }
   ],
   "source": [
    "df3[\"Amount\"] # checking the amount column to comfirm the changes "
   ]
  },
  {
   "cell_type": "markdown",
   "metadata": {},
   "source": [
    "DEALING WITH MISSING VALUES IN THE AMOUNT COLUMN IN DATA SET 2020"
   ]
  },
  {
   "cell_type": "code",
   "execution_count": 433,
   "metadata": {},
   "outputs": [],
   "source": [
    "#creating the contingency table\n",
    "\n",
    "conting_table_3 = pd.crosstab(df3['Sector'], df3['Amount'].isnull())"
   ]
  },
  {
   "cell_type": "code",
   "execution_count": 434,
   "metadata": {},
   "outputs": [
    {
     "data": {
      "text/plain": [
       "0.1839099738666176"
      ]
     },
     "execution_count": 434,
     "metadata": {},
     "output_type": "execute_result"
    }
   ],
   "source": [
    "# below we are performing the chi-square test\n",
    "chi2_3, p_value_3, _,_ = chi2_contingency(conting_table_3)\n",
    "chi2_3\n",
    "p_value_3"
   ]
  },
  {
   "cell_type": "code",
   "execution_count": 435,
   "metadata": {},
   "outputs": [
    {
     "name": "stdout",
     "output_type": "stream",
     "text": [
      "There is no significant association between the missing values in the 'Amount' column and the 'Sector' column.\n"
     ]
    }
   ],
   "source": [
    "# we are interpretting the chi-sqaure test \n",
    "significance_level_3 = 0.05\n",
    "\n",
    "if p_value_3 < significance_level_3:\n",
    "    print(\"There is a significant association between the missing values in the 'Amount' column and the 'Sector' column.\")\n",
    "else:\n",
    "    print(\"There is no significant association between the missing values in the 'Amount' column and the 'Sector' column.\")"
   ]
  },
  {
   "cell_type": "markdown",
   "metadata": {},
   "source": [
    "NOW LET'S CHECK OUTLIERS TO EITHER RULE OUT MEAN IMPUTATION OF ACCEPT IT "
   ]
  },
  {
   "cell_type": "markdown",
   "metadata": {},
   "source": [
    "FIRST WE WILL USE THE BOX PLOT"
   ]
  },
  {
   "cell_type": "code",
   "execution_count": 436,
   "metadata": {},
   "outputs": [
    {
     "data": {
      "image/png": "[encoded data removed]",
      "text/plain": [
       "<Figure size 432x288 with 1 Axes>"
      ]
     },
     "metadata": {
      "needs_background": "light"
     },
     "output_type": "display_data"
    }
   ],
   "source": [
    "# but we will use the non-null values to check for outliers and the statistical values \n",
    "non_null_value_3 = df3['Amount'].dropna()\n",
    "\n",
    "# now let's create our box plot with the log scale\n",
    "plt.boxplot(non_null_value_3)\n",
    "plt.ylabel('Amount (log scale)')\n",
    "plt.title('Box Plot of Non-null Values In The Amount Column')\n",
    "plt.yscale('log')\n",
    "plt.show()"
   ]
  },
  {
   "cell_type": "markdown",
   "metadata": {},
   "source": [
    "FROM THE BOX PLOT OBSERVATION WE CAN SAY:\n",
    "\n",
    "\n",
    "the box plot shows that the data points are skewed towards the bottom and there are some points far away from the bottom of the box, it indicates the presence of outliers. Outliers can significantly affect the mean, making it less representative of the central tendency of the data. In this case, using the median for imputation rather than the mean wll be a more robust approach."
   ]
  },
  {
   "cell_type": "markdown",
   "metadata": {},
   "source": [
    "TO FURTHER UNDERSTAND THE DATA, LET'S USE A HISTOGRAM TO SEE THE DISTRIBUTION OF\n",
    "\n",
    "DATA POINTS IN THE AMOUNT COLUMN"
   ]
  },
  {
   "cell_type": "code",
   "execution_count": 437,
   "metadata": {},
   "outputs": [
    {
     "data": {
      "text/plain": [
       "<function matplotlib.pyplot.show(close=None, block=None)>"
      ]
     },
     "execution_count": 437,
     "metadata": {},
     "output_type": "execute_result"
    },
    {
     "data": {
      "image/png": "[encoded data removed]",
      "text/plain": [
       "<Figure size 432x288 with 1 Axes>"
      ]
     },
     "metadata": {
      "needs_background": "light"
     },
     "output_type": "display_data"
    }
   ],
   "source": [
    "# Filtering out the null values \n",
    "non_null_value_3 = df3['Amount'].dropna()\n",
    "\n",
    "# Creating a histogram of the amount column with a log scale\n",
    "plt.hist(non_null_value_3, bins=10, log=True)\n",
    "plt.xlabel('Amount (Log Scale)')\n",
    "plt.ylabel('Frequency Of Distribution')\n",
    "plt.title('Histogram Of Non-Null Values In The Amount Column')\n",
    "plt.show"
   ]
  },
  {
   "cell_type": "markdown",
   "metadata": {},
   "source": [
    "FROM THE ABOVE DISPLAY OF THE HISTOGRAM, WE CAN MAKE THE FOLLOWING DEDUCTIONS\n",
    "\n",
    "The histogram shows the distribution of the 'Amount' column, indicating that the majority of values are concentrated in the lower range with high frequency, while the higher values are sparsely distributed.\n",
    "\n",
    "This distribution pattern suggests that there may be a right-skewness or a long tail in the data. It indicates that there are relatively fewer instances with higher values compared to the instances with lower values.\n",
    "\n",
    "the distribution pattern observed in the histogram, with a concentration of values in the lower range and a sparser distribution towards higher values, suggests that using the median for imputation could be a suitable approach.\n",
    "\n",
    "NOTE:\n",
    "\n",
    "The median is a measure of central tendency that is less affected by outliers or extreme values compared to the mean. In our case, since there are some data points that are far away from the majority of values, using the median as an imputation method can provide a more robust estimate of the central value of the 'Amount' column."
   ]
  },
  {
   "cell_type": "code",
   "execution_count": 438,
   "metadata": {},
   "outputs": [],
   "source": [
    "\n",
    "df3['Amount'] = df3['Amount'].astype(str)  # Converting 'Amount' column to string\n",
    "\n",
    "df3['Amount'] = df3['Amount'].str.upper() # coverting every string to upper cas"
   ]
  },
  {
   "cell_type": "code",
   "execution_count": 439,
   "metadata": {},
   "outputs": [],
   "source": [
    "# Replace 'NAN' strings with actual NaN values\n",
    "df3['Amount'] = df3['Amount'].replace('NAN', np.nan)"
   ]
  },
  {
   "cell_type": "code",
   "execution_count": 440,
   "metadata": {},
   "outputs": [],
   "source": [
    "# Filter the non-null values of the 'Amount' column:\n",
    "non_null_values_3\n",
    "\n",
    "# Calculating the median of the non-null values:\n",
    "median_value_3 = non_null_values_3.median()\n",
    "\n",
    "# Imputing the null values in the 'Amount' column with the median value:\n",
    "\n",
    "df3['Amount'].fillna(median_value_3, inplace=True)"
   ]
  },
  {
   "cell_type": "code",
   "execution_count": 441,
   "metadata": {},
   "outputs": [
    {
     "data": {
      "text/plain": [
       "253"
      ]
     },
     "execution_count": 441,
     "metadata": {},
     "output_type": "execute_result"
    }
   ],
   "source": [
    "df3['Amount'].isnull().sum() # confirming the null values in the Amount column Again to be sure "
   ]
  },
  {
   "cell_type": "code",
   "execution_count": 442,
   "metadata": {},
   "outputs": [
    {
     "data": {
      "text/plain": [
       "0         200000.0\n",
       "1         100000.0\n",
       "2              NaN\n",
       "3         400000.0\n",
       "4         340000.0\n",
       "           ...    \n",
       "1050     1500000.0\n",
       "1051    13200000.0\n",
       "1052     8000000.0\n",
       "1053     8043000.0\n",
       "1054     9000000.0\n",
       "Name: Amount, Length: 1052, dtype: object"
      ]
     },
     "execution_count": 442,
     "metadata": {},
     "output_type": "execute_result"
    }
   ],
   "source": [
    "df3['Amount']"
   ]
  },
  {
   "cell_type": "code",
   "execution_count": 443,
   "metadata": {},
   "outputs": [],
   "source": [
    "df3['Amount'] = df3['Amount'].astype(float)  # Convert 'Amount' column back to float\n"
   ]
  },
  {
   "cell_type": "code",
   "execution_count": 444,
   "metadata": {},
   "outputs": [
    {
     "data": {
      "text/plain": [
       "253"
      ]
     },
     "execution_count": 444,
     "metadata": {},
     "output_type": "execute_result"
    }
   ],
   "source": [
    "df3['Amount'].isnull().sum()"
   ]
  },
  {
   "cell_type": "code",
   "execution_count": 445,
   "metadata": {},
   "outputs": [],
   "source": [
    "df3 = df3.drop(['column10','Founded','Founders','Investor'], axis=1) #dropping specific columns from the DataFrame "
   ]
  },
  {
   "cell_type": "code",
   "execution_count": 446,
   "metadata": {},
   "outputs": [],
   "source": [
    "df3['Funding Year'] = 2020 # Assign 2020 to the 'Funding Year' column"
   ]
  },
  {
   "cell_type": "code",
   "execution_count": 447,
   "metadata": {},
   "outputs": [],
   "source": [
    "new_column_names = {'Company_Brand': 'Company', 'What_it_does': 'About', 'HeadQuarter': 'Location'} # Renaming columns\n",
    "df3 = df3.rename(columns=new_column_names)"
   ]
  },
  {
   "cell_type": "code",
   "execution_count": 448,
   "metadata": {},
   "outputs": [],
   "source": [
    "df3 = df3.drop(['Indiancurr', 'UsCurr'], axis=1) # dropping these columns \n"
   ]
  },
  {
   "cell_type": "code",
   "execution_count": 449,
   "metadata": {},
   "outputs": [
    {
     "data": {
      "text/html": [
       "<div>\n",
       "<style scoped>\n",
       "    .dataframe tbody tr th:only-of-type {\n",
       "        vertical-align: middle;\n",
       "    }\n",
       "\n",
       "    .dataframe tbody tr th {\n",
       "        vertical-align: top;\n",
       "    }\n",
       "\n",
       "    .dataframe thead th {\n",
       "        text-align: right;\n",
       "    }\n",
       "</style>\n",
       "<table border=\"1\" class=\"dataframe\">\n",
       "  <thead>\n",
       "    <tr style=\"text-align: right;\">\n",
       "      <th></th>\n",
       "      <th>Company</th>\n",
       "      <th>Location</th>\n",
       "      <th>Sector</th>\n",
       "      <th>About</th>\n",
       "      <th>Amount</th>\n",
       "      <th>Stage</th>\n",
       "      <th>Funding Year</th>\n",
       "    </tr>\n",
       "  </thead>\n",
       "  <tbody>\n",
       "    <tr>\n",
       "      <th>0</th>\n",
       "      <td>Aqgromalin</td>\n",
       "      <td>Chennai</td>\n",
       "      <td>AgriTech</td>\n",
       "      <td>Cultivating Ideas for Profit</td>\n",
       "      <td>200000.00</td>\n",
       "      <td>Mid Stage</td>\n",
       "      <td>2020</td>\n",
       "    </tr>\n",
       "    <tr>\n",
       "      <th>1</th>\n",
       "      <td>Krayonnz</td>\n",
       "      <td>Bengaluru</td>\n",
       "      <td>EdTech</td>\n",
       "      <td>An academy-guardian-scholar centric ecosystem ...</td>\n",
       "      <td>100000.00</td>\n",
       "      <td>Early Stage</td>\n",
       "      <td>2020</td>\n",
       "    </tr>\n",
       "    <tr>\n",
       "      <th>2</th>\n",
       "      <td>PadCare Labs</td>\n",
       "      <td>Pune</td>\n",
       "      <td>Hygiene management</td>\n",
       "      <td>Converting bio-hazardous waste to harmless waste</td>\n",
       "      <td>NaN</td>\n",
       "      <td>Early Stage</td>\n",
       "      <td>2020</td>\n",
       "    </tr>\n",
       "    <tr>\n",
       "      <th>3</th>\n",
       "      <td>NCOME</td>\n",
       "      <td>New Delhi</td>\n",
       "      <td>Escrow</td>\n",
       "      <td>Escrow-as-a-service platform</td>\n",
       "      <td>400000.00</td>\n",
       "      <td>Other Stages</td>\n",
       "      <td>2020</td>\n",
       "    </tr>\n",
       "    <tr>\n",
       "      <th>4</th>\n",
       "      <td>Gramophone</td>\n",
       "      <td>Indore</td>\n",
       "      <td>AgriTech</td>\n",
       "      <td>Gramophone is an AgTech platform enabling acce...</td>\n",
       "      <td>340000.00</td>\n",
       "      <td>Other Stages</td>\n",
       "      <td>2020</td>\n",
       "    </tr>\n",
       "  </tbody>\n",
       "</table>\n",
       "</div>"
      ],
      "text/plain": [
       "        Company   Location              Sector  \\\n",
       "0    Aqgromalin    Chennai            AgriTech   \n",
       "1      Krayonnz  Bengaluru              EdTech   \n",
       "2  PadCare Labs       Pune  Hygiene management   \n",
       "3         NCOME  New Delhi              Escrow   \n",
       "4    Gramophone     Indore            AgriTech   \n",
       "\n",
       "                                               About    Amount         Stage  \\\n",
       "0                       Cultivating Ideas for Profit 200000.00     Mid Stage   \n",
       "1  An academy-guardian-scholar centric ecosystem ... 100000.00   Early Stage   \n",
       "2   Converting bio-hazardous waste to harmless waste       NaN   Early Stage   \n",
       "3                       Escrow-as-a-service platform 400000.00  Other Stages   \n",
       "4  Gramophone is an AgTech platform enabling acce... 340000.00  Other Stages   \n",
       "\n",
       "   Funding Year  \n",
       "0          2020  \n",
       "1          2020  \n",
       "2          2020  \n",
       "3          2020  \n",
       "4          2020  "
      ]
     },
     "execution_count": 449,
     "metadata": {},
     "output_type": "execute_result"
    }
   ],
   "source": [
    "df3.head() # checking the head of the data to confirm before saving the data "
   ]
  },
  {
   "cell_type": "code",
   "execution_count": 450,
   "metadata": {},
   "outputs": [],
   "source": [
    "# saving the clean data set\n",
    "\n",
    "df3.to_csv('df_2020.csv', index=False)"
   ]
  },
  {
   "cell_type": "code",
   "execution_count": null,
   "metadata": {},
   "outputs": [],
   "source": []
  },
  {
   "attachments": {},
   "cell_type": "markdown",
   "metadata": {},
   "source": [
    "#### 2021 Data"
   ]
  },
  {
   "cell_type": "code",
   "execution_count": 451,
   "metadata": {},
   "outputs": [
    {
     "data": {
      "text/html": [
       "<div>\n",
       "<style scoped>\n",
       "    .dataframe tbody tr th:only-of-type {\n",
       "        vertical-align: middle;\n",
       "    }\n",
       "\n",
       "    .dataframe tbody tr th {\n",
       "        vertical-align: top;\n",
       "    }\n",
       "\n",
       "    .dataframe thead th {\n",
       "        text-align: right;\n",
       "    }\n",
       "</style>\n",
       "<table border=\"1\" class=\"dataframe\">\n",
       "  <thead>\n",
       "    <tr style=\"text-align: right;\">\n",
       "      <th></th>\n",
       "      <th>Company_Brand</th>\n",
       "      <th>Founded</th>\n",
       "      <th>HeadQuarter</th>\n",
       "      <th>Sector</th>\n",
       "      <th>What_it_does</th>\n",
       "      <th>Founders</th>\n",
       "      <th>Investor</th>\n",
       "      <th>Amount</th>\n",
       "      <th>Stage</th>\n",
       "    </tr>\n",
       "  </thead>\n",
       "  <tbody>\n",
       "    <tr>\n",
       "      <th>0</th>\n",
       "      <td>Unbox Robotics</td>\n",
       "      <td>2019.00</td>\n",
       "      <td>Bangalore</td>\n",
       "      <td>AI startup</td>\n",
       "      <td>Unbox Robotics builds on-demand AI-driven ware...</td>\n",
       "      <td>Pramod Ghadge, Shahid Memon</td>\n",
       "      <td>BEENEXT, Entrepreneur First</td>\n",
       "      <td>$1,200,000</td>\n",
       "      <td>Pre-series A</td>\n",
       "    </tr>\n",
       "    <tr>\n",
       "      <th>1</th>\n",
       "      <td>upGrad</td>\n",
       "      <td>2015.00</td>\n",
       "      <td>Mumbai</td>\n",
       "      <td>EdTech</td>\n",
       "      <td>UpGrad is an online higher education platform.</td>\n",
       "      <td>Mayank Kumar, Phalgun Kompalli, Ravijot Chugh,...</td>\n",
       "      <td>Unilazer Ventures, IIFL Asset Management</td>\n",
       "      <td>$120,000,000</td>\n",
       "      <td>None</td>\n",
       "    </tr>\n",
       "    <tr>\n",
       "      <th>2</th>\n",
       "      <td>Lead School</td>\n",
       "      <td>2012.00</td>\n",
       "      <td>Mumbai</td>\n",
       "      <td>EdTech</td>\n",
       "      <td>LEAD School offers technology based school tra...</td>\n",
       "      <td>Smita Deorah, Sumeet Mehta</td>\n",
       "      <td>GSV Ventures, Westbridge Capital</td>\n",
       "      <td>$30,000,000</td>\n",
       "      <td>Series D</td>\n",
       "    </tr>\n",
       "    <tr>\n",
       "      <th>3</th>\n",
       "      <td>Bizongo</td>\n",
       "      <td>2015.00</td>\n",
       "      <td>Mumbai</td>\n",
       "      <td>B2B E-commerce</td>\n",
       "      <td>Bizongo is a business-to-business online marke...</td>\n",
       "      <td>Aniket Deb, Ankit Tomar, Sachin Agrawal</td>\n",
       "      <td>CDC Group, IDG Capital</td>\n",
       "      <td>$51,000,000</td>\n",
       "      <td>Series C</td>\n",
       "    </tr>\n",
       "    <tr>\n",
       "      <th>4</th>\n",
       "      <td>FypMoney</td>\n",
       "      <td>2021.00</td>\n",
       "      <td>Gurugram</td>\n",
       "      <td>FinTech</td>\n",
       "      <td>FypMoney is Digital NEO Bank for Teenagers, em...</td>\n",
       "      <td>Kapil Banwari</td>\n",
       "      <td>Liberatha Kallat, Mukesh Yadav, Dinesh Nagpal</td>\n",
       "      <td>$2,000,000</td>\n",
       "      <td>Seed</td>\n",
       "    </tr>\n",
       "  </tbody>\n",
       "</table>\n",
       "</div>"
      ],
      "text/plain": [
       "    Company_Brand  Founded HeadQuarter          Sector  \\\n",
       "0  Unbox Robotics  2019.00   Bangalore      AI startup   \n",
       "1          upGrad  2015.00      Mumbai          EdTech   \n",
       "2     Lead School  2012.00      Mumbai          EdTech   \n",
       "3         Bizongo  2015.00      Mumbai  B2B E-commerce   \n",
       "4        FypMoney  2021.00    Gurugram         FinTech   \n",
       "\n",
       "                                        What_it_does  \\\n",
       "0  Unbox Robotics builds on-demand AI-driven ware...   \n",
       "1     UpGrad is an online higher education platform.   \n",
       "2  LEAD School offers technology based school tra...   \n",
       "3  Bizongo is a business-to-business online marke...   \n",
       "4  FypMoney is Digital NEO Bank for Teenagers, em...   \n",
       "\n",
       "                                            Founders  \\\n",
       "0                        Pramod Ghadge, Shahid Memon   \n",
       "1  Mayank Kumar, Phalgun Kompalli, Ravijot Chugh,...   \n",
       "2                         Smita Deorah, Sumeet Mehta   \n",
       "3            Aniket Deb, Ankit Tomar, Sachin Agrawal   \n",
       "4                                      Kapil Banwari   \n",
       "\n",
       "                                        Investor        Amount         Stage  \n",
       "0                    BEENEXT, Entrepreneur First    $1,200,000  Pre-series A  \n",
       "1       Unilazer Ventures, IIFL Asset Management  $120,000,000          None  \n",
       "2               GSV Ventures, Westbridge Capital   $30,000,000      Series D  \n",
       "3                         CDC Group, IDG Capital   $51,000,000      Series C  \n",
       "4  Liberatha Kallat, Mukesh Yadav, Dinesh Nagpal    $2,000,000          Seed  "
      ]
     },
     "execution_count": 451,
     "metadata": {},
     "output_type": "execute_result"
    }
   ],
   "source": [
    "df4.head() #showing the first five rows"
   ]
  },
  {
   "cell_type": "code",
   "execution_count": 452,
   "metadata": {},
   "outputs": [
    {
     "data": {
      "text/plain": [
       "(1209, 9)"
      ]
     },
     "execution_count": 452,
     "metadata": {},
     "output_type": "execute_result"
    }
   ],
   "source": [
    "df4.shape #understanding the size of your DataFrame"
   ]
  },
  {
   "cell_type": "code",
   "execution_count": 453,
   "metadata": {},
   "outputs": [
    {
     "data": {
      "text/plain": [
       "Index(['Company_Brand', 'Founded', 'HeadQuarter', 'Sector', 'What_it_does',\n",
       "       'Founders', 'Investor', 'Amount', 'Stage'],\n",
       "      dtype='object')"
      ]
     },
     "execution_count": 453,
     "metadata": {},
     "output_type": "execute_result"
    }
   ],
   "source": [
    "df4.columns #retrieving the column names of the DataFrame"
   ]
  },
  {
   "cell_type": "code",
   "execution_count": 454,
   "metadata": {},
   "outputs": [
    {
     "name": "stdout",
     "output_type": "stream",
     "text": [
      "<class 'pandas.core.frame.DataFrame'>\n",
      "RangeIndex: 1209 entries, 0 to 1208\n",
      "Data columns (total 9 columns):\n",
      " #   Column         Non-Null Count  Dtype  \n",
      "---  ------         --------------  -----  \n",
      " 0   Company_Brand  1209 non-null   object \n",
      " 1   Founded        1208 non-null   float64\n",
      " 2   HeadQuarter    1208 non-null   object \n",
      " 3   Sector         1209 non-null   object \n",
      " 4   What_it_does   1209 non-null   object \n",
      " 5   Founders       1205 non-null   object \n",
      " 6   Investor       1147 non-null   object \n",
      " 7   Amount         1206 non-null   object \n",
      " 8   Stage          781 non-null    object \n",
      "dtypes: float64(1), object(8)\n",
      "memory usage: 85.1+ KB\n"
     ]
    }
   ],
   "source": [
    "df4.info() #providing a summary of the DataFrame"
   ]
  },
  {
   "cell_type": "code",
   "execution_count": 455,
   "metadata": {},
   "outputs": [
    {
     "data": {
      "text/html": [
       "<div>\n",
       "<style scoped>\n",
       "    .dataframe tbody tr th:only-of-type {\n",
       "        vertical-align: middle;\n",
       "    }\n",
       "\n",
       "    .dataframe tbody tr th {\n",
       "        vertical-align: top;\n",
       "    }\n",
       "\n",
       "    .dataframe thead th {\n",
       "        text-align: right;\n",
       "    }\n",
       "</style>\n",
       "<table border=\"1\" class=\"dataframe\">\n",
       "  <thead>\n",
       "    <tr style=\"text-align: right;\">\n",
       "      <th></th>\n",
       "      <th>Company_Brand</th>\n",
       "      <th>HeadQuarter</th>\n",
       "      <th>Sector</th>\n",
       "      <th>What_it_does</th>\n",
       "      <th>Founders</th>\n",
       "      <th>Investor</th>\n",
       "      <th>Amount</th>\n",
       "      <th>Stage</th>\n",
       "    </tr>\n",
       "  </thead>\n",
       "  <tbody>\n",
       "    <tr>\n",
       "      <th>count</th>\n",
       "      <td>1209</td>\n",
       "      <td>1208</td>\n",
       "      <td>1209</td>\n",
       "      <td>1209</td>\n",
       "      <td>1205</td>\n",
       "      <td>1147</td>\n",
       "      <td>1206</td>\n",
       "      <td>781</td>\n",
       "    </tr>\n",
       "    <tr>\n",
       "      <th>unique</th>\n",
       "      <td>1033</td>\n",
       "      <td>70</td>\n",
       "      <td>254</td>\n",
       "      <td>1143</td>\n",
       "      <td>1095</td>\n",
       "      <td>937</td>\n",
       "      <td>278</td>\n",
       "      <td>31</td>\n",
       "    </tr>\n",
       "    <tr>\n",
       "      <th>top</th>\n",
       "      <td>BharatPe</td>\n",
       "      <td>Bangalore</td>\n",
       "      <td>FinTech</td>\n",
       "      <td>BharatPe develops a QR code-based payment app ...</td>\n",
       "      <td>Ashneer Grover, Shashvat Nakrani</td>\n",
       "      <td>Inflection Point Ventures</td>\n",
       "      <td>$Undisclosed</td>\n",
       "      <td>Seed</td>\n",
       "    </tr>\n",
       "    <tr>\n",
       "      <th>freq</th>\n",
       "      <td>8</td>\n",
       "      <td>426</td>\n",
       "      <td>122</td>\n",
       "      <td>4</td>\n",
       "      <td>7</td>\n",
       "      <td>24</td>\n",
       "      <td>73</td>\n",
       "      <td>246</td>\n",
       "    </tr>\n",
       "  </tbody>\n",
       "</table>\n",
       "</div>"
      ],
      "text/plain": [
       "       Company_Brand HeadQuarter   Sector  \\\n",
       "count           1209        1208     1209   \n",
       "unique          1033          70      254   \n",
       "top         BharatPe   Bangalore  FinTech   \n",
       "freq               8         426      122   \n",
       "\n",
       "                                             What_it_does  \\\n",
       "count                                                1209   \n",
       "unique                                               1143   \n",
       "top     BharatPe develops a QR code-based payment app ...   \n",
       "freq                                                    4   \n",
       "\n",
       "                                Founders                   Investor  \\\n",
       "count                               1205                       1147   \n",
       "unique                              1095                        937   \n",
       "top     Ashneer Grover, Shashvat Nakrani  Inflection Point Ventures   \n",
       "freq                                   7                         24   \n",
       "\n",
       "              Amount Stage  \n",
       "count           1206   781  \n",
       "unique           278    31  \n",
       "top     $Undisclosed  Seed  \n",
       "freq              73   246  "
      ]
     },
     "execution_count": 455,
     "metadata": {},
     "output_type": "execute_result"
    }
   ],
   "source": [
    "df4.describe(include='object') #providing descriptive statistics for columns of object data type in the DataFrame"
   ]
  },
  {
   "cell_type": "code",
   "execution_count": 456,
   "metadata": {},
   "outputs": [
    {
     "data": {
      "text/plain": [
       "Company_Brand      0\n",
       "Founded            1\n",
       "HeadQuarter        1\n",
       "Sector             0\n",
       "What_it_does       0\n",
       "Founders           4\n",
       "Investor          62\n",
       "Amount             3\n",
       "Stage            428\n",
       "dtype: int64"
      ]
     },
     "execution_count": 456,
     "metadata": {},
     "output_type": "execute_result"
    }
   ],
   "source": [
    "df4.isnull().sum() # looking for missing values in dataFrame"
   ]
  },
  {
   "attachments": {},
   "cell_type": "markdown",
   "metadata": {},
   "source": [
    "#### Handling Duplicated Data"
   ]
  },
  {
   "cell_type": "code",
   "execution_count": 457,
   "metadata": {},
   "outputs": [
    {
     "name": "stdout",
     "output_type": "stream",
     "text": [
      "Company_Brand: True\n",
      "Founded: True\n",
      "HeadQuarter: True\n",
      "Sector: True\n",
      "What_it_does: True\n",
      "Founders: True\n",
      "Investor: True\n",
      "Amount: True\n",
      "Stage: True\n"
     ]
    }
   ],
   "source": [
    "#checking for duplicate values in each column of the DataFrame df4\n",
    "columns_to_check4 = ['Company_Brand', 'Founded', 'HeadQuarter', 'Sector', 'What_it_does', 'Founders', 'Investor', 'Amount', 'Stage']\n",
    "\n",
    "for column4 in columns_to_check4:\n",
    "    has_duplicates4 = df4[column4].duplicated().any()\n",
    "    print(f'{column4}: {has_duplicates4}')"
   ]
  },
  {
   "cell_type": "code",
   "execution_count": 458,
   "metadata": {},
   "outputs": [],
   "source": [
    "#removing any rows that have the same values in all the specified columns.\n",
    "df4.drop_duplicates(subset=['Company_Brand', 'Founded', 'HeadQuarter', 'Sector', 'What_it_does', 'Founders', 'Investor', 'Amount', 'Stage'], inplace=True)"
   ]
  },
  {
   "attachments": {},
   "cell_type": "markdown",
   "metadata": {},
   "source": [
    "#### Handling Categorical Data"
   ]
  },
  {
   "cell_type": "code",
   "execution_count": 459,
   "metadata": {},
   "outputs": [
    {
     "data": {
      "text/plain": [
       "array(['Bangalore', 'Mumbai', 'Gurugram', 'New Delhi', 'Hyderabad',\n",
       "       'Jaipur', 'Ahmadabad', 'Chennai', None,\n",
       "       'Small Towns, Andhra Pradesh', 'Goa', 'Rajsamand', 'Ranchi',\n",
       "       'Faridabad, Haryana', 'Gujarat', 'Pune', 'Thane', 'Computer Games',\n",
       "       'Cochin', 'Noida', 'Chandigarh', 'Gurgaon', 'Vadodara',\n",
       "       'Food & Beverages', 'Pharmaceuticals\\t#REF!', 'Gurugram\\t#REF!',\n",
       "       'Kolkata', 'Ahmedabad', 'Mohali', 'Haryana', 'Indore', 'Powai',\n",
       "       'Ghaziabad', 'Nagpur', 'West Bengal', 'Patna', 'Samsitpur',\n",
       "       'Lucknow', 'Telangana', 'Silvassa', 'Thiruvananthapuram',\n",
       "       'Faridabad', 'Roorkee', 'Ambernath', 'Panchkula', 'Surat',\n",
       "       'Coimbatore', 'Andheri', 'Mangalore', 'Telugana', 'Bhubaneswar',\n",
       "       'Kottayam', 'Beijing', 'Panaji', 'Satara', 'Orissia', 'Jodhpur',\n",
       "       'New York', 'Santra', 'Mountain View, CA', 'Trivandrum',\n",
       "       'Jharkhand', 'Kanpur', 'Bhilwara', 'Guwahati',\n",
       "       'Online Media\\t#REF!', 'Kochi', 'London',\n",
       "       'Information Technology & Services', 'The Nilgiris', 'Gandhinagar'],\n",
       "      dtype=object)"
      ]
     },
     "execution_count": 459,
     "metadata": {},
     "output_type": "execute_result"
    }
   ],
   "source": [
    "df4['HeadQuarter'].unique() # here we are looking at the unique values in the column "
   ]
  },
  {
   "cell_type": "code",
   "execution_count": 460,
   "metadata": {},
   "outputs": [],
   "source": [
    "# From obersavtion, there is use of official and unofficial names of certain cities.\n",
    "# The incorrect names need to be rectified for correct analysis, eg A city with more than one name.\n",
    "\n",
    "df4['HeadQuarter'] = df4['HeadQuarter'].replace (['Bangalore','Bangalore City','Belgaum'], 'Bengaluru')\n",
    "df4['HeadQuarter'].replace('Gurugram\\t#REF!','Gurugram',inplace =True, regex=True)\n",
    "df4['HeadQuarter'] = df4['HeadQuarter'].str.replace('New Delhi','Delhi')"
   ]
  },
  {
   "cell_type": "code",
   "execution_count": 461,
   "metadata": {},
   "outputs": [
    {
     "data": {
      "text/html": [
       "<div>\n",
       "<style scoped>\n",
       "    .dataframe tbody tr th:only-of-type {\n",
       "        vertical-align: middle;\n",
       "    }\n",
       "\n",
       "    .dataframe tbody tr th {\n",
       "        vertical-align: top;\n",
       "    }\n",
       "\n",
       "    .dataframe thead th {\n",
       "        text-align: right;\n",
       "    }\n",
       "</style>\n",
       "<table border=\"1\" class=\"dataframe\">\n",
       "  <thead>\n",
       "    <tr style=\"text-align: right;\">\n",
       "      <th></th>\n",
       "      <th>Company_Brand</th>\n",
       "      <th>Founded</th>\n",
       "      <th>HeadQuarter</th>\n",
       "      <th>Sector</th>\n",
       "      <th>What_it_does</th>\n",
       "      <th>Founders</th>\n",
       "      <th>Investor</th>\n",
       "      <th>Amount</th>\n",
       "      <th>Stage</th>\n",
       "    </tr>\n",
       "  </thead>\n",
       "  <tbody>\n",
       "    <tr>\n",
       "      <th>98</th>\n",
       "      <td>FanPlay</td>\n",
       "      <td>2020.00</td>\n",
       "      <td>Computer Games</td>\n",
       "      <td>Computer Games</td>\n",
       "      <td>A real money game app specializing in trivia g...</td>\n",
       "      <td>YC W21</td>\n",
       "      <td>Pritesh Kumar, Bharat Gupta</td>\n",
       "      <td>Upsparks</td>\n",
       "      <td>$1200000</td>\n",
       "    </tr>\n",
       "    <tr>\n",
       "      <th>241</th>\n",
       "      <td>MasterChow</td>\n",
       "      <td>2020.00</td>\n",
       "      <td>Food &amp; Beverages</td>\n",
       "      <td>Hauz Khas</td>\n",
       "      <td>A ready-to-cook Asian cuisine brand</td>\n",
       "      <td>Vidur Kataria, Sidhanth Madan</td>\n",
       "      <td>WEH Ventures</td>\n",
       "      <td>$461000</td>\n",
       "      <td>Seed</td>\n",
       "    </tr>\n",
       "    <tr>\n",
       "      <th>242</th>\n",
       "      <td>Fullife Healthcare</td>\n",
       "      <td>2009.00</td>\n",
       "      <td>Pharmaceuticals\\t#REF!</td>\n",
       "      <td>Primary Business is Development and Manufactur...</td>\n",
       "      <td>Varun Khanna</td>\n",
       "      <td>Morgan Stanley Private Equity Asia</td>\n",
       "      <td>$22000000</td>\n",
       "      <td>Series C</td>\n",
       "      <td>None</td>\n",
       "    </tr>\n",
       "    <tr>\n",
       "      <th>1100</th>\n",
       "      <td>Sochcast</td>\n",
       "      <td>2020.00</td>\n",
       "      <td>Online Media\\t#REF!</td>\n",
       "      <td>Sochcast is an Audio experiences company that ...</td>\n",
       "      <td>CA Harvinderjit Singh Bhatia, Garima Surana, A...</td>\n",
       "      <td>Vinners, Raj Nayak, Amritaanshu Agrawal</td>\n",
       "      <td>$Undisclosed</td>\n",
       "      <td>None</td>\n",
       "      <td>None</td>\n",
       "    </tr>\n",
       "    <tr>\n",
       "      <th>1176</th>\n",
       "      <td>Peak</td>\n",
       "      <td>2014.00</td>\n",
       "      <td>Information Technology &amp; Services</td>\n",
       "      <td>Manchester, Greater Manchester</td>\n",
       "      <td>Peak helps the world's smartest companies put ...</td>\n",
       "      <td>Atul Sharma</td>\n",
       "      <td>SoftBank Vision Fund 2</td>\n",
       "      <td>$75000000</td>\n",
       "      <td>Series C</td>\n",
       "    </tr>\n",
       "  </tbody>\n",
       "</table>\n",
       "</div>"
      ],
      "text/plain": [
       "           Company_Brand  Founded                        HeadQuarter  \\\n",
       "98               FanPlay  2020.00                     Computer Games   \n",
       "241           MasterChow  2020.00                   Food & Beverages   \n",
       "242   Fullife Healthcare  2009.00             Pharmaceuticals\\t#REF!   \n",
       "1100            Sochcast  2020.00                Online Media\\t#REF!   \n",
       "1176                Peak  2014.00  Information Technology & Services   \n",
       "\n",
       "                                                 Sector  \\\n",
       "98                                       Computer Games   \n",
       "241                                           Hauz Khas   \n",
       "242   Primary Business is Development and Manufactur...   \n",
       "1100  Sochcast is an Audio experiences company that ...   \n",
       "1176                     Manchester, Greater Manchester   \n",
       "\n",
       "                                           What_it_does  \\\n",
       "98    A real money game app specializing in trivia g...   \n",
       "241                 A ready-to-cook Asian cuisine brand   \n",
       "242                                        Varun Khanna   \n",
       "1100  CA Harvinderjit Singh Bhatia, Garima Surana, A...   \n",
       "1176  Peak helps the world's smartest companies put ...   \n",
       "\n",
       "                                     Founders                     Investor  \\\n",
       "98                                     YC W21  Pritesh Kumar, Bharat Gupta   \n",
       "241             Vidur Kataria, Sidhanth Madan                 WEH Ventures   \n",
       "242        Morgan Stanley Private Equity Asia                    $22000000   \n",
       "1100  Vinners, Raj Nayak, Amritaanshu Agrawal                 $Undisclosed   \n",
       "1176                              Atul Sharma       SoftBank Vision Fund 2   \n",
       "\n",
       "         Amount     Stage  \n",
       "98     Upsparks  $1200000  \n",
       "241     $461000      Seed  \n",
       "242    Series C      None  \n",
       "1100       None      None  \n",
       "1176  $75000000  Series C  "
      ]
     },
     "execution_count": 461,
     "metadata": {},
     "output_type": "execute_result"
    }
   ],
   "source": [
    "#using a filter to get all the miss match values in the HeadQuater column\n",
    "\n",
    "df4[df4['HeadQuarter'].isin(['Online Media\\t#REF!', 'Pharmaceuticals\\t#REF!','Computer Games','Information Technology & Services','Food & Beverages'])]"
   ]
  },
  {
   "cell_type": "code",
   "execution_count": 462,
   "metadata": {},
   "outputs": [
    {
     "data": {
      "text/html": [
       "<div>\n",
       "<style scoped>\n",
       "    .dataframe tbody tr th:only-of-type {\n",
       "        vertical-align: middle;\n",
       "    }\n",
       "\n",
       "    .dataframe tbody tr th {\n",
       "        vertical-align: top;\n",
       "    }\n",
       "\n",
       "    .dataframe thead th {\n",
       "        text-align: right;\n",
       "    }\n",
       "</style>\n",
       "<table border=\"1\" class=\"dataframe\">\n",
       "  <thead>\n",
       "    <tr style=\"text-align: right;\">\n",
       "      <th></th>\n",
       "      <th>Company_Brand</th>\n",
       "      <th>Founded</th>\n",
       "      <th>HeadQuarter</th>\n",
       "      <th>Sector</th>\n",
       "      <th>What_it_does</th>\n",
       "      <th>Founders</th>\n",
       "      <th>Investor</th>\n",
       "      <th>Amount</th>\n",
       "      <th>Stage</th>\n",
       "    </tr>\n",
       "  </thead>\n",
       "  <tbody>\n",
       "    <tr>\n",
       "      <th>98</th>\n",
       "      <td>FanPlay</td>\n",
       "      <td>2020.00</td>\n",
       "      <td>None</td>\n",
       "      <td>Computer Games</td>\n",
       "      <td>A real money game app specializing in trivia g...</td>\n",
       "      <td>YC W21</td>\n",
       "      <td>Pritesh Kumar, Bharat Gupta</td>\n",
       "      <td>$1200000</td>\n",
       "      <td>None</td>\n",
       "    </tr>\n",
       "  </tbody>\n",
       "</table>\n",
       "</div>"
      ],
      "text/plain": [
       "   Company_Brand  Founded HeadQuarter          Sector  \\\n",
       "98       FanPlay  2020.00        None  Computer Games   \n",
       "\n",
       "                                         What_it_does Founders  \\\n",
       "98  A real money game app specializing in trivia g...   YC W21   \n",
       "\n",
       "                       Investor    Amount Stage  \n",
       "98  Pritesh Kumar, Bharat Gupta  $1200000  None  "
      ]
     },
     "execution_count": 462,
     "metadata": {},
     "output_type": "execute_result"
    }
   ],
   "source": [
    "#assigning specific values to HeadQuarter\", \"Amount\", \"Stage in the DataFrame\n",
    "\n",
    "df4.loc[df4[\"Company_Brand\"] == \"FanPlay\", [\"HeadQuarter\", \"Amount\", \"Stage\"]] = [\"None\", \"$1200000\",\"None\"]\n",
    "df4.loc[df4[\"Company_Brand\"] == \"FanPlay\"]"
   ]
  },
  {
   "cell_type": "code",
   "execution_count": 463,
   "metadata": {},
   "outputs": [
    {
     "data": {
      "text/html": [
       "<div>\n",
       "<style scoped>\n",
       "    .dataframe tbody tr th:only-of-type {\n",
       "        vertical-align: middle;\n",
       "    }\n",
       "\n",
       "    .dataframe tbody tr th {\n",
       "        vertical-align: top;\n",
       "    }\n",
       "\n",
       "    .dataframe thead th {\n",
       "        text-align: right;\n",
       "    }\n",
       "</style>\n",
       "<table border=\"1\" class=\"dataframe\">\n",
       "  <thead>\n",
       "    <tr style=\"text-align: right;\">\n",
       "      <th></th>\n",
       "      <th>Company_Brand</th>\n",
       "      <th>Founded</th>\n",
       "      <th>HeadQuarter</th>\n",
       "      <th>Sector</th>\n",
       "      <th>What_it_does</th>\n",
       "      <th>Founders</th>\n",
       "      <th>Investor</th>\n",
       "      <th>Amount</th>\n",
       "      <th>Stage</th>\n",
       "    </tr>\n",
       "  </thead>\n",
       "  <tbody>\n",
       "    <tr>\n",
       "      <th>241</th>\n",
       "      <td>MasterChow</td>\n",
       "      <td>2020.00</td>\n",
       "      <td>Hauz Khas</td>\n",
       "      <td>Food &amp; Beverages</td>\n",
       "      <td>A ready-to-cook Asian cuisine brand</td>\n",
       "      <td>Vidur Kataria, Sidhanth Madan</td>\n",
       "      <td>WEH Ventures</td>\n",
       "      <td>$461000</td>\n",
       "      <td>Seed</td>\n",
       "    </tr>\n",
       "  </tbody>\n",
       "</table>\n",
       "</div>"
      ],
      "text/plain": [
       "    Company_Brand  Founded HeadQuarter            Sector  \\\n",
       "241    MasterChow  2020.00   Hauz Khas  Food & Beverages   \n",
       "\n",
       "                            What_it_does                       Founders  \\\n",
       "241  A ready-to-cook Asian cuisine brand  Vidur Kataria, Sidhanth Madan   \n",
       "\n",
       "         Investor   Amount Stage  \n",
       "241  WEH Ventures  $461000  Seed  "
      ]
     },
     "execution_count": 463,
     "metadata": {},
     "output_type": "execute_result"
    }
   ],
   "source": [
    "#assigning specific values to HeadQuarter\", \"Amount\", \"Stage in the DataFrame\n",
    "\n",
    "df4.loc[df4[\"Company_Brand\"] == \"MasterChow\", [\"HeadQuarter\", \"Sector\"]] = [\"Hauz Khas\", \"Food & Beverages\"]\n",
    "df4.loc[df4[\"Company_Brand\"] == \"MasterChow\"]"
   ]
  },
  {
   "cell_type": "code",
   "execution_count": 464,
   "metadata": {},
   "outputs": [
    {
     "data": {
      "text/html": [
       "<div>\n",
       "<style scoped>\n",
       "    .dataframe tbody tr th:only-of-type {\n",
       "        vertical-align: middle;\n",
       "    }\n",
       "\n",
       "    .dataframe tbody tr th {\n",
       "        vertical-align: top;\n",
       "    }\n",
       "\n",
       "    .dataframe thead th {\n",
       "        text-align: right;\n",
       "    }\n",
       "</style>\n",
       "<table border=\"1\" class=\"dataframe\">\n",
       "  <thead>\n",
       "    <tr style=\"text-align: right;\">\n",
       "      <th></th>\n",
       "      <th>Company_Brand</th>\n",
       "      <th>Founded</th>\n",
       "      <th>HeadQuarter</th>\n",
       "      <th>Sector</th>\n",
       "      <th>What_it_does</th>\n",
       "      <th>Founders</th>\n",
       "      <th>Investor</th>\n",
       "      <th>Amount</th>\n",
       "      <th>Stage</th>\n",
       "    </tr>\n",
       "  </thead>\n",
       "  <tbody>\n",
       "    <tr>\n",
       "      <th>242</th>\n",
       "      <td>Fullife Healthcare</td>\n",
       "      <td>2009.00</td>\n",
       "      <td>None</td>\n",
       "      <td>Pharmaceuticals</td>\n",
       "      <td>Primary Business is Development and Manufactur...</td>\n",
       "      <td>Morgan Stanley Private Equity Asia</td>\n",
       "      <td>Varun Khanna</td>\n",
       "      <td>$22000000</td>\n",
       "      <td>Series C</td>\n",
       "    </tr>\n",
       "  </tbody>\n",
       "</table>\n",
       "</div>"
      ],
      "text/plain": [
       "          Company_Brand  Founded HeadQuarter           Sector  \\\n",
       "242  Fullife Healthcare  2009.00        None  Pharmaceuticals   \n",
       "\n",
       "                                          What_it_does  \\\n",
       "242  Primary Business is Development and Manufactur...   \n",
       "\n",
       "                               Founders      Investor     Amount     Stage  \n",
       "242  Morgan Stanley Private Equity Asia  Varun Khanna  $22000000  Series C  "
      ]
     },
     "execution_count": 464,
     "metadata": {},
     "output_type": "execute_result"
    }
   ],
   "source": [
    "# here we are repositioning the values into their correct columns\n",
    "\n",
    "df4.loc[df4[\"Company_Brand\"] == \"Fullife Healthcare\", [\"HeadQuarter\",\"Sector\",\"What_it_does\",\"Investor\", \"Amount\", \"Stage\"]] = [\"None\",\"Pharmaceuticals\",\"Primary Business is Development and Manufactur...\",\"Varun Khanna\", \"$22000000\",\"Series C\"]\n",
    "df4.loc[df4[\"Company_Brand\"] == \"Fullife Healthcare\"]"
   ]
  },
  {
   "cell_type": "code",
   "execution_count": 465,
   "metadata": {},
   "outputs": [
    {
     "data": {
      "text/html": [
       "<div>\n",
       "<style scoped>\n",
       "    .dataframe tbody tr th:only-of-type {\n",
       "        vertical-align: middle;\n",
       "    }\n",
       "\n",
       "    .dataframe tbody tr th {\n",
       "        vertical-align: top;\n",
       "    }\n",
       "\n",
       "    .dataframe thead th {\n",
       "        text-align: right;\n",
       "    }\n",
       "</style>\n",
       "<table border=\"1\" class=\"dataframe\">\n",
       "  <thead>\n",
       "    <tr style=\"text-align: right;\">\n",
       "      <th></th>\n",
       "      <th>Company_Brand</th>\n",
       "      <th>Founded</th>\n",
       "      <th>HeadQuarter</th>\n",
       "      <th>Sector</th>\n",
       "      <th>What_it_does</th>\n",
       "      <th>Founders</th>\n",
       "      <th>Investor</th>\n",
       "      <th>Amount</th>\n",
       "      <th>Stage</th>\n",
       "    </tr>\n",
       "  </thead>\n",
       "  <tbody>\n",
       "    <tr>\n",
       "      <th>1176</th>\n",
       "      <td>Peak</td>\n",
       "      <td>2014.00</td>\n",
       "      <td>Manchester</td>\n",
       "      <td>Information Technology &amp; Services</td>\n",
       "      <td>Peak helps the world's smartest companies put ...</td>\n",
       "      <td>Atul Sharma</td>\n",
       "      <td>SoftBank Vision Fund 2</td>\n",
       "      <td>$75000000</td>\n",
       "      <td>Series C</td>\n",
       "    </tr>\n",
       "  </tbody>\n",
       "</table>\n",
       "</div>"
      ],
      "text/plain": [
       "     Company_Brand  Founded HeadQuarter                             Sector  \\\n",
       "1176          Peak  2014.00  Manchester  Information Technology & Services   \n",
       "\n",
       "                                           What_it_does     Founders  \\\n",
       "1176  Peak helps the world's smartest companies put ...  Atul Sharma   \n",
       "\n",
       "                    Investor     Amount     Stage  \n",
       "1176  SoftBank Vision Fund 2  $75000000  Series C  "
      ]
     },
     "execution_count": 465,
     "metadata": {},
     "output_type": "execute_result"
    }
   ],
   "source": [
    "# getting the all the data points that matches the company_Brand name 'Peak'\n",
    "\n",
    "df4.loc[df4[\"Company_Brand\"] == \"Peak\", [\"HeadQuarter\", \"Sector\"]] = [\"Manchester\", \"Information Technology & Services\"]\n",
    "df4.loc[df4[\"Company_Brand\"] == \"Peak\"]"
   ]
  },
  {
   "cell_type": "code",
   "execution_count": 466,
   "metadata": {},
   "outputs": [
    {
     "data": {
      "text/html": [
       "<div>\n",
       "<style scoped>\n",
       "    .dataframe tbody tr th:only-of-type {\n",
       "        vertical-align: middle;\n",
       "    }\n",
       "\n",
       "    .dataframe tbody tr th {\n",
       "        vertical-align: top;\n",
       "    }\n",
       "\n",
       "    .dataframe thead th {\n",
       "        text-align: right;\n",
       "    }\n",
       "</style>\n",
       "<table border=\"1\" class=\"dataframe\">\n",
       "  <thead>\n",
       "    <tr style=\"text-align: right;\">\n",
       "      <th></th>\n",
       "      <th>Company_Brand</th>\n",
       "      <th>Founded</th>\n",
       "      <th>HeadQuarter</th>\n",
       "      <th>Sector</th>\n",
       "      <th>What_it_does</th>\n",
       "      <th>Founders</th>\n",
       "      <th>Investor</th>\n",
       "      <th>Amount</th>\n",
       "      <th>Stage</th>\n",
       "    </tr>\n",
       "  </thead>\n",
       "  <tbody>\n",
       "    <tr>\n",
       "      <th>1100</th>\n",
       "      <td>Sochcast</td>\n",
       "      <td>2020.00</td>\n",
       "      <td>NaN</td>\n",
       "      <td>Online Media</td>\n",
       "      <td>Sochcast is an Audio experiences company that ...</td>\n",
       "      <td>CA Harvinderjit Singh Bhatia, Garima Surana</td>\n",
       "      <td>Vinners, Raj Nayak, Amritaanshu Agrawal</td>\n",
       "      <td>$Undisclosed</td>\n",
       "      <td>None</td>\n",
       "    </tr>\n",
       "  </tbody>\n",
       "</table>\n",
       "</div>"
      ],
      "text/plain": [
       "     Company_Brand  Founded HeadQuarter        Sector  \\\n",
       "1100      Sochcast  2020.00         NaN  Online Media   \n",
       "\n",
       "                                           What_it_does  \\\n",
       "1100  Sochcast is an Audio experiences company that ...   \n",
       "\n",
       "                                         Founders  \\\n",
       "1100  CA Harvinderjit Singh Bhatia, Garima Surana   \n",
       "\n",
       "                                     Investor        Amount Stage  \n",
       "1100  Vinners, Raj Nayak, Amritaanshu Agrawal  $Undisclosed  None  "
      ]
     },
     "execution_count": 466,
     "metadata": {},
     "output_type": "execute_result"
    }
   ],
   "source": [
    "# getting the all the data points that matches the company_Brand name 'Sochcast'\n",
    "\n",
    "df4.loc[df4[\"Company_Brand\"] == \"Sochcast\", [\"HeadQuarter\", \"Sector\",'What_it_does','Founders','Investor',\"Amount\"]] = [np.nan, 'Online Media','Sochcast is an Audio experiences company that give the listener and creators an Immersive Audio experience','CA Harvinderjit Singh Bhatia, Garima Surana','Vinners, Raj Nayak, Amritaanshu Agrawal',\"$Undisclosed\"]\n",
    "df4.loc[df4[\"Company_Brand\"] == \"Sochcast\"]"
   ]
  },
  {
   "cell_type": "code",
   "execution_count": 467,
   "metadata": {},
   "outputs": [
    {
     "data": {
      "text/plain": [
       "array(['AI startup', 'EdTech', 'B2B E-commerce', 'FinTech',\n",
       "       'Home services', 'HealthTech', 'Tech Startup', 'E-commerce',\n",
       "       'B2B service', 'Helathcare', 'Renewable Energy', 'Electronics',\n",
       "       'IT startup', 'Food & Beverages', 'Aeorspace', 'Deep Tech',\n",
       "       'Dating', 'Gaming', 'Robotics', 'Retail', 'Food', 'Oil and Energy',\n",
       "       'AgriTech', 'Telecommuncation', 'Milk startup', 'AI Chatbot', 'IT',\n",
       "       'Logistics', 'Hospitality', 'Fashion', 'Marketing',\n",
       "       'Transportation', 'LegalTech', 'Food delivery', 'Automotive',\n",
       "       'SaaS startup', 'Fantasy sports', 'Video communication',\n",
       "       'Social Media', 'Skill development', 'Rental', 'Recruitment',\n",
       "       'HealthCare', 'Sports', 'Computer Games', 'Consumer Goods',\n",
       "       'Information Technology', 'Apparel & Fashion',\n",
       "       'Logistics & Supply Chain', 'Healthtech', 'Healthcare',\n",
       "       'SportsTech', 'HRTech', 'Wine & Spirits',\n",
       "       'Mechanical & Industrial Engineering', 'Spiritual',\n",
       "       'Financial Services', 'Industrial Automation', 'Health',\n",
       "       'Lifestyle', 'IoT', 'Banking', 'Computer software', 'Tech startup',\n",
       "       'Digital mortgage', 'Information Technology & Services',\n",
       "       'Furniture', 'B2B marketplace', 'Healtcare', 'Location Analytics',\n",
       "       'Media', 'Consumer Electronics', 'Tobacco', 'Deeptech',\n",
       "       'Insuretech', 'MLOps platform', 'Venture Capital', 'Pet care',\n",
       "       'Drone', 'Wholesale', 'Construction', 'E-learning',\n",
       "       'Consumer Services', 'Venture Capital & Private Equity',\n",
       "       'Health, Wellness & Fitness', 'OTT', 'Education Management',\n",
       "       'Computer Software', 'Insurance', 'Software Startup',\n",
       "       'Computer & Network Security', 'Capital Markets', 'Social network',\n",
       "       'Hospital & Health Care', 'Music', 'Pharmaceuticals',\n",
       "       \"MoEVing is India's only Electric Mobility focused Technology Platform with a vision to accelerate EV adoption in India.\",\n",
       "       'Cosmetics', 'Mobility', 'Social media', 'Real Estate',\n",
       "       'Digital platform', 'B2B Ecommerce', 'Online Media',\n",
       "       'Social commerce', 'Mobile Games', 'Food Production', 'Podcast',\n",
       "       'HeathTech', 'Battery', 'Content publishing', 'Water purification',\n",
       "       'Content commerce', 'Innovation Management', 'Software company',\n",
       "       'Automation', 'Food Industry', 'Celebrity Engagement',\n",
       "       'Trading platform', 'Personal Care', 'Cannabis startup',\n",
       "       'Blogging', 'Consulting', 'BioTechnology', 'B2B Marketplace',\n",
       "       'Health care', 'Social audio', 'Fashion and lifestyle',\n",
       "       'Delivery service', 'B2B Manufacturing', 'Home Decor', 'Solar',\n",
       "       'TaaS startup', 'EV startup', 'HR Tech', 'Blockchain startup',\n",
       "       'Food and Beverages', 'Beverages', 'Manufacturing startup',\n",
       "       'Cryptocurrency', 'Vehicle repair startup', 'Advisory firm',\n",
       "       'Legaltech', 'Pollution control equiptment', 'Fashion & Lifestyle',\n",
       "       'Blockchain', 'Fitness', 'D2C', 'Automobile',\n",
       "       'Environmental Services', 'Merchandise', 'Facilities Services',\n",
       "       'Marketing & Advertising', 'Human Resources', 'Eyewear',\n",
       "       'D2C Business', 'Biotechnology', 'Farming', 'NFT Marketplace',\n",
       "       'Internet', 'SpaceTech', 'Consumer software', 'Social community',\n",
       "       'Fishery', 'Renewables & Environment', 'Online storytelling',\n",
       "       'Aviation', 'IT company', 'Environmental service',\n",
       "       'Job discovery platform', 'D2C Fashion', 'Heathcare', 'CRM',\n",
       "       'Software', 'Nutrition', 'D2C startup', 'Innovation management',\n",
       "       'Community platform', 'Venture capitalist', 'Networking',\n",
       "       'Commercial Real Estate', 'AR startup', 'Consumer service',\n",
       "       'Consumer goods', 'MarTech', 'Advertisement', 'Content creation',\n",
       "       'Augmented reality', 'Rental space', 'Bike Rental',\n",
       "       'Beauty products', 'Tourism', 'FemTech', 'Cultural', 'Co-working',\n",
       "       'InsureTech', 'Supply chain platform', 'Social platform',\n",
       "       'CleanTech', 'Real estate', 'AI company', 'Sports startup',\n",
       "       'Matrimony', 'Crypto', 'Clothing', 'Analytics', 'Finance',\n",
       "       'IoT platform', 'Commerce', 'Defense & Space', 'Entertainment',\n",
       "       'Business Supplies & Equipment', 'NFT', 'Oil & Energy', 'EV',\n",
       "       'Company-as-a-Service', 'Textiles',\n",
       "       'Professional Training & Coaching', 'Maritime',\n",
       "       'Housing Marketplace', 'Furniture Rental', 'Telecommunications',\n",
       "       'Equity Management', 'Cloud kitchen', 'Nanotechnology',\n",
       "       'Community', 'Higher Education', 'B2B',\n",
       "       'Mechanical Or Industrial Engineering', 'D2C jewellery',\n",
       "       'Sales and Distribution', 'SaaS', 'Information Services',\n",
       "       'Translation & Localization', 'Investment Banking', 'Femtech',\n",
       "       'sports', 'Foootwear', 'Legal Services', 'Veterinary',\n",
       "       'Arts & Crafts', 'Investment Management', 'Education',\n",
       "       'Management Consulting', 'B2B startup', 'Design', 'B2B Travel',\n",
       "       'Interior Design', 'Product studio', 'Aviation & Aerospace',\n",
       "       'Staffing & Recruiting'], dtype=object)"
      ]
     },
     "execution_count": 467,
     "metadata": {},
     "output_type": "execute_result"
    }
   ],
   "source": [
    "df4['Sector'].unique() # here we are looking at the unique value of the Sector column "
   ]
  },
  {
   "cell_type": "code",
   "execution_count": 468,
   "metadata": {},
   "outputs": [
    {
     "data": {
      "text/html": [
       "<div>\n",
       "<style scoped>\n",
       "    .dataframe tbody tr th:only-of-type {\n",
       "        vertical-align: middle;\n",
       "    }\n",
       "\n",
       "    .dataframe tbody tr th {\n",
       "        vertical-align: top;\n",
       "    }\n",
       "\n",
       "    .dataframe thead th {\n",
       "        text-align: right;\n",
       "    }\n",
       "</style>\n",
       "<table border=\"1\" class=\"dataframe\">\n",
       "  <thead>\n",
       "    <tr style=\"text-align: right;\">\n",
       "      <th></th>\n",
       "      <th>Company_Brand</th>\n",
       "      <th>Founded</th>\n",
       "      <th>HeadQuarter</th>\n",
       "      <th>Sector</th>\n",
       "      <th>What_it_does</th>\n",
       "      <th>Founders</th>\n",
       "      <th>Investor</th>\n",
       "      <th>Amount</th>\n",
       "      <th>Stage</th>\n",
       "    </tr>\n",
       "  </thead>\n",
       "  <tbody>\n",
       "    <tr>\n",
       "      <th>257</th>\n",
       "      <td>MoEVing</td>\n",
       "      <td>2021.00</td>\n",
       "      <td>Gurugram</td>\n",
       "      <td>Electric Mobility</td>\n",
       "      <td>MoEVing is India's only Electric Mobility focu...</td>\n",
       "      <td>Vikash Mishra, Mragank Jain</td>\n",
       "      <td>Anshuman Maheshwary, Dr Srihari Raju Kalidindi</td>\n",
       "      <td>$5000000</td>\n",
       "      <td>Seed</td>\n",
       "    </tr>\n",
       "  </tbody>\n",
       "</table>\n",
       "</div>"
      ],
      "text/plain": [
       "    Company_Brand  Founded HeadQuarter             Sector  \\\n",
       "257       MoEVing  2021.00    Gurugram  Electric Mobility   \n",
       "\n",
       "                                          What_it_does  \\\n",
       "257  MoEVing is India's only Electric Mobility focu...   \n",
       "\n",
       "                        Founders  \\\n",
       "257  Vikash Mishra, Mragank Jain   \n",
       "\n",
       "                                           Investor    Amount Stage  \n",
       "257  Anshuman Maheshwary, Dr Srihari Raju Kalidindi  $5000000  Seed  "
      ]
     },
     "execution_count": 468,
     "metadata": {},
     "output_type": "execute_result"
    }
   ],
   "source": [
    "# here we are updating this Row 'MoEVing'\n",
    "\n",
    "df4.loc[df4[\"Company_Brand\"] == \"MoEVing\", [\"Sector\",'What_it_does','Founders','Investor','Amount','Stage']] = [\n",
    "'Electric Mobility',\"MoEVing is India's only Electric Mobility focused Technology Platform with a vision to accelerate EV adoption in India.\",\n",
    "'Vikash Mishra, Mragank Jain','Anshuman Maheshwary, Dr Srihari Raju Kalidindi','$5000000','Seed']\n",
    "df4.loc[df4[\"Company_Brand\"] == \"MoEVing\"]"
   ]
  },
  {
   "cell_type": "code",
   "execution_count": 469,
   "metadata": {},
   "outputs": [
    {
     "data": {
      "text/plain": [
       "array(['Pre-series A', None, 'Series D', 'Series C', 'Seed', 'Series B',\n",
       "       'Series E', 'Pre-seed', 'Series A', 'Pre-series B', 'Debt', 'None',\n",
       "       'Bridge', 'Seed+', 'Series F2', 'Series A+', 'Series G',\n",
       "       'Series F', 'Series H', 'Series B3', 'PE', 'Series F1',\n",
       "       'Pre-series A1', '$300000', 'Early seed', 'Series D1', '$6000000',\n",
       "       '$1000000', 'Seies A', 'Pre-series', 'Series A2', 'Series I'],\n",
       "      dtype=object)"
      ]
     },
     "execution_count": 469,
     "metadata": {},
     "output_type": "execute_result"
    }
   ],
   "source": [
    "df4[\"Stage\"].unique() # getting the unique values in this column "
   ]
  },
  {
   "cell_type": "code",
   "execution_count": 470,
   "metadata": {},
   "outputs": [
    {
     "data": {
      "text/html": [
       "<div>\n",
       "<style scoped>\n",
       "    .dataframe tbody tr th:only-of-type {\n",
       "        vertical-align: middle;\n",
       "    }\n",
       "\n",
       "    .dataframe tbody tr th {\n",
       "        vertical-align: top;\n",
       "    }\n",
       "\n",
       "    .dataframe thead th {\n",
       "        text-align: right;\n",
       "    }\n",
       "</style>\n",
       "<table border=\"1\" class=\"dataframe\">\n",
       "  <thead>\n",
       "    <tr style=\"text-align: right;\">\n",
       "      <th></th>\n",
       "      <th>Company_Brand</th>\n",
       "      <th>Founded</th>\n",
       "      <th>HeadQuarter</th>\n",
       "      <th>Sector</th>\n",
       "      <th>What_it_does</th>\n",
       "      <th>Founders</th>\n",
       "      <th>Investor</th>\n",
       "      <th>Amount</th>\n",
       "      <th>Stage</th>\n",
       "    </tr>\n",
       "  </thead>\n",
       "  <tbody>\n",
       "    <tr>\n",
       "      <th>674</th>\n",
       "      <td>MYRE Capital</td>\n",
       "      <td>2020.00</td>\n",
       "      <td>Mumbai</td>\n",
       "      <td>Commercial Real Estate</td>\n",
       "      <td>Democratising Real Estate Ownership</td>\n",
       "      <td>Own rent yielding commercial properties</td>\n",
       "      <td>Aryaman Vir</td>\n",
       "      <td>6000000</td>\n",
       "      <td>NaN</td>\n",
       "    </tr>\n",
       "  </tbody>\n",
       "</table>\n",
       "</div>"
      ],
      "text/plain": [
       "    Company_Brand  Founded HeadQuarter                  Sector  \\\n",
       "674  MYRE Capital  2020.00      Mumbai  Commercial Real Estate   \n",
       "\n",
       "                            What_it_does  \\\n",
       "674  Democratising Real Estate Ownership   \n",
       "\n",
       "                                    Founders     Investor   Amount Stage  \n",
       "674  Own rent yielding commercial properties  Aryaman Vir  6000000   NaN  "
      ]
     },
     "execution_count": 470,
     "metadata": {},
     "output_type": "execute_result"
    }
   ],
   "source": [
    "df4[df4[\"Stage\"]=='$6000000'] # getting the row that matches the Amount \n",
    "# repositioning the values to their respective columns  \n",
    "\n",
    "df4.loc[df4[\"Company_Brand\"] == \"MYRE Capital\", [\"Amount\", \"Stage\"]] = [\"6000000\",np.nan]\n",
    "df4.loc[df4[\"Company_Brand\"] == \"MYRE Capital\"]"
   ]
  },
  {
   "cell_type": "code",
   "execution_count": 471,
   "metadata": {},
   "outputs": [
    {
     "data": {
      "text/html": [
       "<div>\n",
       "<style scoped>\n",
       "    .dataframe tbody tr th:only-of-type {\n",
       "        vertical-align: middle;\n",
       "    }\n",
       "\n",
       "    .dataframe tbody tr th {\n",
       "        vertical-align: top;\n",
       "    }\n",
       "\n",
       "    .dataframe thead th {\n",
       "        text-align: right;\n",
       "    }\n",
       "</style>\n",
       "<table border=\"1\" class=\"dataframe\">\n",
       "  <thead>\n",
       "    <tr style=\"text-align: right;\">\n",
       "      <th></th>\n",
       "      <th>Company_Brand</th>\n",
       "      <th>Founded</th>\n",
       "      <th>HeadQuarter</th>\n",
       "      <th>Sector</th>\n",
       "      <th>What_it_does</th>\n",
       "      <th>Founders</th>\n",
       "      <th>Investor</th>\n",
       "      <th>Amount</th>\n",
       "      <th>Stage</th>\n",
       "    </tr>\n",
       "  </thead>\n",
       "  <tbody>\n",
       "    <tr>\n",
       "      <th>551</th>\n",
       "      <td>BHyve</td>\n",
       "      <td>2020.00</td>\n",
       "      <td>Mumbai</td>\n",
       "      <td>Human Resources</td>\n",
       "      <td>A Future of Work Platform for diffusing Employ...</td>\n",
       "      <td>Backed by 100x.VC</td>\n",
       "      <td>Omkar Pandharkame, Ketaki Ogale</td>\n",
       "      <td>300000</td>\n",
       "      <td>NaN</td>\n",
       "    </tr>\n",
       "  </tbody>\n",
       "</table>\n",
       "</div>"
      ],
      "text/plain": [
       "    Company_Brand  Founded HeadQuarter           Sector  \\\n",
       "551         BHyve  2020.00      Mumbai  Human Resources   \n",
       "\n",
       "                                          What_it_does           Founders  \\\n",
       "551  A Future of Work Platform for diffusing Employ...  Backed by 100x.VC   \n",
       "\n",
       "                            Investor  Amount Stage  \n",
       "551  Omkar Pandharkame, Ketaki Ogale  300000   NaN  "
      ]
     },
     "execution_count": 471,
     "metadata": {},
     "output_type": "execute_result"
    }
   ],
   "source": [
    "df4[df4[\"Stage\"]=='$300000'] # getting the row that matches the Amount and \n",
    "# repositioning the values to their respective columns\n",
    "\n",
    "df4.loc[df4[\"Company_Brand\"] == \"Little Leap\", [\"Amount\", \"Stage\"]] = [\"300000\",np.nan]\n",
    "df4.loc[df4[\"Company_Brand\"] == \"Little Leap\"]\n",
    "\n",
    "df4.loc[df4[\"Company_Brand\"] == \"BHyve\", [\"Amount\", \"Stage\"]] = [\"300000\",np.nan]\n",
    "df4.loc[df4[\"Company_Brand\"] == \"BHyve\"]"
   ]
  },
  {
   "cell_type": "code",
   "execution_count": 472,
   "metadata": {},
   "outputs": [
    {
     "data": {
      "text/html": [
       "<div>\n",
       "<style scoped>\n",
       "    .dataframe tbody tr th:only-of-type {\n",
       "        vertical-align: middle;\n",
       "    }\n",
       "\n",
       "    .dataframe tbody tr th {\n",
       "        vertical-align: top;\n",
       "    }\n",
       "\n",
       "    .dataframe thead th {\n",
       "        text-align: right;\n",
       "    }\n",
       "</style>\n",
       "<table border=\"1\" class=\"dataframe\">\n",
       "  <thead>\n",
       "    <tr style=\"text-align: right;\">\n",
       "      <th></th>\n",
       "      <th>Company_Brand</th>\n",
       "      <th>Founded</th>\n",
       "      <th>HeadQuarter</th>\n",
       "      <th>Sector</th>\n",
       "      <th>What_it_does</th>\n",
       "      <th>Founders</th>\n",
       "      <th>Investor</th>\n",
       "      <th>Amount</th>\n",
       "      <th>Stage</th>\n",
       "    </tr>\n",
       "  </thead>\n",
       "  <tbody>\n",
       "    <tr>\n",
       "      <th>677</th>\n",
       "      <td>Saarthi Pedagogy</td>\n",
       "      <td>2015.00</td>\n",
       "      <td>Ahmadabad</td>\n",
       "      <td>EdTech</td>\n",
       "      <td>India's fastest growing Pedagogy company, serv...</td>\n",
       "      <td>Pedagogy</td>\n",
       "      <td>Sushil Agarwal</td>\n",
       "      <td>1000000</td>\n",
       "      <td>NaN</td>\n",
       "    </tr>\n",
       "  </tbody>\n",
       "</table>\n",
       "</div>"
      ],
      "text/plain": [
       "        Company_Brand  Founded HeadQuarter  Sector  \\\n",
       "677  Saarthi Pedagogy  2015.00   Ahmadabad  EdTech   \n",
       "\n",
       "                                          What_it_does  Founders  \\\n",
       "677  India's fastest growing Pedagogy company, serv...  Pedagogy   \n",
       "\n",
       "           Investor   Amount Stage  \n",
       "677  Sushil Agarwal  1000000   NaN  "
      ]
     },
     "execution_count": 472,
     "metadata": {},
     "output_type": "execute_result"
    }
   ],
   "source": [
    "df4[df4[\"Stage\"]=='$1000000'] # getting the row that matches the Amount and \n",
    "# repositioning the values to their respective columns\n",
    "\n",
    "df4.loc[df4[\"Company_Brand\"] == \"Saarthi Pedagogy\", [\"Amount\", \"Stage\"]] = [\"1000000\",np.nan]\n",
    "df4.loc[df4[\"Company_Brand\"] == \"Saarthi Pedagogy\"]"
   ]
  },
  {
   "cell_type": "code",
   "execution_count": 473,
   "metadata": {},
   "outputs": [
    {
     "data": {
      "text/plain": [
       "array(['$1,200,000', '$120,000,000', '$30,000,000', '$51,000,000',\n",
       "       '$2,000,000', '$188,000,000', '$200,000', 'Undisclosed',\n",
       "       '$1,000,000', '$3,000,000', '$100,000', '$700,000', '$9,000,000',\n",
       "       '$40,000,000', '$49,000,000', '$400,000', '$300,000',\n",
       "       '$25,000,000', '$160,000,000', '$150,000', '$1,800,000',\n",
       "       '$5,000,000', '$850,000', '$53,000,000', '$500,000', '$1,100,000',\n",
       "       '$6,000,000', '$800,000', '$10,000,000', '$21,000,000',\n",
       "       '$7,500,000', '$26,000,000', '$7,400,000', '$1,500,000',\n",
       "       '$600,000', '$800,000,000', '$17,000,000', '$3,500,000',\n",
       "       '$15,000,000', '$215,000,000', '$2,500,000', '$350,000,000',\n",
       "       '$5,500,000', '$83,000,000', '$110,000,000', '$500,000,000',\n",
       "       '$65,000,000', '$150,000,000,000', '$300,000,000', '$2,200,000',\n",
       "       '$35,000,000', '$140,000,000', '$4,000,000', '$13,000,000', None,\n",
       "       '$Undisclosed', '$2000000', '$800000', '$6000000', '$2500000',\n",
       "       '$9500000', '$13000000', '$5000000', '$8000000', '$1000000',\n",
       "       '$1200000', '$200000', '$12000000', '$1500000', '$1700000',\n",
       "       '$5500000', '$400000', '$150000000', '$4000000', '$100000000',\n",
       "       '$500000', '$15000000', '$10000000', '$40000000', '$225000000',\n",
       "       '$6700000', '$1300000', '$20000000', '$250000', '$21000000',\n",
       "       '$52000000', '$3800000', '$17500000', '$42000000', '$2300000',\n",
       "       '$7000000', '$30000000', '$450000000', '$28000000', '$300000',\n",
       "       '$3500000', '$8500000', '$25000000', '$3000000', '$37000000',\n",
       "       '$370000000', '$700000', '$16000000', '$100000', '$44000000',\n",
       "       '$770000', '$125000000', '$35000000', '$50000000', '$4900000',\n",
       "       '$145000000', '$22000000', '$70000000', '$6600000', '$32000000',\n",
       "       '$24000000', '$725000', '$461000', '$96000000', '$60000000',\n",
       "       '$500000000', '$266000000', '$4500000', '$325000000', '$6500000',\n",
       "       '$1600000', '$150000', '$225000', '$85000000', '$235000',\n",
       "       '$260000', '$2900000', '$53000000', '$1100000', '$86000000',\n",
       "       '$130000', '$$100,00', '$111000000', '$265000', '$76000000',\n",
       "       '$100,000,000', '$75,000,000', '$3,800,000', '$12,000,000',\n",
       "       '$1,600,000', '$260,000', '$1,000,000,000', '$18,000,000',\n",
       "       '$20,000,000', '$350,000', '$95,000,000', '$4,100,000',\n",
       "       '$5,200,000', '$8,000,000', '$1,400,000', '$2,600,000', '$900,000',\n",
       "       '$250,000', '$16,000,000', '$7,000,000', '$11,000,000',\n",
       "       '$280,000,000', '$50,000,000', '$14,300,000', '$81,000,000',\n",
       "       '$1,300,000', '$8,200,000', '$70,000,000', '$720,000', '$600000',\n",
       "       '$9000000', '$1800000', '$330000', '$undisclosed', '$200000000',\n",
       "       '$36000000', '$67000000', '$10200000', '$220000000', '$108000000',\n",
       "       '$75000000', '$450000', '$660000000', '300000', '$45000000',\n",
       "       '$3200000', '$370000', 'Pre-series A', '$48000000', '$3600000',\n",
       "       '$11000000', '$192000000', '$65000000', '$1400000', '$1900000',\n",
       "       '$41000000', '$144000000', '$5200000', '$270000000', '$140000',\n",
       "       '$250000000', '$320000', '$350000000', '$4800000', '$38000000',\n",
       "       '$125000', '$26000000', '$64000000', '$620000', '$900000',\n",
       "       '6000000', '1000000', '$2600000', '$1,250,000', '$400,000,000',\n",
       "       '$1,700,000', '$27,000,000', '$234,000,000', '$460,000,000',\n",
       "       '$13,500,000', '$5,100,000', '$195,000,000', '$125,000',\n",
       "       '$45,000,000', '$200,000,000', '$7,300,000', '$6,300,000',\n",
       "       '$12,500,000', '$24,000,000', '$140,000', '$16,500,000',\n",
       "       '$340,000', '$43,000,000', '$150,000,000', '$3300000', '$92000000',\n",
       "       '$17000000', '$135000000', '$$1,55,000', '$2100000', '$840000000',\n",
       "       '$248000000', '$4300000', '$570000', '$2200000', '$4700000',\n",
       "       '$300000000', '$260000000', '$140000000', '$175000000',\n",
       "       '$19000000', '$810000', '$7500000', '$600000000', '$90000000',\n",
       "       '$5700000', '$6750000', '$78000000', '$5400000', '$115000000',\n",
       "       '$255000000', '$18000000', '$570000000', '$550000', '$2700000',\n",
       "       '$4200000', '$31000000', '$540000', '$14000000', '$340000', '$',\n",
       "       '$6200000', 'Seed', '$750000', '$6300000', '$23000000',\n",
       "       '$55000000'], dtype=object)"
      ]
     },
     "execution_count": 473,
     "metadata": {},
     "output_type": "execute_result"
    }
   ],
   "source": [
    "df4[\"Amount\"].unique() # getting unique values "
   ]
  },
  {
   "cell_type": "code",
   "execution_count": 474,
   "metadata": {},
   "outputs": [
    {
     "data": {
      "text/html": [
       "<div>\n",
       "<style scoped>\n",
       "    .dataframe tbody tr th:only-of-type {\n",
       "        vertical-align: middle;\n",
       "    }\n",
       "\n",
       "    .dataframe tbody tr th {\n",
       "        vertical-align: top;\n",
       "    }\n",
       "\n",
       "    .dataframe thead th {\n",
       "        text-align: right;\n",
       "    }\n",
       "</style>\n",
       "<table border=\"1\" class=\"dataframe\">\n",
       "  <thead>\n",
       "    <tr style=\"text-align: right;\">\n",
       "      <th></th>\n",
       "      <th>Company_Brand</th>\n",
       "      <th>Founded</th>\n",
       "      <th>HeadQuarter</th>\n",
       "      <th>Sector</th>\n",
       "      <th>What_it_does</th>\n",
       "      <th>Founders</th>\n",
       "      <th>Investor</th>\n",
       "      <th>Amount</th>\n",
       "      <th>Stage</th>\n",
       "    </tr>\n",
       "  </thead>\n",
       "  <tbody>\n",
       "    <tr>\n",
       "      <th>545</th>\n",
       "      <td>AdmitKard</td>\n",
       "      <td>2016.00</td>\n",
       "      <td>Noida</td>\n",
       "      <td>EdTech</td>\n",
       "      <td>A tech solution for end to end career advisory...</td>\n",
       "      <td>Vamsi Krishna, Pulkit Jain, Gaurav Munjal\\t#REF!</td>\n",
       "      <td>$1000000</td>\n",
       "      <td>Pre-series A</td>\n",
       "      <td>None</td>\n",
       "    </tr>\n",
       "    <tr>\n",
       "      <th>1148</th>\n",
       "      <td>Godamwale</td>\n",
       "      <td>2016.00</td>\n",
       "      <td>Mumbai</td>\n",
       "      <td>Logistics &amp; Supply Chain</td>\n",
       "      <td>Godamwale is tech enabled integrated logistics...</td>\n",
       "      <td>Basant Kumar, Vivek Tiwari, Ranbir Nandan</td>\n",
       "      <td>1000000\\t#REF!</td>\n",
       "      <td>Seed</td>\n",
       "      <td>None</td>\n",
       "    </tr>\n",
       "  </tbody>\n",
       "</table>\n",
       "</div>"
      ],
      "text/plain": [
       "     Company_Brand  Founded HeadQuarter                    Sector  \\\n",
       "545      AdmitKard  2016.00       Noida                    EdTech   \n",
       "1148     Godamwale  2016.00      Mumbai  Logistics & Supply Chain   \n",
       "\n",
       "                                           What_it_does  \\\n",
       "545   A tech solution for end to end career advisory...   \n",
       "1148  Godamwale is tech enabled integrated logistics...   \n",
       "\n",
       "                                              Founders        Investor  \\\n",
       "545   Vamsi Krishna, Pulkit Jain, Gaurav Munjal\\t#REF!        $1000000   \n",
       "1148         Basant Kumar, Vivek Tiwari, Ranbir Nandan  1000000\\t#REF!   \n",
       "\n",
       "            Amount Stage  \n",
       "545   Pre-series A  None  \n",
       "1148          Seed  None  "
      ]
     },
     "execution_count": 474,
     "metadata": {},
     "output_type": "execute_result"
    }
   ],
   "source": [
    "# checking if these specific values are present in the amount column \n",
    "\n",
    "df4[df4['Amount'].isin([ 'Seed','JITO Angel Network, LetsVenture','ITO Angel Network, LetsVenture','Pre-series A','ah! Ventures'])]"
   ]
  },
  {
   "cell_type": "code",
   "execution_count": 475,
   "metadata": {},
   "outputs": [
    {
     "data": {
      "text/html": [
       "<div>\n",
       "<style scoped>\n",
       "    .dataframe tbody tr th:only-of-type {\n",
       "        vertical-align: middle;\n",
       "    }\n",
       "\n",
       "    .dataframe tbody tr th {\n",
       "        vertical-align: top;\n",
       "    }\n",
       "\n",
       "    .dataframe thead th {\n",
       "        text-align: right;\n",
       "    }\n",
       "</style>\n",
       "<table border=\"1\" class=\"dataframe\">\n",
       "  <thead>\n",
       "    <tr style=\"text-align: right;\">\n",
       "      <th></th>\n",
       "      <th>Company_Brand</th>\n",
       "      <th>Founded</th>\n",
       "      <th>HeadQuarter</th>\n",
       "      <th>Sector</th>\n",
       "      <th>What_it_does</th>\n",
       "      <th>Founders</th>\n",
       "      <th>Investor</th>\n",
       "      <th>Amount</th>\n",
       "      <th>Stage</th>\n",
       "    </tr>\n",
       "  </thead>\n",
       "  <tbody>\n",
       "    <tr>\n",
       "      <th>1148</th>\n",
       "      <td>Godamwale</td>\n",
       "      <td>2016.00</td>\n",
       "      <td>Mumbai</td>\n",
       "      <td>Logistics &amp; Supply Chain</td>\n",
       "      <td>Godamwale is tech enabled integrated logistics...</td>\n",
       "      <td>Basant Kumar, Vivek Tiwari, Ranbir Nandan</td>\n",
       "      <td>NaN</td>\n",
       "      <td>$1000000</td>\n",
       "      <td>Seed</td>\n",
       "    </tr>\n",
       "  </tbody>\n",
       "</table>\n",
       "</div>"
      ],
      "text/plain": [
       "     Company_Brand  Founded HeadQuarter                    Sector  \\\n",
       "1148     Godamwale  2016.00      Mumbai  Logistics & Supply Chain   \n",
       "\n",
       "                                           What_it_does  \\\n",
       "1148  Godamwale is tech enabled integrated logistics...   \n",
       "\n",
       "                                       Founders Investor    Amount Stage  \n",
       "1148  Basant Kumar, Vivek Tiwari, Ranbir Nandan      NaN  $1000000  Seed  "
      ]
     },
     "execution_count": 475,
     "metadata": {},
     "output_type": "execute_result"
    }
   ],
   "source": [
    "# getting the row that matches the Amount \n",
    "# repositioning the values to their respective columns\n",
    "\n",
    "df4.loc[df4[\"Company_Brand\"] == \"Godamwale\", [\"Amount\", \"Stage\", \"Investor\"]] = [\"$1000000\", \"Seed\",np.nan]\n",
    "df4.loc[df4[\"Company_Brand\"] == \"Godamwale\"]"
   ]
  },
  {
   "cell_type": "code",
   "execution_count": 476,
   "metadata": {},
   "outputs": [
    {
     "data": {
      "text/html": [
       "<div>\n",
       "<style scoped>\n",
       "    .dataframe tbody tr th:only-of-type {\n",
       "        vertical-align: middle;\n",
       "    }\n",
       "\n",
       "    .dataframe tbody tr th {\n",
       "        vertical-align: top;\n",
       "    }\n",
       "\n",
       "    .dataframe thead th {\n",
       "        text-align: right;\n",
       "    }\n",
       "</style>\n",
       "<table border=\"1\" class=\"dataframe\">\n",
       "  <thead>\n",
       "    <tr style=\"text-align: right;\">\n",
       "      <th></th>\n",
       "      <th>Company_Brand</th>\n",
       "      <th>Founded</th>\n",
       "      <th>HeadQuarter</th>\n",
       "      <th>Sector</th>\n",
       "      <th>What_it_does</th>\n",
       "      <th>Founders</th>\n",
       "      <th>Investor</th>\n",
       "      <th>Amount</th>\n",
       "      <th>Stage</th>\n",
       "    </tr>\n",
       "  </thead>\n",
       "  <tbody>\n",
       "    <tr>\n",
       "      <th>356</th>\n",
       "      <td>OwO</td>\n",
       "      <td>2020.00</td>\n",
       "      <td>Gurugram</td>\n",
       "      <td>E-commerce</td>\n",
       "      <td>Shop packaged drinking water, beverages from y...</td>\n",
       "      <td>Hardev Sahu</td>\n",
       "      <td>ah! Ventures</td>\n",
       "      <td>$200,000</td>\n",
       "      <td>None</td>\n",
       "    </tr>\n",
       "    <tr>\n",
       "      <th>538</th>\n",
       "      <td>Little Leap</td>\n",
       "      <td>2020.00</td>\n",
       "      <td>Delhi</td>\n",
       "      <td>EdTech</td>\n",
       "      <td>Soft Skills that make Smart Leaders</td>\n",
       "      <td>Holistic Development Programs for children in ...</td>\n",
       "      <td>ah! Ventures</td>\n",
       "      <td>$300000</td>\n",
       "      <td>NaN</td>\n",
       "    </tr>\n",
       "    <tr>\n",
       "      <th>840</th>\n",
       "      <td>Klassroom</td>\n",
       "      <td>2016.00</td>\n",
       "      <td>Mumbai</td>\n",
       "      <td>EdTech</td>\n",
       "      <td>Klassroom offers a one-of-a-kind LIVE interact...</td>\n",
       "      <td>Alka Javeri</td>\n",
       "      <td>ah! Ventures</td>\n",
       "      <td>$200,000</td>\n",
       "      <td>Pre-series A</td>\n",
       "    </tr>\n",
       "    <tr>\n",
       "      <th>1133</th>\n",
       "      <td>Enercomp</td>\n",
       "      <td>2013.00</td>\n",
       "      <td>Ahmedabad</td>\n",
       "      <td>Information Technology &amp; Services</td>\n",
       "      <td>Enercomp Solutions Pvt Ltd provide drone based...</td>\n",
       "      <td>SURESH SHAHDADPURI</td>\n",
       "      <td>ah! Ventures</td>\n",
       "      <td>$200000</td>\n",
       "      <td>None</td>\n",
       "    </tr>\n",
       "  </tbody>\n",
       "</table>\n",
       "</div>"
      ],
      "text/plain": [
       "     Company_Brand  Founded HeadQuarter                             Sector  \\\n",
       "356            OwO  2020.00    Gurugram                         E-commerce   \n",
       "538    Little Leap  2020.00       Delhi                             EdTech   \n",
       "840      Klassroom  2016.00      Mumbai                             EdTech   \n",
       "1133      Enercomp  2013.00   Ahmedabad  Information Technology & Services   \n",
       "\n",
       "                                           What_it_does  \\\n",
       "356   Shop packaged drinking water, beverages from y...   \n",
       "538                 Soft Skills that make Smart Leaders   \n",
       "840   Klassroom offers a one-of-a-kind LIVE interact...   \n",
       "1133  Enercomp Solutions Pvt Ltd provide drone based...   \n",
       "\n",
       "                                               Founders      Investor  \\\n",
       "356                                         Hardev Sahu  ah! Ventures   \n",
       "538   Holistic Development Programs for children in ...  ah! Ventures   \n",
       "840                                         Alka Javeri  ah! Ventures   \n",
       "1133                                 SURESH SHAHDADPURI  ah! Ventures   \n",
       "\n",
       "        Amount         Stage  \n",
       "356   $200,000          None  \n",
       "538    $300000           NaN  \n",
       "840   $200,000  Pre-series A  \n",
       "1133   $200000          None  "
      ]
     },
     "execution_count": 476,
     "metadata": {},
     "output_type": "execute_result"
    }
   ],
   "source": [
    "# below we are reformatting rows with the company value Little Leep with its correct column values\n",
    "\n",
    "df4.loc[df4[\"Company_Brand\"] == \"Little Leap\", [\"Amount\", \"Stage\", \"Investor\"]] = [\n",
    "    \"$300000\", np.nan, \"ah! Ventures\"]\n",
    "\n",
    "df4.loc[df4[\"Investor\"] == \"ah! Ventures\"] # here we are fetching the investor's column that matches 'ah! ventures'"
   ]
  },
  {
   "cell_type": "code",
   "execution_count": 477,
   "metadata": {},
   "outputs": [
    {
     "data": {
      "text/html": [
       "<div>\n",
       "<style scoped>\n",
       "    .dataframe tbody tr th:only-of-type {\n",
       "        vertical-align: middle;\n",
       "    }\n",
       "\n",
       "    .dataframe tbody tr th {\n",
       "        vertical-align: top;\n",
       "    }\n",
       "\n",
       "    .dataframe thead th {\n",
       "        text-align: right;\n",
       "    }\n",
       "</style>\n",
       "<table border=\"1\" class=\"dataframe\">\n",
       "  <thead>\n",
       "    <tr style=\"text-align: right;\">\n",
       "      <th></th>\n",
       "      <th>Company_Brand</th>\n",
       "      <th>Founded</th>\n",
       "      <th>HeadQuarter</th>\n",
       "      <th>Sector</th>\n",
       "      <th>What_it_does</th>\n",
       "      <th>Founders</th>\n",
       "      <th>Investor</th>\n",
       "      <th>Amount</th>\n",
       "      <th>Stage</th>\n",
       "    </tr>\n",
       "  </thead>\n",
       "  <tbody>\n",
       "    <tr>\n",
       "      <th>545</th>\n",
       "      <td>AdmitKard</td>\n",
       "      <td>2016.00</td>\n",
       "      <td>Noida</td>\n",
       "      <td>EdTech</td>\n",
       "      <td>A tech solution for end to end career advisory...</td>\n",
       "      <td>Vamsi Krishna, Pulkit Jain, Gaurav Munjal\\t#REF!</td>\n",
       "      <td>NaN</td>\n",
       "      <td>$1000000</td>\n",
       "      <td>Pre-series A</td>\n",
       "    </tr>\n",
       "  </tbody>\n",
       "</table>\n",
       "</div>"
      ],
      "text/plain": [
       "    Company_Brand  Founded HeadQuarter  Sector  \\\n",
       "545     AdmitKard  2016.00       Noida  EdTech   \n",
       "\n",
       "                                          What_it_does  \\\n",
       "545  A tech solution for end to end career advisory...   \n",
       "\n",
       "                                             Founders Investor    Amount  \\\n",
       "545  Vamsi Krishna, Pulkit Jain, Gaurav Munjal\\t#REF!      NaN  $1000000   \n",
       "\n",
       "            Stage  \n",
       "545  Pre-series A  "
      ]
     },
     "execution_count": 477,
     "metadata": {},
     "output_type": "execute_result"
    }
   ],
   "source": [
    "df4.loc[df4[\"Company_Brand\"] == \"AdmitKard\", [\"Amount\", \"Stage\", \"Investor\"]] = [\n",
    "    \"$1000000\", \"Pre-series A\",np.nan]\n",
    "df4.loc[df4[\"Company_Brand\"] == \"AdmitKard\"]"
   ]
  },
  {
   "cell_type": "code",
   "execution_count": 478,
   "metadata": {},
   "outputs": [],
   "source": [
    "# Cleaning the Amounts column & # removing the currency symbol in df_2021\n",
    "\n",
    "df4['Amount'] = df4['Amount'].astype(str).str.replace('[\\₹$,]', '', regex=True)\n",
    "df4['Amount'] = df4['Amount'].str.replace('Undisclosed', 'NAN', regex=True)\n",
    "df4['Amount'] = df4['Amount'].str.replace('undisclosed', 'NAN', regex=True)\n",
    "df4['Amount'] = df4['Amount'].str.replace('None', 'NAN', regex=True)\n",
    "df4['Amount'].replace(\",\", \"\", inplace = True, regex=True)\n",
    "df4['Amount'].replace(\"—\", 0, inplace = True, regex=True)\n",
    "df4['Amount'].replace(\"\", '0', inplace=True, regex=True)"
   ]
  },
  {
   "cell_type": "code",
   "execution_count": 479,
   "metadata": {},
   "outputs": [
    {
     "data": {
      "text/plain": [
       "array(['1200000', '120000000', '30000000', '51000000', '2000000',\n",
       "       '188000000', '200000', 'NAN', '1000000', '3000000', '100000',\n",
       "       '700000', '9000000', '40000000', '49000000', '400000', '300000',\n",
       "       '25000000', '160000000', '150000', '1800000', '5000000', '850000',\n",
       "       '53000000', '500000', '1100000', '6000000', '800000', '10000000',\n",
       "       '21000000', '7500000', '26000000', '7400000', '1500000', '600000',\n",
       "       '800000000', '17000000', '3500000', '15000000', '215000000',\n",
       "       '2500000', '350000000', '5500000', '83000000', '110000000',\n",
       "       '500000000', '65000000', '150000000000', '300000000', '2200000',\n",
       "       '35000000', '140000000', '4000000', '13000000', '9500000',\n",
       "       '8000000', '12000000', '1700000', '150000000', '100000000',\n",
       "       '225000000', '6700000', '1300000', '20000000', '250000',\n",
       "       '52000000', '3800000', '17500000', '42000000', '2300000',\n",
       "       '7000000', '450000000', '28000000', '8500000', '37000000',\n",
       "       '370000000', '16000000', '44000000', '770000', '125000000',\n",
       "       '50000000', '4900000', '145000000', '22000000', '70000000',\n",
       "       '6600000', '32000000', '24000000', '725000', '461000', '96000000',\n",
       "       '60000000', '266000000', '4500000', '325000000', '6500000',\n",
       "       '1600000', '225000', '85000000', '235000', '260000', '2900000',\n",
       "       '86000000', '130000', '10000', '111000000', '265000', '76000000',\n",
       "       '75000000', '1000000000', '18000000', '350000', '95000000',\n",
       "       '4100000', '5200000', '1400000', '2600000', '900000', '11000000',\n",
       "       '280000000', '14300000', '81000000', '8200000', '720000', '330000',\n",
       "       '200000000', '36000000', '67000000', '10200000', '220000000',\n",
       "       '108000000', '450000', '660000000', '45000000', '3200000',\n",
       "       '370000', '48000000', '3600000', '192000000', '1900000',\n",
       "       '41000000', '144000000', '270000000', '140000', '250000000',\n",
       "       '320000', '4800000', '38000000', '125000', '64000000', '620000',\n",
       "       '1250000', '400000000', '27000000', '234000000', '460000000',\n",
       "       '13500000', '5100000', '195000000', '7300000', '6300000',\n",
       "       '12500000', '16500000', '340000', '43000000', '3300000',\n",
       "       '92000000', '135000000', '155000', '2100000', '840000000',\n",
       "       '248000000', '4300000', '570000', '4700000', '260000000',\n",
       "       '175000000', '19000000', '810000', '600000000', '90000000',\n",
       "       '5700000', '6750000', '78000000', '5400000', '115000000',\n",
       "       '255000000', '570000000', '550000', '2700000', '4200000',\n",
       "       '31000000', '540000', '14000000', '0', '6200000', '750000',\n",
       "       '23000000', '55000000'], dtype=object)"
      ]
     },
     "execution_count": 479,
     "metadata": {},
     "output_type": "execute_result"
    }
   ],
   "source": [
    "df4['Amount'].unique()"
   ]
  },
  {
   "cell_type": "code",
   "execution_count": 480,
   "metadata": {},
   "outputs": [
    {
     "data": {
      "text/html": [
       "<div>\n",
       "<style scoped>\n",
       "    .dataframe tbody tr th:only-of-type {\n",
       "        vertical-align: middle;\n",
       "    }\n",
       "\n",
       "    .dataframe tbody tr th {\n",
       "        vertical-align: top;\n",
       "    }\n",
       "\n",
       "    .dataframe thead th {\n",
       "        text-align: right;\n",
       "    }\n",
       "</style>\n",
       "<table border=\"1\" class=\"dataframe\">\n",
       "  <thead>\n",
       "    <tr style=\"text-align: right;\">\n",
       "      <th></th>\n",
       "      <th>Company_Brand</th>\n",
       "      <th>Founded</th>\n",
       "      <th>HeadQuarter</th>\n",
       "      <th>Sector</th>\n",
       "      <th>What_it_does</th>\n",
       "      <th>Founders</th>\n",
       "      <th>Investor</th>\n",
       "      <th>Amount</th>\n",
       "      <th>Stage</th>\n",
       "    </tr>\n",
       "  </thead>\n",
       "  <tbody>\n",
       "  </tbody>\n",
       "</table>\n",
       "</div>"
      ],
      "text/plain": [
       "Empty DataFrame\n",
       "Columns: [Company_Brand, Founded, HeadQuarter, Sector, What_it_does, Founders, Investor, Amount, Stage]\n",
       "Index: []"
      ]
     },
     "execution_count": 480,
     "metadata": {},
     "output_type": "execute_result"
    }
   ],
   "source": [
    "df4[df4['Amount'] == 'Pre-series A']"
   ]
  },
  {
   "cell_type": "code",
   "execution_count": 481,
   "metadata": {},
   "outputs": [],
   "source": [
    "df4.loc[df4['Company_Brand'] == 'AdmitKard', 'Amount'] = 1000000 # replacing the real value for this row by help of google"
   ]
  },
  {
   "cell_type": "code",
   "execution_count": 482,
   "metadata": {},
   "outputs": [
    {
     "data": {
      "text/plain": [
       "array(['1200000', '120000000', '30000000', '51000000', '2000000',\n",
       "       '188000000', '200000', 'NAN', '1000000', '3000000', '100000',\n",
       "       '700000', '9000000', '40000000', '49000000', '400000', '300000',\n",
       "       '25000000', '160000000', '150000', '1800000', '5000000', '850000',\n",
       "       '53000000', '500000', '1100000', '6000000', '800000', '10000000',\n",
       "       '21000000', '7500000', '26000000', '7400000', '1500000', '600000',\n",
       "       '800000000', '17000000', '3500000', '15000000', '215000000',\n",
       "       '2500000', '350000000', '5500000', '83000000', '110000000',\n",
       "       '500000000', '65000000', '150000000000', '300000000', '2200000',\n",
       "       '35000000', '140000000', '4000000', '13000000', '9500000',\n",
       "       '8000000', '12000000', '1700000', '150000000', '100000000',\n",
       "       '225000000', '6700000', '1300000', '20000000', '250000',\n",
       "       '52000000', '3800000', '17500000', '42000000', '2300000',\n",
       "       '7000000', '450000000', '28000000', '8500000', '37000000',\n",
       "       '370000000', '16000000', '44000000', '770000', '125000000',\n",
       "       '50000000', '4900000', '145000000', '22000000', '70000000',\n",
       "       '6600000', '32000000', '24000000', '725000', '461000', '96000000',\n",
       "       '60000000', '266000000', '4500000', '325000000', '6500000',\n",
       "       '1600000', '225000', '85000000', '235000', '260000', '2900000',\n",
       "       '86000000', '130000', '10000', '111000000', '265000', '76000000',\n",
       "       '75000000', '1000000000', '18000000', '350000', '95000000',\n",
       "       '4100000', '5200000', '1400000', '2600000', '900000', '11000000',\n",
       "       '280000000', '14300000', '81000000', '8200000', '720000', '330000',\n",
       "       '200000000', '36000000', '67000000', '10200000', '220000000',\n",
       "       '108000000', '450000', '660000000', '45000000', '3200000',\n",
       "       '370000', 1000000, '48000000', '3600000', '192000000', '1900000',\n",
       "       '41000000', '144000000', '270000000', '140000', '250000000',\n",
       "       '320000', '4800000', '38000000', '125000', '64000000', '620000',\n",
       "       '1250000', '400000000', '27000000', '234000000', '460000000',\n",
       "       '13500000', '5100000', '195000000', '7300000', '6300000',\n",
       "       '12500000', '16500000', '340000', '43000000', '3300000',\n",
       "       '92000000', '135000000', '155000', '2100000', '840000000',\n",
       "       '248000000', '4300000', '570000', '4700000', '260000000',\n",
       "       '175000000', '19000000', '810000', '600000000', '90000000',\n",
       "       '5700000', '6750000', '78000000', '5400000', '115000000',\n",
       "       '255000000', '570000000', '550000', '2700000', '4200000',\n",
       "       '31000000', '540000', '14000000', '0', '6200000', '750000',\n",
       "       '23000000', '55000000'], dtype=object)"
      ]
     },
     "execution_count": 482,
     "metadata": {},
     "output_type": "execute_result"
    }
   ],
   "source": [
    "df4['Amount'].unique()"
   ]
  },
  {
   "cell_type": "code",
   "execution_count": 483,
   "metadata": {},
   "outputs": [
    {
     "data": {
      "text/plain": [
       "numpy.float64"
      ]
     },
     "execution_count": 483,
     "metadata": {},
     "output_type": "execute_result"
    }
   ],
   "source": [
    "df4['Amount'] = df4['Amount'].astype(float)\n",
    "type(df4['Amount'][0])   # we are converting to float "
   ]
  },
  {
   "cell_type": "code",
   "execution_count": 484,
   "metadata": {},
   "outputs": [
    {
     "data": {
      "text/plain": [
       "array([1.20e+06, 1.20e+08, 3.00e+07, 5.10e+07, 2.00e+06, 1.88e+08,\n",
       "       2.00e+05,      nan, 1.00e+06, 3.00e+06, 1.00e+05, 7.00e+05,\n",
       "       9.00e+06, 4.00e+07, 4.90e+07, 4.00e+05, 3.00e+05, 2.50e+07,\n",
       "       1.60e+08, 1.50e+05, 1.80e+06, 5.00e+06, 8.50e+05, 5.30e+07,\n",
       "       5.00e+05, 1.10e+06, 6.00e+06, 8.00e+05, 1.00e+07, 2.10e+07,\n",
       "       7.50e+06, 2.60e+07, 7.40e+06, 1.50e+06, 6.00e+05, 8.00e+08,\n",
       "       1.70e+07, 3.50e+06, 1.50e+07, 2.15e+08, 2.50e+06, 3.50e+08,\n",
       "       5.50e+06, 8.30e+07, 1.10e+08, 5.00e+08, 6.50e+07, 1.50e+11,\n",
       "       3.00e+08, 2.20e+06, 3.50e+07, 1.40e+08, 4.00e+06, 1.30e+07,\n",
       "       9.50e+06, 8.00e+06, 1.20e+07, 1.70e+06, 1.50e+08, 1.00e+08,\n",
       "       2.25e+08, 6.70e+06, 1.30e+06, 2.00e+07, 2.50e+05, 5.20e+07,\n",
       "       3.80e+06, 1.75e+07, 4.20e+07, 2.30e+06, 7.00e+06, 4.50e+08,\n",
       "       2.80e+07, 8.50e+06, 3.70e+07, 3.70e+08, 1.60e+07, 4.40e+07,\n",
       "       7.70e+05, 1.25e+08, 5.00e+07, 4.90e+06, 1.45e+08, 2.20e+07,\n",
       "       7.00e+07, 6.60e+06, 3.20e+07, 2.40e+07, 7.25e+05, 4.61e+05,\n",
       "       9.60e+07, 6.00e+07, 2.66e+08, 4.50e+06, 3.25e+08, 6.50e+06,\n",
       "       1.60e+06, 2.25e+05, 8.50e+07, 2.35e+05, 2.60e+05, 2.90e+06,\n",
       "       8.60e+07, 1.30e+05, 1.00e+04, 1.11e+08, 2.65e+05, 7.60e+07,\n",
       "       7.50e+07, 1.00e+09, 1.80e+07, 3.50e+05, 9.50e+07, 4.10e+06,\n",
       "       5.20e+06, 1.40e+06, 2.60e+06, 9.00e+05, 1.10e+07, 2.80e+08,\n",
       "       1.43e+07, 8.10e+07, 8.20e+06, 7.20e+05, 3.30e+05, 2.00e+08,\n",
       "       3.60e+07, 6.70e+07, 1.02e+07, 2.20e+08, 1.08e+08, 4.50e+05,\n",
       "       6.60e+08, 4.50e+07, 3.20e+06, 3.70e+05, 4.80e+07, 3.60e+06,\n",
       "       1.92e+08, 1.90e+06, 4.10e+07, 1.44e+08, 2.70e+08, 1.40e+05,\n",
       "       2.50e+08, 3.20e+05, 4.80e+06, 3.80e+07, 1.25e+05, 6.40e+07,\n",
       "       6.20e+05, 1.25e+06, 4.00e+08, 2.70e+07, 2.34e+08, 4.60e+08,\n",
       "       1.35e+07, 5.10e+06, 1.95e+08, 7.30e+06, 6.30e+06, 1.25e+07,\n",
       "       1.65e+07, 3.40e+05, 4.30e+07, 3.30e+06, 9.20e+07, 1.35e+08,\n",
       "       1.55e+05, 2.10e+06, 8.40e+08, 2.48e+08, 4.30e+06, 5.70e+05,\n",
       "       4.70e+06, 2.60e+08, 1.75e+08, 1.90e+07, 8.10e+05, 6.00e+08,\n",
       "       9.00e+07, 5.70e+06, 6.75e+06, 7.80e+07, 5.40e+06, 1.15e+08,\n",
       "       2.55e+08, 5.70e+08, 5.50e+05, 2.70e+06, 4.20e+06, 3.10e+07,\n",
       "       5.40e+05, 1.40e+07, 0.00e+00, 6.20e+06, 7.50e+05, 2.30e+07,\n",
       "       5.50e+07])"
      ]
     },
     "execution_count": 484,
     "metadata": {},
     "output_type": "execute_result"
    }
   ],
   "source": [
    "df4['Amount'].unique() # comfirming the unique values in the Amount column"
   ]
  },
  {
   "cell_type": "code",
   "execution_count": 485,
   "metadata": {},
   "outputs": [
    {
     "data": {
      "text/plain": [
       "1000000.00     86\n",
       "2000000.00     60\n",
       "3000000.00     48\n",
       "10000000.00    43\n",
       "5000000.00     42\n",
       "               ..\n",
       "10200000.00     1\n",
       "67000000.00     1\n",
       "36000000.00     1\n",
       "720000.00       1\n",
       "55000000.00     1\n",
       "Name: Amount, Length: 198, dtype: int64"
      ]
     },
     "execution_count": 485,
     "metadata": {},
     "output_type": "execute_result"
    }
   ],
   "source": [
    "df4['Amount'].value_counts() # here we are checking the total value counts of all the unique values "
   ]
  },
  {
   "cell_type": "code",
   "execution_count": 486,
   "metadata": {},
   "outputs": [
    {
     "name": "stdout",
     "output_type": "stream",
     "text": [
      "139\n"
     ]
    }
   ],
   "source": [
    "null_values_Amount4 = df4['Amount'].isnull().sum() # here we are comfirming for null values\n",
    "print(null_values_Amount4) "
   ]
  },
  {
   "cell_type": "code",
   "execution_count": 487,
   "metadata": {},
   "outputs": [
    {
     "data": {
      "text/plain": [
       "1190"
      ]
     },
     "execution_count": 487,
     "metadata": {},
     "output_type": "execute_result"
    }
   ],
   "source": [
    "len(df4['Amount'])"
   ]
  },
  {
   "cell_type": "markdown",
   "metadata": {},
   "source": [
    "NOW LET'S FIND THE PERCENTAGE OF NULL VALUES TO THE THAT OF THE WHOLE \n",
    "AMOUNT COLUMN \n",
    "this will help us to understand and appreciate the impact of the null values in the Amount column"
   ]
  },
  {
   "cell_type": "code",
   "execution_count": 488,
   "metadata": {},
   "outputs": [
    {
     "data": {
      "text/plain": [
       "11.680672268907562"
      ]
     },
     "execution_count": 488,
     "metadata": {},
     "output_type": "execute_result"
    }
   ],
   "source": [
    "# Finding the percentage of null values\n",
    "\n",
    "Amnt_null_perc = (null_values_Amount4 / len(df4['Amount'])) * 100\n",
    "Amnt_null_perc"
   ]
  },
  {
   "cell_type": "code",
   "execution_count": 489,
   "metadata": {},
   "outputs": [
    {
     "name": "stdout",
     "output_type": "stream",
     "text": [
      "count           1051.00\n",
      "mean       170892983.82\n",
      "std       4626738028.71\n",
      "min                0.00\n",
      "25%          1000000.00\n",
      "50%          3500000.00\n",
      "75%         15000000.00\n",
      "max     150000000000.00\n",
      "Name: Amount, dtype: float64\n"
     ]
    }
   ],
   "source": [
    "amount_stats = df4['Amount'].describe()\n",
    "print(amount_stats)"
   ]
  },
  {
   "cell_type": "code",
   "execution_count": 490,
   "metadata": {},
   "outputs": [
    {
     "name": "stdout",
     "output_type": "stream",
     "text": [
      "count             1,051.00\n",
      "mean        170,892,983.82\n",
      "std       4,626,738,028.71\n",
      "min                   0.00\n",
      "25%           1,000,000.00\n",
      "50%           3,500,000.00\n",
      "75%          15,000,000.00\n",
      "max     150,000,000,000.00\n",
      "Name: Amount, dtype: float64\n"
     ]
    }
   ],
   "source": [
    "pd.options.display.float_format = '{:,.2f}'.format\n",
    "print(amount_stats)"
   ]
  },
  {
   "cell_type": "markdown",
   "metadata": {},
   "source": [
    "from the above output, we can see that, the percentage of null values in the Amount column \n",
    "is very high, now to impute for the missing values, we will conduct some test to select the best out of these two \n",
    "either mean or medain since, the date set is too small to use other methods such, multiple imputation, regression imputation etc,\n",
    "\n",
    "SO BELOW WE WILL USE BOTH: 1. DISTRIBUTION SHAPE\n",
    "2. CHECKING FOR OUTLIERS\n"
   ]
  },
  {
   "cell_type": "code",
   "execution_count": 491,
   "metadata": {},
   "outputs": [
    {
     "data": {
      "image/png": "[encoded data removed]",
      "text/plain": [
       "<Figure size 432x288 with 1 Axes>"
      ]
     },
     "metadata": {
      "needs_background": "light"
     },
     "output_type": "display_data"
    }
   ],
   "source": [
    "# first we will use the distribution shape by the help of a histogram \n",
    "# below we are plotting the histogram \n",
    "\n",
    "plt.hist(df4['Amount'].dropna(), bins=10) \n",
    "plt.xlabel('Amount')\n",
    "#plt.xticks(df4['Amount'].dropna().unique())\n",
    "plt.ylabel('Frequency')\n",
    "plt.title('Distribution of non-null values in the Amount column')\n",
    "plt.show()\n"
   ]
  },
  {
   "cell_type": "markdown",
   "metadata": {},
   "source": [
    "histogram we plot above suggests that the majority of the non-null values in the 'Amount' column are concentrated within the first bin (0.0 to 0.2 on the x-axis) with a frequency of 1000 on the y-axis. This means that a large number of values in the 'Amount' column are close to zero or have very small values.\n",
    "\n",
    "The remaining bins from 0.2 to 1.4 on the x-axis have no or very few values, indicating that the range of values beyond the first bin is sparsely populated.\n",
    "\n",
    "Overall, the histogram above suggests that the distribution of values in the 'Amount' column is highly skewed, with a heavy concentration of values around zero or small values, and a lack of values in the higher range. This skewness and concentration of values at zero or small values may impact the appropriateness of using the mean for imputation, as it may be heavily influenced by these extreme values."
   ]
  },
  {
   "cell_type": "markdown",
   "metadata": {},
   "source": [
    "BELOW IS THE NEXT STEP TO CONFIRM WHERTHER TO USE THE MEDAIN OF NOT "
   ]
  },
  {
   "cell_type": "markdown",
   "metadata": {},
   "source": [
    "To confirm whether using the median is a suitable imputation method, we can perform a hypothesis test to compare the distribution of non-null values in the 'Amount' column with the distribution of the imputed values using the median."
   ]
  },
  {
   "cell_type": "code",
   "execution_count": 492,
   "metadata": {},
   "outputs": [],
   "source": [
    "# below we are creating the two sets non-null and the median imputed \n",
    "\n",
    "non_null_values_4 = df4['Amount'].dropna()\n",
    "median_imputed_values_4 = df4['Amount'].fillna(df4['Amount'].median())"
   ]
  },
  {
   "cell_type": "markdown",
   "metadata": {},
   "source": [
    "below we are \n",
    "Performing a statistical test to compare the distributions of the two groups. \n",
    "One option is to use the Kolmogorov-Smirnov test, which can be performed using \n",
    "the ks_2samp() function from the scipy.stats module."
   ]
  },
  {
   "cell_type": "code",
   "execution_count": 493,
   "metadata": {},
   "outputs": [
    {
     "data": {
      "text/plain": [
       "0.043077707820372166"
      ]
     },
     "execution_count": 493,
     "metadata": {},
     "output_type": "execute_result"
    }
   ],
   "source": [
    "# below we are conducting the test \n",
    "test_statistic4, p_value4 = ks_2samp(non_null_values_4, median_imputed_values_4)\n",
    "test_statistic4\n",
    "p_value4"
   ]
  },
  {
   "cell_type": "markdown",
   "metadata": {},
   "source": [
    "NOW: we will set a significant value to 0.05 \n",
    "now we will also set both a null hypothesis and an alternate hyppthesis, which will either be rejected\n",
    "of accpeted based on the significant value \n",
    "\n",
    "Null Hypothesis (H0): The distributions of non-null values and imputed values using the median are the same\n",
    "\n",
    "Alternative Hypothesis (H1): The distributions of non-null values and imputed values using the median are different."
   ]
  },
  {
   "cell_type": "markdown",
   "metadata": {},
   "source": [
    "The significance level allows us to set a standard of evidence required to reject the null hypothesis. If the p-value, which represents the probability of observing the data given that the null hypothesis is true, is less than or equal to the significance level, we reject the null hypothesis. This implies that the observed result is unlikely to have occurred by chance alone and supports the alternative hypothesis"
   ]
  },
  {
   "cell_type": "code",
   "execution_count": 494,
   "metadata": {},
   "outputs": [
    {
     "name": "stdout",
     "output_type": "stream",
     "text": [
      "There is a significant difference between the distributions.\n"
     ]
    }
   ],
   "source": [
    "significance_level = 0.05\n",
    "\n",
    "if p_value4 < significance_level:\n",
    "    print(\"There is a significant difference between the distributions.\")\n",
    "else:\n",
    "    print(\"There is no significant difference between the distributions.\")\n"
   ]
  },
  {
   "cell_type": "markdown",
   "metadata": {},
   "source": [
    "TEST_OUT_COME AND IMPLICATIONS \n",
    "The test results indicate that there is no significant difference between the distributions of the non-null values and the imputed values using the median. Since the p-value (0.0431) is greater than the significance level (0.05), we fail to reject the null hypothesis. This suggests that the imputed values using the median are similar to the observed non-null values in terms of their distribution\n",
    "\n",
    "based on the test results, it appears that using the median to impute the missing values in the 'Amount' column would be a reasonable approach. The distribution of the imputed values using the median is not significantly different from the distribution of the non-null values. Therefore, imputing the missing values with the median value can provide a reliable estimate while preserving the overall distribution characteristics of the data"
   ]
  },
  {
   "cell_type": "markdown",
   "metadata": {},
   "source": [
    "NOW WE CAN CONFIDENTLY FILLIN THE NULL VALUES WITH THE MEDIAN \n",
    "AS SHOWN BELOW "
   ]
  },
  {
   "cell_type": "code",
   "execution_count": 495,
   "metadata": {},
   "outputs": [],
   "source": [
    "median_value_4 = df4['Amount'].median()\n",
    "df4['Amount'] = df4['Amount'].fillna(median_value_4) # here we fill in the nan values using the median strategy "
   ]
  },
  {
   "cell_type": "code",
   "execution_count": 496,
   "metadata": {},
   "outputs": [
    {
     "data": {
      "text/plain": [
       "0"
      ]
     },
     "execution_count": 496,
     "metadata": {},
     "output_type": "execute_result"
    }
   ],
   "source": [
    "# now let's confirm the Amount column column for null values again \n",
    "df4['Amount'].isna().sum()"
   ]
  },
  {
   "cell_type": "code",
   "execution_count": 497,
   "metadata": {},
   "outputs": [
    {
     "data": {
      "image/png": "[encoded data removed]",
      "text/plain": [
       "<Figure size 432x288 with 1 Axes>"
      ]
     },
     "metadata": {
      "needs_background": "light"
     },
     "output_type": "display_data"
    }
   ],
   "source": [
    "# first we will use the distribution shape by the help of a histogram \n",
    "# below we are plotting the histogram \n",
    "\n",
    "# Apply logarithmic transformation to the data\n",
    "# Filter out non-positive and missing values\n",
    "valid_amounts = df4['Amount'][df4['Amount'] > 0].dropna()\n",
    "\n",
    "# Apply logarithmic transformation to the filtered values\n",
    "log_amount = np.log10(valid_amounts)\n",
    "\n",
    "# Plot the histogram using logarithmic scale\n",
    "plt.hist(log_amount, bins=10)\n",
    "plt.xlabel('Logarithm of Amount')\n",
    "plt.ylabel('Frequency')\n",
    "plt.title('Distribution of logarithm of values in the Amount column')\n",
    "plt.show()\n"
   ]
  },
  {
   "cell_type": "markdown",
   "metadata": {},
   "source": [
    "NOW LET'S DEAL WITH NULL VALUES IN THE STAGE COLUMN "
   ]
  },
  {
   "cell_type": "code",
   "execution_count": 498,
   "metadata": {},
   "outputs": [
    {
     "data": {
      "text/plain": [
       "421"
      ]
     },
     "execution_count": 498,
     "metadata": {},
     "output_type": "execute_result"
    }
   ],
   "source": [
    "null_stage_4 = df4['Stage'].isnull().sum()  # checking for null values in the stage column \n",
    "null_stage_4"
   ]
  },
  {
   "cell_type": "code",
   "execution_count": 499,
   "metadata": {},
   "outputs": [
    {
     "data": {
      "text/plain": [
       "35.378151260504204"
      ]
     },
     "execution_count": 499,
     "metadata": {},
     "output_type": "execute_result"
    }
   ],
   "source": [
    "null_stage_4 = df4['Stage'].isnull().sum()\n",
    "perce_null_stage4 = (null_stage_4 / len(df4['Stage'])) * 100 # here we want to know the percentage of the null values in the stage column \n",
    "perce_null_stage4"
   ]
  },
  {
   "cell_type": "markdown",
   "metadata": {},
   "source": [
    "BEFORE CONTINUING LET'S FURTHER GROUP THE STAGE COLUMN TO MAKE THINGS SIMPLER "
   ]
  },
  {
   "cell_type": "code",
   "execution_count": 500,
   "metadata": {},
   "outputs": [],
   "source": [
    "grouped_stages_4 = {\n",
    "    # Group 1: Early Stage\n",
    "    'Pre-seed': 'Early Stage',\n",
    "    'Seed': 'Early Stage',\n",
    "    'Seed A': 'Early Stage',\n",
    "    'Seed Funding': 'Early Stage',\n",
    "    'Seed Investment': 'Early Stage',\n",
    "    'Seed Round': 'Early Stage',\n",
    "    'Seed Round & Series A': 'Early Stage',\n",
    "    'Seed fund': 'Early Stage',\n",
    "    'Seed funding': 'Early Stage',\n",
    "    'Seed round': 'Early Stage',\n",
    "    'Seed+': 'Early Stage',\n",
    "\n",
    "    # Group 2: Mid Stage\n",
    "    'Series A': 'Mid Stage',\n",
    "    'Series A+': 'Mid Stage',\n",
    "    'Series A-1': 'Mid Stage',\n",
    "    'Series A2': 'Mid Stage',\n",
    "    'Series B': 'Mid Stage',\n",
    "    'Series B+': 'Mid Stage',\n",
    "    'Series B2': 'Mid Stage',\n",
    "    'Series B3': 'Mid Stage',\n",
    "    'Series C': 'Mid Stage',\n",
    "    'Seies A': 'Mid Stage',\n",
    "    \n",
    "    # Group 3: Late Stage\n",
    "    'Series D': 'Late Stage',\n",
    "    'Series I': 'Late Stage',\n",
    "    'Series D1': 'Late Stage',\n",
    "    'Series E': 'Late Stage',\n",
    "    'Series E2': 'Late Stage',\n",
    "    'Series F': 'Late Stage',\n",
    "    'Series F1': 'Late Stage',\n",
    "    'Series F2': 'Late Stage',\n",
    "    'Series G': 'Late Stage',\n",
    "    'Series H': 'Late Stage',\n",
    "    \n",
    "    # Group 4: Other Stages\n",
    "    'Angel': 'Other Stages',\n",
    "    'Angel Round': 'Other Stages',\n",
    "    'Bridge': 'Other Stages',\n",
    "    'Bridge Round': 'Other Stages',\n",
    "    'Corporate Round': 'Other Stages',\n",
    "    'Debt': 'Other Stages',\n",
    "    'Debt Financing': 'Other Stages',\n",
    "    'Early seed': 'Other Stages',\n",
    "    'Edge': 'Other Stages',\n",
    "    'Fresh funding': 'Other Stages',\n",
    "    'Funding Round': 'Other Stages',\n",
    "    'Grant': 'Other Stages',\n",
    "    'Mid series': 'Other Stages',\n",
    "    'Non-equity Assistance': 'Other Stages',\n",
    "    'None': 'Other Stages',\n",
    "    'PE': 'Other Stages',\n",
    "    'Post series A': 'Other Stages',\n",
    "    'Post-IPO Debt': 'Other Stages',\n",
    "    'Post-IPO Equity': 'Other Stages',\n",
    "    'Pre Series A': 'Other Stages',\n",
    "    'Pre- series A': 'Other Stages',\n",
    "    'Pre-Seed': 'Other Stages',\n",
    "    'Pre-Series B': 'Other Stages',\n",
    "    'Private Equity': 'Other Stages',\n",
    "    'Secondary Market': 'Other Stages',\n",
    "    'Pre-series A': 'Other Stages',\n",
    "    'None': 'Other Series',\n",
    "    'Pre-series B':'Other Stages',\n",
    "    'Pre-series A1': 'Other Stage',\n",
    "    'Pre-series':'Other Stages',\n",
    "}\n",
    "\n",
    "df4['Stage'] = df4['Stage'].replace(grouped_stages_4)\n"
   ]
  },
  {
   "cell_type": "code",
   "execution_count": 501,
   "metadata": {},
   "outputs": [
    {
     "data": {
      "text/plain": [
       "0       Other Stages\n",
       "1               None\n",
       "2         Late Stage\n",
       "3          Mid Stage\n",
       "4        Early Stage\n",
       "            ...     \n",
       "1204    Other Stages\n",
       "1205      Late Stage\n",
       "1206       Mid Stage\n",
       "1207       Mid Stage\n",
       "1208       Mid Stage\n",
       "Name: Stage, Length: 1190, dtype: object"
      ]
     },
     "execution_count": 501,
     "metadata": {},
     "output_type": "execute_result"
    }
   ],
   "source": [
    "df4['Stage'] # here we are want to look at the stage column again "
   ]
  },
  {
   "cell_type": "code",
   "execution_count": 502,
   "metadata": {},
   "outputs": [
    {
     "data": {
      "text/plain": [
       "0"
      ]
     },
     "execution_count": 502,
     "metadata": {},
     "output_type": "execute_result"
    }
   ],
   "source": [
    "# checking for these values in the stage column which are not supposed to be there\n",
    "\n",
    "not_wanted_stage_4 = [\"FinTech\", \"EdTech\", \"Financial Services\", \"Food & Beverages\", \"Information Technology & Services\",  \"E-commerce\"]\n",
    "not_wanted_rows = df4['Stage'].isin(not_wanted_stage_4)\n",
    "not_wanted_rows.sum()"
   ]
  },
  {
   "cell_type": "markdown",
   "metadata": {},
   "source": [
    "BELOW WE WANT TO DISPLAY STAGES THAT ARE GROUP INTO THE GROUPS FROM ABOVE "
   ]
  },
  {
   "cell_type": "code",
   "execution_count": 503,
   "metadata": {},
   "outputs": [
    {
     "name": "stdout",
     "output_type": "stream",
     "text": [
      "Series([], Name: Stage, dtype: int64)\n"
     ]
    }
   ],
   "source": [
    "# Count the occurrences of each unique value in the \"Stage\" column\n",
    "stage_counts = df4['Stage'].value_counts()\n",
    "\n",
    "# Filter for values that are not in the grouped stages\n",
    "ungrouped_stages = stage_counts[~stage_counts.index.isin(grouped_stages_4.values())]\n",
    "\n",
    "# Display the ungrouped stage values\n",
    "print(ungrouped_stages)\n"
   ]
  },
  {
   "cell_type": "markdown",
   "metadata": {},
   "source": [
    "LET'S DROP VALUES(ROW) FROM THE SECTOR COLUMN THAT DO NOT HAVE ANY CORRESPONDING STAGE IN THE STAGE COLUMN "
   ]
  },
  {
   "cell_type": "markdown",
   "metadata": {},
   "source": [
    "BELOW IS ONE WAY TO HELP SELECT THE BEAT METHOD TO DEAL WITH THE MISSING VALUES IN THE STAGE COLUMN \n",
    "\n",
    " creating a cross-tabulation or contingency table between the \"Stage\" column and the \"Sector\" column\n",
    " This will generate a table showing the counts of each combination of stages and Sectors. It will help us identify if certain stages are more prevalent in specific Sectors\n"
   ]
  },
  {
   "cell_type": "markdown",
   "metadata": {},
   "source": [
    "BUT FIRST LET'S CONFIRM THE NULL VALUES OF THE SECTOR COLUMN "
   ]
  },
  {
   "cell_type": "code",
   "execution_count": 504,
   "metadata": {},
   "outputs": [
    {
     "data": {
      "text/plain": [
       "0"
      ]
     },
     "execution_count": 504,
     "metadata": {},
     "output_type": "execute_result"
    }
   ],
   "source": [
    "df4['Sector'].isnull().sum() # checking for null values in the Sector column "
   ]
  },
  {
   "cell_type": "markdown",
   "metadata": {},
   "source": [
    "NOW LET'S CREATE THE CROSSTAB"
   ]
  },
  {
   "cell_type": "code",
   "execution_count": 505,
   "metadata": {},
   "outputs": [
    {
     "data": {
      "text/html": [
       "<div>\n",
       "<style scoped>\n",
       "    .dataframe tbody tr th:only-of-type {\n",
       "        vertical-align: middle;\n",
       "    }\n",
       "\n",
       "    .dataframe tbody tr th {\n",
       "        vertical-align: top;\n",
       "    }\n",
       "\n",
       "    .dataframe thead th {\n",
       "        text-align: right;\n",
       "    }\n",
       "</style>\n",
       "<table border=\"1\" class=\"dataframe\">\n",
       "  <thead>\n",
       "    <tr style=\"text-align: right;\">\n",
       "      <th>col_0</th>\n",
       "      <th>Stage</th>\n",
       "    </tr>\n",
       "    <tr>\n",
       "      <th>Sector</th>\n",
       "      <th></th>\n",
       "    </tr>\n",
       "  </thead>\n",
       "  <tbody>\n",
       "    <tr>\n",
       "      <th>AI Chatbot</th>\n",
       "      <td>1</td>\n",
       "    </tr>\n",
       "    <tr>\n",
       "      <th>AI company</th>\n",
       "      <td>2</td>\n",
       "    </tr>\n",
       "    <tr>\n",
       "      <th>AI startup</th>\n",
       "      <td>10</td>\n",
       "    </tr>\n",
       "    <tr>\n",
       "      <th>AR startup</th>\n",
       "      <td>1</td>\n",
       "    </tr>\n",
       "    <tr>\n",
       "      <th>Advertisement</th>\n",
       "      <td>1</td>\n",
       "    </tr>\n",
       "    <tr>\n",
       "      <th>...</th>\n",
       "      <td>...</td>\n",
       "    </tr>\n",
       "    <tr>\n",
       "      <th>Video communication</th>\n",
       "      <td>1</td>\n",
       "    </tr>\n",
       "    <tr>\n",
       "      <th>Water purification</th>\n",
       "      <td>1</td>\n",
       "    </tr>\n",
       "    <tr>\n",
       "      <th>Wholesale</th>\n",
       "      <td>1</td>\n",
       "    </tr>\n",
       "    <tr>\n",
       "      <th>Wine &amp; Spirits</th>\n",
       "      <td>2</td>\n",
       "    </tr>\n",
       "    <tr>\n",
       "      <th>sports</th>\n",
       "      <td>4</td>\n",
       "    </tr>\n",
       "  </tbody>\n",
       "</table>\n",
       "<p>251 rows × 1 columns</p>\n",
       "</div>"
      ],
      "text/plain": [
       "col_0                Stage\n",
       "Sector                    \n",
       "AI Chatbot               1\n",
       "AI company               2\n",
       "AI startup              10\n",
       "AR startup               1\n",
       "Advertisement            1\n",
       "...                    ...\n",
       "Video communication      1\n",
       "Water purification       1\n",
       "Wholesale                1\n",
       "Wine & Spirits           2\n",
       "sports                   4\n",
       "\n",
       "[251 rows x 1 columns]"
      ]
     },
     "execution_count": 505,
     "metadata": {},
     "output_type": "execute_result"
    }
   ],
   "source": [
    "cross_table_sec_stage_4 = pd.crosstab(df4['Sector'], ['Stage']) # here we are creating a contingency table between stage and sector \n",
    "cross_table_sec_stage_4"
   ]
  },
  {
   "cell_type": "markdown",
   "metadata": {},
   "source": [
    "now to deal with the missing value in the stage column, we will use the percentage of the first 6 largest most occurring \n",
    "stage to fill in the missing values\n"
   ]
  },
  {
   "cell_type": "code",
   "execution_count": 506,
   "metadata": {},
   "outputs": [
    {
     "data": {
      "text/plain": [
       "Sector\n",
       "AI Chatbot            0.08\n",
       "AI company            0.17\n",
       "AI startup            0.84\n",
       "AR startup            0.08\n",
       "Advertisement         0.08\n",
       "                      ... \n",
       "Video communication   0.08\n",
       "Water purification    0.08\n",
       "Wholesale             0.08\n",
       "Wine & Spirits        0.17\n",
       "sports                0.34\n",
       "Name: Stage, Length: 251, dtype: float64"
      ]
     },
     "execution_count": 506,
     "metadata": {},
     "output_type": "execute_result"
    }
   ],
   "source": [
    "# below we are getting the percentages \n",
    "cross_table_sec_stage_perc_4 = (cross_table_sec_stage_4['Stage'] / cross_table_sec_stage_4['Stage'].sum()) * 100\n",
    "cross_table_sec_stage_perc_4"
   ]
  },
  {
   "cell_type": "markdown",
   "metadata": {},
   "source": [
    "NOW LET'S LOOK AT THE FIRST SIX "
   ]
  },
  {
   "cell_type": "code",
   "execution_count": 507,
   "metadata": {},
   "outputs": [
    {
     "data": {
      "text/plain": [
       "Sector\n",
       "FinTech                             10.17\n",
       "EdTech                               8.57\n",
       "Financial Services                   4.96\n",
       "E-commerce                           3.11\n",
       "Food & Beverages                     3.11\n",
       "Information Technology & Services    2.94\n",
       "Name: Stage, dtype: float64"
      ]
     },
     "execution_count": 507,
     "metadata": {},
     "output_type": "execute_result"
    }
   ],
   "source": [
    "top_six_stages = cross_table_sec_stage_perc_4.nlargest(6) # here we are looking at the top six stages \n",
    "top_six_stages"
   ]
  },
  {
   "cell_type": "markdown",
   "metadata": {},
   "source": [
    "NOW LET'S FILL IN THE MISSING VALUES IN THE STAGE COLUMN, USING THE RESPECTIVE VALUES IN FROM THE TOP SIX \n",
    "STAGES \n"
   ]
  },
  {
   "cell_type": "code",
   "execution_count": 508,
   "metadata": {},
   "outputs": [],
   "source": [
    "# Filling missing values in \"Stage\" column with the top six values\n",
    "\n",
    "# Normalize the probabilities\n",
    "normalize_prob_4 = top_six_stages / top_six_stages.sum()\n",
    "# Filling missing values in \"Stage\" column with the top six values\n",
    "df4['Stage'] = df4['Stage'].fillna(pd.Series(np.random.choice(top_six_stages.index.tolist(), size=len(df4['Stage']), p=normalize_prob_4.values)))"
   ]
  },
  {
   "cell_type": "markdown",
   "metadata": {},
   "source": [
    "NOW LET'S CONFRIM THE MISSING VALUES IN THE AMOUNT STAGES AGAIN "
   ]
  },
  {
   "cell_type": "code",
   "execution_count": 509,
   "metadata": {},
   "outputs": [
    {
     "data": {
      "text/plain": [
       "3"
      ]
     },
     "execution_count": 509,
     "metadata": {},
     "output_type": "execute_result"
    }
   ],
   "source": [
    "# confirming the null values in the amount column again \n",
    "df4['Stage'].isnull().sum()"
   ]
  },
  {
   "cell_type": "code",
   "execution_count": 510,
   "metadata": {},
   "outputs": [],
   "source": [
    "df4['Stage'] = df4['Stage'].astype(str)"
   ]
  },
  {
   "cell_type": "code",
   "execution_count": 511,
   "metadata": {},
   "outputs": [
    {
     "data": {
      "text/html": [
       "<div>\n",
       "<style scoped>\n",
       "    .dataframe tbody tr th:only-of-type {\n",
       "        vertical-align: middle;\n",
       "    }\n",
       "\n",
       "    .dataframe tbody tr th {\n",
       "        vertical-align: top;\n",
       "    }\n",
       "\n",
       "    .dataframe thead th {\n",
       "        text-align: right;\n",
       "    }\n",
       "</style>\n",
       "<table border=\"1\" class=\"dataframe\">\n",
       "  <thead>\n",
       "    <tr style=\"text-align: right;\">\n",
       "      <th></th>\n",
       "      <th>Company_Brand</th>\n",
       "      <th>Founded</th>\n",
       "      <th>HeadQuarter</th>\n",
       "      <th>Sector</th>\n",
       "      <th>What_it_does</th>\n",
       "      <th>Founders</th>\n",
       "      <th>Investor</th>\n",
       "      <th>Amount</th>\n",
       "      <th>Stage</th>\n",
       "    </tr>\n",
       "  </thead>\n",
       "  <tbody>\n",
       "  </tbody>\n",
       "</table>\n",
       "</div>"
      ],
      "text/plain": [
       "Empty DataFrame\n",
       "Columns: [Company_Brand, Founded, HeadQuarter, Sector, What_it_does, Founders, Investor, Amount, Stage]\n",
       "Index: []"
      ]
     },
     "execution_count": 511,
     "metadata": {},
     "output_type": "execute_result"
    }
   ],
   "source": [
    "still_null = df4['Stage'].isnull() # here we want to show all the rows with the null or nan values \n",
    "rows_still_null = df4[still_null]\n",
    "rows_still_null"
   ]
  },
  {
   "cell_type": "code",
   "execution_count": 512,
   "metadata": {},
   "outputs": [],
   "source": [
    "df4.loc[df4['Company_Brand'] == 'Geniemode', 'Stage'] = 'Seed'\n",
    "df4.loc[df4['Company_Brand'] == 'Sapio Analytics', 'Stage'] = 'Seed'\n",
    "df4.loc[df4['Company_Brand'] == 'Voxelgrids', 'Stage'] = 'Seed'\n"
   ]
  },
  {
   "cell_type": "code",
   "execution_count": 513,
   "metadata": {},
   "outputs": [],
   "source": [
    "# Dropping the columns that are not important to our analysis\n",
    "\n",
    "df4.drop(columns=['Founders','Investor','Founded'], inplace=True)"
   ]
  },
  {
   "cell_type": "code",
   "execution_count": 514,
   "metadata": {},
   "outputs": [],
   "source": [
    "df4.insert(6,\"Funding Year\", 2021) # inserting a new column 'funding Year 2021' to keep track of the data sets when combining"
   ]
  },
  {
   "cell_type": "code",
   "execution_count": 515,
   "metadata": {},
   "outputs": [],
   "source": [
    "df4.rename(columns = {'Company_Brand':'Company',\n",
    "                        'HeadQuarter':'Location',\n",
    "                        'What_it_does':'About'},\n",
    "             inplace = True)"
   ]
  },
  {
   "cell_type": "code",
   "execution_count": 516,
   "metadata": {},
   "outputs": [
    {
     "data": {
      "text/html": [
       "<div>\n",
       "<style scoped>\n",
       "    .dataframe tbody tr th:only-of-type {\n",
       "        vertical-align: middle;\n",
       "    }\n",
       "\n",
       "    .dataframe tbody tr th {\n",
       "        vertical-align: top;\n",
       "    }\n",
       "\n",
       "    .dataframe thead th {\n",
       "        text-align: right;\n",
       "    }\n",
       "</style>\n",
       "<table border=\"1\" class=\"dataframe\">\n",
       "  <thead>\n",
       "    <tr style=\"text-align: right;\">\n",
       "      <th></th>\n",
       "      <th>Company</th>\n",
       "      <th>Location</th>\n",
       "      <th>Sector</th>\n",
       "      <th>About</th>\n",
       "      <th>Amount</th>\n",
       "      <th>Stage</th>\n",
       "      <th>Funding Year</th>\n",
       "    </tr>\n",
       "  </thead>\n",
       "  <tbody>\n",
       "    <tr>\n",
       "      <th>0</th>\n",
       "      <td>Unbox Robotics</td>\n",
       "      <td>Bengaluru</td>\n",
       "      <td>AI startup</td>\n",
       "      <td>Unbox Robotics builds on-demand AI-driven ware...</td>\n",
       "      <td>1,200,000.00</td>\n",
       "      <td>Other Stages</td>\n",
       "      <td>2021</td>\n",
       "    </tr>\n",
       "    <tr>\n",
       "      <th>1</th>\n",
       "      <td>upGrad</td>\n",
       "      <td>Mumbai</td>\n",
       "      <td>EdTech</td>\n",
       "      <td>UpGrad is an online higher education platform.</td>\n",
       "      <td>120,000,000.00</td>\n",
       "      <td>E-commerce</td>\n",
       "      <td>2021</td>\n",
       "    </tr>\n",
       "    <tr>\n",
       "      <th>2</th>\n",
       "      <td>Lead School</td>\n",
       "      <td>Mumbai</td>\n",
       "      <td>EdTech</td>\n",
       "      <td>LEAD School offers technology based school tra...</td>\n",
       "      <td>30,000,000.00</td>\n",
       "      <td>Late Stage</td>\n",
       "      <td>2021</td>\n",
       "    </tr>\n",
       "    <tr>\n",
       "      <th>3</th>\n",
       "      <td>Bizongo</td>\n",
       "      <td>Mumbai</td>\n",
       "      <td>B2B E-commerce</td>\n",
       "      <td>Bizongo is a business-to-business online marke...</td>\n",
       "      <td>51,000,000.00</td>\n",
       "      <td>Mid Stage</td>\n",
       "      <td>2021</td>\n",
       "    </tr>\n",
       "    <tr>\n",
       "      <th>4</th>\n",
       "      <td>FypMoney</td>\n",
       "      <td>Gurugram</td>\n",
       "      <td>FinTech</td>\n",
       "      <td>FypMoney is Digital NEO Bank for Teenagers, em...</td>\n",
       "      <td>2,000,000.00</td>\n",
       "      <td>Early Stage</td>\n",
       "      <td>2021</td>\n",
       "    </tr>\n",
       "  </tbody>\n",
       "</table>\n",
       "</div>"
      ],
      "text/plain": [
       "          Company   Location          Sector  \\\n",
       "0  Unbox Robotics  Bengaluru      AI startup   \n",
       "1          upGrad     Mumbai          EdTech   \n",
       "2     Lead School     Mumbai          EdTech   \n",
       "3         Bizongo     Mumbai  B2B E-commerce   \n",
       "4        FypMoney   Gurugram         FinTech   \n",
       "\n",
       "                                               About         Amount  \\\n",
       "0  Unbox Robotics builds on-demand AI-driven ware...   1,200,000.00   \n",
       "1     UpGrad is an online higher education platform. 120,000,000.00   \n",
       "2  LEAD School offers technology based school tra...  30,000,000.00   \n",
       "3  Bizongo is a business-to-business online marke...  51,000,000.00   \n",
       "4  FypMoney is Digital NEO Bank for Teenagers, em...   2,000,000.00   \n",
       "\n",
       "          Stage  Funding Year  \n",
       "0  Other Stages          2021  \n",
       "1    E-commerce          2021  \n",
       "2    Late Stage          2021  \n",
       "3     Mid Stage          2021  \n",
       "4   Early Stage          2021  "
      ]
     },
     "execution_count": 516,
     "metadata": {},
     "output_type": "execute_result"
    }
   ],
   "source": [
    "df4.head() # looking at head to comfirm before saving the data "
   ]
  },
  {
   "cell_type": "code",
   "execution_count": 517,
   "metadata": {},
   "outputs": [],
   "source": [
    "df4['Stage'] = df4['Stage'].astype(str)"
   ]
  },
  {
   "cell_type": "code",
   "execution_count": 518,
   "metadata": {},
   "outputs": [],
   "source": [
    "# Set display options\n",
    "#pd.set_option('display.max_columns', None)  # Show all columns\n",
    "#pd.set_option('display.max_rows', None)  # Show all rows\n",
    "#pd.set_option('display.width', None)  # Disable column width restriction\n",
    "#pd.set_option('display.max_colwidth', None)  # Disable truncation of column contents\n",
    "#pd.set_option('display.float_format','{:.2f}'.format)"
   ]
  },
  {
   "cell_type": "code",
   "execution_count": 519,
   "metadata": {},
   "outputs": [],
   "source": [
    "df4.loc[df4['Company'] == 'upGrad', 'Stage'] = 'Series D'\n",
    "df4.loc[df4['Company'] == 'Urban Company', 'Stage'] = 'Series D'\n",
    "df4.loc[df4['Company'] == 'Comofi Medtech', 'Stage'] = 'Seed'\n",
    "df4.loc[df4['Company'] == 'Smart Joules', 'Stage'] = 'Series A'\n",
    "df4.loc[df4['Company'] == 'Miko', 'Stage'] = 'Series A'\n",
    "df4.loc[df4['Company'] == 'M1xchange', 'Stage'] = 'Series A'\n",
    "df4.loc[df4['Company'] == 'Do Your Thng', 'Stage'] = 'Seed'\n",
    "df4.loc[df4['Company'] == 'LegitQuest', 'Stage'] = 'Seed'\n",
    "df4.loc[df4['Company'] == 'Fantasy Akhada', 'Stage'] = 'Seed'\n",
    "df4.loc[df4['Company'] == 'Speciale Invest', 'Stage'] = 'Seed'\n",
    "df4.loc[df4['Company'] == 'Meesho', 'Stage'] = 'Series D'\n",
    "df4.loc[df4['Company'] == 'Elevar', 'Stage'] = 'Seed'\n",
    "df4.loc[df4['Company'] == 'Curefoods', 'Stage'] = 'Seed'\n",
    "df4.loc[df4['Company'] == 'Camp K12', 'Stage'] = 'Seed'\n",
    "df4.loc[df4['Company'] == 'Defy', 'Stage'] = 'Seed'\n",
    "df4.loc[df4['Company'] == 'Homversity', 'Stage'] = 'Seed'\n",
    "df4.loc[df4['Company'] == 'Loop Health', 'Stage'] = 'Seed'\n",
    "df4.loc[df4['Company'] == 'Smartstaff', 'Stage'] = 'Series A'\n",
    "df4.loc[df4['Company'] == 'Hyperface', 'Stage'] = 'Seed'\n",
    "df4.loc[df4['Company'] == 'Melorra', 'Stage'] = 'Series B'\n",
    "df4.loc[df4['Company'] == 'Onato', 'Stage'] = 'Series A'\n",
    "df4.loc[df4['Company'] == 'Mestastop Solutions', 'Stage'] = 'Seed'\n",
    "df4.loc[df4['Company'] == 'MergerDomo', 'Stage'] = 'Seed'\n",
    "df4.loc[df4['Company'] == 'Trell', 'Stage'] = 'Series C'\n",
    "df4.loc[df4['Company'] == 'Homeville', 'Stage'] = 'Series A'\n",
    "df4.loc[df4['Company'] == 'Ola Electric', 'Stage'] = 'Series D'\n",
    "df4.loc[df4['Company'] == 'Delhivery', 'Stage'] = 'Series F'\n",
    "df4.loc[df4['Company'] == 'Upgame', 'Stage'] = 'Series A'\n",
    "df4.loc[df4['Company'] == 'Sochcast', 'Stage'] = 'Series A'\n",
    "df4.loc[df4['Company'] == 'byteXL', 'Stage'] = 'Seed'\n",
    "df4.loc[df4['Company'] == 'EventBeep', 'Stage'] = 'Seed'\n",
    "df4.loc[df4['Company'] == 'GameEon Studios', 'Stage'] = 'Seed'\n",
    "df4.loc[df4['Company'] == 'Tessolve', 'Stage'] = 'Series A'\n",
    "df4.loc[df4['Company'] == 'EF Polymer', 'Stage'] = 'Seed'\n",
    "df4.loc[df4['Company'] == 'LearnVern', 'Stage'] = 'Seed'\n",
    "df4.loc[df4['Company'] == 'Beldara', 'Stage'] = 'Series A'\n",
    "df4.loc[df4['Company'] == 'Oye Rickshaw', 'Stage'] = 'Series A'\n",
    "df4.loc[df4['Company'] == 'OfBusiness', 'Stage'] = 'Series D'\n",
    "df4.loc[df4['Company'] == 'CareerLabs', 'Stage'] = 'Seed'\n",
    "df4.loc[df4['Company'] == 'Studio Sirah', 'Stage'] = 'Seed'\n",
    "df4.loc[df4['Company'] == '1Bridge', 'Stage'] = 'Seed'\n",
    "df4.loc[df4['Company'] == 'TartanSense', 'Stage'] = 'Seed'\n",
    "df4.loc[df4['Company'] == 'Bewakoof', 'Stage'] = 'Series C'\n",
    "df4.loc[df4['Company'] == 'Elda Health', 'Stage'] = 'Seed'\n",
    "df4.loc[df4['Company'] == 'Ruptok', 'Stage'] = 'Seed'\n",
    "df4.loc[df4['Company'] == \"O' Be Cocktails\", 'Stage'] = 'Seed'\n",
    "df4.loc[df4['Company'] == 'Hike', 'Stage'] = 'Series C'\n",
    "df4.loc[df4['Company'] == 'House of Kieraya', 'Stage'] = 'Series B'\n",
    "df4.loc[df4['Company'] == 'DrinkPrime', 'Stage'] = 'Seed'\n",
    "df4.loc[df4['Company'] == 'SATYA MicroCapital', 'Stage'] = 'Series C'\n",
    "df4.loc[df4['Company'] == 'CreatorStack', 'Stage'] = 'Seed'\n",
    "df4.loc[df4['Company'] == 'Rage Coffee', 'Stage'] = 'Series A'\n",
    "df4.loc[df4['Company'] == 'Klub', 'Stage'] = 'Series A'\n",
    "df4.loc[df4['Company'] == 'Stellaris Venture Partners', 'Stage'] = 'Series D'\n",
    "df4.loc[df4['Company'] == 'Celcius', 'Stage'] = 'Seed'\n",
    "df4.loc[df4['Company'] == 'UrbanMatrix Technologies', 'Stage'] = 'Seed'\n",
    "df4.loc[df4['Company'] == 'Evenflow Brands', 'Stage'] = 'Seed'\n",
    "df4.loc[df4['Company'] == 'Atomberg', 'Stage'] = 'Series A'\n",
    "df4.loc[df4['Company'] == 'ShopMyLooks', 'Stage'] = 'Seed'\n",
    "df4.loc[df4['Company'] == 'Veefin', 'Stage'] = 'Series A'\n",
    "df4.loc[df4['Company'] == 'BangDB', 'Stage'] = 'Seed'\n",
    "df4.loc[df4['Company'] == 'O’ Be Cocktails', 'Stage'] = 'Seed'\n",
    "df4.loc[df4['Company'] == 'OneCard', 'Stage'] = 'Series C'\n",
    "df4.loc[df4['Company'] == 'Hubhopper', 'Stage'] = 'Series B'\n",
    "df4.loc[df4['Company'] == 'Avataar Ventures', 'Stage'] = 'Series A'\n",
    "df4.loc[df4['Company'] == 'Codingal', 'Stage'] = 'Seed'\n",
    "df4.loc[df4['Company'] == 'Junio', 'Stage'] = 'Seed'\n",
    "df4.loc[df4['Company'] == 'MPL', 'Stage'] = 'Seed'\n",
    "df4.loc[df4['Company'] == 'Bombay Shaving Company', 'Stage'] = 'Seed'\n",
    "df4.loc[df4['Company'] == 'MFine', 'Stage'] = 'Series A'\n",
    "df4.loc[df4['Company'] == 'Darwinbox', 'Stage'] = 'Series A'\n",
    "df4.loc[df4['Company'] == 'SSA Finserv', 'Stage'] = 'Seed'\n",
    "df4.loc[df4['Company'] == 'Pariksha', 'Stage'] = 'Seed'\n",
    "df4.loc[df4['Company'] == 'Devic Earth', 'Stage'] = 'Seed'\n",
    "df4.loc[df4['Company'] == 'Pocket Aces', 'Stage'] = 'Seed'\n",
    "df4.loc[df4['Company'] == 'Biocon Biologics', 'Stage'] = 'Series C'\n",
    "df4.loc[df4['Company'] == 'Biconomy', 'Stage'] = 'Seed'\n",
    "df4.loc[df4['Company'] == 'Bandhoo', 'Stage'] = 'Seed'\n",
    "df4.loc[df4['Company'] == 'Mamaearth', 'Stage'] = 'Series A'\n",
    "df4.loc[df4['Company'] == 'Inspacco', 'Stage'] = 'Seed'\n",
    "df4.loc[df4['Company'] == 'GODI Energy', 'Stage'] = 'Seed'\n",
    "df4.loc[df4['Company'] == 'Lenskart', 'Stage'] = 'Series E'\n",
    "df4.loc[df4['Company'] == 'Clensta', 'Stage'] = 'Seed'\n",
    "df4.loc[df4['Company'] == 'Polygon', 'Stage'] = 'Seed'\n",
    "df4.loc[df4['Company'] == 'Thingsup', 'Stage'] = 'Seed'\n",
    "df4.loc[df4['Company'] == 'TRDR', 'Stage'] = 'Seed'\n",
    "df4.loc[df4['Company'] == 'SuperBottoms', 'Stage'] = 'Seed'\n",
    "df4.loc[df4['Company'] == 'Wingreens Farms', 'Stage'] = 'Series C'\n",
    "df4.loc[df4['Company'] == 'Bombay Hemp Company', 'Stage'] = 'Seed'\n",
    "df4.loc[df4['Company'] == 'Zenpay Solutions', 'Stage'] = 'Seed'\n",
    "df4.loc[df4['Company'] == 'Visit Health', 'Stage'] = 'Seed'\n",
    "df4.loc[df4['Company'] == 'Zetwerk', 'Stage'] = 'Series D'\n",
    "df4.loc[df4['Company'] == 'Wiingy', 'Stage'] = 'Seed'\n",
    "df4.loc[df4['Company'] == 'Arcana', 'Stage'] = 'Seed'\n",
    "df4.loc[df4['Company'] == 'Duroflex', 'Stage'] = 'Series C'\n",
    "df4.loc[df4['Company'] == 'Tvasta', 'Stage'] = 'Seed'\n",
    "df4.loc[df4['Company'] == 'Vakilsearch', 'Stage'] = 'Series B'\n",
    "df4.loc[df4['Company'] == 'PumPumPum', 'Stage'] = 'Seed'\n",
    "df4.loc[df4['Company'] == 'Sterling Accuris Wellness', 'Stage'] = 'Series D'\n",
    "df4.loc[df4['Company'] == 'Braingroom', 'Stage'] = 'Seed'\n",
    "df4.loc[df4['Company'] == 'Vegrow', 'Stage'] = 'Series A'\n",
    "df4.loc[df4['Company'] == 'Automovill', 'Stage'] = 'Seed'\n",
    "df4.loc[df4['Company'] == 'Bella Vita Organic', 'Stage'] = 'Series A'\n",
    "df4.loc[df4['Company'] == 'SmartCoin', 'Stage'] = 'Series A'\n",
    "df4.loc[df4['Company'] == 'MYSUN', 'Stage'] = 'Series A'\n",
    "df4.loc[df4['Company'] == 'Square Yards', 'Stage'] = 'Series A'\n",
    "df4.loc[df4['Company'] == 'Slang Labs', 'Stage'] = 'Seed'\n",
    "df4.loc[df4['Company'] == 'SMOOR', 'Stage'] = 'Seed'\n",
    "df4.loc[df4['Company'] == 'UrbanKisaan', 'Stage'] = 'Seed'\n",
    "df4.loc[df4['Company'] == 'BHyve', 'Stage'] = 'Seed'\n",
    "df4.loc[df4['Company'] == 'SpEd@home', 'Stage'] = 'Seed'\n",
    "df4.loc[df4['Company'] == 'Now&Me', 'Stage'] = 'Seed'\n",
    "df4.loc[df4['Company'] == 'Capital Float', 'Stage'] = 'Series A'\n",
    "df4.loc[df4['Company'] == 'PazCare', 'Stage'] = 'Seed'\n",
    "df4.loc[df4['Company'] == 'MicroDegree', 'Stage'] = 'Seed'\n",
    "df4.loc[df4['Company'] == 'Plutomen', 'Stage'] = 'Seed'\n",
    "df4.loc[df4['Company'] == 'Grinntech', 'Stage'] = 'Seed'\n",
    "df4.loc[df4['Company'] == 'Navars', 'Stage'] = 'Seed'\n",
    "df4.loc[df4['Company'] == 'Slice', 'Stage'] = 'Series A'\n",
    "df4.loc[df4['Company'] == 'CredR', 'Stage'] = 'Series A'\n",
    "df4.loc[df4['Company'] == 'Dream Sports', 'Stage'] = 'Series D'\n",
    "df4.loc[df4['Company'] == 'Annapurna Finance', 'Stage'] = 'Series C'\n",
    "df4.loc[df4['Company'] == 'Purplle', 'Stage'] = 'Series D'\n",
    "df4.loc[df4['Company'] == 'Nazara Technologies', 'Stage'] = 'Series D'\n",
    "df4.loc[df4['Company'] == 'Svasti Microfinance', 'Stage'] = 'Series C'\n",
    "df4.loc[df4['Company'] == 'BlackSoil NBFC', 'Stage'] = 'Series C'\n",
    "df4.loc[df4['Company'] == 'Kinara Capital', 'Stage'] = 'Series C'\n",
    "df4.loc[df4['Company'] == 'AMPM', 'Stage'] = 'Seed'\n",
    "df4.loc[df4['Company'] == 'Design Cafe', 'Stage'] = 'Series C'\n",
    "df4.loc[df4['Company'] == 'eShipz', 'Stage'] = 'Seed'\n",
    "df4.loc[df4['Company'] == 'Atomberg Technologies', 'Stage'] = 'Series A'\n",
    "df4.loc[df4['Company'] == 'Peppermint', 'Stage'] = 'Seed'\n",
    "df4.loc[df4['Company'] == 'CredR', 'Stage'] = 'Series A'\n",
    "df4.loc[df4['Company'] == 'Dream Sports', 'Stage'] = 'Series D'\n",
    "df4.loc[df4['Company'] == 'Annapurna Finance', 'Stage'] = 'Series C'\n",
    "df4.loc[df4['Company'] == 'Purplle', 'Stage'] = 'Series D'\n",
    "df4.loc[df4['Company'] == 'Nazara Technologies', 'Stage'] = 'Series D'\n",
    "df4.loc[df4['Company'] == 'Svasti Microfinance', 'Stage'] = 'Series C'\n",
    "df4.loc[df4['Company'] == 'BlackSoil NBFC', 'Stage'] = 'Series C'\n",
    "df4.loc[df4['Company'] == 'Kinara Capital', 'Stage'] = 'Series C'\n",
    "df4.loc[df4['Company'] == 'AMPM', 'Stage'] = 'Seed'\n",
    "df4.loc[df4['Company'] == 'Design Cafe', 'Stage'] = 'Series C'\n",
    "df4.loc[df4['Company'] == 'eShipz', 'Stage'] = 'Seed'\n",
    "df4.loc[df4['Company'] == 'Atomberg Technologies', 'Stage'] = 'Series A'\n",
    "df4.loc[df4['Company'] == 'Peppermint', 'Stage'] = 'Seed'\n",
    "df4.loc[df4['Company'] == 'Spintly', 'Stage'] = 'Seed'\n",
    "df4.loc[df4['Company'] == 'ShopSe', 'Stage'] = 'Seed'\n",
    "df4.loc[df4['Company'] == 'ShareChat', 'Stage'] = 'Series C'\n",
    "df4.loc[df4['Company'] == 'Safexpay', 'Stage'] = 'Seed'\n",
    "df4.loc[df4['Company'] == 'Advantage Club', 'Stage'] = 'Seed'\n",
    "df4.loc[df4['Company'] == 'SuperGaming', 'Stage'] = 'Seed'\n",
    "df4.loc[df4['Company'] == 'SleepyCat', 'Stage'] = 'Seed'\n",
    "df4.loc[df4['Company'] == 'Ultrahuman', 'Stage'] = 'Series A'\n",
    "df4.loc[df4['Company'] == 'Yojak', 'Stage'] = 'Seed'\n",
    "df4.loc[df4['Company'] == 'Navia Life Care', 'Stage'] = 'Seed'\n",
    "df4.loc[df4['Company'] == 'Locale.ai', 'Stage'] = 'Seed'\n",
    "df4.loc[df4['Company'] == 'Whiz League', 'Stage'] = 'Seed'\n",
    "df4.loc[df4['Company'] == 'CHARGE+ZONE', 'Stage'] = 'Series A'\n",
    "df4.loc[df4['Company'] == 'PingoLearn', 'Stage'] = 'Seed'\n",
    "df4.loc[df4['Company'] == 'Practically', 'Stage'] = 'Series A'\n",
    "df4.loc[df4['Company'] == 'Keka HR', 'Stage'] = 'Series A'\n",
    "df4.loc[df4['Company'] == 'Marquee Equity', 'Stage'] = 'Series A'\n",
    "df4.loc[df4['Company'] == 'GoTo', 'Stage'] = 'Seed'\n",
    "df4.loc[df4['Company'] == 'Furlenco', 'Stage'] = 'Series A'\n",
    "df4.loc[df4['Company'] == 'Chalo', 'Stage'] = 'Series A'\n",
    "df4.loc[df4['Company'] == 'Udaan', 'Stage'] = 'Series D'\n",
    "df4.loc[df4['Company'] == 'MyGlamm', 'Stage'] = 'Series D'\n",
    "df4.loc[df4['Company'] == 'Inshorts', 'Stage'] = 'Series C'\n",
    "df4.loc[df4['Company'] == 'Bikry app', 'Stage'] = 'Seed'\n",
    "df4.loc[df4['Company'] == 'The Ayurveda Co', 'Stage'] = 'Series A'\n",
    "df4.loc[df4['Company'] == 'Furlenco', 'Stage'] = 'Series C'\n",
    "df4.loc[df4['Company'] == 'Rockclimber', 'Stage'] = 'Seed'\n",
    "df4.loc[df4['Company'] == 'Power Gummies', 'Stage'] = 'Seed'\n",
    "df4.loc[df4['Company'] == 'Answer Genomics', 'Stage'] = 'Seed'\n",
    "df4.loc[df4['Company'] == 'Saarthi Pedagogy', 'Stage'] = 'Seed'\n",
    "df4.loc[df4['Company'] == 'Lavado', 'Stage'] = 'Seed'\n",
    "df4.loc[df4['Company'] == 'NIRAMAI', 'Stage'] = 'Seed'\n",
    "df4.loc[df4['Company'] == 'Meddo', 'Stage'] = 'Seed'\n",
    "df4.loc[df4['Company'] == 'Five Star Finance', 'Stage'] = 'Series C'\n",
    "df4.loc[df4['Company'] == 'Policybazaar', 'Stage'] = 'Series D'\n",
    "df4.loc[df4['Company'] == 'OYO', 'Stage'] = 'Series F'\n",
    "df4.loc[df4['Company'] == 'Blume Ventures', 'Stage'] = 'Series C'\n",
    "df4.loc[df4['Company'] == 'ImaginXP', 'Stage'] = 'Seed'\n",
    "df4.loc[df4['Company'] == 'Virohan', 'Stage'] = 'Seed'\n",
    "df4.loc[df4['Company'] == 'Apna.co', 'Stage'] = 'Seed'\n",
    "df4.loc[df4['Company'] == 'Get My Parking', 'Stage'] = 'Seed'\n",
    "df4.loc[df4['Company'] == 'FanCode', 'Stage'] = 'Series A'\n",
    "df4.loc[df4['Company'] == 'Enthu.ai', 'Stage'] = 'Pre-Seed'\n",
    "df4.loc[df4['Company'] == 'Zepto', 'Stage'] = 'Series A'\n",
    "df4.loc[df4['Company'] == 'TurboHire', 'Stage'] = 'Seed'\n",
    "df4.loc[df4['Company'] == 'SatSure', 'Stage'] = 'Seed'\n",
    "df4.loc[df4['Company'] == 'Leap India', 'Stage'] = 'Seed'\n",
    "df4.loc[df4['Company'] == 'Better Capital', 'Stage'] = 'Seed'\n",
    "df4.loc[df4['Company'] == 'Rentomojo', 'Stage'] = 'Series A'\n",
    "df4.loc[df4['Company'] == 'Kissan Pro', 'Stage'] = 'Seed'\n",
    "df4.loc[df4['Company'] == 'VLCC Health Care', 'Stage'] = 'Series C'\n",
    "df4.loc[df4['Company'] == 'SUN Mobility', 'Stage'] = 'Series B'\n",
    "df4.loc[df4['Company'] == 'The Indus Valley', 'Stage'] = 'Seed'\n",
    "df4.loc[df4['Company'] == 'BharatPe', 'Stage'] = 'Seed'\n",
    "df4.loc[df4['Company'] == 'BankSathi', 'Stage'] = 'Pre-Seed'\n",
    "df4.loc[df4['Company'] == 'Auntie Fung', 'Stage'] = 'Seed'\n",
    "df4.loc[df4['Company'] == 'Sanctum Wealth', 'Stage'] = 'Series A'\n",
    "df4.loc[df4['Company'] == 'Easiloan', 'Stage'] = 'Seed'\n",
    "df4.loc[df4['Company'] == 'Boutique Spirit Brands', 'Stage'] = 'Series A'\n",
    "df4.loc[df4['Company'] == 'Chingari', 'Stage'] = 'Seed'\n",
    "df4.loc[df4['Company'] == 'Skeps', 'Stage'] = 'Seed'\n",
    "df4.loc[df4['Company'] == 'Kirana247', 'Stage'] = 'Seed'\n",
    "df4.loc[df4['Company'] == 'Imagimake', 'Stage'] = 'Series A'\n",
    "df4.loc[df4['Company'] == 'goEgoNetwork', 'Stage'] = 'Seed'\n",
    "df4.loc[df4['Company'] == 'Snack Amor', 'Stage'] = 'Seed'\n",
    "df4.loc[df4['Company'] == 'Expertrons', 'Stage'] = 'Seed'\n",
    "df4.loc[df4['Company'] == '1K Kirana Bazaar', 'Stage'] = 'Series A'\n",
    "df4.loc[df4['Company'] == 'Zupee', 'Stage'] = 'Series A'\n",
    "df4.loc[df4['Company'] == 'VerSe Innovation', 'Stage'] = 'Series D'\n",
    "df4.loc[df4['Company'] == 'MetroRide', 'Stage'] = 'Seed'\n",
    "df4.loc[df4['Company'] == 'PropReturns', 'Stage'] = 'Seed'\n",
    "df4.loc[df4['Company'] == 'Deciwood', 'Stage'] = 'Seed'\n",
    "df4.loc[df4['Company'] == 'Skippi Ice Pops', 'Stage'] = 'Pre-Seed'\n",
    "df4.loc[df4['Company'] == 'Onelife', 'Stage'] = 'Seed'\n",
    "df4.loc[df4['Company'] == 'TenderCuts', 'Stage'] = 'Series A'\n",
    "df4.loc[df4['Company'] == 'Scentials', 'Stage'] = 'Series A'\n",
    "df4.loc[df4['Company'] == 'Remedico', 'Stage'] = 'Seed'\n",
    "df4.loc[df4['Company'] == 'PrepBytes', 'Stage'] = 'Seed'\n",
    "df4.loc[df4['Company'] == 'RevFin', 'Stage'] = 'Seed'\n",
    "df4.loc[df4['Company'] == 'Paperfly', 'Stage'] = 'Seed'\n",
    "df4.loc[df4['Company'] == 'Bolkar', 'Stage'] = 'Seed'\n",
    "df4.loc[df4['Company'] == 'Oneiric Gaming', 'Stage'] = 'Seed'\n",
    "df4.loc[df4['Company'] == 'iMumz', 'Stage'] = 'Pre-Seed'\n",
    "df4.loc[df4['Company'] == 'BlackSoil', 'Stage'] = 'Seed'\n",
    "df4.loc[df4['Company'] == 'Chai Waale', 'Stage'] = 'Seed'\n",
    "df4.loc[df4['Company'] == 'JetSynthesys', 'Stage'] = 'Seed'\n",
    "df4.loc[df4['Company'] == 'Skymet', 'Stage'] = 'Seed'\n",
    "df4.loc[df4['Company'] == 'GalaxyCard', 'Stage'] = 'Seed'\n",
    "df4.loc[df4['Company'] == 'Pankhuri', 'Stage'] = 'Seed'\n",
    "df4.loc[df4['Company'] == 'Vah Vah!', 'Stage'] = 'Seed'\n",
    "df4.loc[df4['Company'] == 'Pratilipi', 'Stage'] = 'Series B'\n",
    "df4.loc[df4['Company'] == 'Arcatron Mobility', 'Stage'] = 'Seed'\n",
    "df4.loc[df4['Company'] == 'KreditBee', 'Stage'] = 'Series A'\n",
    "df4.loc[df4['Company'] == 'Holisol', 'Stage'] = 'Seed'\n",
    "df4.loc[df4['Company'] == 'India Quotient', 'Stage'] = 'Series C'\n",
    "df4.loc[df4['Company'] == 'Nobel Hygiene', 'Stage'] = 'Series C'\n",
    "df4.loc[df4['Company'] == 'Instoried', 'Stage'] = 'Seed'\n",
    "df4.loc[df4['Company'] == 'Homingos', 'Stage'] = 'Seed'\n",
    "df4.loc[df4['Company'] == 'NODWIN', 'Stage'] = 'Series D'\n",
    "df4.loc[df4['Company'] == 'Bijnis', 'Stage'] = 'Seed'\n",
    "df4.loc[df4['Company'] == 'Clairco', 'Stage'] = 'Seed'\n",
    "df4.loc[df4['Company'] == 'BYJU\\'S', 'Stage'] = 'Series D'\n",
    "df4.loc[df4['Company'] == 'Petpooja', 'Stage'] = 'Series B'\n",
    "df4.loc[df4['Company'] == 'Arbo Works', 'Stage'] = 'Seed'\n",
    "df4.loc[df4['Company'] == 'Recordent', 'Stage'] = 'Seed'\n",
    "df4.loc[df4['Company'] == 'Kaar Technologies', 'Stage'] = 'Series A'\n",
    "df4.loc[df4['Company'] == 'Phool.co', 'Stage'] = 'Series A'\n",
    "df4.loc[df4['Company'] == 'Log 9 Materials', 'Stage'] = 'Seed'\n",
    "df4.loc[df4['Company'] == 'EV Plugs', 'Stage'] = 'Seed'\n",
    "df4.loc[df4['Company'] == 'CredRight', 'Stage'] = 'Seed'\n",
    "df4.loc[df4['Company'] == 'Leverage Edu', 'Stage'] = 'Series A'\n",
    "df4.loc[df4['Company'] == 'Enercomp', 'Stage'] = 'Seed'\n",
    "df4.loc[df4['Company'] == 'LivQuik Technology', 'Stage'] = 'Series A'\n",
    "df4.loc[df4['Company'] == 'Tinkerly', 'Stage'] = 'Seed'\n",
    "df4.loc[df4['Company'] == 'Pine Labs', 'Stage'] = 'Series C'\n",
    "df4.loc[df4['Company'] == 'Lido Learning', 'Stage'] = 'Series D'\n",
    "df4.loc[df4['Company'] == 'Taikee', 'Stage'] = 'Seed'\n",
    "df4.loc[df4['Company'] == 'boAt', 'Stage'] = 'Series A'\n",
    "df4.loc[df4['Company'] == 'Onsurity', 'Stage'] = 'Series A'\n",
    "df4.loc[df4['Company'] == 'Unacademy', 'Stage'] = 'Series C'\n",
    "df4.loc[df4['Company'] == 'Flo Mobility', 'Stage'] = 'Seed'\n",
    "df4.loc[df4['Company'] == 'TheHouseMonk', 'Stage'] = 'Series A'\n",
    "df4.loc[df4['Company'] == 'Sirona Hygiene', 'Stage'] = 'Series B'\n",
    "df4.loc[df4['Company'] == 'Vista Rooms', 'Stage'] = 'Seed'\n",
    "df4.loc[df4['Company'] == 'Digit Insurance', 'Stage'] = 'Series C'\n",
    "df4.loc[df4['Company'] == 'Lohum', 'Stage'] = 'Series A'\n",
    "df4.loc[df4['Company'] == 'Unacademy', 'Stage'] = 'Series D'\n",
    "df4.loc[df4['Company'] == 'Knocksense', 'Stage'] = 'Seed'\n",
    "df4.loc[df4['Company'] == 'DcodeAI', 'Stage'] = 'Seed'\n",
    "df4.loc[df4['Company'] == 'ixigo', 'Stage'] = 'Series D'\n",
    "df4.loc[df4['Company'] == 'Droom', 'Stage'] = 'Series D'\n",
    "df4.loc[df4['Company'] == 'Oliveboard', 'Stage'] = 'Series A'\n",
    "df4.loc[df4['Company'] == 'Digit Insurance', 'Stage'] = 'Series D'\n",
    "df4.loc[df4['Company'] == 'CoRover', 'Funding Type'] = 'Seed'\n",
    "df4.loc[df4['Company'] == 'Powerplay', 'Funding Type'] = 'Seed'\n",
    "df4.loc[df4['Company'] == 'CustomerGlu', 'Funding Type'] = 'Seed'\n",
    "df4.loc[df4['Company'] == 'Cell Propulsion', 'Funding Type'] = 'Seed'\n",
    "df4.loc[df4['Company'] == 'Chqbook', 'Funding Type'] = 'Seed'\n",
    "df4.loc[df4['Company'] == 'WaterScience', 'Funding Type'] = 'Seed'\n",
    "df4.loc[df4['Company'] == 'BigLeap', 'Funding Type'] = 'Seed'\n",
    "df4.loc[df4['Company'] == 'Fourth Partner Energy', 'Funding Type'] = 'Series B'\n",
    "df4.loc[df4['Company'] == 'Safex Chemicals', 'Funding Type'] = 'Series A'\n",
    "df4.loc[df4['Company'] == 'IndiaLends', 'Funding Type'] = 'Series A'\n",
    "df4.loc[df4['Company'] == 'NewLink Group', 'Funding Type'] = 'Series C'\n",
    "df4.loc[df4['Company'] == 'Nexpert', 'Funding Type'] = 'Seed'\n",
    "df4.loc[df4['Company'] == 'Max Healthcare', 'Funding Type'] = 'Series D'\n",
    "df4.loc[df4['Company'] == 'Ecom Express', 'Funding Type'] = 'Series C'\n",
    "df4.loc[df4['Company'] == 'IGL', 'Funding Type'] = 'Seed'\n",
    "df4.loc[df4['Company'] == 'Pickright Technologies', 'Funding Type'] = 'Seed'\n",
    "df4.loc[df4['Company'] == 'Toplyne', 'Funding Type'] = 'Seed'\n",
    "df4.loc[df4['Company'] == 'Wonderchef', 'Funding Type'] = 'Series B'\n",
    "df4.loc[df4['Company'] == 'Totality', 'Funding Type'] = 'Seed'\n",
    "df4.loc[df4['Company'] == 'Vitra.ai', 'Funding Series'] = 'Series A'\n",
    "df4.loc[df4['Company'] == 'Swiggy', 'Funding Series'] = 'Series E'\n",
    "df4.loc[df4['Company'] == 'OTO Capital', 'Funding Series'] = 'Series A'\n",
    "df4.loc[df4['Company'] == 'UpScalio', 'Funding Series'] = 'Series A'\n",
    "df4.loc[df4['Company'] == 'Freyr Energy', 'Funding Series'] = 'Series A'\n",
    "df4.loc[df4['Company'] == 'Northern Arc', 'Funding Series'] = 'Series A'\n",
    "df4.loc[df4['Company'] == 'Rapido', 'Funding Series'] = 'Series D'\n",
    "df4.loc[df4['Company'] == 'YPay', 'Funding Series'] = 'Series A'\n",
    "df4.loc[df4['Company'] == 'Curefit', 'Funding Series'] = 'Series D'\n",
    "df4.loc[df4['Company'] == 'Probus Insurance', 'Funding Series'] = 'Series A'\n",
    "df4.loc[df4['Company'] == 'Ola', 'Funding Series'] = 'Series F'\n",
    "df4.loc[df4['Company'] == 'Karkinos Healthcare', 'Funding Series'] = 'Series A'\n",
    "df4.loc[df4['Company'] == 'Taskmo', 'Funding Series'] = 'Series A'\n",
    "df4.loc[df4['Company'] == 'Eka.care', 'Funding Series'] = 'Seed'\n",
    "df4.loc[df4['Company'] == 'Kredent', 'Funding Series'] = 'Seed'\n",
    "df4.loc[df4['Company'] == 'TWID', 'Funding Series'] = 'Seed'\n",
    "df4.loc[df4['Company'] == 'Pocketly', 'Funding Series'] = 'Seed'\n",
    "df4.loc[df4['Company'] == 'CoRover', 'Funding Series'] = 'Seed'\n",
    "df4.loc[df4['Company'] == 'Cora Health', 'Funding Series'] = 'Seed'\n",
    "df4.loc[df4['Company'] == 'Cell Propulsion', 'Funding Series'] = 'Seed'\n",
    "df4.loc[df4['Company'] == 'Wellbeing Nutrition', 'Funding Series'] = 'Seed'\n",
    "df4.loc[df4['Company'] == 'BYJU’S', 'Funding Series'] = 'Series J'\n",
    "df4.loc[df4['Company'] == 'MYRE Capital', 'Funding Series'] = 'Seed'\n",
    "df4.loc[df4['Company'] == 'Edmingle', 'Funding Series'] = 'Seed'\n",
    "df4.loc[df4['Company'] == 'Fourth Partner Energy', 'Funding Series'] = 'Series B'\n",
    "df4.loc[df4['Company'] == 'Raptee Energy', 'Funding Series'] = 'Seed'\n",
    "df4.loc[df4['Company'] == 'Anar Business Community', 'Funding Series'] = 'Seed'\n",
    "df4.loc[df4['Company'] == 'Asirvad Microfinance', 'Funding Series'] = 'Series A'\n",
    "df4.loc[df4['Company'] == 'Disruptium', 'Funding Series'] = 'Seed'\n",
    "df4.loc[df4['Company'] == 'Toplyne', 'Funding Series'] = 'Seed'\n",
    "df4.loc[df4['Company'] == 'Tickertape', 'Funding Series'] = 'Seed'\n",
    "df4.loc[df4['Company'] == 'True Balance', 'Funding Series'] = 'Seed'\n",
    "df4.loc[df4['Company'] == 'Indifi', 'Funding Series'] = 'Series D'\n",
    "df4.loc[df4['Company'] == 'Mobileware Technologies', 'Funding Series'] = 'Seed'\n",
    "df4.loc[df4['Company'] == 'LeadSquared', 'Funding Series'] = 'Series C'\n",
    "df4.loc[df4['Company'] == 'Gramophone', 'Funding Series'] = 'Series A'\n",
    "df4.loc[df4['Company'] == 'Sugar.fit', 'Funding Series'] = 'Series A'"
   ]
  },
  {
   "cell_type": "code",
   "execution_count": 520,
   "metadata": {},
   "outputs": [
    {
     "data": {
      "text/html": [
       "<div>\n",
       "<style scoped>\n",
       "    .dataframe tbody tr th:only-of-type {\n",
       "        vertical-align: middle;\n",
       "    }\n",
       "\n",
       "    .dataframe tbody tr th {\n",
       "        vertical-align: top;\n",
       "    }\n",
       "\n",
       "    .dataframe thead th {\n",
       "        text-align: right;\n",
       "    }\n",
       "</style>\n",
       "<table border=\"1\" class=\"dataframe\">\n",
       "  <thead>\n",
       "    <tr style=\"text-align: right;\">\n",
       "      <th></th>\n",
       "      <th>Company</th>\n",
       "      <th>Location</th>\n",
       "      <th>Sector</th>\n",
       "      <th>About</th>\n",
       "      <th>Amount</th>\n",
       "      <th>Stage</th>\n",
       "      <th>Funding Year</th>\n",
       "      <th>Funding Type</th>\n",
       "      <th>Funding Series</th>\n",
       "    </tr>\n",
       "  </thead>\n",
       "  <tbody>\n",
       "    <tr>\n",
       "      <th>8</th>\n",
       "      <td>Vitra.ai</td>\n",
       "      <td>Bengaluru</td>\n",
       "      <td>Tech Startup</td>\n",
       "      <td>Vitra.ai is an AI-based video translation plat...</td>\n",
       "      <td>3,500,000.00</td>\n",
       "      <td>EdTech</td>\n",
       "      <td>2021</td>\n",
       "      <td>NaN</td>\n",
       "      <td>Series A</td>\n",
       "    </tr>\n",
       "    <tr>\n",
       "      <th>40</th>\n",
       "      <td>iBus</td>\n",
       "      <td>Bengaluru</td>\n",
       "      <td>Telecommuncation</td>\n",
       "      <td>iBus Networks is an in-building connectivity s...</td>\n",
       "      <td>21,000,000.00</td>\n",
       "      <td>EdTech</td>\n",
       "      <td>2021</td>\n",
       "      <td>NaN</td>\n",
       "      <td>NaN</td>\n",
       "    </tr>\n",
       "    <tr>\n",
       "      <th>100</th>\n",
       "      <td>IsGoingOnline</td>\n",
       "      <td>Cochin</td>\n",
       "      <td>Retail</td>\n",
       "      <td>Kochi-based digital catalogue and marketplace ...</td>\n",
       "      <td>200,000.00</td>\n",
       "      <td>EdTech</td>\n",
       "      <td>2021</td>\n",
       "      <td>NaN</td>\n",
       "      <td>NaN</td>\n",
       "    </tr>\n",
       "    <tr>\n",
       "      <th>156</th>\n",
       "      <td>Yellow Class</td>\n",
       "      <td>Gurugram</td>\n",
       "      <td>EdTech</td>\n",
       "      <td>Yellow Class is a new-age fun-learning platfor...</td>\n",
       "      <td>6,000,000.00</td>\n",
       "      <td>EdTech</td>\n",
       "      <td>2021</td>\n",
       "      <td>NaN</td>\n",
       "      <td>NaN</td>\n",
       "    </tr>\n",
       "    <tr>\n",
       "      <th>301</th>\n",
       "      <td>Karkinos Healthcare</td>\n",
       "      <td>Mumbai</td>\n",
       "      <td>Hospital &amp; Health Care</td>\n",
       "      <td>Medical center for treatment of complex cancer...</td>\n",
       "      <td>3,500,000.00</td>\n",
       "      <td>EdTech</td>\n",
       "      <td>2021</td>\n",
       "      <td>NaN</td>\n",
       "      <td>Series A</td>\n",
       "    </tr>\n",
       "    <tr>\n",
       "      <th>304</th>\n",
       "      <td>Zorgers</td>\n",
       "      <td>Mohali</td>\n",
       "      <td>Hospital &amp; Health Care</td>\n",
       "      <td>Zorgers Home Healthcare is India’s most truste...</td>\n",
       "      <td>3,500,000.00</td>\n",
       "      <td>EdTech</td>\n",
       "      <td>2021</td>\n",
       "      <td>NaN</td>\n",
       "      <td>NaN</td>\n",
       "    </tr>\n",
       "    <tr>\n",
       "      <th>356</th>\n",
       "      <td>OwO</td>\n",
       "      <td>Gurugram</td>\n",
       "      <td>E-commerce</td>\n",
       "      <td>Shop packaged drinking water, beverages from y...</td>\n",
       "      <td>200,000.00</td>\n",
       "      <td>EdTech</td>\n",
       "      <td>2021</td>\n",
       "      <td>NaN</td>\n",
       "      <td>NaN</td>\n",
       "    </tr>\n",
       "    <tr>\n",
       "      <th>415</th>\n",
       "      <td>True Elements</td>\n",
       "      <td>Pune</td>\n",
       "      <td>Food and Beverages</td>\n",
       "      <td>Committed to improving the quality of life, Tr...</td>\n",
       "      <td>1,000,000.00</td>\n",
       "      <td>EdTech</td>\n",
       "      <td>2021</td>\n",
       "      <td>NaN</td>\n",
       "      <td>NaN</td>\n",
       "    </tr>\n",
       "    <tr>\n",
       "      <th>475</th>\n",
       "      <td>Gumlet</td>\n",
       "      <td>Bengaluru</td>\n",
       "      <td>IT</td>\n",
       "      <td>Gumlet has built a new-age media delivery infr...</td>\n",
       "      <td>1,600,000.00</td>\n",
       "      <td>EdTech</td>\n",
       "      <td>2021</td>\n",
       "      <td>NaN</td>\n",
       "      <td>NaN</td>\n",
       "    </tr>\n",
       "    <tr>\n",
       "      <th>509</th>\n",
       "      <td>Credenc</td>\n",
       "      <td>Delhi</td>\n",
       "      <td>FinTech</td>\n",
       "      <td>An education loan platform to finance meritori...</td>\n",
       "      <td>25,000,000.00</td>\n",
       "      <td>EdTech</td>\n",
       "      <td>2021</td>\n",
       "      <td>NaN</td>\n",
       "      <td>NaN</td>\n",
       "    </tr>\n",
       "    <tr>\n",
       "      <th>513</th>\n",
       "      <td>RiseBird</td>\n",
       "      <td>Pune</td>\n",
       "      <td>Human Resources</td>\n",
       "      <td>RiseBird provides on-demand 2.5K + expert vide...</td>\n",
       "      <td>500,000.00</td>\n",
       "      <td>EdTech</td>\n",
       "      <td>2021</td>\n",
       "      <td>NaN</td>\n",
       "      <td>NaN</td>\n",
       "    </tr>\n",
       "    <tr>\n",
       "      <th>526</th>\n",
       "      <td>OneCode</td>\n",
       "      <td>Bengaluru</td>\n",
       "      <td>Internet</td>\n",
       "      <td>OneCode is a platform which connects new age d...</td>\n",
       "      <td>5,000,000.00</td>\n",
       "      <td>EdTech</td>\n",
       "      <td>2021</td>\n",
       "      <td>NaN</td>\n",
       "      <td>NaN</td>\n",
       "    </tr>\n",
       "    <tr>\n",
       "      <th>591</th>\n",
       "      <td>Powerplay</td>\n",
       "      <td>Bengaluru</td>\n",
       "      <td>Construction</td>\n",
       "      <td>Powerplay helps simplify end to end Constructi...</td>\n",
       "      <td>5,200,000.00</td>\n",
       "      <td>EdTech</td>\n",
       "      <td>2021</td>\n",
       "      <td>Seed</td>\n",
       "      <td>NaN</td>\n",
       "    </tr>\n",
       "    <tr>\n",
       "      <th>607</th>\n",
       "      <td>Onelife Nutriscience</td>\n",
       "      <td>Mumbai</td>\n",
       "      <td>HealthCare</td>\n",
       "      <td>Onelife Nutriscience is a consumer healthcare ...</td>\n",
       "      <td>3,500,000.00</td>\n",
       "      <td>EdTech</td>\n",
       "      <td>2021</td>\n",
       "      <td>NaN</td>\n",
       "      <td>NaN</td>\n",
       "    </tr>\n",
       "    <tr>\n",
       "      <th>674</th>\n",
       "      <td>MYRE Capital</td>\n",
       "      <td>Mumbai</td>\n",
       "      <td>Commercial Real Estate</td>\n",
       "      <td>Democratising Real Estate Ownership</td>\n",
       "      <td>6,000,000.00</td>\n",
       "      <td>EdTech</td>\n",
       "      <td>2021</td>\n",
       "      <td>NaN</td>\n",
       "      <td>Seed</td>\n",
       "    </tr>\n",
       "    <tr>\n",
       "      <th>723</th>\n",
       "      <td>Safex Chemicals</td>\n",
       "      <td>Delhi</td>\n",
       "      <td>AgriTech</td>\n",
       "      <td>Safex Chemicals India Ltd is a leading company...</td>\n",
       "      <td>50,000,000.00</td>\n",
       "      <td>EdTech</td>\n",
       "      <td>2021</td>\n",
       "      <td>Series A</td>\n",
       "      <td>NaN</td>\n",
       "    </tr>\n",
       "    <tr>\n",
       "      <th>745</th>\n",
       "      <td>Zaara Biotech</td>\n",
       "      <td>Kottayam</td>\n",
       "      <td>BioTechnology</td>\n",
       "      <td>India's First Algal-seaweed Biotechnology Stud...</td>\n",
       "      <td>10,000,000.00</td>\n",
       "      <td>EdTech</td>\n",
       "      <td>2021</td>\n",
       "      <td>NaN</td>\n",
       "      <td>NaN</td>\n",
       "    </tr>\n",
       "    <tr>\n",
       "      <th>777</th>\n",
       "      <td>Max Healthcare</td>\n",
       "      <td>Delhi</td>\n",
       "      <td>HealthCare</td>\n",
       "      <td>Max Healthcare is one of the leading chain of ...</td>\n",
       "      <td>140,000,000.00</td>\n",
       "      <td>EdTech</td>\n",
       "      <td>2021</td>\n",
       "      <td>Series D</td>\n",
       "      <td>NaN</td>\n",
       "    </tr>\n",
       "    <tr>\n",
       "      <th>785</th>\n",
       "      <td>Ecom Express</td>\n",
       "      <td>Delhi</td>\n",
       "      <td>E-commerce</td>\n",
       "      <td>Ecom Express is an end-to-end technology-enabl...</td>\n",
       "      <td>20,000,000.00</td>\n",
       "      <td>EdTech</td>\n",
       "      <td>2021</td>\n",
       "      <td>Series C</td>\n",
       "      <td>NaN</td>\n",
       "    </tr>\n",
       "    <tr>\n",
       "      <th>803</th>\n",
       "      <td>ideaForge</td>\n",
       "      <td>Mumbai</td>\n",
       "      <td>Drone</td>\n",
       "      <td>ideaForge is an Indian company engaged in the ...</td>\n",
       "      <td>2,000,000.00</td>\n",
       "      <td>EdTech</td>\n",
       "      <td>2021</td>\n",
       "      <td>NaN</td>\n",
       "      <td>NaN</td>\n",
       "    </tr>\n",
       "    <tr>\n",
       "      <th>823</th>\n",
       "      <td>Asirvad Microfinance</td>\n",
       "      <td>Chennai</td>\n",
       "      <td>FinTech</td>\n",
       "      <td>Asirvad Microfinance provides microfinance loa...</td>\n",
       "      <td>15,000,000.00</td>\n",
       "      <td>EdTech</td>\n",
       "      <td>2021</td>\n",
       "      <td>NaN</td>\n",
       "      <td>Series A</td>\n",
       "    </tr>\n",
       "    <tr>\n",
       "      <th>843</th>\n",
       "      <td>Disruptium</td>\n",
       "      <td>Ahmadabad</td>\n",
       "      <td>Consulting</td>\n",
       "      <td>A consultancy platform for startups</td>\n",
       "      <td>200,000.00</td>\n",
       "      <td>EdTech</td>\n",
       "      <td>2021</td>\n",
       "      <td>NaN</td>\n",
       "      <td>Seed</td>\n",
       "    </tr>\n",
       "    <tr>\n",
       "      <th>857</th>\n",
       "      <td>6Degree</td>\n",
       "      <td>Mumbai</td>\n",
       "      <td>Retail</td>\n",
       "      <td>6Degree is a fashion retail startup that provi...</td>\n",
       "      <td>1,000,000.00</td>\n",
       "      <td>EdTech</td>\n",
       "      <td>2021</td>\n",
       "      <td>NaN</td>\n",
       "      <td>NaN</td>\n",
       "    </tr>\n",
       "    <tr>\n",
       "      <th>928</th>\n",
       "      <td>True Balance</td>\n",
       "      <td>Gurugram</td>\n",
       "      <td>Financial Services</td>\n",
       "      <td>Balancehero India Private Limited (BHI), the w...</td>\n",
       "      <td>30,000,000.00</td>\n",
       "      <td>EdTech</td>\n",
       "      <td>2021</td>\n",
       "      <td>NaN</td>\n",
       "      <td>Seed</td>\n",
       "    </tr>\n",
       "    <tr>\n",
       "      <th>963</th>\n",
       "      <td>LeadSquared</td>\n",
       "      <td>Bengaluru</td>\n",
       "      <td>Computer Software</td>\n",
       "      <td>LeadSquared is a marketing automation and sale...</td>\n",
       "      <td>3,500,000.00</td>\n",
       "      <td>EdTech</td>\n",
       "      <td>2021</td>\n",
       "      <td>NaN</td>\n",
       "      <td>Series C</td>\n",
       "    </tr>\n",
       "  </tbody>\n",
       "</table>\n",
       "</div>"
      ],
      "text/plain": [
       "                  Company   Location                  Sector  \\\n",
       "8                Vitra.ai  Bengaluru            Tech Startup   \n",
       "40                   iBus  Bengaluru        Telecommuncation   \n",
       "100         IsGoingOnline     Cochin                  Retail   \n",
       "156          Yellow Class   Gurugram                  EdTech   \n",
       "301   Karkinos Healthcare     Mumbai  Hospital & Health Care   \n",
       "304               Zorgers     Mohali  Hospital & Health Care   \n",
       "356                   OwO   Gurugram              E-commerce   \n",
       "415         True Elements       Pune      Food and Beverages   \n",
       "475                Gumlet  Bengaluru                      IT   \n",
       "509               Credenc      Delhi                 FinTech   \n",
       "513              RiseBird       Pune         Human Resources   \n",
       "526               OneCode  Bengaluru                Internet   \n",
       "591             Powerplay  Bengaluru            Construction   \n",
       "607  Onelife Nutriscience     Mumbai              HealthCare   \n",
       "674          MYRE Capital     Mumbai  Commercial Real Estate   \n",
       "723       Safex Chemicals      Delhi                AgriTech   \n",
       "745         Zaara Biotech   Kottayam           BioTechnology   \n",
       "777        Max Healthcare      Delhi              HealthCare   \n",
       "785          Ecom Express      Delhi              E-commerce   \n",
       "803             ideaForge     Mumbai                   Drone   \n",
       "823  Asirvad Microfinance    Chennai                 FinTech   \n",
       "843            Disruptium  Ahmadabad              Consulting   \n",
       "857               6Degree     Mumbai                  Retail   \n",
       "928          True Balance   Gurugram      Financial Services   \n",
       "963           LeadSquared  Bengaluru       Computer Software   \n",
       "\n",
       "                                                 About         Amount   Stage  \\\n",
       "8    Vitra.ai is an AI-based video translation plat...   3,500,000.00  EdTech   \n",
       "40   iBus Networks is an in-building connectivity s...  21,000,000.00  EdTech   \n",
       "100  Kochi-based digital catalogue and marketplace ...     200,000.00  EdTech   \n",
       "156  Yellow Class is a new-age fun-learning platfor...   6,000,000.00  EdTech   \n",
       "301  Medical center for treatment of complex cancer...   3,500,000.00  EdTech   \n",
       "304  Zorgers Home Healthcare is India’s most truste...   3,500,000.00  EdTech   \n",
       "356  Shop packaged drinking water, beverages from y...     200,000.00  EdTech   \n",
       "415  Committed to improving the quality of life, Tr...   1,000,000.00  EdTech   \n",
       "475  Gumlet has built a new-age media delivery infr...   1,600,000.00  EdTech   \n",
       "509  An education loan platform to finance meritori...  25,000,000.00  EdTech   \n",
       "513  RiseBird provides on-demand 2.5K + expert vide...     500,000.00  EdTech   \n",
       "526  OneCode is a platform which connects new age d...   5,000,000.00  EdTech   \n",
       "591  Powerplay helps simplify end to end Constructi...   5,200,000.00  EdTech   \n",
       "607  Onelife Nutriscience is a consumer healthcare ...   3,500,000.00  EdTech   \n",
       "674                Democratising Real Estate Ownership   6,000,000.00  EdTech   \n",
       "723  Safex Chemicals India Ltd is a leading company...  50,000,000.00  EdTech   \n",
       "745  India's First Algal-seaweed Biotechnology Stud...  10,000,000.00  EdTech   \n",
       "777  Max Healthcare is one of the leading chain of ... 140,000,000.00  EdTech   \n",
       "785  Ecom Express is an end-to-end technology-enabl...  20,000,000.00  EdTech   \n",
       "803  ideaForge is an Indian company engaged in the ...   2,000,000.00  EdTech   \n",
       "823  Asirvad Microfinance provides microfinance loa...  15,000,000.00  EdTech   \n",
       "843                A consultancy platform for startups     200,000.00  EdTech   \n",
       "857  6Degree is a fashion retail startup that provi...   1,000,000.00  EdTech   \n",
       "928  Balancehero India Private Limited (BHI), the w...  30,000,000.00  EdTech   \n",
       "963  LeadSquared is a marketing automation and sale...   3,500,000.00  EdTech   \n",
       "\n",
       "     Funding Year Funding Type Funding Series  \n",
       "8            2021          NaN       Series A  \n",
       "40           2021          NaN            NaN  \n",
       "100          2021          NaN            NaN  \n",
       "156          2021          NaN            NaN  \n",
       "301          2021          NaN       Series A  \n",
       "304          2021          NaN            NaN  \n",
       "356          2021          NaN            NaN  \n",
       "415          2021          NaN            NaN  \n",
       "475          2021          NaN            NaN  \n",
       "509          2021          NaN            NaN  \n",
       "513          2021          NaN            NaN  \n",
       "526          2021          NaN            NaN  \n",
       "591          2021         Seed            NaN  \n",
       "607          2021          NaN            NaN  \n",
       "674          2021          NaN           Seed  \n",
       "723          2021     Series A            NaN  \n",
       "745          2021          NaN            NaN  \n",
       "777          2021     Series D            NaN  \n",
       "785          2021     Series C            NaN  \n",
       "803          2021          NaN            NaN  \n",
       "823          2021          NaN       Series A  \n",
       "843          2021          NaN           Seed  \n",
       "857          2021          NaN            NaN  \n",
       "928          2021          NaN           Seed  \n",
       "963          2021          NaN       Series C  "
      ]
     },
     "execution_count": 520,
     "metadata": {},
     "output_type": "execute_result"
    }
   ],
   "source": [
    "df4[df4['Stage'] == 'EdTech' ]"
   ]
  },
  {
   "cell_type": "code",
   "execution_count": 521,
   "metadata": {},
   "outputs": [],
   "source": [
    "df4.to_csv('df_2021.csv', index=False)"
   ]
  },
  {
   "cell_type": "code",
   "execution_count": 522,
   "metadata": {},
   "outputs": [],
   "source": [
    "# Concatenate the data frames\n",
    "clean_done = pd.concat([df, df2, df3, df4])"
   ]
  },
  {
   "cell_type": "code",
   "execution_count": 523,
   "metadata": {},
   "outputs": [],
   "source": [
    "# Reseting the index of the concatenated data frame\n",
    "clean_done.to_csv('Clean_Data_18_19_20_21_snyk.csv', index=False)"
   ]
  },
  {
   "cell_type": "code",
   "execution_count": 524,
   "metadata": {},
   "outputs": [],
   "source": [
    "clean_done.to_csv('Clean_Data_18_19_20_21_snyk.txt', index=False, sep='\\t')"
   ]
  }
 ],
 "metadata": {
  "kernelspec": {
   "display_name": "Python 3",
   "language": "python",
   "name": "python3"
  },
  "language_info": {
   "codemirror_mode": {
    "name": "ipython",
    "version": 3
   },
   "file_extension": ".py",
   "mimetype": "text/x-python",
   "name": "python",
   "nbconvert_exporter": "python",
   "pygments_lexer": "ipython3",
   "version": "3.10.11"
  },
  "orig_nbformat": 4
 },
 "nbformat": 4,
 "nbformat_minor": 2
}
